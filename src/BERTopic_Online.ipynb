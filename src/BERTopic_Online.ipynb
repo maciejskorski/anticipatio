{
 "cells": [
  {
   "cell_type": "code",
   "execution_count": 3,
   "metadata": {},
   "outputs": [
    {
     "name": "stdout",
     "output_type": "stream",
     "text": [
      "256 1254243\n"
     ]
    }
   ],
   "source": [
    "#!git clone https://github.com/maciejskorski/anticipatio.git\n",
    "\n",
    "import pandas as pd\n",
    "from pathlib import Path\n",
    "\n",
    "def open_fn(f):\n",
    "    try:\n",
    "        return pd.read_csv(f,engine='python')\n",
    "    except:\n",
    "        return pd.DataFrame()\n",
    "\n",
    "files = Path('../data/futurists_kol/data').rglob('*csv')\n",
    "tweets = map(open_fn, files)\n",
    "tweets = pd.concat(tweets)\n",
    "tweets.columns = ['index','user','timestamp','url','txt']\n",
    "tweets.reset_index(drop=True,inplace=True)\n",
    "print(tweets['user'].nunique(),len(tweets)) # 257 users, 1254244 tweets\n",
    "tweets['txt'] = tweets['txt'].astype(str)\n",
    "tweets['timestamp'] = pd.to_datetime(tweets['timestamp'])\n",
    "\n",
    "tweets.head()\n",
    "docs = tweets['txt']"
   ]
  },
  {
   "cell_type": "code",
   "execution_count": 34,
   "metadata": {},
   "outputs": [
    {
     "data": {
      "text/html": [
       "\n",
       "<script src=\"https://cdnjs.cloudflare.com/ajax/libs/require.js/2.1.10/require.min.js\"></script>\n"
      ],
      "text/plain": [
       "<IPython.core.display.HTML object>"
      ]
     },
     "metadata": {},
     "output_type": "display_data"
    }
   ],
   "source": [
    "from IPython.display import HTML, display\n",
    "from time import sleep\n",
    "\n",
    "display(HTML(\"\"\"\n",
    "<script src=\"https://cdnjs.cloudflare.com/ajax/libs/require.js/2.1.10/require.min.js\"></script>\n",
    "\"\"\"))\n",
    "\n",
    "sleep(0.1)"
   ]
  },
  {
   "cell_type": "code",
   "execution_count": 4,
   "metadata": {},
   "outputs": [
    {
     "data": {
      "text/plain": [
       "350"
      ]
     },
     "execution_count": 4,
     "metadata": {},
     "output_type": "execute_result"
    }
   ],
   "source": [
    "import gc\n",
    "del tweets\n",
    "gc.collect()"
   ]
  },
  {
   "attachments": {},
   "cell_type": "markdown",
   "metadata": {},
   "source": [
    "# Online Model"
   ]
  },
  {
   "cell_type": "code",
   "execution_count": 5,
   "metadata": {},
   "outputs": [],
   "source": [
    "import numpy as np\n",
    "#np.save('embeds',embeds)\n",
    "embeds = np.load('embeds.npy')"
   ]
  },
  {
   "cell_type": "code",
   "execution_count": 35,
   "metadata": {},
   "outputs": [],
   "source": [
    "from sklearn.cluster import MiniBatchKMeans, Birch\n",
    "from sklearn.decomposition import IncrementalPCA\n",
    "from bertopic.vectorizers import OnlineCountVectorizer\n",
    "\n",
    "# Prepare sub-models that support online learning\n",
    "umap_model = IncrementalPCA(n_components=10)\n",
    "cluster_model = MiniBatchKMeans(n_clusters=100, random_state=0)\n",
    "#cluster_model = Birch()\n",
    "vectorizer_model = OnlineCountVectorizer(stop_words=\"english\", decay=.01)"
   ]
  },
  {
   "cell_type": "code",
   "execution_count": 28,
   "metadata": {},
   "outputs": [],
   "source": [
    "import os\n",
    "os.environ['TOKENIZERS_PARALLELISM'] = \"true\"\n",
    "from bertopic import BERTopic\n",
    "\n",
    "topic_model = BERTopic(\n",
    "    umap_model=umap_model,\n",
    "    hdbscan_model=cluster_model,\n",
    "    vectorizer_model=vectorizer_model,\n",
    "    low_memory=True,\n",
    "    verbose=True,\n",
    "    min_topic_size=100, \n",
    "    nr_topics=\"auto\", \n",
    ")"
   ]
  },
  {
   "cell_type": "code",
   "execution_count": 29,
   "metadata": {},
   "outputs": [],
   "source": [
    "from torch.utils.data import Dataset, DataLoader\n",
    "\n",
    "class MyDataset(Dataset):\n",
    "    \n",
    "    def __init__(self, docs, embeds):\n",
    "        self.docs = docs\n",
    "        self.embeds = embeds\n",
    "        \n",
    "    def __getitem__(self, index):\n",
    "        return (self.docs[index],self.embeds[index])\n",
    "    \n",
    "    def __len__(self):\n",
    "        return len(self.docs)"
   ]
  },
  {
   "cell_type": "code",
   "execution_count": 30,
   "metadata": {},
   "outputs": [
    {
     "data": {
      "application/vnd.jupyter.widget-view+json": {
       "model_id": "17a79c046f5b40d998c08245437408b2",
       "version_major": 2,
       "version_minor": 0
      },
      "text/plain": [
       "  0%|          | 0/13 [00:00<?, ?it/s]"
      ]
     },
     "metadata": {},
     "output_type": "display_data"
    },
    {
     "name": "stderr",
     "output_type": "stream",
     "text": [
      "2023-06-10 19:37:18,784 - BERTopic - Reduced dimensionality\n",
      "2023-06-10 19:37:18,997 - BERTopic - Clustered reduced embeddings\n",
      "2023-06-10 19:37:29,088 - BERTopic - Reduced dimensionality\n",
      "2023-06-10 19:37:29,234 - BERTopic - Clustered reduced embeddings\n",
      "2023-06-10 19:37:37,427 - BERTopic - Reduced dimensionality\n",
      "2023-06-10 19:37:37,599 - BERTopic - Clustered reduced embeddings\n",
      "2023-06-10 19:37:45,912 - BERTopic - Reduced dimensionality\n",
      "2023-06-10 19:37:46,067 - BERTopic - Clustered reduced embeddings\n",
      "2023-06-10 19:37:56,334 - BERTopic - Reduced dimensionality\n",
      "2023-06-10 19:37:56,472 - BERTopic - Clustered reduced embeddings\n",
      "2023-06-10 19:38:05,278 - BERTopic - Reduced dimensionality\n",
      "2023-06-10 19:38:05,434 - BERTopic - Clustered reduced embeddings\n",
      "2023-06-10 19:38:13,648 - BERTopic - Reduced dimensionality\n",
      "2023-06-10 19:38:13,808 - BERTopic - Clustered reduced embeddings\n",
      "2023-06-10 19:38:23,315 - BERTopic - Reduced dimensionality\n",
      "2023-06-10 19:38:23,459 - BERTopic - Clustered reduced embeddings\n",
      "2023-06-10 19:38:32,702 - BERTopic - Reduced dimensionality\n",
      "2023-06-10 19:38:32,850 - BERTopic - Clustered reduced embeddings\n",
      "2023-06-10 19:38:41,335 - BERTopic - Reduced dimensionality\n",
      "2023-06-10 19:38:41,481 - BERTopic - Clustered reduced embeddings\n",
      "2023-06-10 19:38:52,128 - BERTopic - Reduced dimensionality\n",
      "2023-06-10 19:38:52,286 - BERTopic - Clustered reduced embeddings\n",
      "2023-06-10 19:39:01,983 - BERTopic - Reduced dimensionality\n",
      "2023-06-10 19:39:02,142 - BERTopic - Clustered reduced embeddings\n",
      "2023-06-10 19:39:11,181 - BERTopic - Reduced dimensionality\n",
      "2023-06-10 19:39:11,247 - BERTopic - Clustered reduced embeddings\n"
     ]
    }
   ],
   "source": [
    "from tqdm.auto import tqdm\n",
    "\n",
    "topics = []\n",
    "for docs_batch, embeds_batch in tqdm(DataLoader(MyDataset(docs,embeds),batch_size=100000, shuffle=False)):\n",
    "    topic_model.partial_fit(docs_batch, embeds_batch.numpy())\n",
    "    topics.extend(topic_model.topics_)\n",
    "    #topic_model.fit(docs_batch)\n",
    "#    pass\n",
    "\n",
    "topic_model.topics_ = topics"
   ]
  },
  {
   "attachments": {},
   "cell_type": "markdown",
   "metadata": {},
   "source": [
    "# Visualization"
   ]
  },
  {
   "cell_type": "code",
   "execution_count": 53,
   "metadata": {},
   "outputs": [
    {
     "name": "stderr",
     "output_type": "stream",
     "text": [
      "2023-06-10 17:40:03,513 - BERTopic - Reduced number of topics from 200 to 30\n"
     ]
    },
    {
     "data": {
      "text/plain": [
       "<bertopic._bertopic.BERTopic at 0x7eff4957fa30>"
      ]
     },
     "execution_count": 53,
     "metadata": {},
     "output_type": "execute_result"
    }
   ],
   "source": [
    "#topic_model.reduce_topics(docs, nr_topics=30)"
   ]
  },
  {
   "cell_type": "code",
   "execution_count": 31,
   "metadata": {},
   "outputs": [
    {
     "data": {
      "application/vnd.plotly.v1+json": {
       "config": {
        "plotlyServerURL": "https://plot.ly"
       },
       "data": [
        {
         "hoverinfo": "text",
         "marker": {
          "color": "rgb(61,153,112)"
         },
         "mode": "lines",
         "type": "scatter",
         "x": [
          0,
          0.2242656228867107,
          0.2242656228867107,
          0
         ],
         "xaxis": "x",
         "y": [
          -25,
          -25,
          -35,
          -35
         ],
         "yaxis": "y"
        },
        {
         "hoverinfo": "text",
         "marker": {
          "color": "rgb(61,153,112)"
         },
         "mode": "lines",
         "type": "scatter",
         "x": [
          0.2242656228867107,
          0.32157148879218644,
          0.32157148879218644,
          0
         ],
         "xaxis": "x",
         "y": [
          -30,
          -30,
          -45,
          -45
         ],
         "yaxis": "y"
        },
        {
         "hoverinfo": "text",
         "marker": {
          "color": "rgb(61,153,112)"
         },
         "mode": "lines",
         "type": "scatter",
         "x": [
          0,
          0.4012668631432821,
          0.4012668631432821,
          0.32157148879218644
         ],
         "xaxis": "x",
         "y": [
          -15,
          -15,
          -37.5,
          -37.5
         ],
         "yaxis": "y"
        },
        {
         "hoverinfo": "text",
         "marker": {
          "color": "rgb(61,153,112)"
         },
         "mode": "lines",
         "type": "scatter",
         "x": [
          0.4012668631432821,
          0.535070273019542,
          0.535070273019542,
          0
         ],
         "xaxis": "x",
         "y": [
          -26.25,
          -26.25,
          -55,
          -55
         ],
         "yaxis": "y"
        },
        {
         "hoverinfo": "text",
         "marker": {
          "color": "rgb(61,153,112)"
         },
         "mode": "lines",
         "type": "scatter",
         "x": [
          0,
          0.747491301079402,
          0.747491301079402,
          0.535070273019542
         ],
         "xaxis": "x",
         "y": [
          -5,
          -5,
          -40.625,
          -40.625
         ],
         "yaxis": "y"
        },
        {
         "hoverinfo": "text",
         "marker": {
          "color": "rgb(61,153,112)"
         },
         "mode": "lines",
         "type": "scatter",
         "x": [
          0,
          0.5922671101924533,
          0.5922671101924533,
          0
         ],
         "xaxis": "x",
         "y": [
          -65,
          -65,
          -75,
          -75
         ],
         "yaxis": "y"
        },
        {
         "hoverinfo": "text",
         "marker": {
          "color": "rgb(61,153,112)"
         },
         "mode": "lines",
         "type": "scatter",
         "x": [
          0,
          0.366351278050275,
          0.366351278050275,
          0
         ],
         "xaxis": "x",
         "y": [
          -85,
          -85,
          -95,
          -95
         ],
         "yaxis": "y"
        },
        {
         "hoverinfo": "text",
         "marker": {
          "color": "rgb(61,153,112)"
         },
         "mode": "lines",
         "type": "scatter",
         "x": [
          0.366351278050275,
          0.42894345624389807,
          0.42894345624389807,
          0
         ],
         "xaxis": "x",
         "y": [
          -90,
          -90,
          -105,
          -105
         ],
         "yaxis": "y"
        },
        {
         "hoverinfo": "text",
         "marker": {
          "color": "rgb(61,153,112)"
         },
         "mode": "lines",
         "type": "scatter",
         "x": [
          0.42894345624389807,
          0.5145183907165711,
          0.5145183907165711,
          0
         ],
         "xaxis": "x",
         "y": [
          -97.5,
          -97.5,
          -115,
          -115
         ],
         "yaxis": "y"
        },
        {
         "hoverinfo": "text",
         "marker": {
          "color": "rgb(61,153,112)"
         },
         "mode": "lines",
         "type": "scatter",
         "x": [
          0.5922671101924533,
          0.6649866975799065,
          0.6649866975799065,
          0.5145183907165711
         ],
         "xaxis": "x",
         "y": [
          -70,
          -70,
          -106.25,
          -106.25
         ],
         "yaxis": "y"
        },
        {
         "hoverinfo": "text",
         "marker": {
          "color": "rgb(61,153,112)"
         },
         "mode": "lines",
         "type": "scatter",
         "x": [
          0.747491301079402,
          0.8800633771845281,
          0.8800633771845281,
          0.6649866975799065
         ],
         "xaxis": "x",
         "y": [
          -22.8125,
          -22.8125,
          -88.125,
          -88.125
         ],
         "yaxis": "y"
        },
        {
         "hoverinfo": "text",
         "marker": {
          "color": "rgb(255,65,54)"
         },
         "mode": "lines",
         "type": "scatter",
         "x": [
          0,
          0.33643740019454893,
          0.33643740019454893,
          0
         ],
         "xaxis": "x",
         "y": [
          -155,
          -155,
          -165,
          -165
         ],
         "yaxis": "y"
        },
        {
         "hoverinfo": "text",
         "marker": {
          "color": "rgb(255,65,54)"
         },
         "mode": "lines",
         "type": "scatter",
         "x": [
          0,
          0.5018892603646078,
          0.5018892603646078,
          0.33643740019454893
         ],
         "xaxis": "x",
         "y": [
          -145,
          -145,
          -160,
          -160
         ],
         "yaxis": "y"
        },
        {
         "hoverinfo": "text",
         "marker": {
          "color": "rgb(255,65,54)"
         },
         "mode": "lines",
         "type": "scatter",
         "x": [
          0,
          0.6473353374255311,
          0.6473353374255311,
          0.5018892603646078
         ],
         "xaxis": "x",
         "y": [
          -135,
          -135,
          -152.5,
          -152.5
         ],
         "yaxis": "y"
        },
        {
         "hoverinfo": "text",
         "marker": {
          "color": "rgb(255,65,54)"
         },
         "mode": "lines",
         "type": "scatter",
         "x": [
          0.6473353374255311,
          0.6826372944251539,
          0.6826372944251539,
          0
         ],
         "xaxis": "x",
         "y": [
          -143.75,
          -143.75,
          -175,
          -175
         ],
         "yaxis": "y"
        },
        {
         "hoverinfo": "text",
         "marker": {
          "color": "rgb(255,65,54)"
         },
         "mode": "lines",
         "type": "scatter",
         "x": [
          0.6826372944251539,
          0.7727313590835181,
          0.7727313590835181,
          0
         ],
         "xaxis": "x",
         "y": [
          -159.375,
          -159.375,
          -185,
          -185
         ],
         "yaxis": "y"
        },
        {
         "hoverinfo": "text",
         "marker": {
          "color": "rgb(255,65,54)"
         },
         "mode": "lines",
         "type": "scatter",
         "x": [
          0,
          0.9032764288399373,
          0.9032764288399373,
          0.7727313590835181
         ],
         "xaxis": "x",
         "y": [
          -125,
          -125,
          -172.1875,
          -172.1875
         ],
         "yaxis": "y"
        },
        {
         "hoverinfo": "text",
         "marker": {
          "color": "rgb(255,65,54)"
         },
         "mode": "lines",
         "type": "scatter",
         "x": [
          0,
          0.8387148169440453,
          0.8387148169440453,
          0
         ],
         "xaxis": "x",
         "y": [
          -195,
          -195,
          -205,
          -205
         ],
         "yaxis": "y"
        },
        {
         "hoverinfo": "text",
         "marker": {
          "color": "rgb(255,65,54)"
         },
         "mode": "lines",
         "type": "scatter",
         "x": [
          0.9032764288399373,
          0.9194391969654291,
          0.9194391969654291,
          0.8387148169440453
         ],
         "xaxis": "x",
         "y": [
          -148.59375,
          -148.59375,
          -200,
          -200
         ],
         "yaxis": "y"
        },
        {
         "hoverinfo": "text",
         "marker": {
          "color": "rgb(0,116,217)"
         },
         "mode": "lines",
         "type": "scatter",
         "x": [
          0.8800633771845281,
          1.227133549792967,
          1.227133549792967,
          0.9194391969654291
         ],
         "xaxis": "x",
         "y": [
          -55.46875,
          -55.46875,
          -174.296875,
          -174.296875
         ],
         "yaxis": "y"
        },
        {
         "hoverinfo": "text",
         "marker": {
          "color": "rgb(35,205,205)"
         },
         "mode": "lines",
         "type": "scatter",
         "x": [
          0,
          0.9076354633247025,
          0.9076354633247025,
          0
         ],
         "xaxis": "x",
         "y": [
          -215,
          -215,
          -225,
          -225
         ],
         "yaxis": "y"
        },
        {
         "hoverinfo": "text",
         "marker": {
          "color": "rgb(35,205,205)"
         },
         "mode": "lines",
         "type": "scatter",
         "x": [
          0,
          0.8590683031980337,
          0.8590683031980337,
          0
         ],
         "xaxis": "x",
         "y": [
          -235,
          -235,
          -245,
          -245
         ],
         "yaxis": "y"
        },
        {
         "hoverinfo": "text",
         "marker": {
          "color": "rgb(35,205,205)"
         },
         "mode": "lines",
         "type": "scatter",
         "x": [
          0.9076354633247025,
          0.9745615056654675,
          0.9745615056654675,
          0.8590683031980337
         ],
         "xaxis": "x",
         "y": [
          -220,
          -220,
          -240,
          -240
         ],
         "yaxis": "y"
        },
        {
         "hoverinfo": "text",
         "marker": {
          "color": "rgb(133,20,75)"
         },
         "mode": "lines",
         "type": "scatter",
         "x": [
          0,
          0.5347039001878866,
          0.5347039001878866,
          0
         ],
         "xaxis": "x",
         "y": [
          -265,
          -265,
          -275,
          -275
         ],
         "yaxis": "y"
        },
        {
         "hoverinfo": "text",
         "marker": {
          "color": "rgb(133,20,75)"
         },
         "mode": "lines",
         "type": "scatter",
         "x": [
          0,
          0.6948157832228115,
          0.6948157832228115,
          0.5347039001878866
         ],
         "xaxis": "x",
         "y": [
          -255,
          -255,
          -270,
          -270
         ],
         "yaxis": "y"
        },
        {
         "hoverinfo": "text",
         "marker": {
          "color": "rgb(133,20,75)"
         },
         "mode": "lines",
         "type": "scatter",
         "x": [
          0,
          0.8422737149374052,
          0.8422737149374052,
          0
         ],
         "xaxis": "x",
         "y": [
          -285,
          -285,
          -295,
          -295
         ],
         "yaxis": "y"
        },
        {
         "hoverinfo": "text",
         "marker": {
          "color": "rgb(133,20,75)"
         },
         "mode": "lines",
         "type": "scatter",
         "x": [
          0.6948157832228115,
          0.8805971370840302,
          0.8805971370840302,
          0.8422737149374052
         ],
         "xaxis": "x",
         "y": [
          -262.5,
          -262.5,
          -290,
          -290
         ],
         "yaxis": "y"
        },
        {
         "hoverinfo": "text",
         "marker": {
          "color": "rgb(0,116,217)"
         },
         "mode": "lines",
         "type": "scatter",
         "x": [
          0.9745615056654675,
          1.0569021918462818,
          1.0569021918462818,
          0.8805971370840302
         ],
         "xaxis": "x",
         "y": [
          -230,
          -230,
          -276.25,
          -276.25
         ],
         "yaxis": "y"
        },
        {
         "hoverinfo": "text",
         "marker": {
          "color": "rgb(255,220,0)"
         },
         "mode": "lines",
         "type": "scatter",
         "x": [
          0,
          0.7946811325115194,
          0.7946811325115194,
          0
         ],
         "xaxis": "x",
         "y": [
          -305,
          -305,
          -315,
          -315
         ],
         "yaxis": "y"
        },
        {
         "hoverinfo": "text",
         "marker": {
          "color": "rgb(40,35,35)"
         },
         "mode": "lines",
         "type": "scatter",
         "x": [
          0,
          0.9256789446963201,
          0.9256789446963201,
          0
         ],
         "xaxis": "x",
         "y": [
          -335,
          -335,
          -345,
          -345
         ],
         "yaxis": "y"
        },
        {
         "hoverinfo": "text",
         "marker": {
          "color": "rgb(40,35,35)"
         },
         "mode": "lines",
         "type": "scatter",
         "x": [
          0,
          0.9568829109303189,
          0.9568829109303189,
          0.9256789446963201
         ],
         "xaxis": "x",
         "y": [
          -325,
          -325,
          -340,
          -340
         ],
         "yaxis": "y"
        },
        {
         "hoverinfo": "text",
         "marker": {
          "color": "rgb(40,35,35)"
         },
         "mode": "lines",
         "type": "scatter",
         "x": [
          0.9568829109303189,
          0.9893670447013149,
          0.9893670447013149,
          0
         ],
         "xaxis": "x",
         "y": [
          -332.5,
          -332.5,
          -355,
          -355
         ],
         "yaxis": "y"
        },
        {
         "hoverinfo": "text",
         "marker": {
          "color": "rgb(61,153,112)"
         },
         "mode": "lines",
         "type": "scatter",
         "x": [
          0,
          0.9671597354348986,
          0.9671597354348986,
          0
         ],
         "xaxis": "x",
         "y": [
          -365,
          -365,
          -375,
          -375
         ],
         "yaxis": "y"
        },
        {
         "hoverinfo": "text",
         "marker": {
          "color": "rgb(61,153,112)"
         },
         "mode": "lines",
         "type": "scatter",
         "x": [
          0.9671597354348986,
          0.9843824036517599,
          0.9843824036517599,
          0
         ],
         "xaxis": "x",
         "y": [
          -370,
          -370,
          -385,
          -385
         ],
         "yaxis": "y"
        },
        {
         "hoverinfo": "text",
         "marker": {
          "color": "rgb(0,116,217)"
         },
         "mode": "lines",
         "type": "scatter",
         "x": [
          0.9893670447013149,
          1.0143564861807768,
          1.0143564861807768,
          0.9843824036517599
         ],
         "xaxis": "x",
         "y": [
          -343.75,
          -343.75,
          -377.5,
          -377.5
         ],
         "yaxis": "y"
        },
        {
         "hoverinfo": "text",
         "marker": {
          "color": "rgb(255,65,54)"
         },
         "mode": "lines",
         "type": "scatter",
         "x": [
          0,
          0.9122094904256719,
          0.9122094904256719,
          0
         ],
         "xaxis": "x",
         "y": [
          -405,
          -405,
          -415,
          -415
         ],
         "yaxis": "y"
        },
        {
         "hoverinfo": "text",
         "marker": {
          "color": "rgb(255,65,54)"
         },
         "mode": "lines",
         "type": "scatter",
         "x": [
          0,
          0.9355435148144644,
          0.9355435148144644,
          0.9122094904256719
         ],
         "xaxis": "x",
         "y": [
          -395,
          -395,
          -410,
          -410
         ],
         "yaxis": "y"
        },
        {
         "hoverinfo": "text",
         "marker": {
          "color": "rgb(255,65,54)"
         },
         "mode": "lines",
         "type": "scatter",
         "x": [
          0.9355435148144644,
          0.9441783800278675,
          0.9441783800278675,
          0
         ],
         "xaxis": "x",
         "y": [
          -402.5,
          -402.5,
          -425,
          -425
         ],
         "yaxis": "y"
        },
        {
         "hoverinfo": "text",
         "marker": {
          "color": "rgb(0,116,217)"
         },
         "mode": "lines",
         "type": "scatter",
         "x": [
          1.0143564861807768,
          1.0255151759868095,
          1.0255151759868095,
          0.9441783800278675
         ],
         "xaxis": "x",
         "y": [
          -360.625,
          -360.625,
          -413.75,
          -413.75
         ],
         "yaxis": "y"
        },
        {
         "hoverinfo": "text",
         "marker": {
          "color": "rgb(35,205,205)"
         },
         "mode": "lines",
         "type": "scatter",
         "x": [
          0,
          0.8473358640905821,
          0.8473358640905821,
          0
         ],
         "xaxis": "x",
         "y": [
          -445,
          -445,
          -455,
          -455
         ],
         "yaxis": "y"
        },
        {
         "hoverinfo": "text",
         "marker": {
          "color": "rgb(35,205,205)"
         },
         "mode": "lines",
         "type": "scatter",
         "x": [
          0,
          0.941716274492483,
          0.941716274492483,
          0.8473358640905821
         ],
         "xaxis": "x",
         "y": [
          -435,
          -435,
          -450,
          -450
         ],
         "yaxis": "y"
        },
        {
         "hoverinfo": "text",
         "marker": {
          "color": "rgb(61,153,112)"
         },
         "mode": "lines",
         "type": "scatter",
         "x": [
          0,
          0.8390600150410804,
          0.8390600150410804,
          0
         ],
         "xaxis": "x",
         "y": [
          -465,
          -465,
          -475,
          -475
         ],
         "yaxis": "y"
        },
        {
         "hoverinfo": "text",
         "marker": {
          "color": "rgb(61,153,112)"
         },
         "mode": "lines",
         "type": "scatter",
         "x": [
          0.8390600150410804,
          0.9578733722252168,
          0.9578733722252168,
          0
         ],
         "xaxis": "x",
         "y": [
          -470,
          -470,
          -485,
          -485
         ],
         "yaxis": "y"
        },
        {
         "hoverinfo": "text",
         "marker": {
          "color": "rgb(0,116,217)"
         },
         "mode": "lines",
         "type": "scatter",
         "x": [
          0.941716274492483,
          1.0525044735213087,
          1.0525044735213087,
          0.9578733722252168
         ],
         "xaxis": "x",
         "y": [
          -442.5,
          -442.5,
          -477.5,
          -477.5
         ],
         "yaxis": "y"
        },
        {
         "hoverinfo": "text",
         "marker": {
          "color": "rgb(0,116,217)"
         },
         "mode": "lines",
         "type": "scatter",
         "x": [
          1.0255151759868095,
          1.0823100216309296,
          1.0823100216309296,
          1.0525044735213087
         ],
         "xaxis": "x",
         "y": [
          -387.1875,
          -387.1875,
          -460,
          -460
         ],
         "yaxis": "y"
        },
        {
         "hoverinfo": "text",
         "marker": {
          "color": "rgb(255,65,54)"
         },
         "mode": "lines",
         "type": "scatter",
         "x": [
          0,
          0.7114293363830115,
          0.7114293363830115,
          0
         ],
         "xaxis": "x",
         "y": [
          -495,
          -495,
          -505,
          -505
         ],
         "yaxis": "y"
        },
        {
         "hoverinfo": "text",
         "marker": {
          "color": "rgb(0,116,217)"
         },
         "mode": "lines",
         "type": "scatter",
         "x": [
          1.0823100216309296,
          1.1199600937819967,
          1.1199600937819967,
          0.7114293363830115
         ],
         "xaxis": "x",
         "y": [
          -423.59375,
          -423.59375,
          -500,
          -500
         ],
         "yaxis": "y"
        },
        {
         "hoverinfo": "text",
         "marker": {
          "color": "rgb(0,116,217)"
         },
         "mode": "lines",
         "type": "scatter",
         "x": [
          0.7946811325115194,
          1.1345441866546329,
          1.1345441866546329,
          1.1199600937819967
         ],
         "xaxis": "x",
         "y": [
          -310,
          -310,
          -461.796875,
          -461.796875
         ],
         "yaxis": "y"
        },
        {
         "hoverinfo": "text",
         "marker": {
          "color": "rgb(35,205,205)"
         },
         "mode": "lines",
         "type": "scatter",
         "x": [
          0,
          0.9351368779648987,
          0.9351368779648987,
          0
         ],
         "xaxis": "x",
         "y": [
          -515,
          -515,
          -525,
          -525
         ],
         "yaxis": "y"
        },
        {
         "hoverinfo": "text",
         "marker": {
          "color": "rgb(133,20,75)"
         },
         "mode": "lines",
         "type": "scatter",
         "x": [
          0,
          0.9704095638116852,
          0.9704095638116852,
          0
         ],
         "xaxis": "x",
         "y": [
          -545,
          -545,
          -555,
          -555
         ],
         "yaxis": "y"
        },
        {
         "hoverinfo": "text",
         "marker": {
          "color": "rgb(133,20,75)"
         },
         "mode": "lines",
         "type": "scatter",
         "x": [
          0,
          0.9909578272688946,
          0.9909578272688946,
          0.9704095638116852
         ],
         "xaxis": "x",
         "y": [
          -535,
          -535,
          -550,
          -550
         ],
         "yaxis": "y"
        },
        {
         "hoverinfo": "text",
         "marker": {
          "color": "rgb(255,220,0)"
         },
         "mode": "lines",
         "type": "scatter",
         "x": [
          0,
          0.9862702373804443,
          0.9862702373804443,
          0
         ],
         "xaxis": "x",
         "y": [
          -565,
          -565,
          -575,
          -575
         ],
         "yaxis": "y"
        },
        {
         "hoverinfo": "text",
         "marker": {
          "color": "rgb(0,116,217)"
         },
         "mode": "lines",
         "type": "scatter",
         "x": [
          0.9909578272688946,
          1.0072371332732837,
          1.0072371332732837,
          0.9862702373804443
         ],
         "xaxis": "x",
         "y": [
          -542.5,
          -542.5,
          -570,
          -570
         ],
         "yaxis": "y"
        },
        {
         "hoverinfo": "text",
         "marker": {
          "color": "rgb(40,35,35)"
         },
         "mode": "lines",
         "type": "scatter",
         "x": [
          0,
          0.9728756154083765,
          0.9728756154083765,
          0
         ],
         "xaxis": "x",
         "y": [
          -585,
          -585,
          -595,
          -595
         ],
         "yaxis": "y"
        },
        {
         "hoverinfo": "text",
         "marker": {
          "color": "rgb(61,153,112)"
         },
         "mode": "lines",
         "type": "scatter",
         "x": [
          0,
          0.9999767336074187,
          0.9999767336074187,
          0
         ],
         "xaxis": "x",
         "y": [
          -605,
          -605,
          -615,
          -615
         ],
         "yaxis": "y"
        },
        {
         "hoverinfo": "text",
         "marker": {
          "color": "rgb(255,65,54)"
         },
         "mode": "lines",
         "type": "scatter",
         "x": [
          0,
          0.9999529571633153,
          0.9999529571633153,
          0
         ],
         "xaxis": "x",
         "y": [
          -625,
          -625,
          -635,
          -635
         ],
         "yaxis": "y"
        },
        {
         "hoverinfo": "text",
         "marker": {
          "color": "rgb(0,116,217)"
         },
         "mode": "lines",
         "type": "scatter",
         "x": [
          0.9999767336074187,
          1.0000075949093226,
          1.0000075949093226,
          0.9999529571633153
         ],
         "xaxis": "x",
         "y": [
          -610,
          -610,
          -630,
          -630
         ],
         "yaxis": "y"
        },
        {
         "hoverinfo": "text",
         "marker": {
          "color": "rgb(0,116,217)"
         },
         "mode": "lines",
         "type": "scatter",
         "x": [
          0.9728756154083765,
          1.0151359733178573,
          1.0151359733178573,
          1.0000075949093226
         ],
         "xaxis": "x",
         "y": [
          -590,
          -590,
          -620,
          -620
         ],
         "yaxis": "y"
        },
        {
         "hoverinfo": "text",
         "marker": {
          "color": "rgb(0,116,217)"
         },
         "mode": "lines",
         "type": "scatter",
         "x": [
          1.0072371332732837,
          1.02328406609692,
          1.02328406609692,
          1.0151359733178573
         ],
         "xaxis": "x",
         "y": [
          -556.25,
          -556.25,
          -605,
          -605
         ],
         "yaxis": "y"
        },
        {
         "hoverinfo": "text",
         "marker": {
          "color": "rgb(35,205,205)"
         },
         "mode": "lines",
         "type": "scatter",
         "x": [
          0,
          0.9485348533940063,
          0.9485348533940063,
          0
         ],
         "xaxis": "x",
         "y": [
          -645,
          -645,
          -655,
          -655
         ],
         "yaxis": "y"
        },
        {
         "hoverinfo": "text",
         "marker": {
          "color": "rgb(0,116,217)"
         },
         "mode": "lines",
         "type": "scatter",
         "x": [
          1.02328406609692,
          1.0331140554359266,
          1.0331140554359266,
          0.9485348533940063
         ],
         "xaxis": "x",
         "y": [
          -580.625,
          -580.625,
          -650,
          -650
         ],
         "yaxis": "y"
        },
        {
         "hoverinfo": "text",
         "marker": {
          "color": "rgb(0,116,217)"
         },
         "mode": "lines",
         "type": "scatter",
         "x": [
          0.9351368779648987,
          1.0443933585816045,
          1.0443933585816045,
          1.0331140554359266
         ],
         "xaxis": "x",
         "y": [
          -520,
          -520,
          -615.3125,
          -615.3125
         ],
         "yaxis": "y"
        },
        {
         "hoverinfo": "text",
         "marker": {
          "color": "rgb(61,153,112)"
         },
         "mode": "lines",
         "type": "scatter",
         "x": [
          0,
          0.948727782337224,
          0.948727782337224,
          0
         ],
         "xaxis": "x",
         "y": [
          -665,
          -665,
          -675,
          -675
         ],
         "yaxis": "y"
        },
        {
         "hoverinfo": "text",
         "marker": {
          "color": "rgb(61,153,112)"
         },
         "mode": "lines",
         "type": "scatter",
         "x": [
          0.948727782337224,
          0.97190604226101,
          0.97190604226101,
          0
         ],
         "xaxis": "x",
         "y": [
          -670,
          -670,
          -685,
          -685
         ],
         "yaxis": "y"
        },
        {
         "hoverinfo": "text",
         "marker": {
          "color": "rgb(0,116,217)"
         },
         "mode": "lines",
         "type": "scatter",
         "x": [
          1.0443933585816045,
          1.052168440734504,
          1.052168440734504,
          0.97190604226101
         ],
         "xaxis": "x",
         "y": [
          -567.65625,
          -567.65625,
          -677.5,
          -677.5
         ],
         "yaxis": "y"
        },
        {
         "hoverinfo": "text",
         "marker": {
          "color": "rgb(255,65,54)"
         },
         "mode": "lines",
         "type": "scatter",
         "x": [
          0,
          0.8117596273147308,
          0.8117596273147308,
          0
         ],
         "xaxis": "x",
         "y": [
          -695,
          -695,
          -705,
          -705
         ],
         "yaxis": "y"
        },
        {
         "hoverinfo": "text",
         "marker": {
          "color": "rgb(255,65,54)"
         },
         "mode": "lines",
         "type": "scatter",
         "x": [
          0.8117596273147308,
          0.9932331427110833,
          0.9932331427110833,
          0
         ],
         "xaxis": "x",
         "y": [
          -700,
          -700,
          -715,
          -715
         ],
         "yaxis": "y"
        },
        {
         "hoverinfo": "text",
         "marker": {
          "color": "rgb(0,116,217)"
         },
         "mode": "lines",
         "type": "scatter",
         "x": [
          1.052168440734504,
          1.1413948310355175,
          1.1413948310355175,
          0.9932331427110833
         ],
         "xaxis": "x",
         "y": [
          -622.578125,
          -622.578125,
          -707.5,
          -707.5
         ],
         "yaxis": "y"
        },
        {
         "hoverinfo": "text",
         "marker": {
          "color": "rgb(0,116,217)"
         },
         "mode": "lines",
         "type": "scatter",
         "x": [
          1.1345441866546329,
          1.1880308892135663,
          1.1880308892135663,
          1.1413948310355175
         ],
         "xaxis": "x",
         "y": [
          -385.8984375,
          -385.8984375,
          -665.0390625,
          -665.0390625
         ],
         "yaxis": "y"
        },
        {
         "hoverinfo": "text",
         "marker": {
          "color": "rgb(0,116,217)"
         },
         "mode": "lines",
         "type": "scatter",
         "x": [
          1.0569021918462818,
          1.581066781778783,
          1.581066781778783,
          1.1880308892135663
         ],
         "xaxis": "x",
         "y": [
          -253.125,
          -253.125,
          -525.46875,
          -525.46875
         ],
         "yaxis": "y"
        },
        {
         "hoverinfo": "text",
         "marker": {
          "color": "rgb(35,205,205)"
         },
         "mode": "lines",
         "type": "scatter",
         "x": [
          0,
          0.09498579290185072,
          0.09498579290185072,
          0
         ],
         "xaxis": "x",
         "y": [
          -735,
          -735,
          -745,
          -745
         ],
         "yaxis": "y"
        },
        {
         "hoverinfo": "text",
         "marker": {
          "color": "rgb(35,205,205)"
         },
         "mode": "lines",
         "type": "scatter",
         "x": [
          0,
          0.4003181196000223,
          0.4003181196000223,
          0.09498579290185072
         ],
         "xaxis": "x",
         "y": [
          -725,
          -725,
          -740,
          -740
         ],
         "yaxis": "y"
        },
        {
         "hoverinfo": "text",
         "marker": {
          "color": "rgb(133,20,75)"
         },
         "mode": "lines",
         "type": "scatter",
         "x": [
          0,
          0.6920881661821722,
          0.6920881661821722,
          0
         ],
         "xaxis": "x",
         "y": [
          -775,
          -775,
          -785,
          -785
         ],
         "yaxis": "y"
        },
        {
         "hoverinfo": "text",
         "marker": {
          "color": "rgb(133,20,75)"
         },
         "mode": "lines",
         "type": "scatter",
         "x": [
          0,
          0.7113937156053751,
          0.7113937156053751,
          0.6920881661821722
         ],
         "xaxis": "x",
         "y": [
          -765,
          -765,
          -780,
          -780
         ],
         "yaxis": "y"
        },
        {
         "hoverinfo": "text",
         "marker": {
          "color": "rgb(133,20,75)"
         },
         "mode": "lines",
         "type": "scatter",
         "x": [
          0,
          0.8007634793859527,
          0.8007634793859527,
          0.7113937156053751
         ],
         "xaxis": "x",
         "y": [
          -755,
          -755,
          -772.5,
          -772.5
         ],
         "yaxis": "y"
        },
        {
         "hoverinfo": "text",
         "marker": {
          "color": "rgb(133,20,75)"
         },
         "mode": "lines",
         "type": "scatter",
         "x": [
          0,
          0.7281340719904565,
          0.7281340719904565,
          0
         ],
         "xaxis": "x",
         "y": [
          -805,
          -805,
          -815,
          -815
         ],
         "yaxis": "y"
        },
        {
         "hoverinfo": "text",
         "marker": {
          "color": "rgb(133,20,75)"
         },
         "mode": "lines",
         "type": "scatter",
         "x": [
          0,
          0.7652771589796006,
          0.7652771589796006,
          0.7281340719904565
         ],
         "xaxis": "x",
         "y": [
          -795,
          -795,
          -810,
          -810
         ],
         "yaxis": "y"
        },
        {
         "hoverinfo": "text",
         "marker": {
          "color": "rgb(133,20,75)"
         },
         "mode": "lines",
         "type": "scatter",
         "x": [
          0.7652771589796006,
          0.8358267128393104,
          0.8358267128393104,
          0
         ],
         "xaxis": "x",
         "y": [
          -802.5,
          -802.5,
          -825,
          -825
         ],
         "yaxis": "y"
        },
        {
         "hoverinfo": "text",
         "marker": {
          "color": "rgb(133,20,75)"
         },
         "mode": "lines",
         "type": "scatter",
         "x": [
          0.8007634793859527,
          0.9039498604782735,
          0.9039498604782735,
          0.8358267128393104
         ],
         "xaxis": "x",
         "y": [
          -763.75,
          -763.75,
          -813.75,
          -813.75
         ],
         "yaxis": "y"
        },
        {
         "hoverinfo": "text",
         "marker": {
          "color": "rgb(255,220,0)"
         },
         "mode": "lines",
         "type": "scatter",
         "x": [
          0,
          0.3934549196969358,
          0.3934549196969358,
          0
         ],
         "xaxis": "x",
         "y": [
          -835,
          -835,
          -845,
          -845
         ],
         "yaxis": "y"
        },
        {
         "hoverinfo": "text",
         "marker": {
          "color": "rgb(255,220,0)"
         },
         "mode": "lines",
         "type": "scatter",
         "x": [
          0,
          0.46927848216885315,
          0.46927848216885315,
          0
         ],
         "xaxis": "x",
         "y": [
          -855,
          -855,
          -865,
          -865
         ],
         "yaxis": "y"
        },
        {
         "hoverinfo": "text",
         "marker": {
          "color": "rgb(255,220,0)"
         },
         "mode": "lines",
         "type": "scatter",
         "x": [
          0.46927848216885315,
          0.6910758543880675,
          0.6910758543880675,
          0
         ],
         "xaxis": "x",
         "y": [
          -860,
          -860,
          -875,
          -875
         ],
         "yaxis": "y"
        },
        {
         "hoverinfo": "text",
         "marker": {
          "color": "rgb(255,220,0)"
         },
         "mode": "lines",
         "type": "scatter",
         "x": [
          0.3934549196969358,
          0.8425131020151523,
          0.8425131020151523,
          0.6910758543880675
         ],
         "xaxis": "x",
         "y": [
          -840,
          -840,
          -867.5,
          -867.5
         ],
         "yaxis": "y"
        },
        {
         "hoverinfo": "text",
         "marker": {
          "color": "rgb(0,116,217)"
         },
         "mode": "lines",
         "type": "scatter",
         "x": [
          0.9039498604782735,
          1.3886984036507386,
          1.3886984036507386,
          0.8425131020151523
         ],
         "xaxis": "x",
         "y": [
          -788.75,
          -788.75,
          -853.75,
          -853.75
         ],
         "yaxis": "y"
        },
        {
         "hoverinfo": "text",
         "marker": {
          "color": "rgb(0,116,217)"
         },
         "mode": "lines",
         "type": "scatter",
         "x": [
          0.4003181196000223,
          1.5389500193594106,
          1.5389500193594106,
          1.3886984036507386
         ],
         "xaxis": "x",
         "y": [
          -732.5,
          -732.5,
          -821.25,
          -821.25
         ],
         "yaxis": "y"
        },
        {
         "hoverinfo": "text",
         "marker": {
          "color": "rgb(40,35,35)"
         },
         "mode": "lines",
         "type": "scatter",
         "x": [
          0,
          0.8163056154690059,
          0.8163056154690059,
          0
         ],
         "xaxis": "x",
         "y": [
          -885,
          -885,
          -895,
          -895
         ],
         "yaxis": "y"
        },
        {
         "hoverinfo": "text",
         "marker": {
          "color": "rgb(40,35,35)"
         },
         "mode": "lines",
         "type": "scatter",
         "x": [
          0,
          0.7974863847755645,
          0.7974863847755645,
          0
         ],
         "xaxis": "x",
         "y": [
          -905,
          -905,
          -915,
          -915
         ],
         "yaxis": "y"
        },
        {
         "hoverinfo": "text",
         "marker": {
          "color": "rgb(40,35,35)"
         },
         "mode": "lines",
         "type": "scatter",
         "x": [
          0.7974863847755645,
          0.8104266469798829,
          0.8104266469798829,
          0
         ],
         "xaxis": "x",
         "y": [
          -910,
          -910,
          -925,
          -925
         ],
         "yaxis": "y"
        },
        {
         "hoverinfo": "text",
         "marker": {
          "color": "rgb(40,35,35)"
         },
         "mode": "lines",
         "type": "scatter",
         "x": [
          0.8163056154690059,
          0.9007383696842478,
          0.9007383696842478,
          0.8104266469798829
         ],
         "xaxis": "x",
         "y": [
          -890,
          -890,
          -917.5,
          -917.5
         ],
         "yaxis": "y"
        },
        {
         "hoverinfo": "text",
         "marker": {
          "color": "rgb(40,35,35)"
         },
         "mode": "lines",
         "type": "scatter",
         "x": [
          0,
          0.7141643135825217,
          0.7141643135825217,
          0
         ],
         "xaxis": "x",
         "y": [
          -955,
          -955,
          -965,
          -965
         ],
         "yaxis": "y"
        },
        {
         "hoverinfo": "text",
         "marker": {
          "color": "rgb(40,35,35)"
         },
         "mode": "lines",
         "type": "scatter",
         "x": [
          0,
          0.7455779758549992,
          0.7455779758549992,
          0.7141643135825217
         ],
         "xaxis": "x",
         "y": [
          -945,
          -945,
          -960,
          -960
         ],
         "yaxis": "y"
        },
        {
         "hoverinfo": "text",
         "marker": {
          "color": "rgb(40,35,35)"
         },
         "mode": "lines",
         "type": "scatter",
         "x": [
          0,
          0.7841292821012665,
          0.7841292821012665,
          0.7455779758549992
         ],
         "xaxis": "x",
         "y": [
          -935,
          -935,
          -952.5,
          -952.5
         ],
         "yaxis": "y"
        },
        {
         "hoverinfo": "text",
         "marker": {
          "color": "rgb(40,35,35)"
         },
         "mode": "lines",
         "type": "scatter",
         "x": [
          0.7841292821012665,
          0.8137211183431818,
          0.8137211183431818,
          0
         ],
         "xaxis": "x",
         "y": [
          -943.75,
          -943.75,
          -975,
          -975
         ],
         "yaxis": "y"
        },
        {
         "hoverinfo": "text",
         "marker": {
          "color": "rgb(40,35,35)"
         },
         "mode": "lines",
         "type": "scatter",
         "x": [
          0.9007383696842478,
          0.9849090954004807,
          0.9849090954004807,
          0.8137211183431818
         ],
         "xaxis": "x",
         "y": [
          -903.75,
          -903.75,
          -959.375,
          -959.375
         ],
         "yaxis": "y"
        },
        {
         "hoverinfo": "text",
         "marker": {
          "color": "rgb(61,153,112)"
         },
         "mode": "lines",
         "type": "scatter",
         "x": [
          0,
          0.9330393934234407,
          0.9330393934234407,
          0
         ],
         "xaxis": "x",
         "y": [
          -985,
          -985,
          -995,
          -995
         ],
         "yaxis": "y"
        },
        {
         "hoverinfo": "text",
         "marker": {
          "color": "rgb(61,153,112)"
         },
         "mode": "lines",
         "type": "scatter",
         "x": [
          0,
          0.882741830807013,
          0.882741830807013,
          0
         ],
         "xaxis": "x",
         "y": [
          -1005,
          -1005,
          -1015,
          -1015
         ],
         "yaxis": "y"
        },
        {
         "hoverinfo": "text",
         "marker": {
          "color": "rgb(61,153,112)"
         },
         "mode": "lines",
         "type": "scatter",
         "x": [
          0,
          0.7933736683638354,
          0.7933736683638354,
          0
         ],
         "xaxis": "x",
         "y": [
          -1025,
          -1025,
          -1035,
          -1035
         ],
         "yaxis": "y"
        },
        {
         "hoverinfo": "text",
         "marker": {
          "color": "rgb(61,153,112)"
         },
         "mode": "lines",
         "type": "scatter",
         "x": [
          0.7933736683638354,
          0.9134480296678257,
          0.9134480296678257,
          0
         ],
         "xaxis": "x",
         "y": [
          -1030,
          -1030,
          -1045,
          -1045
         ],
         "yaxis": "y"
        },
        {
         "hoverinfo": "text",
         "marker": {
          "color": "rgb(61,153,112)"
         },
         "mode": "lines",
         "type": "scatter",
         "x": [
          0.882741830807013,
          0.949676320034148,
          0.949676320034148,
          0.9134480296678257
         ],
         "xaxis": "x",
         "y": [
          -1010,
          -1010,
          -1037.5,
          -1037.5
         ],
         "yaxis": "y"
        },
        {
         "hoverinfo": "text",
         "marker": {
          "color": "rgb(61,153,112)"
         },
         "mode": "lines",
         "type": "scatter",
         "x": [
          0.9330393934234407,
          0.9986280789921066,
          0.9986280789921066,
          0.949676320034148
         ],
         "xaxis": "x",
         "y": [
          -990,
          -990,
          -1023.75,
          -1023.75
         ],
         "yaxis": "y"
        },
        {
         "hoverinfo": "text",
         "marker": {
          "color": "rgb(255,65,54)"
         },
         "mode": "lines",
         "type": "scatter",
         "x": [
          0,
          0.6943423651282503,
          0.6943423651282503,
          0
         ],
         "xaxis": "x",
         "y": [
          -1055,
          -1055,
          -1065,
          -1065
         ],
         "yaxis": "y"
        },
        {
         "hoverinfo": "text",
         "marker": {
          "color": "rgb(0,116,217)"
         },
         "mode": "lines",
         "type": "scatter",
         "x": [
          0.9986280789921066,
          1.0389702847692093,
          1.0389702847692093,
          0.6943423651282503
         ],
         "xaxis": "x",
         "y": [
          -1006.875,
          -1006.875,
          -1060,
          -1060
         ],
         "yaxis": "y"
        },
        {
         "hoverinfo": "text",
         "marker": {
          "color": "rgb(35,205,205)"
         },
         "mode": "lines",
         "type": "scatter",
         "x": [
          0,
          0.7107749336175808,
          0.7107749336175808,
          0
         ],
         "xaxis": "x",
         "y": [
          -1075,
          -1075,
          -1085,
          -1085
         ],
         "yaxis": "y"
        },
        {
         "hoverinfo": "text",
         "marker": {
          "color": "rgb(0,116,217)"
         },
         "mode": "lines",
         "type": "scatter",
         "x": [
          1.0389702847692093,
          1.1613899998601926,
          1.1613899998601926,
          0.7107749336175808
         ],
         "xaxis": "x",
         "y": [
          -1033.4375,
          -1033.4375,
          -1080,
          -1080
         ],
         "yaxis": "y"
        },
        {
         "hoverinfo": "text",
         "marker": {
          "color": "rgb(0,116,217)"
         },
         "mode": "lines",
         "type": "scatter",
         "x": [
          0.9849090954004807,
          1.1905686736867898,
          1.1905686736867898,
          1.1613899998601926
         ],
         "xaxis": "x",
         "y": [
          -931.5625,
          -931.5625,
          -1056.71875,
          -1056.71875
         ],
         "yaxis": "y"
        },
        {
         "hoverinfo": "text",
         "marker": {
          "color": "rgb(61,153,112)"
         },
         "mode": "lines",
         "type": "scatter",
         "x": [
          0,
          0.22099981730156026,
          0.22099981730156026,
          0
         ],
         "xaxis": "x",
         "y": [
          -1115,
          -1115,
          -1125,
          -1125
         ],
         "yaxis": "y"
        },
        {
         "hoverinfo": "text",
         "marker": {
          "color": "rgb(61,153,112)"
         },
         "mode": "lines",
         "type": "scatter",
         "x": [
          0,
          0.6699992053965328,
          0.6699992053965328,
          0.22099981730156026
         ],
         "xaxis": "x",
         "y": [
          -1105,
          -1105,
          -1120,
          -1120
         ],
         "yaxis": "y"
        },
        {
         "hoverinfo": "text",
         "marker": {
          "color": "rgb(61,153,112)"
         },
         "mode": "lines",
         "type": "scatter",
         "x": [
          0.6699992053965328,
          0.7407992989097134,
          0.7407992989097134,
          0
         ],
         "xaxis": "x",
         "y": [
          -1112.5,
          -1112.5,
          -1135,
          -1135
         ],
         "yaxis": "y"
        },
        {
         "hoverinfo": "text",
         "marker": {
          "color": "rgb(61,153,112)"
         },
         "mode": "lines",
         "type": "scatter",
         "x": [
          0,
          0.8754845239741783,
          0.8754845239741783,
          0.7407992989097134
         ],
         "xaxis": "x",
         "y": [
          -1095,
          -1095,
          -1123.75,
          -1123.75
         ],
         "yaxis": "y"
        },
        {
         "hoverinfo": "text",
         "marker": {
          "color": "rgb(255,65,54)"
         },
         "mode": "lines",
         "type": "scatter",
         "x": [
          0,
          0.7521878801673328,
          0.7521878801673328,
          0
         ],
         "xaxis": "x",
         "y": [
          -1145,
          -1145,
          -1155,
          -1155
         ],
         "yaxis": "y"
        },
        {
         "hoverinfo": "text",
         "marker": {
          "color": "rgb(255,65,54)"
         },
         "mode": "lines",
         "type": "scatter",
         "x": [
          0,
          0.7150605258841081,
          0.7150605258841081,
          0
         ],
         "xaxis": "x",
         "y": [
          -1175,
          -1175,
          -1185,
          -1185
         ],
         "yaxis": "y"
        },
        {
         "hoverinfo": "text",
         "marker": {
          "color": "rgb(255,65,54)"
         },
         "mode": "lines",
         "type": "scatter",
         "x": [
          0,
          0.7793598725281295,
          0.7793598725281295,
          0.7150605258841081
         ],
         "xaxis": "x",
         "y": [
          -1165,
          -1165,
          -1180,
          -1180
         ],
         "yaxis": "y"
        },
        {
         "hoverinfo": "text",
         "marker": {
          "color": "rgb(255,65,54)"
         },
         "mode": "lines",
         "type": "scatter",
         "x": [
          0.7793598725281295,
          0.8804091720123095,
          0.8804091720123095,
          0
         ],
         "xaxis": "x",
         "y": [
          -1172.5,
          -1172.5,
          -1195,
          -1195
         ],
         "yaxis": "y"
        },
        {
         "hoverinfo": "text",
         "marker": {
          "color": "rgb(255,65,54)"
         },
         "mode": "lines",
         "type": "scatter",
         "x": [
          0.7521878801673328,
          0.9510248304173433,
          0.9510248304173433,
          0.8804091720123095
         ],
         "xaxis": "x",
         "y": [
          -1150,
          -1150,
          -1183.75,
          -1183.75
         ],
         "yaxis": "y"
        },
        {
         "hoverinfo": "text",
         "marker": {
          "color": "rgb(255,65,54)"
         },
         "mode": "lines",
         "type": "scatter",
         "x": [
          0,
          0.8341764442987009,
          0.8341764442987009,
          0
         ],
         "xaxis": "x",
         "y": [
          -1205,
          -1205,
          -1215,
          -1215
         ],
         "yaxis": "y"
        },
        {
         "hoverinfo": "text",
         "marker": {
          "color": "rgb(255,65,54)"
         },
         "mode": "lines",
         "type": "scatter",
         "x": [
          0.9510248304173433,
          0.9751421435692216,
          0.9751421435692216,
          0.8341764442987009
         ],
         "xaxis": "x",
         "y": [
          -1166.875,
          -1166.875,
          -1210,
          -1210
         ],
         "yaxis": "y"
        },
        {
         "hoverinfo": "text",
         "marker": {
          "color": "rgb(0,116,217)"
         },
         "mode": "lines",
         "type": "scatter",
         "x": [
          0.8754845239741783,
          1.2716268148639986,
          1.2716268148639986,
          0.9751421435692216
         ],
         "xaxis": "x",
         "y": [
          -1109.375,
          -1109.375,
          -1188.4375,
          -1188.4375
         ],
         "yaxis": "y"
        },
        {
         "hoverinfo": "text",
         "marker": {
          "color": "rgb(0,116,217)"
         },
         "mode": "lines",
         "type": "scatter",
         "x": [
          1.1905686736867898,
          1.4100446531647377,
          1.4100446531647377,
          1.2716268148639986
         ],
         "xaxis": "x",
         "y": [
          -994.140625,
          -994.140625,
          -1148.90625,
          -1148.90625
         ],
         "yaxis": "y"
        },
        {
         "hoverinfo": "text",
         "marker": {
          "color": "rgb(35,205,205)"
         },
         "mode": "lines",
         "type": "scatter",
         "x": [
          0,
          0.24090413586621673,
          0.24090413586621673,
          0
         ],
         "xaxis": "x",
         "y": [
          -1235,
          -1235,
          -1245,
          -1245
         ],
         "yaxis": "y"
        },
        {
         "hoverinfo": "text",
         "marker": {
          "color": "rgb(35,205,205)"
         },
         "mode": "lines",
         "type": "scatter",
         "x": [
          0,
          0.5343274064594438,
          0.5343274064594438,
          0.24090413586621673
         ],
         "xaxis": "x",
         "y": [
          -1225,
          -1225,
          -1240,
          -1240
         ],
         "yaxis": "y"
        },
        {
         "hoverinfo": "text",
         "marker": {
          "color": "rgb(133,20,75)"
         },
         "mode": "lines",
         "type": "scatter",
         "x": [
          0,
          0.2148837349002859,
          0.2148837349002859,
          0
         ],
         "xaxis": "x",
         "y": [
          -1255,
          -1255,
          -1265,
          -1265
         ],
         "yaxis": "y"
        },
        {
         "hoverinfo": "text",
         "marker": {
          "color": "rgb(133,20,75)"
         },
         "mode": "lines",
         "type": "scatter",
         "x": [
          0.2148837349002859,
          0.5310462416796939,
          0.5310462416796939,
          0
         ],
         "xaxis": "x",
         "y": [
          -1260,
          -1260,
          -1275,
          -1275
         ],
         "yaxis": "y"
        },
        {
         "hoverinfo": "text",
         "marker": {
          "color": "rgb(0,116,217)"
         },
         "mode": "lines",
         "type": "scatter",
         "x": [
          0.5343274064594438,
          1.4383138954153813,
          1.4383138954153813,
          0.5310462416796939
         ],
         "xaxis": "x",
         "y": [
          -1232.5,
          -1232.5,
          -1267.5,
          -1267.5
         ],
         "yaxis": "y"
        },
        {
         "hoverinfo": "text",
         "marker": {
          "color": "rgb(0,116,217)"
         },
         "mode": "lines",
         "type": "scatter",
         "x": [
          1.4100446531647377,
          1.642914966159102,
          1.642914966159102,
          1.4383138954153813
         ],
         "xaxis": "x",
         "y": [
          -1071.5234375,
          -1071.5234375,
          -1250,
          -1250
         ],
         "yaxis": "y"
        },
        {
         "hoverinfo": "text",
         "marker": {
          "color": "rgb(0,116,217)"
         },
         "mode": "lines",
         "type": "scatter",
         "x": [
          1.5389500193594106,
          1.7193014562160427,
          1.7193014562160427,
          1.642914966159102
         ],
         "xaxis": "x",
         "y": [
          -776.875,
          -776.875,
          -1160.76171875,
          -1160.76171875
         ],
         "yaxis": "y"
        },
        {
         "hoverinfo": "text",
         "marker": {
          "color": "rgb(0,116,217)"
         },
         "mode": "lines",
         "type": "scatter",
         "x": [
          1.581066781778783,
          1.8614326336591476,
          1.8614326336591476,
          1.7193014562160427
         ],
         "xaxis": "x",
         "y": [
          -389.296875,
          -389.296875,
          -968.818359375,
          -968.818359375
         ],
         "yaxis": "y"
        },
        {
         "hoverinfo": "text",
         "marker": {
          "color": "rgb(255,220,0)"
         },
         "mode": "lines",
         "type": "scatter",
         "x": [
          0,
          0.8567520361733192,
          0.8567520361733192,
          0
         ],
         "xaxis": "x",
         "y": [
          -1295,
          -1295,
          -1305,
          -1305
         ],
         "yaxis": "y"
        },
        {
         "hoverinfo": "text",
         "marker": {
          "color": "rgb(255,220,0)"
         },
         "mode": "lines",
         "type": "scatter",
         "x": [
          0.8567520361733192,
          0.8759286828560366,
          0.8759286828560366,
          0
         ],
         "xaxis": "x",
         "y": [
          -1300,
          -1300,
          -1315,
          -1315
         ],
         "yaxis": "y"
        },
        {
         "hoverinfo": "text",
         "marker": {
          "color": "rgb(255,220,0)"
         },
         "mode": "lines",
         "type": "scatter",
         "x": [
          0,
          0.9473659225382544,
          0.9473659225382544,
          0.8759286828560366
         ],
         "xaxis": "x",
         "y": [
          -1285,
          -1285,
          -1307.5,
          -1307.5
         ],
         "yaxis": "y"
        },
        {
         "hoverinfo": "text",
         "marker": {
          "color": "rgb(255,220,0)"
         },
         "mode": "lines",
         "type": "scatter",
         "x": [
          0,
          0.869196280113364,
          0.869196280113364,
          0
         ],
         "xaxis": "x",
         "y": [
          -1325,
          -1325,
          -1335,
          -1335
         ],
         "yaxis": "y"
        },
        {
         "hoverinfo": "text",
         "marker": {
          "color": "rgb(255,220,0)"
         },
         "mode": "lines",
         "type": "scatter",
         "x": [
          0.9473659225382544,
          0.9748872678068573,
          0.9748872678068573,
          0.869196280113364
         ],
         "xaxis": "x",
         "y": [
          -1296.25,
          -1296.25,
          -1330,
          -1330
         ],
         "yaxis": "y"
        },
        {
         "hoverinfo": "text",
         "marker": {
          "color": "rgb(40,35,35)"
         },
         "mode": "lines",
         "type": "scatter",
         "x": [
          0,
          0.48819250639030065,
          0.48819250639030065,
          0
         ],
         "xaxis": "x",
         "y": [
          -1345,
          -1345,
          -1355,
          -1355
         ],
         "yaxis": "y"
        },
        {
         "hoverinfo": "text",
         "marker": {
          "color": "rgb(40,35,35)"
         },
         "mode": "lines",
         "type": "scatter",
         "x": [
          0.48819250639030065,
          0.8660050028479424,
          0.8660050028479424,
          0
         ],
         "xaxis": "x",
         "y": [
          -1350,
          -1350,
          -1365,
          -1365
         ],
         "yaxis": "y"
        },
        {
         "hoverinfo": "text",
         "marker": {
          "color": "rgb(0,116,217)"
         },
         "mode": "lines",
         "type": "scatter",
         "x": [
          0.9748872678068573,
          1.091568171000112,
          1.091568171000112,
          0.8660050028479424
         ],
         "xaxis": "x",
         "y": [
          -1313.125,
          -1313.125,
          -1357.5,
          -1357.5
         ],
         "yaxis": "y"
        },
        {
         "hoverinfo": "text",
         "marker": {
          "color": "rgb(61,153,112)"
         },
         "mode": "lines",
         "type": "scatter",
         "x": [
          0,
          0.6778918333457951,
          0.6778918333457951,
          0
         ],
         "xaxis": "x",
         "y": [
          -1385,
          -1385,
          -1395,
          -1395
         ],
         "yaxis": "y"
        },
        {
         "hoverinfo": "text",
         "marker": {
          "color": "rgb(61,153,112)"
         },
         "mode": "lines",
         "type": "scatter",
         "x": [
          0.6778918333457951,
          0.771171505924994,
          0.771171505924994,
          0
         ],
         "xaxis": "x",
         "y": [
          -1390,
          -1390,
          -1405,
          -1405
         ],
         "yaxis": "y"
        },
        {
         "hoverinfo": "text",
         "marker": {
          "color": "rgb(61,153,112)"
         },
         "mode": "lines",
         "type": "scatter",
         "x": [
          0,
          0.7975529518007332,
          0.7975529518007332,
          0.771171505924994
         ],
         "xaxis": "x",
         "y": [
          -1375,
          -1375,
          -1397.5,
          -1397.5
         ],
         "yaxis": "y"
        },
        {
         "hoverinfo": "text",
         "marker": {
          "color": "rgb(61,153,112)"
         },
         "mode": "lines",
         "type": "scatter",
         "x": [
          0.7975529518007332,
          0.9155576683014074,
          0.9155576683014074,
          0
         ],
         "xaxis": "x",
         "y": [
          -1386.25,
          -1386.25,
          -1415,
          -1415
         ],
         "yaxis": "y"
        },
        {
         "hoverinfo": "text",
         "marker": {
          "color": "rgb(0,116,217)"
         },
         "mode": "lines",
         "type": "scatter",
         "x": [
          1.091568171000112,
          1.1944903553784834,
          1.1944903553784834,
          0.9155576683014074
         ],
         "xaxis": "x",
         "y": [
          -1335.3125,
          -1335.3125,
          -1400.625,
          -1400.625
         ],
         "yaxis": "y"
        },
        {
         "hoverinfo": "text",
         "marker": {
          "color": "rgb(255,65,54)"
         },
         "mode": "lines",
         "type": "scatter",
         "x": [
          0,
          0.5913855634738572,
          0.5913855634738572,
          0
         ],
         "xaxis": "x",
         "y": [
          -1435,
          -1435,
          -1445,
          -1445
         ],
         "yaxis": "y"
        },
        {
         "hoverinfo": "text",
         "marker": {
          "color": "rgb(255,65,54)"
         },
         "mode": "lines",
         "type": "scatter",
         "x": [
          0.5913855634738572,
          0.7560029712399045,
          0.7560029712399045,
          0
         ],
         "xaxis": "x",
         "y": [
          -1440,
          -1440,
          -1455,
          -1455
         ],
         "yaxis": "y"
        },
        {
         "hoverinfo": "text",
         "marker": {
          "color": "rgb(255,65,54)"
         },
         "mode": "lines",
         "type": "scatter",
         "x": [
          0,
          0.7957879090054046,
          0.7957879090054046,
          0.7560029712399045
         ],
         "xaxis": "x",
         "y": [
          -1425,
          -1425,
          -1447.5,
          -1447.5
         ],
         "yaxis": "y"
        },
        {
         "hoverinfo": "text",
         "marker": {
          "color": "rgb(35,205,205)"
         },
         "mode": "lines",
         "type": "scatter",
         "x": [
          0,
          0.6443530691537087,
          0.6443530691537087,
          0
         ],
         "xaxis": "x",
         "y": [
          -1475,
          -1475,
          -1485,
          -1485
         ],
         "yaxis": "y"
        },
        {
         "hoverinfo": "text",
         "marker": {
          "color": "rgb(35,205,205)"
         },
         "mode": "lines",
         "type": "scatter",
         "x": [
          0,
          0.7275074529845298,
          0.7275074529845298,
          0.6443530691537087
         ],
         "xaxis": "x",
         "y": [
          -1465,
          -1465,
          -1480,
          -1480
         ],
         "yaxis": "y"
        },
        {
         "hoverinfo": "text",
         "marker": {
          "color": "rgb(35,205,205)"
         },
         "mode": "lines",
         "type": "scatter",
         "x": [
          0,
          0.6789237735190892,
          0.6789237735190892,
          0
         ],
         "xaxis": "x",
         "y": [
          -1495,
          -1495,
          -1505,
          -1505
         ],
         "yaxis": "y"
        },
        {
         "hoverinfo": "text",
         "marker": {
          "color": "rgb(35,205,205)"
         },
         "mode": "lines",
         "type": "scatter",
         "x": [
          0.7275074529845298,
          0.7534278786224923,
          0.7534278786224923,
          0.6789237735190892
         ],
         "xaxis": "x",
         "y": [
          -1472.5,
          -1472.5,
          -1500,
          -1500
         ],
         "yaxis": "y"
        },
        {
         "hoverinfo": "text",
         "marker": {
          "color": "rgb(61,153,112)"
         },
         "mode": "lines",
         "type": "scatter",
         "x": [
          0,
          0.8676653918695956,
          0.8676653918695956,
          0
         ],
         "xaxis": "x",
         "y": [
          -1525,
          -1525,
          -1535,
          -1535
         ],
         "yaxis": "y"
        },
        {
         "hoverinfo": "text",
         "marker": {
          "color": "rgb(61,153,112)"
         },
         "mode": "lines",
         "type": "scatter",
         "x": [
          0,
          0.8943278854200608,
          0.8943278854200608,
          0.8676653918695956
         ],
         "xaxis": "x",
         "y": [
          -1515,
          -1515,
          -1530,
          -1530
         ],
         "yaxis": "y"
        },
        {
         "hoverinfo": "text",
         "marker": {
          "color": "rgb(61,153,112)"
         },
         "mode": "lines",
         "type": "scatter",
         "x": [
          0,
          0.5402858180541419,
          0.5402858180541419,
          0
         ],
         "xaxis": "x",
         "y": [
          -1555,
          -1555,
          -1565,
          -1565
         ],
         "yaxis": "y"
        },
        {
         "hoverinfo": "text",
         "marker": {
          "color": "rgb(61,153,112)"
         },
         "mode": "lines",
         "type": "scatter",
         "x": [
          0,
          0.7474796417118391,
          0.7474796417118391,
          0.5402858180541419
         ],
         "xaxis": "x",
         "y": [
          -1545,
          -1545,
          -1560,
          -1560
         ],
         "yaxis": "y"
        },
        {
         "hoverinfo": "text",
         "marker": {
          "color": "rgb(61,153,112)"
         },
         "mode": "lines",
         "type": "scatter",
         "x": [
          0.7474796417118391,
          0.8920293928423302,
          0.8920293928423302,
          0
         ],
         "xaxis": "x",
         "y": [
          -1552.5,
          -1552.5,
          -1575,
          -1575
         ],
         "yaxis": "y"
        },
        {
         "hoverinfo": "text",
         "marker": {
          "color": "rgb(61,153,112)"
         },
         "mode": "lines",
         "type": "scatter",
         "x": [
          0.8943278854200608,
          0.9375906236382293,
          0.9375906236382293,
          0.8920293928423302
         ],
         "xaxis": "x",
         "y": [
          -1522.5,
          -1522.5,
          -1563.75,
          -1563.75
         ],
         "yaxis": "y"
        },
        {
         "hoverinfo": "text",
         "marker": {
          "color": "rgb(0,116,217)"
         },
         "mode": "lines",
         "type": "scatter",
         "x": [
          0.7534278786224923,
          1.0057299463111562,
          1.0057299463111562,
          0.9375906236382293
         ],
         "xaxis": "x",
         "y": [
          -1486.25,
          -1486.25,
          -1543.125,
          -1543.125
         ],
         "yaxis": "y"
        },
        {
         "hoverinfo": "text",
         "marker": {
          "color": "rgb(0,116,217)"
         },
         "mode": "lines",
         "type": "scatter",
         "x": [
          0.7957879090054046,
          1.224855985013225,
          1.224855985013225,
          1.0057299463111562
         ],
         "xaxis": "x",
         "y": [
          -1436.25,
          -1436.25,
          -1514.6875,
          -1514.6875
         ],
         "yaxis": "y"
        },
        {
         "hoverinfo": "text",
         "marker": {
          "color": "rgb(255,65,54)"
         },
         "mode": "lines",
         "type": "scatter",
         "x": [
          0,
          0.8206536492493582,
          0.8206536492493582,
          0
         ],
         "xaxis": "x",
         "y": [
          -1595,
          -1595,
          -1605,
          -1605
         ],
         "yaxis": "y"
        },
        {
         "hoverinfo": "text",
         "marker": {
          "color": "rgb(255,65,54)"
         },
         "mode": "lines",
         "type": "scatter",
         "x": [
          0,
          0.9107455556564139,
          0.9107455556564139,
          0.8206536492493582
         ],
         "xaxis": "x",
         "y": [
          -1585,
          -1585,
          -1600,
          -1600
         ],
         "yaxis": "y"
        },
        {
         "hoverinfo": "text",
         "marker": {
          "color": "rgb(255,65,54)"
         },
         "mode": "lines",
         "type": "scatter",
         "x": [
          0,
          0.5634905077200053,
          0.5634905077200053,
          0
         ],
         "xaxis": "x",
         "y": [
          -1615,
          -1615,
          -1625,
          -1625
         ],
         "yaxis": "y"
        },
        {
         "hoverinfo": "text",
         "marker": {
          "color": "rgb(255,65,54)"
         },
         "mode": "lines",
         "type": "scatter",
         "x": [
          0.5634905077200053,
          0.6882172490489613,
          0.6882172490489613,
          0
         ],
         "xaxis": "x",
         "y": [
          -1620,
          -1620,
          -1635,
          -1635
         ],
         "yaxis": "y"
        },
        {
         "hoverinfo": "text",
         "marker": {
          "color": "rgb(255,65,54)"
         },
         "mode": "lines",
         "type": "scatter",
         "x": [
          0.9107455556564139,
          0.939939718534686,
          0.939939718534686,
          0.6882172490489613
         ],
         "xaxis": "x",
         "y": [
          -1592.5,
          -1592.5,
          -1627.5,
          -1627.5
         ],
         "yaxis": "y"
        },
        {
         "hoverinfo": "text",
         "marker": {
          "color": "rgb(35,205,205)"
         },
         "mode": "lines",
         "type": "scatter",
         "x": [
          0,
          0.7220632474431803,
          0.7220632474431803,
          0
         ],
         "xaxis": "x",
         "y": [
          -1655,
          -1655,
          -1665,
          -1665
         ],
         "yaxis": "y"
        },
        {
         "hoverinfo": "text",
         "marker": {
          "color": "rgb(35,205,205)"
         },
         "mode": "lines",
         "type": "scatter",
         "x": [
          0.7220632474431803,
          0.7851573842136987,
          0.7851573842136987,
          0
         ],
         "xaxis": "x",
         "y": [
          -1660,
          -1660,
          -1675,
          -1675
         ],
         "yaxis": "y"
        },
        {
         "hoverinfo": "text",
         "marker": {
          "color": "rgb(35,205,205)"
         },
         "mode": "lines",
         "type": "scatter",
         "x": [
          0,
          0.8532279980795467,
          0.8532279980795467,
          0.7851573842136987
         ],
         "xaxis": "x",
         "y": [
          -1645,
          -1645,
          -1667.5,
          -1667.5
         ],
         "yaxis": "y"
        },
        {
         "hoverinfo": "text",
         "marker": {
          "color": "rgb(35,205,205)"
         },
         "mode": "lines",
         "type": "scatter",
         "x": [
          0,
          0.8789140823050511,
          0.8789140823050511,
          0
         ],
         "xaxis": "x",
         "y": [
          -1685,
          -1685,
          -1695,
          -1695
         ],
         "yaxis": "y"
        },
        {
         "hoverinfo": "text",
         "marker": {
          "color": "rgb(35,205,205)"
         },
         "mode": "lines",
         "type": "scatter",
         "x": [
          0.8532279980795467,
          0.9062391446173755,
          0.9062391446173755,
          0.8789140823050511
         ],
         "xaxis": "x",
         "y": [
          -1656.25,
          -1656.25,
          -1690,
          -1690
         ],
         "yaxis": "y"
        },
        {
         "hoverinfo": "text",
         "marker": {
          "color": "rgb(0,116,217)"
         },
         "mode": "lines",
         "type": "scatter",
         "x": [
          0.939939718534686,
          1.0669501504566616,
          1.0669501504566616,
          0.9062391446173755
         ],
         "xaxis": "x",
         "y": [
          -1610,
          -1610,
          -1673.125,
          -1673.125
         ],
         "yaxis": "y"
        },
        {
         "hoverinfo": "text",
         "marker": {
          "color": "rgb(133,20,75)"
         },
         "mode": "lines",
         "type": "scatter",
         "x": [
          0,
          0.6047162605972902,
          0.6047162605972902,
          0
         ],
         "xaxis": "x",
         "y": [
          -1705,
          -1705,
          -1715,
          -1715
         ],
         "yaxis": "y"
        },
        {
         "hoverinfo": "text",
         "marker": {
          "color": "rgb(133,20,75)"
         },
         "mode": "lines",
         "type": "scatter",
         "x": [
          0.6047162605972902,
          0.8529479734739488,
          0.8529479734739488,
          0
         ],
         "xaxis": "x",
         "y": [
          -1710,
          -1710,
          -1725,
          -1725
         ],
         "yaxis": "y"
        },
        {
         "hoverinfo": "text",
         "marker": {
          "color": "rgb(0,116,217)"
         },
         "mode": "lines",
         "type": "scatter",
         "x": [
          1.0669501504566616,
          1.1437060835617274,
          1.1437060835617274,
          0.8529479734739488
         ],
         "xaxis": "x",
         "y": [
          -1641.5625,
          -1641.5625,
          -1717.5,
          -1717.5
         ],
         "yaxis": "y"
        },
        {
         "hoverinfo": "text",
         "marker": {
          "color": "rgb(0,116,217)"
         },
         "mode": "lines",
         "type": "scatter",
         "x": [
          1.224855985013225,
          1.3899435829712545,
          1.3899435829712545,
          1.1437060835617274
         ],
         "xaxis": "x",
         "y": [
          -1475.46875,
          -1475.46875,
          -1679.53125,
          -1679.53125
         ],
         "yaxis": "y"
        },
        {
         "hoverinfo": "text",
         "marker": {
          "color": "rgb(0,116,217)"
         },
         "mode": "lines",
         "type": "scatter",
         "x": [
          1.1944903553784834,
          1.4440001952692574,
          1.4440001952692574,
          1.3899435829712545
         ],
         "xaxis": "x",
         "y": [
          -1367.96875,
          -1367.96875,
          -1577.5,
          -1577.5
         ],
         "yaxis": "y"
        },
        {
         "hoverinfo": "text",
         "marker": {
          "color": "rgb(255,220,0)"
         },
         "mode": "lines",
         "type": "scatter",
         "x": [
          0,
          0.8074279542592471,
          0.8074279542592471,
          0
         ],
         "xaxis": "x",
         "y": [
          -1735,
          -1735,
          -1745,
          -1745
         ],
         "yaxis": "y"
        },
        {
         "hoverinfo": "text",
         "marker": {
          "color": "rgb(255,220,0)"
         },
         "mode": "lines",
         "type": "scatter",
         "x": [
          0.8074279542592471,
          0.8946363711023074,
          0.8946363711023074,
          0
         ],
         "xaxis": "x",
         "y": [
          -1740,
          -1740,
          -1755,
          -1755
         ],
         "yaxis": "y"
        },
        {
         "hoverinfo": "text",
         "marker": {
          "color": "rgb(255,220,0)"
         },
         "mode": "lines",
         "type": "scatter",
         "x": [
          0.8946363711023074,
          0.9447096630988194,
          0.9447096630988194,
          0
         ],
         "xaxis": "x",
         "y": [
          -1747.5,
          -1747.5,
          -1765,
          -1765
         ],
         "yaxis": "y"
        },
        {
         "hoverinfo": "text",
         "marker": {
          "color": "rgb(40,35,35)"
         },
         "mode": "lines",
         "type": "scatter",
         "x": [
          0,
          0.7224027428200793,
          0.7224027428200793,
          0
         ],
         "xaxis": "x",
         "y": [
          -1775,
          -1775,
          -1785,
          -1785
         ],
         "yaxis": "y"
        },
        {
         "hoverinfo": "text",
         "marker": {
          "color": "rgb(40,35,35)"
         },
         "mode": "lines",
         "type": "scatter",
         "x": [
          0.7224027428200793,
          0.8601795024661776,
          0.8601795024661776,
          0
         ],
         "xaxis": "x",
         "y": [
          -1780,
          -1780,
          -1795,
          -1795
         ],
         "yaxis": "y"
        },
        {
         "hoverinfo": "text",
         "marker": {
          "color": "rgb(0,116,217)"
         },
         "mode": "lines",
         "type": "scatter",
         "x": [
          0.9447096630988194,
          1.0107952358591008,
          1.0107952358591008,
          0.8601795024661776
         ],
         "xaxis": "x",
         "y": [
          -1756.25,
          -1756.25,
          -1787.5,
          -1787.5
         ],
         "yaxis": "y"
        },
        {
         "hoverinfo": "text",
         "marker": {
          "color": "rgb(61,153,112)"
         },
         "mode": "lines",
         "type": "scatter",
         "x": [
          0,
          0.7267698098091153,
          0.7267698098091153,
          0
         ],
         "xaxis": "x",
         "y": [
          -1825,
          -1825,
          -1835,
          -1835
         ],
         "yaxis": "y"
        },
        {
         "hoverinfo": "text",
         "marker": {
          "color": "rgb(61,153,112)"
         },
         "mode": "lines",
         "type": "scatter",
         "x": [
          0.7267698098091153,
          0.7960457471483788,
          0.7960457471483788,
          0
         ],
         "xaxis": "x",
         "y": [
          -1830,
          -1830,
          -1845,
          -1845
         ],
         "yaxis": "y"
        },
        {
         "hoverinfo": "text",
         "marker": {
          "color": "rgb(61,153,112)"
         },
         "mode": "lines",
         "type": "scatter",
         "x": [
          0,
          0.8190405844456716,
          0.8190405844456716,
          0.7960457471483788
         ],
         "xaxis": "x",
         "y": [
          -1815,
          -1815,
          -1837.5,
          -1837.5
         ],
         "yaxis": "y"
        },
        {
         "hoverinfo": "text",
         "marker": {
          "color": "rgb(61,153,112)"
         },
         "mode": "lines",
         "type": "scatter",
         "x": [
          0,
          0.8300979896418645,
          0.8300979896418645,
          0.8190405844456716
         ],
         "xaxis": "x",
         "y": [
          -1805,
          -1805,
          -1826.25,
          -1826.25
         ],
         "yaxis": "y"
        },
        {
         "hoverinfo": "text",
         "marker": {
          "color": "rgb(61,153,112)"
         },
         "mode": "lines",
         "type": "scatter",
         "x": [
          0,
          0.8558601272510733,
          0.8558601272510733,
          0
         ],
         "xaxis": "x",
         "y": [
          -1865,
          -1865,
          -1875,
          -1875
         ],
         "yaxis": "y"
        },
        {
         "hoverinfo": "text",
         "marker": {
          "color": "rgb(61,153,112)"
         },
         "mode": "lines",
         "type": "scatter",
         "x": [
          0,
          0.9114270444270914,
          0.9114270444270914,
          0.8558601272510733
         ],
         "xaxis": "x",
         "y": [
          -1855,
          -1855,
          -1870,
          -1870
         ],
         "yaxis": "y"
        },
        {
         "hoverinfo": "text",
         "marker": {
          "color": "rgb(61,153,112)"
         },
         "mode": "lines",
         "type": "scatter",
         "x": [
          0.9114270444270914,
          0.9430929180850678,
          0.9430929180850678,
          0
         ],
         "xaxis": "x",
         "y": [
          -1862.5,
          -1862.5,
          -1885,
          -1885
         ],
         "yaxis": "y"
        },
        {
         "hoverinfo": "text",
         "marker": {
          "color": "rgb(61,153,112)"
         },
         "mode": "lines",
         "type": "scatter",
         "x": [
          0.8300979896418645,
          0.9886632166561945,
          0.9886632166561945,
          0.9430929180850678
         ],
         "xaxis": "x",
         "y": [
          -1815.625,
          -1815.625,
          -1873.75,
          -1873.75
         ],
         "yaxis": "y"
        },
        {
         "hoverinfo": "text",
         "marker": {
          "color": "rgb(255,65,54)"
         },
         "mode": "lines",
         "type": "scatter",
         "x": [
          0,
          0.5529837580039257,
          0.5529837580039257,
          0
         ],
         "xaxis": "x",
         "y": [
          -1905,
          -1905,
          -1915,
          -1915
         ],
         "yaxis": "y"
        },
        {
         "hoverinfo": "text",
         "marker": {
          "color": "rgb(255,65,54)"
         },
         "mode": "lines",
         "type": "scatter",
         "x": [
          0,
          0.7446926113104034,
          0.7446926113104034,
          0.5529837580039257
         ],
         "xaxis": "x",
         "y": [
          -1895,
          -1895,
          -1910,
          -1910
         ],
         "yaxis": "y"
        },
        {
         "hoverinfo": "text",
         "marker": {
          "color": "rgb(255,65,54)"
         },
         "mode": "lines",
         "type": "scatter",
         "x": [
          0.7446926113104034,
          0.7664221317217492,
          0.7664221317217492,
          0
         ],
         "xaxis": "x",
         "y": [
          -1902.5,
          -1902.5,
          -1925,
          -1925
         ],
         "yaxis": "y"
        },
        {
         "hoverinfo": "text",
         "marker": {
          "color": "rgb(255,65,54)"
         },
         "mode": "lines",
         "type": "scatter",
         "x": [
          0,
          0.6845946587875724,
          0.6845946587875724,
          0
         ],
         "xaxis": "x",
         "y": [
          -1935,
          -1935,
          -1945,
          -1945
         ],
         "yaxis": "y"
        },
        {
         "hoverinfo": "text",
         "marker": {
          "color": "rgb(255,65,54)"
         },
         "mode": "lines",
         "type": "scatter",
         "x": [
          0.6845946587875724,
          0.8244548212341362,
          0.8244548212341362,
          0
         ],
         "xaxis": "x",
         "y": [
          -1940,
          -1940,
          -1955,
          -1955
         ],
         "yaxis": "y"
        },
        {
         "hoverinfo": "text",
         "marker": {
          "color": "rgb(255,65,54)"
         },
         "mode": "lines",
         "type": "scatter",
         "x": [
          0.7664221317217492,
          0.9789590505796794,
          0.9789590505796794,
          0.8244548212341362
         ],
         "xaxis": "x",
         "y": [
          -1913.75,
          -1913.75,
          -1947.5,
          -1947.5
         ],
         "yaxis": "y"
        },
        {
         "hoverinfo": "text",
         "marker": {
          "color": "rgb(0,116,217)"
         },
         "mode": "lines",
         "type": "scatter",
         "x": [
          0.9886632166561945,
          1.0380328433541433,
          1.0380328433541433,
          0.9789590505796794
         ],
         "xaxis": "x",
         "y": [
          -1844.6875,
          -1844.6875,
          -1930.625,
          -1930.625
         ],
         "yaxis": "y"
        },
        {
         "hoverinfo": "text",
         "marker": {
          "color": "rgb(0,116,217)"
         },
         "mode": "lines",
         "type": "scatter",
         "x": [
          1.0107952358591008,
          1.1103611375220006,
          1.1103611375220006,
          1.0380328433541433
         ],
         "xaxis": "x",
         "y": [
          -1771.875,
          -1771.875,
          -1887.65625,
          -1887.65625
         ],
         "yaxis": "y"
        },
        {
         "hoverinfo": "text",
         "marker": {
          "color": "rgb(35,205,205)"
         },
         "mode": "lines",
         "type": "scatter",
         "x": [
          0,
          0.6648071013681276,
          0.6648071013681276,
          0
         ],
         "xaxis": "x",
         "y": [
          -1965,
          -1965,
          -1975,
          -1975
         ],
         "yaxis": "y"
        },
        {
         "hoverinfo": "text",
         "marker": {
          "color": "rgb(35,205,205)"
         },
         "mode": "lines",
         "type": "scatter",
         "x": [
          0.6648071013681276,
          0.7414874741891991,
          0.7414874741891991,
          0
         ],
         "xaxis": "x",
         "y": [
          -1970,
          -1970,
          -1985,
          -1985
         ],
         "yaxis": "y"
        },
        {
         "hoverinfo": "text",
         "marker": {
          "color": "rgb(35,205,205)"
         },
         "mode": "lines",
         "type": "scatter",
         "x": [
          0.7414874741891991,
          0.8041693610776088,
          0.8041693610776088,
          0
         ],
         "xaxis": "x",
         "y": [
          -1977.5,
          -1977.5,
          -1995,
          -1995
         ],
         "yaxis": "y"
        },
        {
         "hoverinfo": "text",
         "marker": {
          "color": "rgb(0,116,217)"
         },
         "mode": "lines",
         "type": "scatter",
         "x": [
          1.1103611375220006,
          1.1500177860380432,
          1.1500177860380432,
          0.8041693610776088
         ],
         "xaxis": "x",
         "y": [
          -1829.765625,
          -1829.765625,
          -1986.25,
          -1986.25
         ],
         "yaxis": "y"
        },
        {
         "hoverinfo": "text",
         "marker": {
          "color": "rgb(0,116,217)"
         },
         "mode": "lines",
         "type": "scatter",
         "x": [
          1.4440001952692574,
          1.7852294349483038,
          1.7852294349483038,
          1.1500177860380432
         ],
         "xaxis": "x",
         "y": [
          -1472.734375,
          -1472.734375,
          -1908.0078125,
          -1908.0078125
         ],
         "yaxis": "y"
        },
        {
         "hoverinfo": "text",
         "marker": {
          "color": "rgb(0,116,217)"
         },
         "mode": "lines",
         "type": "scatter",
         "x": [
          1.8614326336591476,
          2.2187671502165687,
          2.2187671502165687,
          1.7852294349483038
         ],
         "xaxis": "x",
         "y": [
          -679.0576171875,
          -679.0576171875,
          -1690.37109375,
          -1690.37109375
         ],
         "yaxis": "y"
        },
        {
         "hoverinfo": "text",
         "marker": {
          "color": "rgb(0,116,217)"
         },
         "mode": "lines",
         "type": "scatter",
         "x": [
          1.227133549792967,
          2.771967113554692,
          2.771967113554692,
          2.2187671502165687
         ],
         "xaxis": "x",
         "y": [
          -114.8828125,
          -114.8828125,
          -1184.71435546875,
          -1184.71435546875
         ],
         "yaxis": "y"
        }
       ],
       "layout": {
        "autosize": false,
        "height": 3200,
        "hoverlabel": {
         "bgcolor": "white",
         "font": {
          "family": "Rockwell",
          "size": 16
         }
        },
        "hovermode": "closest",
        "plot_bgcolor": "#ECEFF1",
        "showlegend": false,
        "template": {
         "data": {
          "bar": [
           {
            "error_x": {
             "color": "#2a3f5f"
            },
            "error_y": {
             "color": "#2a3f5f"
            },
            "marker": {
             "line": {
              "color": "white",
              "width": 0.5
             },
             "pattern": {
              "fillmode": "overlay",
              "size": 10,
              "solidity": 0.2
             }
            },
            "type": "bar"
           }
          ],
          "barpolar": [
           {
            "marker": {
             "line": {
              "color": "white",
              "width": 0.5
             },
             "pattern": {
              "fillmode": "overlay",
              "size": 10,
              "solidity": 0.2
             }
            },
            "type": "barpolar"
           }
          ],
          "carpet": [
           {
            "aaxis": {
             "endlinecolor": "#2a3f5f",
             "gridcolor": "#C8D4E3",
             "linecolor": "#C8D4E3",
             "minorgridcolor": "#C8D4E3",
             "startlinecolor": "#2a3f5f"
            },
            "baxis": {
             "endlinecolor": "#2a3f5f",
             "gridcolor": "#C8D4E3",
             "linecolor": "#C8D4E3",
             "minorgridcolor": "#C8D4E3",
             "startlinecolor": "#2a3f5f"
            },
            "type": "carpet"
           }
          ],
          "choropleth": [
           {
            "colorbar": {
             "outlinewidth": 0,
             "ticks": ""
            },
            "type": "choropleth"
           }
          ],
          "contour": [
           {
            "colorbar": {
             "outlinewidth": 0,
             "ticks": ""
            },
            "colorscale": [
             [
              0,
              "#0d0887"
             ],
             [
              0.1111111111111111,
              "#46039f"
             ],
             [
              0.2222222222222222,
              "#7201a8"
             ],
             [
              0.3333333333333333,
              "#9c179e"
             ],
             [
              0.4444444444444444,
              "#bd3786"
             ],
             [
              0.5555555555555556,
              "#d8576b"
             ],
             [
              0.6666666666666666,
              "#ed7953"
             ],
             [
              0.7777777777777778,
              "#fb9f3a"
             ],
             [
              0.8888888888888888,
              "#fdca26"
             ],
             [
              1,
              "#f0f921"
             ]
            ],
            "type": "contour"
           }
          ],
          "contourcarpet": [
           {
            "colorbar": {
             "outlinewidth": 0,
             "ticks": ""
            },
            "type": "contourcarpet"
           }
          ],
          "heatmap": [
           {
            "colorbar": {
             "outlinewidth": 0,
             "ticks": ""
            },
            "colorscale": [
             [
              0,
              "#0d0887"
             ],
             [
              0.1111111111111111,
              "#46039f"
             ],
             [
              0.2222222222222222,
              "#7201a8"
             ],
             [
              0.3333333333333333,
              "#9c179e"
             ],
             [
              0.4444444444444444,
              "#bd3786"
             ],
             [
              0.5555555555555556,
              "#d8576b"
             ],
             [
              0.6666666666666666,
              "#ed7953"
             ],
             [
              0.7777777777777778,
              "#fb9f3a"
             ],
             [
              0.8888888888888888,
              "#fdca26"
             ],
             [
              1,
              "#f0f921"
             ]
            ],
            "type": "heatmap"
           }
          ],
          "heatmapgl": [
           {
            "colorbar": {
             "outlinewidth": 0,
             "ticks": ""
            },
            "colorscale": [
             [
              0,
              "#0d0887"
             ],
             [
              0.1111111111111111,
              "#46039f"
             ],
             [
              0.2222222222222222,
              "#7201a8"
             ],
             [
              0.3333333333333333,
              "#9c179e"
             ],
             [
              0.4444444444444444,
              "#bd3786"
             ],
             [
              0.5555555555555556,
              "#d8576b"
             ],
             [
              0.6666666666666666,
              "#ed7953"
             ],
             [
              0.7777777777777778,
              "#fb9f3a"
             ],
             [
              0.8888888888888888,
              "#fdca26"
             ],
             [
              1,
              "#f0f921"
             ]
            ],
            "type": "heatmapgl"
           }
          ],
          "histogram": [
           {
            "marker": {
             "pattern": {
              "fillmode": "overlay",
              "size": 10,
              "solidity": 0.2
             }
            },
            "type": "histogram"
           }
          ],
          "histogram2d": [
           {
            "colorbar": {
             "outlinewidth": 0,
             "ticks": ""
            },
            "colorscale": [
             [
              0,
              "#0d0887"
             ],
             [
              0.1111111111111111,
              "#46039f"
             ],
             [
              0.2222222222222222,
              "#7201a8"
             ],
             [
              0.3333333333333333,
              "#9c179e"
             ],
             [
              0.4444444444444444,
              "#bd3786"
             ],
             [
              0.5555555555555556,
              "#d8576b"
             ],
             [
              0.6666666666666666,
              "#ed7953"
             ],
             [
              0.7777777777777778,
              "#fb9f3a"
             ],
             [
              0.8888888888888888,
              "#fdca26"
             ],
             [
              1,
              "#f0f921"
             ]
            ],
            "type": "histogram2d"
           }
          ],
          "histogram2dcontour": [
           {
            "colorbar": {
             "outlinewidth": 0,
             "ticks": ""
            },
            "colorscale": [
             [
              0,
              "#0d0887"
             ],
             [
              0.1111111111111111,
              "#46039f"
             ],
             [
              0.2222222222222222,
              "#7201a8"
             ],
             [
              0.3333333333333333,
              "#9c179e"
             ],
             [
              0.4444444444444444,
              "#bd3786"
             ],
             [
              0.5555555555555556,
              "#d8576b"
             ],
             [
              0.6666666666666666,
              "#ed7953"
             ],
             [
              0.7777777777777778,
              "#fb9f3a"
             ],
             [
              0.8888888888888888,
              "#fdca26"
             ],
             [
              1,
              "#f0f921"
             ]
            ],
            "type": "histogram2dcontour"
           }
          ],
          "mesh3d": [
           {
            "colorbar": {
             "outlinewidth": 0,
             "ticks": ""
            },
            "type": "mesh3d"
           }
          ],
          "parcoords": [
           {
            "line": {
             "colorbar": {
              "outlinewidth": 0,
              "ticks": ""
             }
            },
            "type": "parcoords"
           }
          ],
          "pie": [
           {
            "automargin": true,
            "type": "pie"
           }
          ],
          "scatter": [
           {
            "fillpattern": {
             "fillmode": "overlay",
             "size": 10,
             "solidity": 0.2
            },
            "type": "scatter"
           }
          ],
          "scatter3d": [
           {
            "line": {
             "colorbar": {
              "outlinewidth": 0,
              "ticks": ""
             }
            },
            "marker": {
             "colorbar": {
              "outlinewidth": 0,
              "ticks": ""
             }
            },
            "type": "scatter3d"
           }
          ],
          "scattercarpet": [
           {
            "marker": {
             "colorbar": {
              "outlinewidth": 0,
              "ticks": ""
             }
            },
            "type": "scattercarpet"
           }
          ],
          "scattergeo": [
           {
            "marker": {
             "colorbar": {
              "outlinewidth": 0,
              "ticks": ""
             }
            },
            "type": "scattergeo"
           }
          ],
          "scattergl": [
           {
            "marker": {
             "colorbar": {
              "outlinewidth": 0,
              "ticks": ""
             }
            },
            "type": "scattergl"
           }
          ],
          "scattermapbox": [
           {
            "marker": {
             "colorbar": {
              "outlinewidth": 0,
              "ticks": ""
             }
            },
            "type": "scattermapbox"
           }
          ],
          "scatterpolar": [
           {
            "marker": {
             "colorbar": {
              "outlinewidth": 0,
              "ticks": ""
             }
            },
            "type": "scatterpolar"
           }
          ],
          "scatterpolargl": [
           {
            "marker": {
             "colorbar": {
              "outlinewidth": 0,
              "ticks": ""
             }
            },
            "type": "scatterpolargl"
           }
          ],
          "scatterternary": [
           {
            "marker": {
             "colorbar": {
              "outlinewidth": 0,
              "ticks": ""
             }
            },
            "type": "scatterternary"
           }
          ],
          "surface": [
           {
            "colorbar": {
             "outlinewidth": 0,
             "ticks": ""
            },
            "colorscale": [
             [
              0,
              "#0d0887"
             ],
             [
              0.1111111111111111,
              "#46039f"
             ],
             [
              0.2222222222222222,
              "#7201a8"
             ],
             [
              0.3333333333333333,
              "#9c179e"
             ],
             [
              0.4444444444444444,
              "#bd3786"
             ],
             [
              0.5555555555555556,
              "#d8576b"
             ],
             [
              0.6666666666666666,
              "#ed7953"
             ],
             [
              0.7777777777777778,
              "#fb9f3a"
             ],
             [
              0.8888888888888888,
              "#fdca26"
             ],
             [
              1,
              "#f0f921"
             ]
            ],
            "type": "surface"
           }
          ],
          "table": [
           {
            "cells": {
             "fill": {
              "color": "#EBF0F8"
             },
             "line": {
              "color": "white"
             }
            },
            "header": {
             "fill": {
              "color": "#C8D4E3"
             },
             "line": {
              "color": "white"
             }
            },
            "type": "table"
           }
          ]
         },
         "layout": {
          "annotationdefaults": {
           "arrowcolor": "#2a3f5f",
           "arrowhead": 0,
           "arrowwidth": 1
          },
          "autotypenumbers": "strict",
          "coloraxis": {
           "colorbar": {
            "outlinewidth": 0,
            "ticks": ""
           }
          },
          "colorscale": {
           "diverging": [
            [
             0,
             "#8e0152"
            ],
            [
             0.1,
             "#c51b7d"
            ],
            [
             0.2,
             "#de77ae"
            ],
            [
             0.3,
             "#f1b6da"
            ],
            [
             0.4,
             "#fde0ef"
            ],
            [
             0.5,
             "#f7f7f7"
            ],
            [
             0.6,
             "#e6f5d0"
            ],
            [
             0.7,
             "#b8e186"
            ],
            [
             0.8,
             "#7fbc41"
            ],
            [
             0.9,
             "#4d9221"
            ],
            [
             1,
             "#276419"
            ]
           ],
           "sequential": [
            [
             0,
             "#0d0887"
            ],
            [
             0.1111111111111111,
             "#46039f"
            ],
            [
             0.2222222222222222,
             "#7201a8"
            ],
            [
             0.3333333333333333,
             "#9c179e"
            ],
            [
             0.4444444444444444,
             "#bd3786"
            ],
            [
             0.5555555555555556,
             "#d8576b"
            ],
            [
             0.6666666666666666,
             "#ed7953"
            ],
            [
             0.7777777777777778,
             "#fb9f3a"
            ],
            [
             0.8888888888888888,
             "#fdca26"
            ],
            [
             1,
             "#f0f921"
            ]
           ],
           "sequentialminus": [
            [
             0,
             "#0d0887"
            ],
            [
             0.1111111111111111,
             "#46039f"
            ],
            [
             0.2222222222222222,
             "#7201a8"
            ],
            [
             0.3333333333333333,
             "#9c179e"
            ],
            [
             0.4444444444444444,
             "#bd3786"
            ],
            [
             0.5555555555555556,
             "#d8576b"
            ],
            [
             0.6666666666666666,
             "#ed7953"
            ],
            [
             0.7777777777777778,
             "#fb9f3a"
            ],
            [
             0.8888888888888888,
             "#fdca26"
            ],
            [
             1,
             "#f0f921"
            ]
           ]
          },
          "colorway": [
           "#636efa",
           "#EF553B",
           "#00cc96",
           "#ab63fa",
           "#FFA15A",
           "#19d3f3",
           "#FF6692",
           "#B6E880",
           "#FF97FF",
           "#FECB52"
          ],
          "font": {
           "color": "#2a3f5f"
          },
          "geo": {
           "bgcolor": "white",
           "lakecolor": "white",
           "landcolor": "white",
           "showlakes": true,
           "showland": true,
           "subunitcolor": "#C8D4E3"
          },
          "hoverlabel": {
           "align": "left"
          },
          "hovermode": "closest",
          "mapbox": {
           "style": "light"
          },
          "paper_bgcolor": "white",
          "plot_bgcolor": "white",
          "polar": {
           "angularaxis": {
            "gridcolor": "#EBF0F8",
            "linecolor": "#EBF0F8",
            "ticks": ""
           },
           "bgcolor": "white",
           "radialaxis": {
            "gridcolor": "#EBF0F8",
            "linecolor": "#EBF0F8",
            "ticks": ""
           }
          },
          "scene": {
           "xaxis": {
            "backgroundcolor": "white",
            "gridcolor": "#DFE8F3",
            "gridwidth": 2,
            "linecolor": "#EBF0F8",
            "showbackground": true,
            "ticks": "",
            "zerolinecolor": "#EBF0F8"
           },
           "yaxis": {
            "backgroundcolor": "white",
            "gridcolor": "#DFE8F3",
            "gridwidth": 2,
            "linecolor": "#EBF0F8",
            "showbackground": true,
            "ticks": "",
            "zerolinecolor": "#EBF0F8"
           },
           "zaxis": {
            "backgroundcolor": "white",
            "gridcolor": "#DFE8F3",
            "gridwidth": 2,
            "linecolor": "#EBF0F8",
            "showbackground": true,
            "ticks": "",
            "zerolinecolor": "#EBF0F8"
           }
          },
          "shapedefaults": {
           "line": {
            "color": "#2a3f5f"
           }
          },
          "ternary": {
           "aaxis": {
            "gridcolor": "#DFE8F3",
            "linecolor": "#A2B1C6",
            "ticks": ""
           },
           "baxis": {
            "gridcolor": "#DFE8F3",
            "linecolor": "#A2B1C6",
            "ticks": ""
           },
           "bgcolor": "white",
           "caxis": {
            "gridcolor": "#DFE8F3",
            "linecolor": "#A2B1C6",
            "ticks": ""
           }
          },
          "title": {
           "x": 0.05
          },
          "xaxis": {
           "automargin": true,
           "gridcolor": "#EBF0F8",
           "linecolor": "#EBF0F8",
           "ticks": "",
           "title": {
            "standoff": 15
           },
           "zerolinecolor": "#EBF0F8",
           "zerolinewidth": 2
          },
          "yaxis": {
           "automargin": true,
           "gridcolor": "#EBF0F8",
           "linecolor": "#EBF0F8",
           "ticks": "",
           "title": {
            "standoff": 15
           },
           "zerolinecolor": "#EBF0F8",
           "zerolinewidth": 2
          }
         }
        },
        "title": {
         "font": {
          "color": "Black",
          "size": 22
         },
         "text": "<b>Hierarchical Clustering</b>",
         "x": 0.5,
         "xanchor": "center",
         "yanchor": "top"
        },
        "width": 1000,
        "xaxis": {
         "mirror": "allticks",
         "rangemode": "tozero",
         "showgrid": false,
         "showline": true,
         "showticklabels": true,
         "ticks": "outside",
         "type": "linear",
         "zeroline": false
        },
        "yaxis": {
         "mirror": "allticks",
         "range": [
          -2000,
          0
         ],
         "rangemode": "tozero",
         "showgrid": false,
         "showline": true,
         "showticklabels": true,
         "tickmode": "array",
         "ticks": "outside",
         "ticktext": [
          "181_types_goalkeeper_deepfa...",
          "61_nevillegaunt_fogleshane_...",
          "76_happyfriday_ff_fabriziob...",
          "56_margaretsiegien_albertoe...",
          "64_anandnarang_fabriziobust...",
          "196_visualcap_joannmoretti_...",
          "27_drones_drone_metaverse",
          "50_mobility_recipe_margaret...",
          "22_drone_jeroenbartelse_dro...",
          "36_drone_drones_ar",
          "167_robotics_curieuxexplore...",
          "33_ar_augmentedreality_wear...",
          "13_logistics_drone_drones",
          "73_cio_technology_futureofw...",
          "57_autonomousvehicles_robot...",
          "47_robotics_robot_automation",
          "20_robotics_automation_futu...",
          "169_robot_robots_leur",
          "126_reinforcement_method_pa...",
          "151_artificiallintelligence...",
          "178_selfdrivingcars_japan_s...",
          "192_siemens_fia_siex",
          "148_cfo_charge_accauk",
          "160_httpstcoqetmsrxiys_type...",
          "21_rvolution_viva_piges",
          "185_employ_lexprience_relire",
          "58_relire_le_les",
          "45_organisation_une_managem...",
          "84_quattendu_httpstcooirfqy...",
          "193_commence_quand_finit",
          "42_transplant_httpstcouzjqz...",
          "97_noaasos_1901_occurred",
          "79_aguscicomm_scicomm_postc...",
          "112_scientists_science_search",
          "137_danariely_teenage_sex",
          "82_messes_knowledgebases_sp...",
          "14_connects_dead_loyalty",
          "183_proves_hyperlink_lets",
          "0_champagne_barty_peanut",
          "129_lego_bricks_brickit",
          "156_cursive_calligraphy_han...",
          "116_potatochip_httpstcot10u...",
          "152_posture_httpstcotvqaild...",
          "187_ethics_httpstcou8gsluxd...",
          "105_empathy_chokes_chatted",
          "162_bots_neuroskeptic_sama",
          "43_movingbeyonddatadriven_a...",
          "40_chatbots_acuvate_chatbot",
          "59_httpstcop9bkuhwxqn_scoop...",
          "134_languagetext_developmen...",
          "12_guess_mangle_mangling",
          "89_exclamationpoints_incite...",
          "197_warped_assignment_atten...",
          "168_22year_normsstandards_e...",
          "65_syringes_pfizer_ppl",
          "37_compliance_lcnc_nocode",
          "6_shutterstock_blade_getty",
          "141_deboosting_suspect_inte...",
          "104_almostspring_blustery_h...",
          "136_httpstcook0i0gt5rw_pros...",
          "144_httpstcod8ngulsu1s_brow...",
          "48_httpstcognwuoinxnw_retro...",
          "25_chrisggarrod_moment_work...",
          "15_caviar_jeanneshorts_reor...",
          "9_pluckyluke_httpstcoslzy8m...",
          "67_football_parties_beranso...",
          "155_democracies_capitol_cry...",
          "35_httpstcoqnn5nakhds_trapp...",
          "31_httpstcokrnersxkl0_inner...",
          "103_hakomtimeseries_happytu...",
          "114_dear_mention_frronconi",
          "2_kmcdtech_mariafariello1_a...",
          "149_python_reactjs_rstats",
          "44_python_tensorflow_server...",
          "176_linux_cloudcomputing_pr...",
          "122_gtgtgt_ecommerce_acquis...",
          "75_emergingtech_technology_...",
          "120_gtgtgt_5g_rome",
          "91_5g_6g_bn",
          "98_5g_satellite_fiber",
          "11_channel_socialmedia_phone",
          "121_arkit_mixedreality_ar",
          "74_sensors_wearabletech_htt...",
          "81_sustainability_renewable...",
          "117_energy_carbon_sustainab...",
          "39_climate_energy_renewable",
          "90_energy_sustainable_future",
          "157_carbon_investment_finance",
          "145_truckers_retailers_paym...",
          "70_disrupted_digitaltransfo...",
          "125_influencers_marketers_i...",
          "165_digital_google_holistic",
          "8_wallet_daily_adults",
          "146_httpstcotn8c1es1p8_heal...",
          "194_digitaltransformation_d...",
          "46_leadership_digitaltransf...",
          "179_digitaltransformation_d...",
          "188_digital_transformation_...",
          "159_httpstcooojl14pws8_post...",
          "3_web30_blockchaintechnolog...",
          "88_nft_cfo_netzero",
          "130_ransomware_barracuda_mu...",
          "150_metaverse_inclusive_cit...",
          "4_twins_manage_digitaltwin",
          "85_choice_smart_home",
          "143_gdpr_security_privacy",
          "17_hours_cybersecurity_exfi...",
          "18_blockchain_payments_crypto",
          "102_fintech_regtech_regulat...",
          "170_machine_learning_ai",
          "189_transformation_ai_nonde...",
          "87_data_transformation_digi...",
          "109_transformation_data_dig...",
          "119_waste_education_compost...",
          "53_data_blindfolded_ignore",
          "186_data_connectivity_proper",
          "184_artificial_intelligence...",
          "124_artificialintelligence_...",
          "182_ml_sepsis_ai",
          "108_dunkin_jasper_modifiers",
          "199_potential_jobs_commercial",
          "118_sustainable_digitaltwin...",
          "55_cio_technology_todays",
          "113_cio_technology_todays",
          "1_cio_technology_todays",
          "29_powerapps_365_dynamics",
          "147_365_dynamics_microsoft",
          "171_msdyn365_dynamics365_365",
          "19_httpstcogomltla9hi_preco...",
          "72_httpstcomqzsew0vjn_talen...",
          "83_benefits_datadriven_impo...",
          "195_hr_httpstcodup6gxqggm_a...",
          "16_develop_httpstco89sdicjo...",
          "140_httpstcoulekl09xju_recr...",
          "38_employee_experience_oldies",
          "127_employee_oldies_experie...",
          "172_oldies_remote_resultsor...",
          "180_verge_stories_httpstcoi...",
          "163_verge_stories_covid",
          "133_verge_stories_oldies",
          "32_verge_stories_httpstcoll...",
          "142_indefensible_advocating...",
          "190_pandemic_covid19_societ...",
          "132_covid_condo_pet",
          "41_covid_pandemic_vaccines",
          "99_httpstcozxika773dn_https...",
          "30_tesla_httpstcojt2gy04oyy...",
          "154_sell_return_fivestars",
          "106_fsd_performance_beta",
          "24_store_app_apple",
          "166_media_facebook_apple",
          "5_governance_left_twitter",
          "191_httpstcov9pfsmhqht_cons...",
          "115_scam_fake_verifying",
          "100_heyhey_mrms_httpstcozlw...",
          "7_twitter_teslaownerssv_tweet",
          "71_twitter_teslaownerssv_tw...",
          "164_richards_punctuation_de...",
          "63_cleanupyourcrm_spelled_l...",
          "198_guru_gurus_inspirational",
          "123_writer_client_email",
          "173_write_customerservice_j...",
          "174_cxchat_cx_speaking",
          "93_customer_customers_exper...",
          "135_writing_skills_prof",
          "54_taste_ppl_flowers",
          "77_boss_writing_plainlanguage",
          "138_trust_readers_yuck",
          "51_scoldy_allergy_dislike",
          "158_emails_terriers_convey",
          "92_mistakes_making_skills",
          "10_constrain_poorer_annotat...",
          "153_kidney_beautiful_chatbot",
          "110_httpstco5jluny7btw_writ...",
          "69_marketing_ceo_smallbusin...",
          "111_teslaconomics_minute_vi...",
          "62_tesla_haha_shareholder",
          "101_esg_scaleup_build",
          "60_booster_orbit_engines",
          "177_httpstcocxpoqjsmgx_refo...",
          "80_webcam_fingers_basecamp",
          "95_introduce_hashtag_a1",
          "34_emojis_increase_email",
          "26_liverpool_happy_birthday",
          "86_httpstcodvnl9g76i0_eligi...",
          "161_thats_lyrate_amore",
          "28_gift_congratulations_chr...",
          "49_spacex_tesla_realaaai",
          "94_creativity_dataprimeai_h...",
          "131_nevillegaunt_jolaburnet...",
          "96_enricomolinari_sallyeave...",
          "107_spacex_jtwatkin_custome...",
          "23_emojis_weekly_eastern",
          "175_plain_weekly_wonderful",
          "139_cx_podcast_join",
          "66_keithbroni_karenchurch_t...",
          "52_haha_great_email",
          "68_billym2k_wholemarsblog_e...",
          "128_thank_hi_welcome",
          "78_birthday_love_oh"
         ],
         "tickvals": [
          -5,
          -15,
          -25,
          -35,
          -45,
          -55,
          -65,
          -75,
          -85,
          -95,
          -105,
          -115,
          -125,
          -135,
          -145,
          -155,
          -165,
          -175,
          -185,
          -195,
          -205,
          -215,
          -225,
          -235,
          -245,
          -255,
          -265,
          -275,
          -285,
          -295,
          -305,
          -315,
          -325,
          -335,
          -345,
          -355,
          -365,
          -375,
          -385,
          -395,
          -405,
          -415,
          -425,
          -435,
          -445,
          -455,
          -465,
          -475,
          -485,
          -495,
          -505,
          -515,
          -525,
          -535,
          -545,
          -555,
          -565,
          -575,
          -585,
          -595,
          -605,
          -615,
          -625,
          -635,
          -645,
          -655,
          -665,
          -675,
          -685,
          -695,
          -705,
          -715,
          -725,
          -735,
          -745,
          -755,
          -765,
          -775,
          -785,
          -795,
          -805,
          -815,
          -825,
          -835,
          -845,
          -855,
          -865,
          -875,
          -885,
          -895,
          -905,
          -915,
          -925,
          -935,
          -945,
          -955,
          -965,
          -975,
          -985,
          -995,
          -1005,
          -1015,
          -1025,
          -1035,
          -1045,
          -1055,
          -1065,
          -1075,
          -1085,
          -1095,
          -1105,
          -1115,
          -1125,
          -1135,
          -1145,
          -1155,
          -1165,
          -1175,
          -1185,
          -1195,
          -1205,
          -1215,
          -1225,
          -1235,
          -1245,
          -1255,
          -1265,
          -1275,
          -1285,
          -1295,
          -1305,
          -1315,
          -1325,
          -1335,
          -1345,
          -1355,
          -1365,
          -1375,
          -1385,
          -1395,
          -1405,
          -1415,
          -1425,
          -1435,
          -1445,
          -1455,
          -1465,
          -1475,
          -1485,
          -1495,
          -1505,
          -1515,
          -1525,
          -1535,
          -1545,
          -1555,
          -1565,
          -1575,
          -1585,
          -1595,
          -1605,
          -1615,
          -1625,
          -1635,
          -1645,
          -1655,
          -1665,
          -1675,
          -1685,
          -1695,
          -1705,
          -1715,
          -1725,
          -1735,
          -1745,
          -1755,
          -1765,
          -1775,
          -1785,
          -1795,
          -1805,
          -1815,
          -1825,
          -1835,
          -1845,
          -1855,
          -1865,
          -1875,
          -1885,
          -1895,
          -1905,
          -1915,
          -1925,
          -1935,
          -1945,
          -1955,
          -1965,
          -1975,
          -1985,
          -1995
         ],
         "type": "linear",
         "zeroline": false
        }
       }
      },
      "text/html": [
       "<div>                            <div id=\"69b192fa-f3eb-417a-bed2-520bb7ecdec3\" class=\"plotly-graph-div\" style=\"height:3200px; width:1000px;\"></div>            <script type=\"text/javascript\">                require([\"plotly\"], function(Plotly) {                    window.PLOTLYENV=window.PLOTLYENV || {};                                    if (document.getElementById(\"69b192fa-f3eb-417a-bed2-520bb7ecdec3\")) {                    Plotly.newPlot(                        \"69b192fa-f3eb-417a-bed2-520bb7ecdec3\",                        [{\"hoverinfo\":\"text\",\"marker\":{\"color\":\"rgb(61,153,112)\"},\"mode\":\"lines\",\"x\":[0.0,0.2242656228867107,0.2242656228867107,0.0],\"xaxis\":\"x\",\"y\":[-25.0,-25.0,-35.0,-35.0],\"yaxis\":\"y\",\"type\":\"scatter\"},{\"hoverinfo\":\"text\",\"marker\":{\"color\":\"rgb(61,153,112)\"},\"mode\":\"lines\",\"x\":[0.2242656228867107,0.32157148879218644,0.32157148879218644,0.0],\"xaxis\":\"x\",\"y\":[-30.0,-30.0,-45.0,-45.0],\"yaxis\":\"y\",\"type\":\"scatter\"},{\"hoverinfo\":\"text\",\"marker\":{\"color\":\"rgb(61,153,112)\"},\"mode\":\"lines\",\"x\":[0.0,0.4012668631432821,0.4012668631432821,0.32157148879218644],\"xaxis\":\"x\",\"y\":[-15.0,-15.0,-37.5,-37.5],\"yaxis\":\"y\",\"type\":\"scatter\"},{\"hoverinfo\":\"text\",\"marker\":{\"color\":\"rgb(61,153,112)\"},\"mode\":\"lines\",\"x\":[0.4012668631432821,0.535070273019542,0.535070273019542,0.0],\"xaxis\":\"x\",\"y\":[-26.25,-26.25,-55.0,-55.0],\"yaxis\":\"y\",\"type\":\"scatter\"},{\"hoverinfo\":\"text\",\"marker\":{\"color\":\"rgb(61,153,112)\"},\"mode\":\"lines\",\"x\":[0.0,0.747491301079402,0.747491301079402,0.535070273019542],\"xaxis\":\"x\",\"y\":[-5.0,-5.0,-40.625,-40.625],\"yaxis\":\"y\",\"type\":\"scatter\"},{\"hoverinfo\":\"text\",\"marker\":{\"color\":\"rgb(61,153,112)\"},\"mode\":\"lines\",\"x\":[0.0,0.5922671101924533,0.5922671101924533,0.0],\"xaxis\":\"x\",\"y\":[-65.0,-65.0,-75.0,-75.0],\"yaxis\":\"y\",\"type\":\"scatter\"},{\"hoverinfo\":\"text\",\"marker\":{\"color\":\"rgb(61,153,112)\"},\"mode\":\"lines\",\"x\":[0.0,0.366351278050275,0.366351278050275,0.0],\"xaxis\":\"x\",\"y\":[-85.0,-85.0,-95.0,-95.0],\"yaxis\":\"y\",\"type\":\"scatter\"},{\"hoverinfo\":\"text\",\"marker\":{\"color\":\"rgb(61,153,112)\"},\"mode\":\"lines\",\"x\":[0.366351278050275,0.42894345624389807,0.42894345624389807,0.0],\"xaxis\":\"x\",\"y\":[-90.0,-90.0,-105.0,-105.0],\"yaxis\":\"y\",\"type\":\"scatter\"},{\"hoverinfo\":\"text\",\"marker\":{\"color\":\"rgb(61,153,112)\"},\"mode\":\"lines\",\"x\":[0.42894345624389807,0.5145183907165711,0.5145183907165711,0.0],\"xaxis\":\"x\",\"y\":[-97.5,-97.5,-115.0,-115.0],\"yaxis\":\"y\",\"type\":\"scatter\"},{\"hoverinfo\":\"text\",\"marker\":{\"color\":\"rgb(61,153,112)\"},\"mode\":\"lines\",\"x\":[0.5922671101924533,0.6649866975799065,0.6649866975799065,0.5145183907165711],\"xaxis\":\"x\",\"y\":[-70.0,-70.0,-106.25,-106.25],\"yaxis\":\"y\",\"type\":\"scatter\"},{\"hoverinfo\":\"text\",\"marker\":{\"color\":\"rgb(61,153,112)\"},\"mode\":\"lines\",\"x\":[0.747491301079402,0.8800633771845281,0.8800633771845281,0.6649866975799065],\"xaxis\":\"x\",\"y\":[-22.8125,-22.8125,-88.125,-88.125],\"yaxis\":\"y\",\"type\":\"scatter\"},{\"hoverinfo\":\"text\",\"marker\":{\"color\":\"rgb(255,65,54)\"},\"mode\":\"lines\",\"x\":[0.0,0.33643740019454893,0.33643740019454893,0.0],\"xaxis\":\"x\",\"y\":[-155.0,-155.0,-165.0,-165.0],\"yaxis\":\"y\",\"type\":\"scatter\"},{\"hoverinfo\":\"text\",\"marker\":{\"color\":\"rgb(255,65,54)\"},\"mode\":\"lines\",\"x\":[0.0,0.5018892603646078,0.5018892603646078,0.33643740019454893],\"xaxis\":\"x\",\"y\":[-145.0,-145.0,-160.0,-160.0],\"yaxis\":\"y\",\"type\":\"scatter\"},{\"hoverinfo\":\"text\",\"marker\":{\"color\":\"rgb(255,65,54)\"},\"mode\":\"lines\",\"x\":[0.0,0.6473353374255311,0.6473353374255311,0.5018892603646078],\"xaxis\":\"x\",\"y\":[-135.0,-135.0,-152.5,-152.5],\"yaxis\":\"y\",\"type\":\"scatter\"},{\"hoverinfo\":\"text\",\"marker\":{\"color\":\"rgb(255,65,54)\"},\"mode\":\"lines\",\"x\":[0.6473353374255311,0.6826372944251539,0.6826372944251539,0.0],\"xaxis\":\"x\",\"y\":[-143.75,-143.75,-175.0,-175.0],\"yaxis\":\"y\",\"type\":\"scatter\"},{\"hoverinfo\":\"text\",\"marker\":{\"color\":\"rgb(255,65,54)\"},\"mode\":\"lines\",\"x\":[0.6826372944251539,0.7727313590835181,0.7727313590835181,0.0],\"xaxis\":\"x\",\"y\":[-159.375,-159.375,-185.0,-185.0],\"yaxis\":\"y\",\"type\":\"scatter\"},{\"hoverinfo\":\"text\",\"marker\":{\"color\":\"rgb(255,65,54)\"},\"mode\":\"lines\",\"x\":[0.0,0.9032764288399373,0.9032764288399373,0.7727313590835181],\"xaxis\":\"x\",\"y\":[-125.0,-125.0,-172.1875,-172.1875],\"yaxis\":\"y\",\"type\":\"scatter\"},{\"hoverinfo\":\"text\",\"marker\":{\"color\":\"rgb(255,65,54)\"},\"mode\":\"lines\",\"x\":[0.0,0.8387148169440453,0.8387148169440453,0.0],\"xaxis\":\"x\",\"y\":[-195.0,-195.0,-205.0,-205.0],\"yaxis\":\"y\",\"type\":\"scatter\"},{\"hoverinfo\":\"text\",\"marker\":{\"color\":\"rgb(255,65,54)\"},\"mode\":\"lines\",\"x\":[0.9032764288399373,0.9194391969654291,0.9194391969654291,0.8387148169440453],\"xaxis\":\"x\",\"y\":[-148.59375,-148.59375,-200.0,-200.0],\"yaxis\":\"y\",\"type\":\"scatter\"},{\"hoverinfo\":\"text\",\"marker\":{\"color\":\"rgb(0,116,217)\"},\"mode\":\"lines\",\"x\":[0.8800633771845281,1.227133549792967,1.227133549792967,0.9194391969654291],\"xaxis\":\"x\",\"y\":[-55.46875,-55.46875,-174.296875,-174.296875],\"yaxis\":\"y\",\"type\":\"scatter\"},{\"hoverinfo\":\"text\",\"marker\":{\"color\":\"rgb(35,205,205)\"},\"mode\":\"lines\",\"x\":[0.0,0.9076354633247025,0.9076354633247025,0.0],\"xaxis\":\"x\",\"y\":[-215.0,-215.0,-225.0,-225.0],\"yaxis\":\"y\",\"type\":\"scatter\"},{\"hoverinfo\":\"text\",\"marker\":{\"color\":\"rgb(35,205,205)\"},\"mode\":\"lines\",\"x\":[0.0,0.8590683031980337,0.8590683031980337,0.0],\"xaxis\":\"x\",\"y\":[-235.0,-235.0,-245.0,-245.0],\"yaxis\":\"y\",\"type\":\"scatter\"},{\"hoverinfo\":\"text\",\"marker\":{\"color\":\"rgb(35,205,205)\"},\"mode\":\"lines\",\"x\":[0.9076354633247025,0.9745615056654675,0.9745615056654675,0.8590683031980337],\"xaxis\":\"x\",\"y\":[-220.0,-220.0,-240.0,-240.0],\"yaxis\":\"y\",\"type\":\"scatter\"},{\"hoverinfo\":\"text\",\"marker\":{\"color\":\"rgb(133,20,75)\"},\"mode\":\"lines\",\"x\":[0.0,0.5347039001878866,0.5347039001878866,0.0],\"xaxis\":\"x\",\"y\":[-265.0,-265.0,-275.0,-275.0],\"yaxis\":\"y\",\"type\":\"scatter\"},{\"hoverinfo\":\"text\",\"marker\":{\"color\":\"rgb(133,20,75)\"},\"mode\":\"lines\",\"x\":[0.0,0.6948157832228115,0.6948157832228115,0.5347039001878866],\"xaxis\":\"x\",\"y\":[-255.0,-255.0,-270.0,-270.0],\"yaxis\":\"y\",\"type\":\"scatter\"},{\"hoverinfo\":\"text\",\"marker\":{\"color\":\"rgb(133,20,75)\"},\"mode\":\"lines\",\"x\":[0.0,0.8422737149374052,0.8422737149374052,0.0],\"xaxis\":\"x\",\"y\":[-285.0,-285.0,-295.0,-295.0],\"yaxis\":\"y\",\"type\":\"scatter\"},{\"hoverinfo\":\"text\",\"marker\":{\"color\":\"rgb(133,20,75)\"},\"mode\":\"lines\",\"x\":[0.6948157832228115,0.8805971370840302,0.8805971370840302,0.8422737149374052],\"xaxis\":\"x\",\"y\":[-262.5,-262.5,-290.0,-290.0],\"yaxis\":\"y\",\"type\":\"scatter\"},{\"hoverinfo\":\"text\",\"marker\":{\"color\":\"rgb(0,116,217)\"},\"mode\":\"lines\",\"x\":[0.9745615056654675,1.0569021918462818,1.0569021918462818,0.8805971370840302],\"xaxis\":\"x\",\"y\":[-230.0,-230.0,-276.25,-276.25],\"yaxis\":\"y\",\"type\":\"scatter\"},{\"hoverinfo\":\"text\",\"marker\":{\"color\":\"rgb(255,220,0)\"},\"mode\":\"lines\",\"x\":[0.0,0.7946811325115194,0.7946811325115194,0.0],\"xaxis\":\"x\",\"y\":[-305.0,-305.0,-315.0,-315.0],\"yaxis\":\"y\",\"type\":\"scatter\"},{\"hoverinfo\":\"text\",\"marker\":{\"color\":\"rgb(40,35,35)\"},\"mode\":\"lines\",\"x\":[0.0,0.9256789446963201,0.9256789446963201,0.0],\"xaxis\":\"x\",\"y\":[-335.0,-335.0,-345.0,-345.0],\"yaxis\":\"y\",\"type\":\"scatter\"},{\"hoverinfo\":\"text\",\"marker\":{\"color\":\"rgb(40,35,35)\"},\"mode\":\"lines\",\"x\":[0.0,0.9568829109303189,0.9568829109303189,0.9256789446963201],\"xaxis\":\"x\",\"y\":[-325.0,-325.0,-340.0,-340.0],\"yaxis\":\"y\",\"type\":\"scatter\"},{\"hoverinfo\":\"text\",\"marker\":{\"color\":\"rgb(40,35,35)\"},\"mode\":\"lines\",\"x\":[0.9568829109303189,0.9893670447013149,0.9893670447013149,0.0],\"xaxis\":\"x\",\"y\":[-332.5,-332.5,-355.0,-355.0],\"yaxis\":\"y\",\"type\":\"scatter\"},{\"hoverinfo\":\"text\",\"marker\":{\"color\":\"rgb(61,153,112)\"},\"mode\":\"lines\",\"x\":[0.0,0.9671597354348986,0.9671597354348986,0.0],\"xaxis\":\"x\",\"y\":[-365.0,-365.0,-375.0,-375.0],\"yaxis\":\"y\",\"type\":\"scatter\"},{\"hoverinfo\":\"text\",\"marker\":{\"color\":\"rgb(61,153,112)\"},\"mode\":\"lines\",\"x\":[0.9671597354348986,0.9843824036517599,0.9843824036517599,0.0],\"xaxis\":\"x\",\"y\":[-370.0,-370.0,-385.0,-385.0],\"yaxis\":\"y\",\"type\":\"scatter\"},{\"hoverinfo\":\"text\",\"marker\":{\"color\":\"rgb(0,116,217)\"},\"mode\":\"lines\",\"x\":[0.9893670447013149,1.0143564861807768,1.0143564861807768,0.9843824036517599],\"xaxis\":\"x\",\"y\":[-343.75,-343.75,-377.5,-377.5],\"yaxis\":\"y\",\"type\":\"scatter\"},{\"hoverinfo\":\"text\",\"marker\":{\"color\":\"rgb(255,65,54)\"},\"mode\":\"lines\",\"x\":[0.0,0.9122094904256719,0.9122094904256719,0.0],\"xaxis\":\"x\",\"y\":[-405.0,-405.0,-415.0,-415.0],\"yaxis\":\"y\",\"type\":\"scatter\"},{\"hoverinfo\":\"text\",\"marker\":{\"color\":\"rgb(255,65,54)\"},\"mode\":\"lines\",\"x\":[0.0,0.9355435148144644,0.9355435148144644,0.9122094904256719],\"xaxis\":\"x\",\"y\":[-395.0,-395.0,-410.0,-410.0],\"yaxis\":\"y\",\"type\":\"scatter\"},{\"hoverinfo\":\"text\",\"marker\":{\"color\":\"rgb(255,65,54)\"},\"mode\":\"lines\",\"x\":[0.9355435148144644,0.9441783800278675,0.9441783800278675,0.0],\"xaxis\":\"x\",\"y\":[-402.5,-402.5,-425.0,-425.0],\"yaxis\":\"y\",\"type\":\"scatter\"},{\"hoverinfo\":\"text\",\"marker\":{\"color\":\"rgb(0,116,217)\"},\"mode\":\"lines\",\"x\":[1.0143564861807768,1.0255151759868095,1.0255151759868095,0.9441783800278675],\"xaxis\":\"x\",\"y\":[-360.625,-360.625,-413.75,-413.75],\"yaxis\":\"y\",\"type\":\"scatter\"},{\"hoverinfo\":\"text\",\"marker\":{\"color\":\"rgb(35,205,205)\"},\"mode\":\"lines\",\"x\":[0.0,0.8473358640905821,0.8473358640905821,0.0],\"xaxis\":\"x\",\"y\":[-445.0,-445.0,-455.0,-455.0],\"yaxis\":\"y\",\"type\":\"scatter\"},{\"hoverinfo\":\"text\",\"marker\":{\"color\":\"rgb(35,205,205)\"},\"mode\":\"lines\",\"x\":[0.0,0.941716274492483,0.941716274492483,0.8473358640905821],\"xaxis\":\"x\",\"y\":[-435.0,-435.0,-450.0,-450.0],\"yaxis\":\"y\",\"type\":\"scatter\"},{\"hoverinfo\":\"text\",\"marker\":{\"color\":\"rgb(61,153,112)\"},\"mode\":\"lines\",\"x\":[0.0,0.8390600150410804,0.8390600150410804,0.0],\"xaxis\":\"x\",\"y\":[-465.0,-465.0,-475.0,-475.0],\"yaxis\":\"y\",\"type\":\"scatter\"},{\"hoverinfo\":\"text\",\"marker\":{\"color\":\"rgb(61,153,112)\"},\"mode\":\"lines\",\"x\":[0.8390600150410804,0.9578733722252168,0.9578733722252168,0.0],\"xaxis\":\"x\",\"y\":[-470.0,-470.0,-485.0,-485.0],\"yaxis\":\"y\",\"type\":\"scatter\"},{\"hoverinfo\":\"text\",\"marker\":{\"color\":\"rgb(0,116,217)\"},\"mode\":\"lines\",\"x\":[0.941716274492483,1.0525044735213087,1.0525044735213087,0.9578733722252168],\"xaxis\":\"x\",\"y\":[-442.5,-442.5,-477.5,-477.5],\"yaxis\":\"y\",\"type\":\"scatter\"},{\"hoverinfo\":\"text\",\"marker\":{\"color\":\"rgb(0,116,217)\"},\"mode\":\"lines\",\"x\":[1.0255151759868095,1.0823100216309296,1.0823100216309296,1.0525044735213087],\"xaxis\":\"x\",\"y\":[-387.1875,-387.1875,-460.0,-460.0],\"yaxis\":\"y\",\"type\":\"scatter\"},{\"hoverinfo\":\"text\",\"marker\":{\"color\":\"rgb(255,65,54)\"},\"mode\":\"lines\",\"x\":[0.0,0.7114293363830115,0.7114293363830115,0.0],\"xaxis\":\"x\",\"y\":[-495.0,-495.0,-505.0,-505.0],\"yaxis\":\"y\",\"type\":\"scatter\"},{\"hoverinfo\":\"text\",\"marker\":{\"color\":\"rgb(0,116,217)\"},\"mode\":\"lines\",\"x\":[1.0823100216309296,1.1199600937819967,1.1199600937819967,0.7114293363830115],\"xaxis\":\"x\",\"y\":[-423.59375,-423.59375,-500.0,-500.0],\"yaxis\":\"y\",\"type\":\"scatter\"},{\"hoverinfo\":\"text\",\"marker\":{\"color\":\"rgb(0,116,217)\"},\"mode\":\"lines\",\"x\":[0.7946811325115194,1.1345441866546329,1.1345441866546329,1.1199600937819967],\"xaxis\":\"x\",\"y\":[-310.0,-310.0,-461.796875,-461.796875],\"yaxis\":\"y\",\"type\":\"scatter\"},{\"hoverinfo\":\"text\",\"marker\":{\"color\":\"rgb(35,205,205)\"},\"mode\":\"lines\",\"x\":[0.0,0.9351368779648987,0.9351368779648987,0.0],\"xaxis\":\"x\",\"y\":[-515.0,-515.0,-525.0,-525.0],\"yaxis\":\"y\",\"type\":\"scatter\"},{\"hoverinfo\":\"text\",\"marker\":{\"color\":\"rgb(133,20,75)\"},\"mode\":\"lines\",\"x\":[0.0,0.9704095638116852,0.9704095638116852,0.0],\"xaxis\":\"x\",\"y\":[-545.0,-545.0,-555.0,-555.0],\"yaxis\":\"y\",\"type\":\"scatter\"},{\"hoverinfo\":\"text\",\"marker\":{\"color\":\"rgb(133,20,75)\"},\"mode\":\"lines\",\"x\":[0.0,0.9909578272688946,0.9909578272688946,0.9704095638116852],\"xaxis\":\"x\",\"y\":[-535.0,-535.0,-550.0,-550.0],\"yaxis\":\"y\",\"type\":\"scatter\"},{\"hoverinfo\":\"text\",\"marker\":{\"color\":\"rgb(255,220,0)\"},\"mode\":\"lines\",\"x\":[0.0,0.9862702373804443,0.9862702373804443,0.0],\"xaxis\":\"x\",\"y\":[-565.0,-565.0,-575.0,-575.0],\"yaxis\":\"y\",\"type\":\"scatter\"},{\"hoverinfo\":\"text\",\"marker\":{\"color\":\"rgb(0,116,217)\"},\"mode\":\"lines\",\"x\":[0.9909578272688946,1.0072371332732837,1.0072371332732837,0.9862702373804443],\"xaxis\":\"x\",\"y\":[-542.5,-542.5,-570.0,-570.0],\"yaxis\":\"y\",\"type\":\"scatter\"},{\"hoverinfo\":\"text\",\"marker\":{\"color\":\"rgb(40,35,35)\"},\"mode\":\"lines\",\"x\":[0.0,0.9728756154083765,0.9728756154083765,0.0],\"xaxis\":\"x\",\"y\":[-585.0,-585.0,-595.0,-595.0],\"yaxis\":\"y\",\"type\":\"scatter\"},{\"hoverinfo\":\"text\",\"marker\":{\"color\":\"rgb(61,153,112)\"},\"mode\":\"lines\",\"x\":[0.0,0.9999767336074187,0.9999767336074187,0.0],\"xaxis\":\"x\",\"y\":[-605.0,-605.0,-615.0,-615.0],\"yaxis\":\"y\",\"type\":\"scatter\"},{\"hoverinfo\":\"text\",\"marker\":{\"color\":\"rgb(255,65,54)\"},\"mode\":\"lines\",\"x\":[0.0,0.9999529571633153,0.9999529571633153,0.0],\"xaxis\":\"x\",\"y\":[-625.0,-625.0,-635.0,-635.0],\"yaxis\":\"y\",\"type\":\"scatter\"},{\"hoverinfo\":\"text\",\"marker\":{\"color\":\"rgb(0,116,217)\"},\"mode\":\"lines\",\"x\":[0.9999767336074187,1.0000075949093226,1.0000075949093226,0.9999529571633153],\"xaxis\":\"x\",\"y\":[-610.0,-610.0,-630.0,-630.0],\"yaxis\":\"y\",\"type\":\"scatter\"},{\"hoverinfo\":\"text\",\"marker\":{\"color\":\"rgb(0,116,217)\"},\"mode\":\"lines\",\"x\":[0.9728756154083765,1.0151359733178573,1.0151359733178573,1.0000075949093226],\"xaxis\":\"x\",\"y\":[-590.0,-590.0,-620.0,-620.0],\"yaxis\":\"y\",\"type\":\"scatter\"},{\"hoverinfo\":\"text\",\"marker\":{\"color\":\"rgb(0,116,217)\"},\"mode\":\"lines\",\"x\":[1.0072371332732837,1.02328406609692,1.02328406609692,1.0151359733178573],\"xaxis\":\"x\",\"y\":[-556.25,-556.25,-605.0,-605.0],\"yaxis\":\"y\",\"type\":\"scatter\"},{\"hoverinfo\":\"text\",\"marker\":{\"color\":\"rgb(35,205,205)\"},\"mode\":\"lines\",\"x\":[0.0,0.9485348533940063,0.9485348533940063,0.0],\"xaxis\":\"x\",\"y\":[-645.0,-645.0,-655.0,-655.0],\"yaxis\":\"y\",\"type\":\"scatter\"},{\"hoverinfo\":\"text\",\"marker\":{\"color\":\"rgb(0,116,217)\"},\"mode\":\"lines\",\"x\":[1.02328406609692,1.0331140554359266,1.0331140554359266,0.9485348533940063],\"xaxis\":\"x\",\"y\":[-580.625,-580.625,-650.0,-650.0],\"yaxis\":\"y\",\"type\":\"scatter\"},{\"hoverinfo\":\"text\",\"marker\":{\"color\":\"rgb(0,116,217)\"},\"mode\":\"lines\",\"x\":[0.9351368779648987,1.0443933585816045,1.0443933585816045,1.0331140554359266],\"xaxis\":\"x\",\"y\":[-520.0,-520.0,-615.3125,-615.3125],\"yaxis\":\"y\",\"type\":\"scatter\"},{\"hoverinfo\":\"text\",\"marker\":{\"color\":\"rgb(61,153,112)\"},\"mode\":\"lines\",\"x\":[0.0,0.948727782337224,0.948727782337224,0.0],\"xaxis\":\"x\",\"y\":[-665.0,-665.0,-675.0,-675.0],\"yaxis\":\"y\",\"type\":\"scatter\"},{\"hoverinfo\":\"text\",\"marker\":{\"color\":\"rgb(61,153,112)\"},\"mode\":\"lines\",\"x\":[0.948727782337224,0.97190604226101,0.97190604226101,0.0],\"xaxis\":\"x\",\"y\":[-670.0,-670.0,-685.0,-685.0],\"yaxis\":\"y\",\"type\":\"scatter\"},{\"hoverinfo\":\"text\",\"marker\":{\"color\":\"rgb(0,116,217)\"},\"mode\":\"lines\",\"x\":[1.0443933585816045,1.052168440734504,1.052168440734504,0.97190604226101],\"xaxis\":\"x\",\"y\":[-567.65625,-567.65625,-677.5,-677.5],\"yaxis\":\"y\",\"type\":\"scatter\"},{\"hoverinfo\":\"text\",\"marker\":{\"color\":\"rgb(255,65,54)\"},\"mode\":\"lines\",\"x\":[0.0,0.8117596273147308,0.8117596273147308,0.0],\"xaxis\":\"x\",\"y\":[-695.0,-695.0,-705.0,-705.0],\"yaxis\":\"y\",\"type\":\"scatter\"},{\"hoverinfo\":\"text\",\"marker\":{\"color\":\"rgb(255,65,54)\"},\"mode\":\"lines\",\"x\":[0.8117596273147308,0.9932331427110833,0.9932331427110833,0.0],\"xaxis\":\"x\",\"y\":[-700.0,-700.0,-715.0,-715.0],\"yaxis\":\"y\",\"type\":\"scatter\"},{\"hoverinfo\":\"text\",\"marker\":{\"color\":\"rgb(0,116,217)\"},\"mode\":\"lines\",\"x\":[1.052168440734504,1.1413948310355175,1.1413948310355175,0.9932331427110833],\"xaxis\":\"x\",\"y\":[-622.578125,-622.578125,-707.5,-707.5],\"yaxis\":\"y\",\"type\":\"scatter\"},{\"hoverinfo\":\"text\",\"marker\":{\"color\":\"rgb(0,116,217)\"},\"mode\":\"lines\",\"x\":[1.1345441866546329,1.1880308892135663,1.1880308892135663,1.1413948310355175],\"xaxis\":\"x\",\"y\":[-385.8984375,-385.8984375,-665.0390625,-665.0390625],\"yaxis\":\"y\",\"type\":\"scatter\"},{\"hoverinfo\":\"text\",\"marker\":{\"color\":\"rgb(0,116,217)\"},\"mode\":\"lines\",\"x\":[1.0569021918462818,1.581066781778783,1.581066781778783,1.1880308892135663],\"xaxis\":\"x\",\"y\":[-253.125,-253.125,-525.46875,-525.46875],\"yaxis\":\"y\",\"type\":\"scatter\"},{\"hoverinfo\":\"text\",\"marker\":{\"color\":\"rgb(35,205,205)\"},\"mode\":\"lines\",\"x\":[0.0,0.09498579290185072,0.09498579290185072,0.0],\"xaxis\":\"x\",\"y\":[-735.0,-735.0,-745.0,-745.0],\"yaxis\":\"y\",\"type\":\"scatter\"},{\"hoverinfo\":\"text\",\"marker\":{\"color\":\"rgb(35,205,205)\"},\"mode\":\"lines\",\"x\":[0.0,0.4003181196000223,0.4003181196000223,0.09498579290185072],\"xaxis\":\"x\",\"y\":[-725.0,-725.0,-740.0,-740.0],\"yaxis\":\"y\",\"type\":\"scatter\"},{\"hoverinfo\":\"text\",\"marker\":{\"color\":\"rgb(133,20,75)\"},\"mode\":\"lines\",\"x\":[0.0,0.6920881661821722,0.6920881661821722,0.0],\"xaxis\":\"x\",\"y\":[-775.0,-775.0,-785.0,-785.0],\"yaxis\":\"y\",\"type\":\"scatter\"},{\"hoverinfo\":\"text\",\"marker\":{\"color\":\"rgb(133,20,75)\"},\"mode\":\"lines\",\"x\":[0.0,0.7113937156053751,0.7113937156053751,0.6920881661821722],\"xaxis\":\"x\",\"y\":[-765.0,-765.0,-780.0,-780.0],\"yaxis\":\"y\",\"type\":\"scatter\"},{\"hoverinfo\":\"text\",\"marker\":{\"color\":\"rgb(133,20,75)\"},\"mode\":\"lines\",\"x\":[0.0,0.8007634793859527,0.8007634793859527,0.7113937156053751],\"xaxis\":\"x\",\"y\":[-755.0,-755.0,-772.5,-772.5],\"yaxis\":\"y\",\"type\":\"scatter\"},{\"hoverinfo\":\"text\",\"marker\":{\"color\":\"rgb(133,20,75)\"},\"mode\":\"lines\",\"x\":[0.0,0.7281340719904565,0.7281340719904565,0.0],\"xaxis\":\"x\",\"y\":[-805.0,-805.0,-815.0,-815.0],\"yaxis\":\"y\",\"type\":\"scatter\"},{\"hoverinfo\":\"text\",\"marker\":{\"color\":\"rgb(133,20,75)\"},\"mode\":\"lines\",\"x\":[0.0,0.7652771589796006,0.7652771589796006,0.7281340719904565],\"xaxis\":\"x\",\"y\":[-795.0,-795.0,-810.0,-810.0],\"yaxis\":\"y\",\"type\":\"scatter\"},{\"hoverinfo\":\"text\",\"marker\":{\"color\":\"rgb(133,20,75)\"},\"mode\":\"lines\",\"x\":[0.7652771589796006,0.8358267128393104,0.8358267128393104,0.0],\"xaxis\":\"x\",\"y\":[-802.5,-802.5,-825.0,-825.0],\"yaxis\":\"y\",\"type\":\"scatter\"},{\"hoverinfo\":\"text\",\"marker\":{\"color\":\"rgb(133,20,75)\"},\"mode\":\"lines\",\"x\":[0.8007634793859527,0.9039498604782735,0.9039498604782735,0.8358267128393104],\"xaxis\":\"x\",\"y\":[-763.75,-763.75,-813.75,-813.75],\"yaxis\":\"y\",\"type\":\"scatter\"},{\"hoverinfo\":\"text\",\"marker\":{\"color\":\"rgb(255,220,0)\"},\"mode\":\"lines\",\"x\":[0.0,0.3934549196969358,0.3934549196969358,0.0],\"xaxis\":\"x\",\"y\":[-835.0,-835.0,-845.0,-845.0],\"yaxis\":\"y\",\"type\":\"scatter\"},{\"hoverinfo\":\"text\",\"marker\":{\"color\":\"rgb(255,220,0)\"},\"mode\":\"lines\",\"x\":[0.0,0.46927848216885315,0.46927848216885315,0.0],\"xaxis\":\"x\",\"y\":[-855.0,-855.0,-865.0,-865.0],\"yaxis\":\"y\",\"type\":\"scatter\"},{\"hoverinfo\":\"text\",\"marker\":{\"color\":\"rgb(255,220,0)\"},\"mode\":\"lines\",\"x\":[0.46927848216885315,0.6910758543880675,0.6910758543880675,0.0],\"xaxis\":\"x\",\"y\":[-860.0,-860.0,-875.0,-875.0],\"yaxis\":\"y\",\"type\":\"scatter\"},{\"hoverinfo\":\"text\",\"marker\":{\"color\":\"rgb(255,220,0)\"},\"mode\":\"lines\",\"x\":[0.3934549196969358,0.8425131020151523,0.8425131020151523,0.6910758543880675],\"xaxis\":\"x\",\"y\":[-840.0,-840.0,-867.5,-867.5],\"yaxis\":\"y\",\"type\":\"scatter\"},{\"hoverinfo\":\"text\",\"marker\":{\"color\":\"rgb(0,116,217)\"},\"mode\":\"lines\",\"x\":[0.9039498604782735,1.3886984036507386,1.3886984036507386,0.8425131020151523],\"xaxis\":\"x\",\"y\":[-788.75,-788.75,-853.75,-853.75],\"yaxis\":\"y\",\"type\":\"scatter\"},{\"hoverinfo\":\"text\",\"marker\":{\"color\":\"rgb(0,116,217)\"},\"mode\":\"lines\",\"x\":[0.4003181196000223,1.5389500193594106,1.5389500193594106,1.3886984036507386],\"xaxis\":\"x\",\"y\":[-732.5,-732.5,-821.25,-821.25],\"yaxis\":\"y\",\"type\":\"scatter\"},{\"hoverinfo\":\"text\",\"marker\":{\"color\":\"rgb(40,35,35)\"},\"mode\":\"lines\",\"x\":[0.0,0.8163056154690059,0.8163056154690059,0.0],\"xaxis\":\"x\",\"y\":[-885.0,-885.0,-895.0,-895.0],\"yaxis\":\"y\",\"type\":\"scatter\"},{\"hoverinfo\":\"text\",\"marker\":{\"color\":\"rgb(40,35,35)\"},\"mode\":\"lines\",\"x\":[0.0,0.7974863847755645,0.7974863847755645,0.0],\"xaxis\":\"x\",\"y\":[-905.0,-905.0,-915.0,-915.0],\"yaxis\":\"y\",\"type\":\"scatter\"},{\"hoverinfo\":\"text\",\"marker\":{\"color\":\"rgb(40,35,35)\"},\"mode\":\"lines\",\"x\":[0.7974863847755645,0.8104266469798829,0.8104266469798829,0.0],\"xaxis\":\"x\",\"y\":[-910.0,-910.0,-925.0,-925.0],\"yaxis\":\"y\",\"type\":\"scatter\"},{\"hoverinfo\":\"text\",\"marker\":{\"color\":\"rgb(40,35,35)\"},\"mode\":\"lines\",\"x\":[0.8163056154690059,0.9007383696842478,0.9007383696842478,0.8104266469798829],\"xaxis\":\"x\",\"y\":[-890.0,-890.0,-917.5,-917.5],\"yaxis\":\"y\",\"type\":\"scatter\"},{\"hoverinfo\":\"text\",\"marker\":{\"color\":\"rgb(40,35,35)\"},\"mode\":\"lines\",\"x\":[0.0,0.7141643135825217,0.7141643135825217,0.0],\"xaxis\":\"x\",\"y\":[-955.0,-955.0,-965.0,-965.0],\"yaxis\":\"y\",\"type\":\"scatter\"},{\"hoverinfo\":\"text\",\"marker\":{\"color\":\"rgb(40,35,35)\"},\"mode\":\"lines\",\"x\":[0.0,0.7455779758549992,0.7455779758549992,0.7141643135825217],\"xaxis\":\"x\",\"y\":[-945.0,-945.0,-960.0,-960.0],\"yaxis\":\"y\",\"type\":\"scatter\"},{\"hoverinfo\":\"text\",\"marker\":{\"color\":\"rgb(40,35,35)\"},\"mode\":\"lines\",\"x\":[0.0,0.7841292821012665,0.7841292821012665,0.7455779758549992],\"xaxis\":\"x\",\"y\":[-935.0,-935.0,-952.5,-952.5],\"yaxis\":\"y\",\"type\":\"scatter\"},{\"hoverinfo\":\"text\",\"marker\":{\"color\":\"rgb(40,35,35)\"},\"mode\":\"lines\",\"x\":[0.7841292821012665,0.8137211183431818,0.8137211183431818,0.0],\"xaxis\":\"x\",\"y\":[-943.75,-943.75,-975.0,-975.0],\"yaxis\":\"y\",\"type\":\"scatter\"},{\"hoverinfo\":\"text\",\"marker\":{\"color\":\"rgb(40,35,35)\"},\"mode\":\"lines\",\"x\":[0.9007383696842478,0.9849090954004807,0.9849090954004807,0.8137211183431818],\"xaxis\":\"x\",\"y\":[-903.75,-903.75,-959.375,-959.375],\"yaxis\":\"y\",\"type\":\"scatter\"},{\"hoverinfo\":\"text\",\"marker\":{\"color\":\"rgb(61,153,112)\"},\"mode\":\"lines\",\"x\":[0.0,0.9330393934234407,0.9330393934234407,0.0],\"xaxis\":\"x\",\"y\":[-985.0,-985.0,-995.0,-995.0],\"yaxis\":\"y\",\"type\":\"scatter\"},{\"hoverinfo\":\"text\",\"marker\":{\"color\":\"rgb(61,153,112)\"},\"mode\":\"lines\",\"x\":[0.0,0.882741830807013,0.882741830807013,0.0],\"xaxis\":\"x\",\"y\":[-1005.0,-1005.0,-1015.0,-1015.0],\"yaxis\":\"y\",\"type\":\"scatter\"},{\"hoverinfo\":\"text\",\"marker\":{\"color\":\"rgb(61,153,112)\"},\"mode\":\"lines\",\"x\":[0.0,0.7933736683638354,0.7933736683638354,0.0],\"xaxis\":\"x\",\"y\":[-1025.0,-1025.0,-1035.0,-1035.0],\"yaxis\":\"y\",\"type\":\"scatter\"},{\"hoverinfo\":\"text\",\"marker\":{\"color\":\"rgb(61,153,112)\"},\"mode\":\"lines\",\"x\":[0.7933736683638354,0.9134480296678257,0.9134480296678257,0.0],\"xaxis\":\"x\",\"y\":[-1030.0,-1030.0,-1045.0,-1045.0],\"yaxis\":\"y\",\"type\":\"scatter\"},{\"hoverinfo\":\"text\",\"marker\":{\"color\":\"rgb(61,153,112)\"},\"mode\":\"lines\",\"x\":[0.882741830807013,0.949676320034148,0.949676320034148,0.9134480296678257],\"xaxis\":\"x\",\"y\":[-1010.0,-1010.0,-1037.5,-1037.5],\"yaxis\":\"y\",\"type\":\"scatter\"},{\"hoverinfo\":\"text\",\"marker\":{\"color\":\"rgb(61,153,112)\"},\"mode\":\"lines\",\"x\":[0.9330393934234407,0.9986280789921066,0.9986280789921066,0.949676320034148],\"xaxis\":\"x\",\"y\":[-990.0,-990.0,-1023.75,-1023.75],\"yaxis\":\"y\",\"type\":\"scatter\"},{\"hoverinfo\":\"text\",\"marker\":{\"color\":\"rgb(255,65,54)\"},\"mode\":\"lines\",\"x\":[0.0,0.6943423651282503,0.6943423651282503,0.0],\"xaxis\":\"x\",\"y\":[-1055.0,-1055.0,-1065.0,-1065.0],\"yaxis\":\"y\",\"type\":\"scatter\"},{\"hoverinfo\":\"text\",\"marker\":{\"color\":\"rgb(0,116,217)\"},\"mode\":\"lines\",\"x\":[0.9986280789921066,1.0389702847692093,1.0389702847692093,0.6943423651282503],\"xaxis\":\"x\",\"y\":[-1006.875,-1006.875,-1060.0,-1060.0],\"yaxis\":\"y\",\"type\":\"scatter\"},{\"hoverinfo\":\"text\",\"marker\":{\"color\":\"rgb(35,205,205)\"},\"mode\":\"lines\",\"x\":[0.0,0.7107749336175808,0.7107749336175808,0.0],\"xaxis\":\"x\",\"y\":[-1075.0,-1075.0,-1085.0,-1085.0],\"yaxis\":\"y\",\"type\":\"scatter\"},{\"hoverinfo\":\"text\",\"marker\":{\"color\":\"rgb(0,116,217)\"},\"mode\":\"lines\",\"x\":[1.0389702847692093,1.1613899998601926,1.1613899998601926,0.7107749336175808],\"xaxis\":\"x\",\"y\":[-1033.4375,-1033.4375,-1080.0,-1080.0],\"yaxis\":\"y\",\"type\":\"scatter\"},{\"hoverinfo\":\"text\",\"marker\":{\"color\":\"rgb(0,116,217)\"},\"mode\":\"lines\",\"x\":[0.9849090954004807,1.1905686736867898,1.1905686736867898,1.1613899998601926],\"xaxis\":\"x\",\"y\":[-931.5625,-931.5625,-1056.71875,-1056.71875],\"yaxis\":\"y\",\"type\":\"scatter\"},{\"hoverinfo\":\"text\",\"marker\":{\"color\":\"rgb(61,153,112)\"},\"mode\":\"lines\",\"x\":[0.0,0.22099981730156026,0.22099981730156026,0.0],\"xaxis\":\"x\",\"y\":[-1115.0,-1115.0,-1125.0,-1125.0],\"yaxis\":\"y\",\"type\":\"scatter\"},{\"hoverinfo\":\"text\",\"marker\":{\"color\":\"rgb(61,153,112)\"},\"mode\":\"lines\",\"x\":[0.0,0.6699992053965328,0.6699992053965328,0.22099981730156026],\"xaxis\":\"x\",\"y\":[-1105.0,-1105.0,-1120.0,-1120.0],\"yaxis\":\"y\",\"type\":\"scatter\"},{\"hoverinfo\":\"text\",\"marker\":{\"color\":\"rgb(61,153,112)\"},\"mode\":\"lines\",\"x\":[0.6699992053965328,0.7407992989097134,0.7407992989097134,0.0],\"xaxis\":\"x\",\"y\":[-1112.5,-1112.5,-1135.0,-1135.0],\"yaxis\":\"y\",\"type\":\"scatter\"},{\"hoverinfo\":\"text\",\"marker\":{\"color\":\"rgb(61,153,112)\"},\"mode\":\"lines\",\"x\":[0.0,0.8754845239741783,0.8754845239741783,0.7407992989097134],\"xaxis\":\"x\",\"y\":[-1095.0,-1095.0,-1123.75,-1123.75],\"yaxis\":\"y\",\"type\":\"scatter\"},{\"hoverinfo\":\"text\",\"marker\":{\"color\":\"rgb(255,65,54)\"},\"mode\":\"lines\",\"x\":[0.0,0.7521878801673328,0.7521878801673328,0.0],\"xaxis\":\"x\",\"y\":[-1145.0,-1145.0,-1155.0,-1155.0],\"yaxis\":\"y\",\"type\":\"scatter\"},{\"hoverinfo\":\"text\",\"marker\":{\"color\":\"rgb(255,65,54)\"},\"mode\":\"lines\",\"x\":[0.0,0.7150605258841081,0.7150605258841081,0.0],\"xaxis\":\"x\",\"y\":[-1175.0,-1175.0,-1185.0,-1185.0],\"yaxis\":\"y\",\"type\":\"scatter\"},{\"hoverinfo\":\"text\",\"marker\":{\"color\":\"rgb(255,65,54)\"},\"mode\":\"lines\",\"x\":[0.0,0.7793598725281295,0.7793598725281295,0.7150605258841081],\"xaxis\":\"x\",\"y\":[-1165.0,-1165.0,-1180.0,-1180.0],\"yaxis\":\"y\",\"type\":\"scatter\"},{\"hoverinfo\":\"text\",\"marker\":{\"color\":\"rgb(255,65,54)\"},\"mode\":\"lines\",\"x\":[0.7793598725281295,0.8804091720123095,0.8804091720123095,0.0],\"xaxis\":\"x\",\"y\":[-1172.5,-1172.5,-1195.0,-1195.0],\"yaxis\":\"y\",\"type\":\"scatter\"},{\"hoverinfo\":\"text\",\"marker\":{\"color\":\"rgb(255,65,54)\"},\"mode\":\"lines\",\"x\":[0.7521878801673328,0.9510248304173433,0.9510248304173433,0.8804091720123095],\"xaxis\":\"x\",\"y\":[-1150.0,-1150.0,-1183.75,-1183.75],\"yaxis\":\"y\",\"type\":\"scatter\"},{\"hoverinfo\":\"text\",\"marker\":{\"color\":\"rgb(255,65,54)\"},\"mode\":\"lines\",\"x\":[0.0,0.8341764442987009,0.8341764442987009,0.0],\"xaxis\":\"x\",\"y\":[-1205.0,-1205.0,-1215.0,-1215.0],\"yaxis\":\"y\",\"type\":\"scatter\"},{\"hoverinfo\":\"text\",\"marker\":{\"color\":\"rgb(255,65,54)\"},\"mode\":\"lines\",\"x\":[0.9510248304173433,0.9751421435692216,0.9751421435692216,0.8341764442987009],\"xaxis\":\"x\",\"y\":[-1166.875,-1166.875,-1210.0,-1210.0],\"yaxis\":\"y\",\"type\":\"scatter\"},{\"hoverinfo\":\"text\",\"marker\":{\"color\":\"rgb(0,116,217)\"},\"mode\":\"lines\",\"x\":[0.8754845239741783,1.2716268148639986,1.2716268148639986,0.9751421435692216],\"xaxis\":\"x\",\"y\":[-1109.375,-1109.375,-1188.4375,-1188.4375],\"yaxis\":\"y\",\"type\":\"scatter\"},{\"hoverinfo\":\"text\",\"marker\":{\"color\":\"rgb(0,116,217)\"},\"mode\":\"lines\",\"x\":[1.1905686736867898,1.4100446531647377,1.4100446531647377,1.2716268148639986],\"xaxis\":\"x\",\"y\":[-994.140625,-994.140625,-1148.90625,-1148.90625],\"yaxis\":\"y\",\"type\":\"scatter\"},{\"hoverinfo\":\"text\",\"marker\":{\"color\":\"rgb(35,205,205)\"},\"mode\":\"lines\",\"x\":[0.0,0.24090413586621673,0.24090413586621673,0.0],\"xaxis\":\"x\",\"y\":[-1235.0,-1235.0,-1245.0,-1245.0],\"yaxis\":\"y\",\"type\":\"scatter\"},{\"hoverinfo\":\"text\",\"marker\":{\"color\":\"rgb(35,205,205)\"},\"mode\":\"lines\",\"x\":[0.0,0.5343274064594438,0.5343274064594438,0.24090413586621673],\"xaxis\":\"x\",\"y\":[-1225.0,-1225.0,-1240.0,-1240.0],\"yaxis\":\"y\",\"type\":\"scatter\"},{\"hoverinfo\":\"text\",\"marker\":{\"color\":\"rgb(133,20,75)\"},\"mode\":\"lines\",\"x\":[0.0,0.2148837349002859,0.2148837349002859,0.0],\"xaxis\":\"x\",\"y\":[-1255.0,-1255.0,-1265.0,-1265.0],\"yaxis\":\"y\",\"type\":\"scatter\"},{\"hoverinfo\":\"text\",\"marker\":{\"color\":\"rgb(133,20,75)\"},\"mode\":\"lines\",\"x\":[0.2148837349002859,0.5310462416796939,0.5310462416796939,0.0],\"xaxis\":\"x\",\"y\":[-1260.0,-1260.0,-1275.0,-1275.0],\"yaxis\":\"y\",\"type\":\"scatter\"},{\"hoverinfo\":\"text\",\"marker\":{\"color\":\"rgb(0,116,217)\"},\"mode\":\"lines\",\"x\":[0.5343274064594438,1.4383138954153813,1.4383138954153813,0.5310462416796939],\"xaxis\":\"x\",\"y\":[-1232.5,-1232.5,-1267.5,-1267.5],\"yaxis\":\"y\",\"type\":\"scatter\"},{\"hoverinfo\":\"text\",\"marker\":{\"color\":\"rgb(0,116,217)\"},\"mode\":\"lines\",\"x\":[1.4100446531647377,1.642914966159102,1.642914966159102,1.4383138954153813],\"xaxis\":\"x\",\"y\":[-1071.5234375,-1071.5234375,-1250.0,-1250.0],\"yaxis\":\"y\",\"type\":\"scatter\"},{\"hoverinfo\":\"text\",\"marker\":{\"color\":\"rgb(0,116,217)\"},\"mode\":\"lines\",\"x\":[1.5389500193594106,1.7193014562160427,1.7193014562160427,1.642914966159102],\"xaxis\":\"x\",\"y\":[-776.875,-776.875,-1160.76171875,-1160.76171875],\"yaxis\":\"y\",\"type\":\"scatter\"},{\"hoverinfo\":\"text\",\"marker\":{\"color\":\"rgb(0,116,217)\"},\"mode\":\"lines\",\"x\":[1.581066781778783,1.8614326336591476,1.8614326336591476,1.7193014562160427],\"xaxis\":\"x\",\"y\":[-389.296875,-389.296875,-968.818359375,-968.818359375],\"yaxis\":\"y\",\"type\":\"scatter\"},{\"hoverinfo\":\"text\",\"marker\":{\"color\":\"rgb(255,220,0)\"},\"mode\":\"lines\",\"x\":[0.0,0.8567520361733192,0.8567520361733192,0.0],\"xaxis\":\"x\",\"y\":[-1295.0,-1295.0,-1305.0,-1305.0],\"yaxis\":\"y\",\"type\":\"scatter\"},{\"hoverinfo\":\"text\",\"marker\":{\"color\":\"rgb(255,220,0)\"},\"mode\":\"lines\",\"x\":[0.8567520361733192,0.8759286828560366,0.8759286828560366,0.0],\"xaxis\":\"x\",\"y\":[-1300.0,-1300.0,-1315.0,-1315.0],\"yaxis\":\"y\",\"type\":\"scatter\"},{\"hoverinfo\":\"text\",\"marker\":{\"color\":\"rgb(255,220,0)\"},\"mode\":\"lines\",\"x\":[0.0,0.9473659225382544,0.9473659225382544,0.8759286828560366],\"xaxis\":\"x\",\"y\":[-1285.0,-1285.0,-1307.5,-1307.5],\"yaxis\":\"y\",\"type\":\"scatter\"},{\"hoverinfo\":\"text\",\"marker\":{\"color\":\"rgb(255,220,0)\"},\"mode\":\"lines\",\"x\":[0.0,0.869196280113364,0.869196280113364,0.0],\"xaxis\":\"x\",\"y\":[-1325.0,-1325.0,-1335.0,-1335.0],\"yaxis\":\"y\",\"type\":\"scatter\"},{\"hoverinfo\":\"text\",\"marker\":{\"color\":\"rgb(255,220,0)\"},\"mode\":\"lines\",\"x\":[0.9473659225382544,0.9748872678068573,0.9748872678068573,0.869196280113364],\"xaxis\":\"x\",\"y\":[-1296.25,-1296.25,-1330.0,-1330.0],\"yaxis\":\"y\",\"type\":\"scatter\"},{\"hoverinfo\":\"text\",\"marker\":{\"color\":\"rgb(40,35,35)\"},\"mode\":\"lines\",\"x\":[0.0,0.48819250639030065,0.48819250639030065,0.0],\"xaxis\":\"x\",\"y\":[-1345.0,-1345.0,-1355.0,-1355.0],\"yaxis\":\"y\",\"type\":\"scatter\"},{\"hoverinfo\":\"text\",\"marker\":{\"color\":\"rgb(40,35,35)\"},\"mode\":\"lines\",\"x\":[0.48819250639030065,0.8660050028479424,0.8660050028479424,0.0],\"xaxis\":\"x\",\"y\":[-1350.0,-1350.0,-1365.0,-1365.0],\"yaxis\":\"y\",\"type\":\"scatter\"},{\"hoverinfo\":\"text\",\"marker\":{\"color\":\"rgb(0,116,217)\"},\"mode\":\"lines\",\"x\":[0.9748872678068573,1.091568171000112,1.091568171000112,0.8660050028479424],\"xaxis\":\"x\",\"y\":[-1313.125,-1313.125,-1357.5,-1357.5],\"yaxis\":\"y\",\"type\":\"scatter\"},{\"hoverinfo\":\"text\",\"marker\":{\"color\":\"rgb(61,153,112)\"},\"mode\":\"lines\",\"x\":[0.0,0.6778918333457951,0.6778918333457951,0.0],\"xaxis\":\"x\",\"y\":[-1385.0,-1385.0,-1395.0,-1395.0],\"yaxis\":\"y\",\"type\":\"scatter\"},{\"hoverinfo\":\"text\",\"marker\":{\"color\":\"rgb(61,153,112)\"},\"mode\":\"lines\",\"x\":[0.6778918333457951,0.771171505924994,0.771171505924994,0.0],\"xaxis\":\"x\",\"y\":[-1390.0,-1390.0,-1405.0,-1405.0],\"yaxis\":\"y\",\"type\":\"scatter\"},{\"hoverinfo\":\"text\",\"marker\":{\"color\":\"rgb(61,153,112)\"},\"mode\":\"lines\",\"x\":[0.0,0.7975529518007332,0.7975529518007332,0.771171505924994],\"xaxis\":\"x\",\"y\":[-1375.0,-1375.0,-1397.5,-1397.5],\"yaxis\":\"y\",\"type\":\"scatter\"},{\"hoverinfo\":\"text\",\"marker\":{\"color\":\"rgb(61,153,112)\"},\"mode\":\"lines\",\"x\":[0.7975529518007332,0.9155576683014074,0.9155576683014074,0.0],\"xaxis\":\"x\",\"y\":[-1386.25,-1386.25,-1415.0,-1415.0],\"yaxis\":\"y\",\"type\":\"scatter\"},{\"hoverinfo\":\"text\",\"marker\":{\"color\":\"rgb(0,116,217)\"},\"mode\":\"lines\",\"x\":[1.091568171000112,1.1944903553784834,1.1944903553784834,0.9155576683014074],\"xaxis\":\"x\",\"y\":[-1335.3125,-1335.3125,-1400.625,-1400.625],\"yaxis\":\"y\",\"type\":\"scatter\"},{\"hoverinfo\":\"text\",\"marker\":{\"color\":\"rgb(255,65,54)\"},\"mode\":\"lines\",\"x\":[0.0,0.5913855634738572,0.5913855634738572,0.0],\"xaxis\":\"x\",\"y\":[-1435.0,-1435.0,-1445.0,-1445.0],\"yaxis\":\"y\",\"type\":\"scatter\"},{\"hoverinfo\":\"text\",\"marker\":{\"color\":\"rgb(255,65,54)\"},\"mode\":\"lines\",\"x\":[0.5913855634738572,0.7560029712399045,0.7560029712399045,0.0],\"xaxis\":\"x\",\"y\":[-1440.0,-1440.0,-1455.0,-1455.0],\"yaxis\":\"y\",\"type\":\"scatter\"},{\"hoverinfo\":\"text\",\"marker\":{\"color\":\"rgb(255,65,54)\"},\"mode\":\"lines\",\"x\":[0.0,0.7957879090054046,0.7957879090054046,0.7560029712399045],\"xaxis\":\"x\",\"y\":[-1425.0,-1425.0,-1447.5,-1447.5],\"yaxis\":\"y\",\"type\":\"scatter\"},{\"hoverinfo\":\"text\",\"marker\":{\"color\":\"rgb(35,205,205)\"},\"mode\":\"lines\",\"x\":[0.0,0.6443530691537087,0.6443530691537087,0.0],\"xaxis\":\"x\",\"y\":[-1475.0,-1475.0,-1485.0,-1485.0],\"yaxis\":\"y\",\"type\":\"scatter\"},{\"hoverinfo\":\"text\",\"marker\":{\"color\":\"rgb(35,205,205)\"},\"mode\":\"lines\",\"x\":[0.0,0.7275074529845298,0.7275074529845298,0.6443530691537087],\"xaxis\":\"x\",\"y\":[-1465.0,-1465.0,-1480.0,-1480.0],\"yaxis\":\"y\",\"type\":\"scatter\"},{\"hoverinfo\":\"text\",\"marker\":{\"color\":\"rgb(35,205,205)\"},\"mode\":\"lines\",\"x\":[0.0,0.6789237735190892,0.6789237735190892,0.0],\"xaxis\":\"x\",\"y\":[-1495.0,-1495.0,-1505.0,-1505.0],\"yaxis\":\"y\",\"type\":\"scatter\"},{\"hoverinfo\":\"text\",\"marker\":{\"color\":\"rgb(35,205,205)\"},\"mode\":\"lines\",\"x\":[0.7275074529845298,0.7534278786224923,0.7534278786224923,0.6789237735190892],\"xaxis\":\"x\",\"y\":[-1472.5,-1472.5,-1500.0,-1500.0],\"yaxis\":\"y\",\"type\":\"scatter\"},{\"hoverinfo\":\"text\",\"marker\":{\"color\":\"rgb(61,153,112)\"},\"mode\":\"lines\",\"x\":[0.0,0.8676653918695956,0.8676653918695956,0.0],\"xaxis\":\"x\",\"y\":[-1525.0,-1525.0,-1535.0,-1535.0],\"yaxis\":\"y\",\"type\":\"scatter\"},{\"hoverinfo\":\"text\",\"marker\":{\"color\":\"rgb(61,153,112)\"},\"mode\":\"lines\",\"x\":[0.0,0.8943278854200608,0.8943278854200608,0.8676653918695956],\"xaxis\":\"x\",\"y\":[-1515.0,-1515.0,-1530.0,-1530.0],\"yaxis\":\"y\",\"type\":\"scatter\"},{\"hoverinfo\":\"text\",\"marker\":{\"color\":\"rgb(61,153,112)\"},\"mode\":\"lines\",\"x\":[0.0,0.5402858180541419,0.5402858180541419,0.0],\"xaxis\":\"x\",\"y\":[-1555.0,-1555.0,-1565.0,-1565.0],\"yaxis\":\"y\",\"type\":\"scatter\"},{\"hoverinfo\":\"text\",\"marker\":{\"color\":\"rgb(61,153,112)\"},\"mode\":\"lines\",\"x\":[0.0,0.7474796417118391,0.7474796417118391,0.5402858180541419],\"xaxis\":\"x\",\"y\":[-1545.0,-1545.0,-1560.0,-1560.0],\"yaxis\":\"y\",\"type\":\"scatter\"},{\"hoverinfo\":\"text\",\"marker\":{\"color\":\"rgb(61,153,112)\"},\"mode\":\"lines\",\"x\":[0.7474796417118391,0.8920293928423302,0.8920293928423302,0.0],\"xaxis\":\"x\",\"y\":[-1552.5,-1552.5,-1575.0,-1575.0],\"yaxis\":\"y\",\"type\":\"scatter\"},{\"hoverinfo\":\"text\",\"marker\":{\"color\":\"rgb(61,153,112)\"},\"mode\":\"lines\",\"x\":[0.8943278854200608,0.9375906236382293,0.9375906236382293,0.8920293928423302],\"xaxis\":\"x\",\"y\":[-1522.5,-1522.5,-1563.75,-1563.75],\"yaxis\":\"y\",\"type\":\"scatter\"},{\"hoverinfo\":\"text\",\"marker\":{\"color\":\"rgb(0,116,217)\"},\"mode\":\"lines\",\"x\":[0.7534278786224923,1.0057299463111562,1.0057299463111562,0.9375906236382293],\"xaxis\":\"x\",\"y\":[-1486.25,-1486.25,-1543.125,-1543.125],\"yaxis\":\"y\",\"type\":\"scatter\"},{\"hoverinfo\":\"text\",\"marker\":{\"color\":\"rgb(0,116,217)\"},\"mode\":\"lines\",\"x\":[0.7957879090054046,1.224855985013225,1.224855985013225,1.0057299463111562],\"xaxis\":\"x\",\"y\":[-1436.25,-1436.25,-1514.6875,-1514.6875],\"yaxis\":\"y\",\"type\":\"scatter\"},{\"hoverinfo\":\"text\",\"marker\":{\"color\":\"rgb(255,65,54)\"},\"mode\":\"lines\",\"x\":[0.0,0.8206536492493582,0.8206536492493582,0.0],\"xaxis\":\"x\",\"y\":[-1595.0,-1595.0,-1605.0,-1605.0],\"yaxis\":\"y\",\"type\":\"scatter\"},{\"hoverinfo\":\"text\",\"marker\":{\"color\":\"rgb(255,65,54)\"},\"mode\":\"lines\",\"x\":[0.0,0.9107455556564139,0.9107455556564139,0.8206536492493582],\"xaxis\":\"x\",\"y\":[-1585.0,-1585.0,-1600.0,-1600.0],\"yaxis\":\"y\",\"type\":\"scatter\"},{\"hoverinfo\":\"text\",\"marker\":{\"color\":\"rgb(255,65,54)\"},\"mode\":\"lines\",\"x\":[0.0,0.5634905077200053,0.5634905077200053,0.0],\"xaxis\":\"x\",\"y\":[-1615.0,-1615.0,-1625.0,-1625.0],\"yaxis\":\"y\",\"type\":\"scatter\"},{\"hoverinfo\":\"text\",\"marker\":{\"color\":\"rgb(255,65,54)\"},\"mode\":\"lines\",\"x\":[0.5634905077200053,0.6882172490489613,0.6882172490489613,0.0],\"xaxis\":\"x\",\"y\":[-1620.0,-1620.0,-1635.0,-1635.0],\"yaxis\":\"y\",\"type\":\"scatter\"},{\"hoverinfo\":\"text\",\"marker\":{\"color\":\"rgb(255,65,54)\"},\"mode\":\"lines\",\"x\":[0.9107455556564139,0.939939718534686,0.939939718534686,0.6882172490489613],\"xaxis\":\"x\",\"y\":[-1592.5,-1592.5,-1627.5,-1627.5],\"yaxis\":\"y\",\"type\":\"scatter\"},{\"hoverinfo\":\"text\",\"marker\":{\"color\":\"rgb(35,205,205)\"},\"mode\":\"lines\",\"x\":[0.0,0.7220632474431803,0.7220632474431803,0.0],\"xaxis\":\"x\",\"y\":[-1655.0,-1655.0,-1665.0,-1665.0],\"yaxis\":\"y\",\"type\":\"scatter\"},{\"hoverinfo\":\"text\",\"marker\":{\"color\":\"rgb(35,205,205)\"},\"mode\":\"lines\",\"x\":[0.7220632474431803,0.7851573842136987,0.7851573842136987,0.0],\"xaxis\":\"x\",\"y\":[-1660.0,-1660.0,-1675.0,-1675.0],\"yaxis\":\"y\",\"type\":\"scatter\"},{\"hoverinfo\":\"text\",\"marker\":{\"color\":\"rgb(35,205,205)\"},\"mode\":\"lines\",\"x\":[0.0,0.8532279980795467,0.8532279980795467,0.7851573842136987],\"xaxis\":\"x\",\"y\":[-1645.0,-1645.0,-1667.5,-1667.5],\"yaxis\":\"y\",\"type\":\"scatter\"},{\"hoverinfo\":\"text\",\"marker\":{\"color\":\"rgb(35,205,205)\"},\"mode\":\"lines\",\"x\":[0.0,0.8789140823050511,0.8789140823050511,0.0],\"xaxis\":\"x\",\"y\":[-1685.0,-1685.0,-1695.0,-1695.0],\"yaxis\":\"y\",\"type\":\"scatter\"},{\"hoverinfo\":\"text\",\"marker\":{\"color\":\"rgb(35,205,205)\"},\"mode\":\"lines\",\"x\":[0.8532279980795467,0.9062391446173755,0.9062391446173755,0.8789140823050511],\"xaxis\":\"x\",\"y\":[-1656.25,-1656.25,-1690.0,-1690.0],\"yaxis\":\"y\",\"type\":\"scatter\"},{\"hoverinfo\":\"text\",\"marker\":{\"color\":\"rgb(0,116,217)\"},\"mode\":\"lines\",\"x\":[0.939939718534686,1.0669501504566616,1.0669501504566616,0.9062391446173755],\"xaxis\":\"x\",\"y\":[-1610.0,-1610.0,-1673.125,-1673.125],\"yaxis\":\"y\",\"type\":\"scatter\"},{\"hoverinfo\":\"text\",\"marker\":{\"color\":\"rgb(133,20,75)\"},\"mode\":\"lines\",\"x\":[0.0,0.6047162605972902,0.6047162605972902,0.0],\"xaxis\":\"x\",\"y\":[-1705.0,-1705.0,-1715.0,-1715.0],\"yaxis\":\"y\",\"type\":\"scatter\"},{\"hoverinfo\":\"text\",\"marker\":{\"color\":\"rgb(133,20,75)\"},\"mode\":\"lines\",\"x\":[0.6047162605972902,0.8529479734739488,0.8529479734739488,0.0],\"xaxis\":\"x\",\"y\":[-1710.0,-1710.0,-1725.0,-1725.0],\"yaxis\":\"y\",\"type\":\"scatter\"},{\"hoverinfo\":\"text\",\"marker\":{\"color\":\"rgb(0,116,217)\"},\"mode\":\"lines\",\"x\":[1.0669501504566616,1.1437060835617274,1.1437060835617274,0.8529479734739488],\"xaxis\":\"x\",\"y\":[-1641.5625,-1641.5625,-1717.5,-1717.5],\"yaxis\":\"y\",\"type\":\"scatter\"},{\"hoverinfo\":\"text\",\"marker\":{\"color\":\"rgb(0,116,217)\"},\"mode\":\"lines\",\"x\":[1.224855985013225,1.3899435829712545,1.3899435829712545,1.1437060835617274],\"xaxis\":\"x\",\"y\":[-1475.46875,-1475.46875,-1679.53125,-1679.53125],\"yaxis\":\"y\",\"type\":\"scatter\"},{\"hoverinfo\":\"text\",\"marker\":{\"color\":\"rgb(0,116,217)\"},\"mode\":\"lines\",\"x\":[1.1944903553784834,1.4440001952692574,1.4440001952692574,1.3899435829712545],\"xaxis\":\"x\",\"y\":[-1367.96875,-1367.96875,-1577.5,-1577.5],\"yaxis\":\"y\",\"type\":\"scatter\"},{\"hoverinfo\":\"text\",\"marker\":{\"color\":\"rgb(255,220,0)\"},\"mode\":\"lines\",\"x\":[0.0,0.8074279542592471,0.8074279542592471,0.0],\"xaxis\":\"x\",\"y\":[-1735.0,-1735.0,-1745.0,-1745.0],\"yaxis\":\"y\",\"type\":\"scatter\"},{\"hoverinfo\":\"text\",\"marker\":{\"color\":\"rgb(255,220,0)\"},\"mode\":\"lines\",\"x\":[0.8074279542592471,0.8946363711023074,0.8946363711023074,0.0],\"xaxis\":\"x\",\"y\":[-1740.0,-1740.0,-1755.0,-1755.0],\"yaxis\":\"y\",\"type\":\"scatter\"},{\"hoverinfo\":\"text\",\"marker\":{\"color\":\"rgb(255,220,0)\"},\"mode\":\"lines\",\"x\":[0.8946363711023074,0.9447096630988194,0.9447096630988194,0.0],\"xaxis\":\"x\",\"y\":[-1747.5,-1747.5,-1765.0,-1765.0],\"yaxis\":\"y\",\"type\":\"scatter\"},{\"hoverinfo\":\"text\",\"marker\":{\"color\":\"rgb(40,35,35)\"},\"mode\":\"lines\",\"x\":[0.0,0.7224027428200793,0.7224027428200793,0.0],\"xaxis\":\"x\",\"y\":[-1775.0,-1775.0,-1785.0,-1785.0],\"yaxis\":\"y\",\"type\":\"scatter\"},{\"hoverinfo\":\"text\",\"marker\":{\"color\":\"rgb(40,35,35)\"},\"mode\":\"lines\",\"x\":[0.7224027428200793,0.8601795024661776,0.8601795024661776,0.0],\"xaxis\":\"x\",\"y\":[-1780.0,-1780.0,-1795.0,-1795.0],\"yaxis\":\"y\",\"type\":\"scatter\"},{\"hoverinfo\":\"text\",\"marker\":{\"color\":\"rgb(0,116,217)\"},\"mode\":\"lines\",\"x\":[0.9447096630988194,1.0107952358591008,1.0107952358591008,0.8601795024661776],\"xaxis\":\"x\",\"y\":[-1756.25,-1756.25,-1787.5,-1787.5],\"yaxis\":\"y\",\"type\":\"scatter\"},{\"hoverinfo\":\"text\",\"marker\":{\"color\":\"rgb(61,153,112)\"},\"mode\":\"lines\",\"x\":[0.0,0.7267698098091153,0.7267698098091153,0.0],\"xaxis\":\"x\",\"y\":[-1825.0,-1825.0,-1835.0,-1835.0],\"yaxis\":\"y\",\"type\":\"scatter\"},{\"hoverinfo\":\"text\",\"marker\":{\"color\":\"rgb(61,153,112)\"},\"mode\":\"lines\",\"x\":[0.7267698098091153,0.7960457471483788,0.7960457471483788,0.0],\"xaxis\":\"x\",\"y\":[-1830.0,-1830.0,-1845.0,-1845.0],\"yaxis\":\"y\",\"type\":\"scatter\"},{\"hoverinfo\":\"text\",\"marker\":{\"color\":\"rgb(61,153,112)\"},\"mode\":\"lines\",\"x\":[0.0,0.8190405844456716,0.8190405844456716,0.7960457471483788],\"xaxis\":\"x\",\"y\":[-1815.0,-1815.0,-1837.5,-1837.5],\"yaxis\":\"y\",\"type\":\"scatter\"},{\"hoverinfo\":\"text\",\"marker\":{\"color\":\"rgb(61,153,112)\"},\"mode\":\"lines\",\"x\":[0.0,0.8300979896418645,0.8300979896418645,0.8190405844456716],\"xaxis\":\"x\",\"y\":[-1805.0,-1805.0,-1826.25,-1826.25],\"yaxis\":\"y\",\"type\":\"scatter\"},{\"hoverinfo\":\"text\",\"marker\":{\"color\":\"rgb(61,153,112)\"},\"mode\":\"lines\",\"x\":[0.0,0.8558601272510733,0.8558601272510733,0.0],\"xaxis\":\"x\",\"y\":[-1865.0,-1865.0,-1875.0,-1875.0],\"yaxis\":\"y\",\"type\":\"scatter\"},{\"hoverinfo\":\"text\",\"marker\":{\"color\":\"rgb(61,153,112)\"},\"mode\":\"lines\",\"x\":[0.0,0.9114270444270914,0.9114270444270914,0.8558601272510733],\"xaxis\":\"x\",\"y\":[-1855.0,-1855.0,-1870.0,-1870.0],\"yaxis\":\"y\",\"type\":\"scatter\"},{\"hoverinfo\":\"text\",\"marker\":{\"color\":\"rgb(61,153,112)\"},\"mode\":\"lines\",\"x\":[0.9114270444270914,0.9430929180850678,0.9430929180850678,0.0],\"xaxis\":\"x\",\"y\":[-1862.5,-1862.5,-1885.0,-1885.0],\"yaxis\":\"y\",\"type\":\"scatter\"},{\"hoverinfo\":\"text\",\"marker\":{\"color\":\"rgb(61,153,112)\"},\"mode\":\"lines\",\"x\":[0.8300979896418645,0.9886632166561945,0.9886632166561945,0.9430929180850678],\"xaxis\":\"x\",\"y\":[-1815.625,-1815.625,-1873.75,-1873.75],\"yaxis\":\"y\",\"type\":\"scatter\"},{\"hoverinfo\":\"text\",\"marker\":{\"color\":\"rgb(255,65,54)\"},\"mode\":\"lines\",\"x\":[0.0,0.5529837580039257,0.5529837580039257,0.0],\"xaxis\":\"x\",\"y\":[-1905.0,-1905.0,-1915.0,-1915.0],\"yaxis\":\"y\",\"type\":\"scatter\"},{\"hoverinfo\":\"text\",\"marker\":{\"color\":\"rgb(255,65,54)\"},\"mode\":\"lines\",\"x\":[0.0,0.7446926113104034,0.7446926113104034,0.5529837580039257],\"xaxis\":\"x\",\"y\":[-1895.0,-1895.0,-1910.0,-1910.0],\"yaxis\":\"y\",\"type\":\"scatter\"},{\"hoverinfo\":\"text\",\"marker\":{\"color\":\"rgb(255,65,54)\"},\"mode\":\"lines\",\"x\":[0.7446926113104034,0.7664221317217492,0.7664221317217492,0.0],\"xaxis\":\"x\",\"y\":[-1902.5,-1902.5,-1925.0,-1925.0],\"yaxis\":\"y\",\"type\":\"scatter\"},{\"hoverinfo\":\"text\",\"marker\":{\"color\":\"rgb(255,65,54)\"},\"mode\":\"lines\",\"x\":[0.0,0.6845946587875724,0.6845946587875724,0.0],\"xaxis\":\"x\",\"y\":[-1935.0,-1935.0,-1945.0,-1945.0],\"yaxis\":\"y\",\"type\":\"scatter\"},{\"hoverinfo\":\"text\",\"marker\":{\"color\":\"rgb(255,65,54)\"},\"mode\":\"lines\",\"x\":[0.6845946587875724,0.8244548212341362,0.8244548212341362,0.0],\"xaxis\":\"x\",\"y\":[-1940.0,-1940.0,-1955.0,-1955.0],\"yaxis\":\"y\",\"type\":\"scatter\"},{\"hoverinfo\":\"text\",\"marker\":{\"color\":\"rgb(255,65,54)\"},\"mode\":\"lines\",\"x\":[0.7664221317217492,0.9789590505796794,0.9789590505796794,0.8244548212341362],\"xaxis\":\"x\",\"y\":[-1913.75,-1913.75,-1947.5,-1947.5],\"yaxis\":\"y\",\"type\":\"scatter\"},{\"hoverinfo\":\"text\",\"marker\":{\"color\":\"rgb(0,116,217)\"},\"mode\":\"lines\",\"x\":[0.9886632166561945,1.0380328433541433,1.0380328433541433,0.9789590505796794],\"xaxis\":\"x\",\"y\":[-1844.6875,-1844.6875,-1930.625,-1930.625],\"yaxis\":\"y\",\"type\":\"scatter\"},{\"hoverinfo\":\"text\",\"marker\":{\"color\":\"rgb(0,116,217)\"},\"mode\":\"lines\",\"x\":[1.0107952358591008,1.1103611375220006,1.1103611375220006,1.0380328433541433],\"xaxis\":\"x\",\"y\":[-1771.875,-1771.875,-1887.65625,-1887.65625],\"yaxis\":\"y\",\"type\":\"scatter\"},{\"hoverinfo\":\"text\",\"marker\":{\"color\":\"rgb(35,205,205)\"},\"mode\":\"lines\",\"x\":[0.0,0.6648071013681276,0.6648071013681276,0.0],\"xaxis\":\"x\",\"y\":[-1965.0,-1965.0,-1975.0,-1975.0],\"yaxis\":\"y\",\"type\":\"scatter\"},{\"hoverinfo\":\"text\",\"marker\":{\"color\":\"rgb(35,205,205)\"},\"mode\":\"lines\",\"x\":[0.6648071013681276,0.7414874741891991,0.7414874741891991,0.0],\"xaxis\":\"x\",\"y\":[-1970.0,-1970.0,-1985.0,-1985.0],\"yaxis\":\"y\",\"type\":\"scatter\"},{\"hoverinfo\":\"text\",\"marker\":{\"color\":\"rgb(35,205,205)\"},\"mode\":\"lines\",\"x\":[0.7414874741891991,0.8041693610776088,0.8041693610776088,0.0],\"xaxis\":\"x\",\"y\":[-1977.5,-1977.5,-1995.0,-1995.0],\"yaxis\":\"y\",\"type\":\"scatter\"},{\"hoverinfo\":\"text\",\"marker\":{\"color\":\"rgb(0,116,217)\"},\"mode\":\"lines\",\"x\":[1.1103611375220006,1.1500177860380432,1.1500177860380432,0.8041693610776088],\"xaxis\":\"x\",\"y\":[-1829.765625,-1829.765625,-1986.25,-1986.25],\"yaxis\":\"y\",\"type\":\"scatter\"},{\"hoverinfo\":\"text\",\"marker\":{\"color\":\"rgb(0,116,217)\"},\"mode\":\"lines\",\"x\":[1.4440001952692574,1.7852294349483038,1.7852294349483038,1.1500177860380432],\"xaxis\":\"x\",\"y\":[-1472.734375,-1472.734375,-1908.0078125,-1908.0078125],\"yaxis\":\"y\",\"type\":\"scatter\"},{\"hoverinfo\":\"text\",\"marker\":{\"color\":\"rgb(0,116,217)\"},\"mode\":\"lines\",\"x\":[1.8614326336591476,2.2187671502165687,2.2187671502165687,1.7852294349483038],\"xaxis\":\"x\",\"y\":[-679.0576171875,-679.0576171875,-1690.37109375,-1690.37109375],\"yaxis\":\"y\",\"type\":\"scatter\"},{\"hoverinfo\":\"text\",\"marker\":{\"color\":\"rgb(0,116,217)\"},\"mode\":\"lines\",\"x\":[1.227133549792967,2.771967113554692,2.771967113554692,2.2187671502165687],\"xaxis\":\"x\",\"y\":[-114.8828125,-114.8828125,-1184.71435546875,-1184.71435546875],\"yaxis\":\"y\",\"type\":\"scatter\"}],                        {\"autosize\":false,\"height\":3200,\"hovermode\":\"closest\",\"showlegend\":false,\"width\":1000,\"xaxis\":{\"mirror\":\"allticks\",\"rangemode\":\"tozero\",\"showgrid\":false,\"showline\":true,\"showticklabels\":true,\"ticks\":\"outside\",\"type\":\"linear\",\"zeroline\":false},\"yaxis\":{\"mirror\":\"allticks\",\"rangemode\":\"tozero\",\"showgrid\":false,\"showline\":true,\"showticklabels\":true,\"tickmode\":\"array\",\"ticks\":\"outside\",\"ticktext\":[\"181_types_goalkeeper_deepfa...\",\"61_nevillegaunt_fogleshane_...\",\"76_happyfriday_ff_fabriziob...\",\"56_margaretsiegien_albertoe...\",\"64_anandnarang_fabriziobust...\",\"196_visualcap_joannmoretti_...\",\"27_drones_drone_metaverse\",\"50_mobility_recipe_margaret...\",\"22_drone_jeroenbartelse_dro...\",\"36_drone_drones_ar\",\"167_robotics_curieuxexplore...\",\"33_ar_augmentedreality_wear...\",\"13_logistics_drone_drones\",\"73_cio_technology_futureofw...\",\"57_autonomousvehicles_robot...\",\"47_robotics_robot_automation\",\"20_robotics_automation_futu...\",\"169_robot_robots_leur\",\"126_reinforcement_method_pa...\",\"151_artificiallintelligence...\",\"178_selfdrivingcars_japan_s...\",\"192_siemens_fia_siex\",\"148_cfo_charge_accauk\",\"160_httpstcoqetmsrxiys_type...\",\"21_rvolution_viva_piges\",\"185_employ_lexprience_relire\",\"58_relire_le_les\",\"45_organisation_une_managem...\",\"84_quattendu_httpstcooirfqy...\",\"193_commence_quand_finit\",\"42_transplant_httpstcouzjqz...\",\"97_noaasos_1901_occurred\",\"79_aguscicomm_scicomm_postc...\",\"112_scientists_science_search\",\"137_danariely_teenage_sex\",\"82_messes_knowledgebases_sp...\",\"14_connects_dead_loyalty\",\"183_proves_hyperlink_lets\",\"0_champagne_barty_peanut\",\"129_lego_bricks_brickit\",\"156_cursive_calligraphy_han...\",\"116_potatochip_httpstcot10u...\",\"152_posture_httpstcotvqaild...\",\"187_ethics_httpstcou8gsluxd...\",\"105_empathy_chokes_chatted\",\"162_bots_neuroskeptic_sama\",\"43_movingbeyonddatadriven_a...\",\"40_chatbots_acuvate_chatbot\",\"59_httpstcop9bkuhwxqn_scoop...\",\"134_languagetext_developmen...\",\"12_guess_mangle_mangling\",\"89_exclamationpoints_incite...\",\"197_warped_assignment_atten...\",\"168_22year_normsstandards_e...\",\"65_syringes_pfizer_ppl\",\"37_compliance_lcnc_nocode\",\"6_shutterstock_blade_getty\",\"141_deboosting_suspect_inte...\",\"104_almostspring_blustery_h...\",\"136_httpstcook0i0gt5rw_pros...\",\"144_httpstcod8ngulsu1s_brow...\",\"48_httpstcognwuoinxnw_retro...\",\"25_chrisggarrod_moment_work...\",\"15_caviar_jeanneshorts_reor...\",\"9_pluckyluke_httpstcoslzy8m...\",\"67_football_parties_beranso...\",\"155_democracies_capitol_cry...\",\"35_httpstcoqnn5nakhds_trapp...\",\"31_httpstcokrnersxkl0_inner...\",\"103_hakomtimeseries_happytu...\",\"114_dear_mention_frronconi\",\"2_kmcdtech_mariafariello1_a...\",\"149_python_reactjs_rstats\",\"44_python_tensorflow_server...\",\"176_linux_cloudcomputing_pr...\",\"122_gtgtgt_ecommerce_acquis...\",\"75_emergingtech_technology_...\",\"120_gtgtgt_5g_rome\",\"91_5g_6g_bn\",\"98_5g_satellite_fiber\",\"11_channel_socialmedia_phone\",\"121_arkit_mixedreality_ar\",\"74_sensors_wearabletech_htt...\",\"81_sustainability_renewable...\",\"117_energy_carbon_sustainab...\",\"39_climate_energy_renewable\",\"90_energy_sustainable_future\",\"157_carbon_investment_finance\",\"145_truckers_retailers_paym...\",\"70_disrupted_digitaltransfo...\",\"125_influencers_marketers_i...\",\"165_digital_google_holistic\",\"8_wallet_daily_adults\",\"146_httpstcotn8c1es1p8_heal...\",\"194_digitaltransformation_d...\",\"46_leadership_digitaltransf...\",\"179_digitaltransformation_d...\",\"188_digital_transformation_...\",\"159_httpstcooojl14pws8_post...\",\"3_web30_blockchaintechnolog...\",\"88_nft_cfo_netzero\",\"130_ransomware_barracuda_mu...\",\"150_metaverse_inclusive_cit...\",\"4_twins_manage_digitaltwin\",\"85_choice_smart_home\",\"143_gdpr_security_privacy\",\"17_hours_cybersecurity_exfi...\",\"18_blockchain_payments_crypto\",\"102_fintech_regtech_regulat...\",\"170_machine_learning_ai\",\"189_transformation_ai_nonde...\",\"87_data_transformation_digi...\",\"109_transformation_data_dig...\",\"119_waste_education_compost...\",\"53_data_blindfolded_ignore\",\"186_data_connectivity_proper\",\"184_artificial_intelligence...\",\"124_artificialintelligence_...\",\"182_ml_sepsis_ai\",\"108_dunkin_jasper_modifiers\",\"199_potential_jobs_commercial\",\"118_sustainable_digitaltwin...\",\"55_cio_technology_todays\",\"113_cio_technology_todays\",\"1_cio_technology_todays\",\"29_powerapps_365_dynamics\",\"147_365_dynamics_microsoft\",\"171_msdyn365_dynamics365_365\",\"19_httpstcogomltla9hi_preco...\",\"72_httpstcomqzsew0vjn_talen...\",\"83_benefits_datadriven_impo...\",\"195_hr_httpstcodup6gxqggm_a...\",\"16_develop_httpstco89sdicjo...\",\"140_httpstcoulekl09xju_recr...\",\"38_employee_experience_oldies\",\"127_employee_oldies_experie...\",\"172_oldies_remote_resultsor...\",\"180_verge_stories_httpstcoi...\",\"163_verge_stories_covid\",\"133_verge_stories_oldies\",\"32_verge_stories_httpstcoll...\",\"142_indefensible_advocating...\",\"190_pandemic_covid19_societ...\",\"132_covid_condo_pet\",\"41_covid_pandemic_vaccines\",\"99_httpstcozxika773dn_https...\",\"30_tesla_httpstcojt2gy04oyy...\",\"154_sell_return_fivestars\",\"106_fsd_performance_beta\",\"24_store_app_apple\",\"166_media_facebook_apple\",\"5_governance_left_twitter\",\"191_httpstcov9pfsmhqht_cons...\",\"115_scam_fake_verifying\",\"100_heyhey_mrms_httpstcozlw...\",\"7_twitter_teslaownerssv_tweet\",\"71_twitter_teslaownerssv_tw...\",\"164_richards_punctuation_de...\",\"63_cleanupyourcrm_spelled_l...\",\"198_guru_gurus_inspirational\",\"123_writer_client_email\",\"173_write_customerservice_j...\",\"174_cxchat_cx_speaking\",\"93_customer_customers_exper...\",\"135_writing_skills_prof\",\"54_taste_ppl_flowers\",\"77_boss_writing_plainlanguage\",\"138_trust_readers_yuck\",\"51_scoldy_allergy_dislike\",\"158_emails_terriers_convey\",\"92_mistakes_making_skills\",\"10_constrain_poorer_annotat...\",\"153_kidney_beautiful_chatbot\",\"110_httpstco5jluny7btw_writ...\",\"69_marketing_ceo_smallbusin...\",\"111_teslaconomics_minute_vi...\",\"62_tesla_haha_shareholder\",\"101_esg_scaleup_build\",\"60_booster_orbit_engines\",\"177_httpstcocxpoqjsmgx_refo...\",\"80_webcam_fingers_basecamp\",\"95_introduce_hashtag_a1\",\"34_emojis_increase_email\",\"26_liverpool_happy_birthday\",\"86_httpstcodvnl9g76i0_eligi...\",\"161_thats_lyrate_amore\",\"28_gift_congratulations_chr...\",\"49_spacex_tesla_realaaai\",\"94_creativity_dataprimeai_h...\",\"131_nevillegaunt_jolaburnet...\",\"96_enricomolinari_sallyeave...\",\"107_spacex_jtwatkin_custome...\",\"23_emojis_weekly_eastern\",\"175_plain_weekly_wonderful\",\"139_cx_podcast_join\",\"66_keithbroni_karenchurch_t...\",\"52_haha_great_email\",\"68_billym2k_wholemarsblog_e...\",\"128_thank_hi_welcome\",\"78_birthday_love_oh\"],\"tickvals\":[-5.0,-15.0,-25.0,-35.0,-45.0,-55.0,-65.0,-75.0,-85.0,-95.0,-105.0,-115.0,-125.0,-135.0,-145.0,-155.0,-165.0,-175.0,-185.0,-195.0,-205.0,-215.0,-225.0,-235.0,-245.0,-255.0,-265.0,-275.0,-285.0,-295.0,-305.0,-315.0,-325.0,-335.0,-345.0,-355.0,-365.0,-375.0,-385.0,-395.0,-405.0,-415.0,-425.0,-435.0,-445.0,-455.0,-465.0,-475.0,-485.0,-495.0,-505.0,-515.0,-525.0,-535.0,-545.0,-555.0,-565.0,-575.0,-585.0,-595.0,-605.0,-615.0,-625.0,-635.0,-645.0,-655.0,-665.0,-675.0,-685.0,-695.0,-705.0,-715.0,-725.0,-735.0,-745.0,-755.0,-765.0,-775.0,-785.0,-795.0,-805.0,-815.0,-825.0,-835.0,-845.0,-855.0,-865.0,-875.0,-885.0,-895.0,-905.0,-915.0,-925.0,-935.0,-945.0,-955.0,-965.0,-975.0,-985.0,-995.0,-1005.0,-1015.0,-1025.0,-1035.0,-1045.0,-1055.0,-1065.0,-1075.0,-1085.0,-1095.0,-1105.0,-1115.0,-1125.0,-1135.0,-1145.0,-1155.0,-1165.0,-1175.0,-1185.0,-1195.0,-1205.0,-1215.0,-1225.0,-1235.0,-1245.0,-1255.0,-1265.0,-1275.0,-1285.0,-1295.0,-1305.0,-1315.0,-1325.0,-1335.0,-1345.0,-1355.0,-1365.0,-1375.0,-1385.0,-1395.0,-1405.0,-1415.0,-1425.0,-1435.0,-1445.0,-1455.0,-1465.0,-1475.0,-1485.0,-1495.0,-1505.0,-1515.0,-1525.0,-1535.0,-1545.0,-1555.0,-1565.0,-1575.0,-1585.0,-1595.0,-1605.0,-1615.0,-1625.0,-1635.0,-1645.0,-1655.0,-1665.0,-1675.0,-1685.0,-1695.0,-1705.0,-1715.0,-1725.0,-1735.0,-1745.0,-1755.0,-1765.0,-1775.0,-1785.0,-1795.0,-1805.0,-1815.0,-1825.0,-1835.0,-1845.0,-1855.0,-1865.0,-1875.0,-1885.0,-1895.0,-1905.0,-1915.0,-1925.0,-1935.0,-1945.0,-1955.0,-1965.0,-1975.0,-1985.0,-1995.0],\"type\":\"linear\",\"zeroline\":false,\"range\":[-2000.0,0.0]},\"template\":{\"data\":{\"barpolar\":[{\"marker\":{\"line\":{\"color\":\"white\",\"width\":0.5},\"pattern\":{\"fillmode\":\"overlay\",\"size\":10,\"solidity\":0.2}},\"type\":\"barpolar\"}],\"bar\":[{\"error_x\":{\"color\":\"#2a3f5f\"},\"error_y\":{\"color\":\"#2a3f5f\"},\"marker\":{\"line\":{\"color\":\"white\",\"width\":0.5},\"pattern\":{\"fillmode\":\"overlay\",\"size\":10,\"solidity\":0.2}},\"type\":\"bar\"}],\"carpet\":[{\"aaxis\":{\"endlinecolor\":\"#2a3f5f\",\"gridcolor\":\"#C8D4E3\",\"linecolor\":\"#C8D4E3\",\"minorgridcolor\":\"#C8D4E3\",\"startlinecolor\":\"#2a3f5f\"},\"baxis\":{\"endlinecolor\":\"#2a3f5f\",\"gridcolor\":\"#C8D4E3\",\"linecolor\":\"#C8D4E3\",\"minorgridcolor\":\"#C8D4E3\",\"startlinecolor\":\"#2a3f5f\"},\"type\":\"carpet\"}],\"choropleth\":[{\"colorbar\":{\"outlinewidth\":0,\"ticks\":\"\"},\"type\":\"choropleth\"}],\"contourcarpet\":[{\"colorbar\":{\"outlinewidth\":0,\"ticks\":\"\"},\"type\":\"contourcarpet\"}],\"contour\":[{\"colorbar\":{\"outlinewidth\":0,\"ticks\":\"\"},\"colorscale\":[[0.0,\"#0d0887\"],[0.1111111111111111,\"#46039f\"],[0.2222222222222222,\"#7201a8\"],[0.3333333333333333,\"#9c179e\"],[0.4444444444444444,\"#bd3786\"],[0.5555555555555556,\"#d8576b\"],[0.6666666666666666,\"#ed7953\"],[0.7777777777777778,\"#fb9f3a\"],[0.8888888888888888,\"#fdca26\"],[1.0,\"#f0f921\"]],\"type\":\"contour\"}],\"heatmapgl\":[{\"colorbar\":{\"outlinewidth\":0,\"ticks\":\"\"},\"colorscale\":[[0.0,\"#0d0887\"],[0.1111111111111111,\"#46039f\"],[0.2222222222222222,\"#7201a8\"],[0.3333333333333333,\"#9c179e\"],[0.4444444444444444,\"#bd3786\"],[0.5555555555555556,\"#d8576b\"],[0.6666666666666666,\"#ed7953\"],[0.7777777777777778,\"#fb9f3a\"],[0.8888888888888888,\"#fdca26\"],[1.0,\"#f0f921\"]],\"type\":\"heatmapgl\"}],\"heatmap\":[{\"colorbar\":{\"outlinewidth\":0,\"ticks\":\"\"},\"colorscale\":[[0.0,\"#0d0887\"],[0.1111111111111111,\"#46039f\"],[0.2222222222222222,\"#7201a8\"],[0.3333333333333333,\"#9c179e\"],[0.4444444444444444,\"#bd3786\"],[0.5555555555555556,\"#d8576b\"],[0.6666666666666666,\"#ed7953\"],[0.7777777777777778,\"#fb9f3a\"],[0.8888888888888888,\"#fdca26\"],[1.0,\"#f0f921\"]],\"type\":\"heatmap\"}],\"histogram2dcontour\":[{\"colorbar\":{\"outlinewidth\":0,\"ticks\":\"\"},\"colorscale\":[[0.0,\"#0d0887\"],[0.1111111111111111,\"#46039f\"],[0.2222222222222222,\"#7201a8\"],[0.3333333333333333,\"#9c179e\"],[0.4444444444444444,\"#bd3786\"],[0.5555555555555556,\"#d8576b\"],[0.6666666666666666,\"#ed7953\"],[0.7777777777777778,\"#fb9f3a\"],[0.8888888888888888,\"#fdca26\"],[1.0,\"#f0f921\"]],\"type\":\"histogram2dcontour\"}],\"histogram2d\":[{\"colorbar\":{\"outlinewidth\":0,\"ticks\":\"\"},\"colorscale\":[[0.0,\"#0d0887\"],[0.1111111111111111,\"#46039f\"],[0.2222222222222222,\"#7201a8\"],[0.3333333333333333,\"#9c179e\"],[0.4444444444444444,\"#bd3786\"],[0.5555555555555556,\"#d8576b\"],[0.6666666666666666,\"#ed7953\"],[0.7777777777777778,\"#fb9f3a\"],[0.8888888888888888,\"#fdca26\"],[1.0,\"#f0f921\"]],\"type\":\"histogram2d\"}],\"histogram\":[{\"marker\":{\"pattern\":{\"fillmode\":\"overlay\",\"size\":10,\"solidity\":0.2}},\"type\":\"histogram\"}],\"mesh3d\":[{\"colorbar\":{\"outlinewidth\":0,\"ticks\":\"\"},\"type\":\"mesh3d\"}],\"parcoords\":[{\"line\":{\"colorbar\":{\"outlinewidth\":0,\"ticks\":\"\"}},\"type\":\"parcoords\"}],\"pie\":[{\"automargin\":true,\"type\":\"pie\"}],\"scatter3d\":[{\"line\":{\"colorbar\":{\"outlinewidth\":0,\"ticks\":\"\"}},\"marker\":{\"colorbar\":{\"outlinewidth\":0,\"ticks\":\"\"}},\"type\":\"scatter3d\"}],\"scattercarpet\":[{\"marker\":{\"colorbar\":{\"outlinewidth\":0,\"ticks\":\"\"}},\"type\":\"scattercarpet\"}],\"scattergeo\":[{\"marker\":{\"colorbar\":{\"outlinewidth\":0,\"ticks\":\"\"}},\"type\":\"scattergeo\"}],\"scattergl\":[{\"marker\":{\"colorbar\":{\"outlinewidth\":0,\"ticks\":\"\"}},\"type\":\"scattergl\"}],\"scattermapbox\":[{\"marker\":{\"colorbar\":{\"outlinewidth\":0,\"ticks\":\"\"}},\"type\":\"scattermapbox\"}],\"scatterpolargl\":[{\"marker\":{\"colorbar\":{\"outlinewidth\":0,\"ticks\":\"\"}},\"type\":\"scatterpolargl\"}],\"scatterpolar\":[{\"marker\":{\"colorbar\":{\"outlinewidth\":0,\"ticks\":\"\"}},\"type\":\"scatterpolar\"}],\"scatter\":[{\"fillpattern\":{\"fillmode\":\"overlay\",\"size\":10,\"solidity\":0.2},\"type\":\"scatter\"}],\"scatterternary\":[{\"marker\":{\"colorbar\":{\"outlinewidth\":0,\"ticks\":\"\"}},\"type\":\"scatterternary\"}],\"surface\":[{\"colorbar\":{\"outlinewidth\":0,\"ticks\":\"\"},\"colorscale\":[[0.0,\"#0d0887\"],[0.1111111111111111,\"#46039f\"],[0.2222222222222222,\"#7201a8\"],[0.3333333333333333,\"#9c179e\"],[0.4444444444444444,\"#bd3786\"],[0.5555555555555556,\"#d8576b\"],[0.6666666666666666,\"#ed7953\"],[0.7777777777777778,\"#fb9f3a\"],[0.8888888888888888,\"#fdca26\"],[1.0,\"#f0f921\"]],\"type\":\"surface\"}],\"table\":[{\"cells\":{\"fill\":{\"color\":\"#EBF0F8\"},\"line\":{\"color\":\"white\"}},\"header\":{\"fill\":{\"color\":\"#C8D4E3\"},\"line\":{\"color\":\"white\"}},\"type\":\"table\"}]},\"layout\":{\"annotationdefaults\":{\"arrowcolor\":\"#2a3f5f\",\"arrowhead\":0,\"arrowwidth\":1},\"autotypenumbers\":\"strict\",\"coloraxis\":{\"colorbar\":{\"outlinewidth\":0,\"ticks\":\"\"}},\"colorscale\":{\"diverging\":[[0,\"#8e0152\"],[0.1,\"#c51b7d\"],[0.2,\"#de77ae\"],[0.3,\"#f1b6da\"],[0.4,\"#fde0ef\"],[0.5,\"#f7f7f7\"],[0.6,\"#e6f5d0\"],[0.7,\"#b8e186\"],[0.8,\"#7fbc41\"],[0.9,\"#4d9221\"],[1,\"#276419\"]],\"sequential\":[[0.0,\"#0d0887\"],[0.1111111111111111,\"#46039f\"],[0.2222222222222222,\"#7201a8\"],[0.3333333333333333,\"#9c179e\"],[0.4444444444444444,\"#bd3786\"],[0.5555555555555556,\"#d8576b\"],[0.6666666666666666,\"#ed7953\"],[0.7777777777777778,\"#fb9f3a\"],[0.8888888888888888,\"#fdca26\"],[1.0,\"#f0f921\"]],\"sequentialminus\":[[0.0,\"#0d0887\"],[0.1111111111111111,\"#46039f\"],[0.2222222222222222,\"#7201a8\"],[0.3333333333333333,\"#9c179e\"],[0.4444444444444444,\"#bd3786\"],[0.5555555555555556,\"#d8576b\"],[0.6666666666666666,\"#ed7953\"],[0.7777777777777778,\"#fb9f3a\"],[0.8888888888888888,\"#fdca26\"],[1.0,\"#f0f921\"]]},\"colorway\":[\"#636efa\",\"#EF553B\",\"#00cc96\",\"#ab63fa\",\"#FFA15A\",\"#19d3f3\",\"#FF6692\",\"#B6E880\",\"#FF97FF\",\"#FECB52\"],\"font\":{\"color\":\"#2a3f5f\"},\"geo\":{\"bgcolor\":\"white\",\"lakecolor\":\"white\",\"landcolor\":\"white\",\"showlakes\":true,\"showland\":true,\"subunitcolor\":\"#C8D4E3\"},\"hoverlabel\":{\"align\":\"left\"},\"hovermode\":\"closest\",\"mapbox\":{\"style\":\"light\"},\"paper_bgcolor\":\"white\",\"plot_bgcolor\":\"white\",\"polar\":{\"angularaxis\":{\"gridcolor\":\"#EBF0F8\",\"linecolor\":\"#EBF0F8\",\"ticks\":\"\"},\"bgcolor\":\"white\",\"radialaxis\":{\"gridcolor\":\"#EBF0F8\",\"linecolor\":\"#EBF0F8\",\"ticks\":\"\"}},\"scene\":{\"xaxis\":{\"backgroundcolor\":\"white\",\"gridcolor\":\"#DFE8F3\",\"gridwidth\":2,\"linecolor\":\"#EBF0F8\",\"showbackground\":true,\"ticks\":\"\",\"zerolinecolor\":\"#EBF0F8\"},\"yaxis\":{\"backgroundcolor\":\"white\",\"gridcolor\":\"#DFE8F3\",\"gridwidth\":2,\"linecolor\":\"#EBF0F8\",\"showbackground\":true,\"ticks\":\"\",\"zerolinecolor\":\"#EBF0F8\"},\"zaxis\":{\"backgroundcolor\":\"white\",\"gridcolor\":\"#DFE8F3\",\"gridwidth\":2,\"linecolor\":\"#EBF0F8\",\"showbackground\":true,\"ticks\":\"\",\"zerolinecolor\":\"#EBF0F8\"}},\"shapedefaults\":{\"line\":{\"color\":\"#2a3f5f\"}},\"ternary\":{\"aaxis\":{\"gridcolor\":\"#DFE8F3\",\"linecolor\":\"#A2B1C6\",\"ticks\":\"\"},\"baxis\":{\"gridcolor\":\"#DFE8F3\",\"linecolor\":\"#A2B1C6\",\"ticks\":\"\"},\"bgcolor\":\"white\",\"caxis\":{\"gridcolor\":\"#DFE8F3\",\"linecolor\":\"#A2B1C6\",\"ticks\":\"\"}},\"title\":{\"x\":0.05},\"xaxis\":{\"automargin\":true,\"gridcolor\":\"#EBF0F8\",\"linecolor\":\"#EBF0F8\",\"ticks\":\"\",\"title\":{\"standoff\":15},\"zerolinecolor\":\"#EBF0F8\",\"zerolinewidth\":2},\"yaxis\":{\"automargin\":true,\"gridcolor\":\"#EBF0F8\",\"linecolor\":\"#EBF0F8\",\"ticks\":\"\",\"title\":{\"standoff\":15},\"zerolinecolor\":\"#EBF0F8\",\"zerolinewidth\":2}}},\"title\":{\"font\":{\"size\":22,\"color\":\"Black\"},\"text\":\"<b>Hierarchical Clustering</b>\",\"x\":0.5,\"xanchor\":\"center\",\"yanchor\":\"top\"},\"hoverlabel\":{\"font\":{\"size\":16,\"family\":\"Rockwell\"},\"bgcolor\":\"white\"},\"plot_bgcolor\":\"#ECEFF1\"},                        {\"responsive\": true}                    ).then(function(){\n",
       "                            \n",
       "var gd = document.getElementById('69b192fa-f3eb-417a-bed2-520bb7ecdec3');\n",
       "var x = new MutationObserver(function (mutations, observer) {{\n",
       "        var display = window.getComputedStyle(gd).display;\n",
       "        if (!display || display === 'none') {{\n",
       "            console.log([gd, 'removed!']);\n",
       "            Plotly.purge(gd);\n",
       "            observer.disconnect();\n",
       "        }}\n",
       "}});\n",
       "\n",
       "// Listen for the removal of the full notebook cells\n",
       "var notebookContainer = gd.closest('#notebook-container');\n",
       "if (notebookContainer) {{\n",
       "    x.observe(notebookContainer, {childList: true});\n",
       "}}\n",
       "\n",
       "// Listen for the clearing of the current output cell\n",
       "var outputEl = gd.closest('.output');\n",
       "if (outputEl) {{\n",
       "    x.observe(outputEl, {childList: true});\n",
       "}}\n",
       "\n",
       "                        })                };                });            </script>        </div>"
      ]
     },
     "metadata": {},
     "output_type": "display_data"
    }
   ],
   "source": [
    "topic_model.visualize_hierarchy()"
   ]
  },
  {
   "cell_type": "code",
   "execution_count": 32,
   "metadata": {},
   "outputs": [
    {
     "data": {
      "text/html": [
       "<style>.itables table td {\n",
       "    text-overflow: ellipsis;\n",
       "    overflow: hidden;\n",
       "}\n",
       "\n",
       ".itables table th {\n",
       "    text-overflow: ellipsis;\n",
       "    overflow: hidden;\n",
       "}\n",
       "\n",
       ".itables thead input {\n",
       "    width: 100%;\n",
       "    padding: 3px;\n",
       "    box-sizing: border-box;\n",
       "}\n",
       "\n",
       ".itables tfoot input {\n",
       "    width: 100%;\n",
       "    padding: 3px;\n",
       "    box-sizing: border-box;\n",
       "}\n",
       "</style>\n",
       "<div class=\"itables\">\n",
       "<table id=\"c4875755-a219-48f7-9121-9818a832e60a\" class=\"display nowrap\"style=\"table-layout:auto;width:auto;margin:auto;caption-side:bottom\"><thead>\n",
       "    <tr style=\"text-align: right;\">\n",
       "      \n",
       "      <th>Topic</th>\n",
       "      <th>Count</th>\n",
       "      <th>Name</th>\n",
       "      <th>Representation</th>\n",
       "      <th>Representative_Docs</th>\n",
       "    </tr>\n",
       "  </thead><tbody><tr><td>Loading... (need <a href=https://mwouts.github.io/itables/troubleshooting.html>help</a>?)</td></tr></tbody></table>\n",
       "<link rel=\"stylesheet\" type=\"text/css\" href=\"https://cdn.datatables.net/1.13.1/css/jquery.dataTables.min.css\">\n",
       "<script type=\"module\">\n",
       "    // Import jquery and DataTable\n",
       "    import 'https://code.jquery.com/jquery-3.6.0.min.js';\n",
       "    import dt from 'https://cdn.datatables.net/1.12.1/js/jquery.dataTables.mjs';\n",
       "    dt($);\n",
       "\n",
       "    // Define the table data\n",
       "    const data = [[0, 3282, \"0_champagne_barty_peanut_butter\", \"[champagne, barty, peanut, butter, invited, ringgoparking, andalusia, medulin, jokebazz, rookery]\", NaN], [1, 5756, \"1_cio_technology_todays_news\", \"[cio, technology, todays, news, thanks, digitaltransformation, datashadow, ai, drdatascientist, pmturner3]\", NaN], [2, 970, \"2_kmcdtech_mariafariello1_ahier_kidscreen\", \"[kmcdtech, mariafariello1, ahier, kidscreen, lanceeliot, spirosmargaris, andistaub, diofavatas, ponder, psbdc]\", NaN], [3, 6010, \"3_web30_blockchaintechnology_speeds_bright\", \"[web30, blockchaintechnology, speeds, bright, trillion, dollars, improved, sector, lower, 2023]\", NaN], [4, 5412, \"4_twins_manage_digitaltwin_remote\", \"[twins, manage, digitaltwin, remote, effectively, considered, infrastructure, services, staff, concerns]\", NaN], [5, 7933, \"5_governance_left_twitter_aint\", \"[governance, left, twitter, aint, information, speech, propaganda, truth, integrity, billionaire]\", NaN], [6, 1632, \"6_shutterstock_blade_getty_runner\", \"[shutterstock, blade, getty, runner, white, regime, facial, httpstcolzjppf2p60, expectable, kamatsu8]\", NaN], [7, 6667, \"7_twitter_teslaownerssv_tweet_tweets\", \"[twitter, teslaownerssv, tweet, tweets, users, just, hey, release, like, beta]\", NaN], [8, 3628, \"8_wallet_daily_adults_errors\", \"[wallet, daily, adults, errors, costly, apple, digital, intelinsider, digitalwallet, exceeded]\", NaN], [9, 11147, \"9_pluckyluke_httpstcoslzy8maqtd_rockstardenied_delish\", \"[pluckyluke, httpstcoslzy8maqtd, rockstardenied, delish, napkin, resorts, resortsworldlv, lvcva, pontifex, turtles]\", NaN], [10, 3166, \"10_constrain_poorer_annotation_multitasking\", \"[constrain, poorer, annotation, multitasking, concentration, reviewing, mindset, entertainment, reduced, print]\", NaN], [11, 8291, \"11_channel_socialmedia_phone_smartphone\", \"[channel, socialmedia, phone, smartphone, tattoo, caste, wearables, smartphones, augmentedreality, privacy]\", NaN], [12, 6736, \"12_guess_mangle_mangling_elephant\", \"[guess, mangle, mangling, elephant, idioms, collected, white, room, address, especially]\", NaN], [13, 3718, \"13_logistics_drone_drones_automated\", \"[logistics, drone, drones, automated, delivery, electricvehicles, xuzhou, uav, mile, httpstco1ajbwyzhfi]\", NaN], [14, 650, \"14_connects_dead_loyalty_brand\", \"[connects, dead, loyalty, brand, govplainlang, voice, breeds, bureaucratic, distrust, digitalgov]\", NaN], [15, 5860, \"15_caviar_jeanneshorts_reorder_pls\", \"[caviar, jeanneshorts, reorder, pls, status, touch, domingonarvaez1, sarbjeet, httpstcopy9xlliukt, galbi]\", NaN], [16, 4000, \"16_develop_httpstco89sdicjo7u_cowritten_career\", \"[develop, httpstco89sdicjo7u, cowritten, career, entrylevel, sights, httpstco6tgcbduptp, remotely, cxaccelerator, flatter]\", NaN], [17, 9690, \"17_hours_cybersecurity_exfiltrate_gained\", \"[hours, cybersecurity, exfiltrate, gained, hackers, 64, collect, 41, ethical, potentially]\", NaN], [18, 7904, \"18_blockchain_payments_crypto_fintech\", \"[blockchain, payments, crypto, fintech, 2026, cryptocurrency, farfetch, bitcoin, bank, market]\", NaN], [19, 4732, \"19_httpstcogomltla9hi_preconceived_mediumsized_businesses\", \"[httpstcogomltla9hi, preconceived, mediumsized, businesses, ideas, small, spec, good, competitive, okrs]\", NaN], [20, 1688, \"20_robotics_automation_futureofwork_robots\", \"[robotics, automation, futureofwork, robots, artificialintelligence, ui, labordeolivier, curieuxexplorer, joannmoretti, kalydeoo]\", NaN], [21, 3012, \"21_rvolution_viva_piges_viter\", \"[rvolution, viva, piges, viter, plateformes, httpstcospgk7iw26h, httpstcowditvv4408, transformer, dexprience, oprationnelle]\", NaN], [22, 6521, \"22_drone_jeroenbartelse_drones_robotics\", \"[drone, jeroenbartelse, drones, robotics, curieuxexplorer, agritech, pawlowskimario, autonomousvehicles, automation, hanaelsayyed]\", NaN], [23, 9259, \"23_emojis_weekly_eastern_jennysuedempsey\", \"[emojis, weekly, eastern, jennysuedempsey, deborahbosley, weeks, pm, 12, jtwatkin, complement]\", NaN], [24, 2168, \"24_store_app_apple_apples\", \"[store, app, apple, apples, developers, apps, payment, scams, login, fees]\", NaN], [25, 787, \"25_chrisggarrod_moment_working_dmite09\", \"[chrisggarrod, moment, working, dmite09, danhavlik1, techlife32, thetechxtremist, infoassistant, ya, ai]\", NaN], [26, 11422, \"26_liverpool_happy_birthday_day\", \"[liverpool, happy, birthday, day, celebrating, zennest, space, sht, game, httpstcokwkvc3juyx]\", NaN], [27, 7705, \"27_drones_drone_metaverse_mobility\", \"[drones, drone, metaverse, mobility, autonomous, jeroenbartelse, autonomousvehicles, curieuxexplorer, pawlowskimario, hanaelsayyed]\", NaN], [28, 8569, \"28_gift_congratulations_christmas_httpstcozlwokjblb4\", \"[gift, congratulations, christmas, httpstcozlwokjblb4, special, thank, austinfc, peace, thomastro, ujetcx]\", NaN], [29, 6667, \"29_powerapps_365_dynamics_microsoft\", \"[powerapps, 365, dynamics, microsoft, dynamics365, verge, stories, powerplatform, inogic, news]\", NaN], [30, 7601, \"30_tesla_httpstcojt2gy04oyy_salesforces_httpstcol2nmcct2x3\", \"[tesla, httpstcojt2gy04oyy, salesforces, httpstcol2nmcct2x3, verge, stories, slack, acquisition, ignoring, numbers]\", NaN], [31, 684, \"31_httpstcokrnersxkl0_inner_feelings_surveillance\", \"[httpstcokrnersxkl0, inner, feelings, surveillance, scientific, spy, american, boss, wants, ai]\", NaN], [32, 4353, \"32_verge_stories_httpstcolliypdjecd_trends\", \"[verge, stories, httpstcolliypdjecd, trends, vendors, 2022, unleash18, future, tour, excited]\", NaN], [33, 3274, \"33_ar_augmentedreality_wearables_lenses\", \"[ar, augmentedreality, wearables, lenses, vr, jeroenbartelse, virtualreality, hanaelsayyed, pawlowskimario, curieuxexplorer]\", NaN], [34, 7608, \"34_emojis_increase_email_russia\", \"[emojis, increase, email, russia, subjectlines, likelihood, nngroup, visualcap, sentiment, opened]\", NaN], [35, 4568, \"35_httpstcoqnn5nakhds_trapping_surveillance_delusions\", \"[httpstcoqnn5nakhds, trapping, surveillance, delusions, cnn, verge, stories, older, chamberecosystem, folkseven]\", NaN], [36, 7992, \"36_drone_drones_ar_futureofwork\", \"[drone, drones, ar, futureofwork, pawlowskimario, fabriziobustama, labordeolivier, hanaelsayyed, jeroenbartelse, curieuxexplorer]\", NaN], [37, 569, \"37_compliance_lcnc_nocode_workflow\", \"[compliance, lcnc, nocode, workflow, friction, httpstcoaxx1twaprp, formation, rpa, lowcode, fund]\", NaN], [38, 3060, \"38_employee_experience_oldies_function\", \"[employee, experience, oldies, function, httpstcohszqyq0ooe, benefits, httpstcoau9ahbk9uy, httpstco7uds8qjccp, httpstcoxynjwuragt, employees]\", NaN], [39, 5451, \"39_climate_energy_renewable_geothermal\", \"[climate, energy, renewable, geothermal, emissions, change, sustainable, earth, civilization, planet]\", NaN], [40, 10982, \"40_chatbots_acuvate_chatbot_httpstcogzjwvjgsts\", \"[chatbots, acuvate, chatbot, httpstcogzjwvjgsts, thx, recover, damage, 23, aged, 1824]\", NaN], [41, 10910, \"41_covid_pandemic_vaccines_climate\", \"[covid, pandemic, vaccines, climate, covid19, polio, paint, risk, prevent, million]\", NaN], [42, 5761, \"42_transplant_httpstcouzjqzatnff_facelift_simultaneous\", \"[transplant, httpstcouzjqzatnff, facelift, simultaneous, southwestair, lined, binge, noaasos, showing, shenzhen]\", NaN], [43, 4882, \"43_movingbeyonddatadriven_approachthat_consumercentric_humaning\", \"[movingbeyonddatadriven, approachthat, consumercentric, humaning, unites, uncovering, tactics, bs, define, chatbots]\", NaN], [44, 28450, \"44_python_tensorflow_serverless_reactjs\", \"[python, tensorflow, serverless, reactjs, rstats, linux, javascript, programming, cloudcomputing, datascientist]\", NaN], [45, 4975, \"45_organisation_une_management_le\", \"[organisation, une, management, le, des, relire, organisations, fonction, la, ce]\", NaN], [46, 5777, \"46_leadership_digitaltransformation_transformation_recruiters\", \"[leadership, digitaltransformation, transformation, recruiters, digital, strategy, business, onesizefitsall, vary, organization]\", NaN], [47, 1358, \"47_robotics_robot_automation_robotic\", \"[robotics, robot, automation, robotic, futureofwork, robots, jeroenbartelse, curieuxexplorer, anandnarang, fabriziobustama]\", NaN], [48, 533, \"48_httpstcognwuoinxnw_retrotech_iboy_toy\", \"[httpstcognwuoinxnw, retrotech, iboy, toy, mashable, look, robotics, httpstconss0waow9q, sapcx, compilation]\", NaN], [49, 13736, \"49_spacex_tesla_realaaai_felixschlang\", \"[spacex, tesla, realaaai, felixschlang, rykllan, jayleno, marcushouse, nasaspaceflight, cybertruck, bluemoondance74]\", NaN], [50, 6871, \"50_mobility_recipe_margaretsiegien_jeroenbartelse\", \"[mobility, recipe, margaretsiegien, jeroenbartelse, curieuxexplorer, design, pawlowskimario, hanaelsayyed, ev, anandnarang]\", NaN], [51, 6644, \"51_scoldy_allergy_dislike_baked\", \"[scoldy, allergy, dislike, baked, tasty, doo, ingredients, goods, httpstcoa6lvwuzdkl, certain]\", NaN], [52, 5910, \"52_haha_great_email_like\", \"[haha, great, email, like, awesome, sharing, pcgamer, thank, tesla, teslarati]\", NaN], [53, 5347, \"53_data_blindfolded_ignore_afford\", \"[data, blindfolded, ignore, afford, ignoring, harder, algorithmic, insights, driving, able]\", NaN], [54, 16318, \"54_taste_ppl_flowers_love\", \"[taste, ppl, flowers, love, plainlanguage, bigger, english, im, mangled, think]\", NaN], [55, 7614, \"55_cio_technology_todays_news\", \"[cio, technology, todays, news, thanks, uniphores, vijaishankar, artemerritt, digiworld, panelists]\", NaN], [56, 8431, \"56_margaretsiegien_albertoemachado_fabriziobustama_pawlowskimario\", \"[margaretsiegien, albertoemachado, fabriziobustama, pawlowskimario, nevillegaunt, fogleshane, curieuxexplorer, baskila, lorimoreno, jeroenbartelse]\", NaN], [57, 10143, \"57_autonomousvehicles_robotics_automation_tesla\", \"[autonomousvehicles, robotics, automation, tesla, selfdrivingcars, selfdriving, futureofwork, aipowered, teslas, jeroenbartelse]\", NaN], [58, 10867, \"58_relire_le_les_employ\", \"[relire, le, les, employ, pas, et, lexprience, en, la, du]\", NaN], [59, 4104, \"59_httpstcop9bkuhwxqn_scoop_httpstcoor7vqlk4ke_humans\", \"[httpstcop9bkuhwxqn, scoop, httpstcoor7vqlk4ke, humans, advent, hyperlean, httpstcokivgffmir4, chatbots, oldies, aigenerated]\", NaN], [60, 5854, \"60_booster_orbit_engines_spacex\", \"[booster, orbit, engines, spacex, raptor, beta, starship, tesla, starlink, engine]\", NaN], [61, 3655, \"61_nevillegaunt_fogleshane_chboursin_jolaburnett\", \"[nevillegaunt, fogleshane, chboursin, jolaburnett, betamoroney, dahlconsult, baskila, joannmoretti, kalydeoo, drjdrooghaag]\", NaN], [62, 9335, \"62_tesla_haha_shareholder_wholemarsblog\", \"[tesla, haha, shareholder, wholemarsblog, shares, currencylike, experiencecaring, judywawira, realchasegeiser, wowsuchcurrency]\", NaN], [63, 3194, \"63_cleanupyourcrm_spelled_leslie_feat\", \"[cleanupyourcrm, spelled, leslie, feat, custserv, right, personalized, instructions, stacyshermans, shouldnt]\", NaN], [64, 10831, \"64_anandnarang_fabriziobustama_fogleshane_baskila\", \"[anandnarang, fabriziobustama, fogleshane, baskila, hanaelsayyed, curieuxexplorer, labordeolivier, shi4tech, joannmoretti, jolaburnett]\", NaN], [65, 4515, \"65_syringes_pfizer_ppl_companys\", \"[syringes, pfizer, ppl, companys, governments, going, httpstcojgdp8rwktq, httpstcowk0h5yams8, httpstcokctskxithj, nonaustralians]\", NaN], [66, 5066, \"66_keithbroni_karenchurch_tokoyokoi_02\", \"[keithbroni, karenchurch, tokoyokoi, 02, joining, httpstcop36mx9qngx, including, joy, included, alongside]\", NaN], [67, 4233, \"67_football_parties_beransocial_zeeg\", \"[football, parties, beransocial, zeeg, jubanmohamed, mondaynightfootball, mnf, ol, carra23, saynotoeuropeansuperleague]\", NaN], [68, 17793, \"68_billym2k_wholemarsblog_exactly_haha\", \"[billym2k, wholemarsblog, exactly, haha, yeah, yes, true, teslaownerssv, lexfridman, yup]\", NaN], [69, 7525, \"69_marketing_ceo_smallbusinesssupport_winningourway\", \"[marketing, ceo, smallbusinesssupport, winningourway, 2122, womeninbusiness, twitter, apologizing, tesla, womens]\", NaN], [70, 1082, \"70_disrupted_digitaltransformation_sales_digitally\", \"[disrupted, digitaltransformation, sales, digitally, inventory, retail, httpstcobyi0f90e3h, httpstcoyl5rghtafr, httpstco9ovvxkyohj, httpstco2ns7jj6jz6]\", NaN], [71, 7267, \"71_twitter_teslaownerssv_tweets_tweet\", \"[twitter, teslaownerssv, tweets, tweet, accounts, account, email, usfca, signature, nytimes]\", NaN], [72, 3175, \"72_httpstcomqzsew0vjn_talent_executives_httpstcor985lwnwr6\", \"[httpstcomqzsew0vjn, talent, executives, httpstcor985lwnwr6, matters, entrepreneur, ushered, learns, oldies, innovation]\", NaN], [73, 12160, \"73_cio_technology_futureofwork_automation\", \"[cio, technology, futureofwork, automation, logistics, warehouse, robots, robotics, ai, datashadow]\", NaN], [74, 5343, \"74_sensors_wearabletech_httpstco1nbjkouipl_emergingtech\", \"[sensors, wearabletech, httpstco1nbjkouipl, emergingtech, googleatap, gestures, residents, smartphone, controls, transportation]\", NaN], [75, 8310, \"75_emergingtech_technology_trends_digitaltwins\", \"[emergingtech, technology, trends, digitaltwins, tech, cleantech, shaping, digitaltransformation, biotech, cloud]\", NaN], [76, 1008, \"76_happyfriday_ff_fabriziobustama_labordeolivier\", \"[happyfriday, ff, fabriziobustama, labordeolivier, fogleshane, curieuxexplorer, pawlowskimario, drjdrooghaag, ianljones98, friends]\", NaN], [77, 8562, \"77_boss_writing_plainlanguage_people\", \"[boss, writing, plainlanguage, people, help, did, emojis, bosss, faced, sentence]\", NaN], [78, 3379, \"78_birthday_love_oh_jennysuedempsey\", \"[birthday, love, oh, jennysuedempsey, cheese, omg, amazing, baby, tea, photo]\", NaN], [79, 5455, \"79_aguscicomm_scicomm_postcards_profession\", \"[aguscicomm, scicomm, postcards, profession, circles, understood, cards, science, amiright, practitioners]\", NaN], [80, 5863, \"80_webcam_fingers_basecamp_httpstcoylwvynhoe4\", \"[webcam, fingers, basecamp, httpstcoylwvynhoe4, relatives, light, calendar, screen, realtime, use]\", NaN], [81, 6954, \"81_sustainability_renewables_sdgs_energy\", \"[sustainability, renewables, sdgs, energy, chboursin, nevillegaunt, hanaelsayyed, akwyz, shi4tech, anandnarang]\", NaN], [82, 11533, \"82_messes_knowledgebases_spiller150_hdilocal\", \"[messes, knowledgebases, spiller150, hdilocal, sexy, blast, documentation, twitch, letting, fave]\", NaN], [83, 3109, \"83_benefits_datadriven_importance_httpstcosfnglxoid1\", \"[benefits, datadriven, importance, httpstcosfnglxoid1, successfully, implementing, transformation, highlights, article, httpstcomztymxyw3k]\", NaN], [84, 2881, \"84_quattendu_httpstcooirfqyb2oe_pas_loin\", \"[quattendu, httpstcooirfqyb2oe, pas, loin, vrai, peut, aussi, et, besoin, httpstcowv4jckiuc8]\", NaN], [85, 4872, \"85_choice_smart_home_httpstconppp49jluc\", \"[choice, smart, home, httpstconppp49jluc, devices, intrusion, digitalttansformation, personalization, lifestyle, smarthome]\", NaN], [86, 9741, \"86_httpstcodvnl9g76i0_eligible_covid19_cxchat\", \"[httpstcodvnl9g76i0, eligible, covid19, cxchat, drone, remote, working, uav, drones, footage]\", NaN], [87, 7362, \"87_data_transformation_digital_innovation\", \"[data, transformation, digital, innovation, todays, news, analytics, thanks, amp, ai]\", NaN], [88, 3942, \"88_nft_cfo_netzero_climate\", \"[nft, cfo, netzero, climate, strategies, enterprisewide, trends, finance, nfts, radius]\", NaN], [89, 2896, \"89_exclamationpoints_incites_emdashes_vowels\", \"[exclamationpoints, incites, emdashes, vowels, trails, informed, stopped, extra, httpstcodhdyuylcf8, fear]\", NaN], [90, 4827, \"90_energy_sustainable_future_carbon\", \"[energy, sustainable, future, carbon, hydrogen, electric, emissions, climate, sustainability, motor]\", NaN], [91, 14380, \"91_5g_6g_bn_gtgtgt\", \"[5g, 6g, bn, gtgtgt, digitaltransformation, 2025, mobile, cloud, sensors, growth]\", NaN], [92, 5932, \"92_mistakes_making_skills_unless\", \"[mistakes, making, skills, unless, mistake, httpstco7boehdlk0j, research, learning, constrain, poorer]\", NaN], [93, 6213, \"93_customer_customers_experience_customerservice\", \"[customer, customers, experience, customerservice, cx, smallbusiness, business, 1star, customerexperience, marketing]\", NaN], [94, 1158, \"94_creativity_dataprimeai_httpstcony6a4lwhsr_annettesophonie\", \"[creativity, dataprimeai, httpstcony6a4lwhsr, annettesophonie, httpstcobmt0rsyadt, shailesh1729, httpstcos6441fqff8, dearmmoon, httpstcoyrcxunfs1a, adriana]\", NaN], [95, 7483, \"95_introduce_hashtag_a1_a2\", \"[introduce, hashtag, a1, a2, a3, answers, engage, rules, hi, tweets]\", NaN], [96, 30949, \"96_enricomolinari_sallyeaves_jtwatkin_ianljones98\", \"[enricomolinari, sallyeaves, jtwatkin, ianljones98, jennysuedempsey, nicochan33, antgrasso, evankirstel, victoryabro, audreydesisto]\", NaN], [97, 6266, \"97_noaasos_1901_occurred_earthquake\", \"[noaasos, 1901, occurred, earthquake, sequence, recorded, 2000, showing, fuses, dataviz]\", NaN], [98, 6821, \"98_5g_satellite_fiber_jams\", \"[5g, satellite, fiber, jams, wireless, bypass, tylermorganwall, network, traffic, httpstcogmvefxh6rf]\", NaN], [99, 6241, \"99_httpstcozxika773dn_httpstcobskzhhhw6r_teaches_organizations\", \"[httpstcozxika773dn, httpstcobskzhhhw6r, teaches, organizations, bought, failed, covid19, leaders, pandemic, climate]\", NaN], [100, 7704, \"100_heyhey_mrms_httpstcozlwokjblb4_followers\", \"[heyhey, mrms, httpstcozlwokjblb4, followers, slash, option, nailed, ms, india, usa]\", NaN], [101, 4795, \"101_esg_scaleup_build_starship\", \"[esg, scaleup, build, starship, compelling, roi, boards, booster, work, essential]\", NaN], [102, 4767, \"102_fintech_regtech_regulation_todays\", \"[fintech, regtech, regulation, todays, news, innovation, thanks, amp, blockchain, trillion]\", NaN], [103, 954, \"103_hakomtimeseries_happytuesday_datamation_chidambara09\", \"[hakomtimeseries, happytuesday, datamation, chidambara09, jeancayeux, rldilamy, bot, artificialintelligence, mention, susanfourtane]\", NaN], [104, 917, \"104_almostspring_blustery_httpstcoxxqzodf08j_insession\", \"[almostspring, blustery, httpstcoxxqzodf08j, insession, washingtondc, engage22, verint, ciochat, 88, resignation]\", NaN], [105, 4533, \"105_empathy_chokes_chatted_techtarget\", \"[empathy, chokes, chatted, techtarget, custserv, csrs, donfluckinger, quotes, automate, teach]\", NaN], [106, 9636, \"106_fsd_performance_beta_app\", \"[fsd, performance, beta, app, verge, usbc, stories, use, iphone, android]\", NaN], [107, 8698, \"107_spacex_jtwatkin_customerisfirst_davedyson\", \"[spacex, jtwatkin, customerisfirst, davedyson, justinmrobbins, jennysuedempsey, toister, hyken, jjshroyer, hmanning]\", NaN], [108, 6158, \"108_dunkin_jasper_modifiers_paragraph\", \"[dunkin, jasper, modifiers, paragraph, discouraged, starbucks, amazed, httpstcofoktp6nbg8, humanitys, useless]\", NaN], [109, 8736, \"109_transformation_data_digital_innovation\", \"[transformation, data, digital, innovation, todays, news, analytics, thanks, amp, ai]\", NaN], [110, 4461, \"110_httpstco5jluny7btw_writingskills_customerservice_expo\", \"[httpstco5jluny7btw, writingskills, customerservice, expo, omnichannel, april, kill, contactcenter, email, callcentericmi]\", NaN], [111, 7083, \"111_teslaconomics_minute_visualcap_amazon\", \"[teslaconomics, minute, visualcap, amazon, bigtech, tesla, techau, iphone, google, creator]\", NaN], [112, 6570, \"112_scientists_science_search_gagegrammer\", \"[scientists, science, search, gagegrammer, aaai, future, genesis, scholars, biomedical, ted]\", NaN], [113, 6065, \"113_cio_technology_todays_news\", \"[cio, technology, todays, news, thanks, cybersecurity, shanebrighton, datashadow, cmoschovitis, security]\", NaN], [114, 720, \"114_dear_mention_frronconi_jblefevre60\", \"[dear, mention, frronconi, jblefevre60, jean, gvalan, investigationthank, fabriziobustamathank, wowthank, amazingthanks]\", NaN], [115, 4791, \"115_scam_fake_verifying_profiles\", \"[scam, fake, verifying, profiles, insurance, accounts, trick, spotify, multivitamin, rouse]\", NaN], [116, 6220, \"116_potatochip_httpstcot10u6ehydh_soundproof_poty\", \"[potatochip, httpstcot10u6ehydh, soundproof, poty, filmed, recovers, mit, algorithm, vibrations, speech]\", NaN], [117, 5476, \"117_energy_carbon_sustainability_wind\", \"[energy, carbon, sustainability, wind, water, air, solar, sdgs, waste, temperature]\", NaN], [118, 9275, \"118_sustainable_digitaltwins_incredibly_create\", \"[sustainable, digitaltwins, incredibly, create, powerful, scenarios, twins, informed, environmental, httpstco7vzakdydsi]\", NaN], [119, 2646, \"119_waste_education_composting_transformation\", \"[waste, education, composting, transformation, innovation, httpstcoit6hereqzd, powers, wallets, data, management]\", NaN], [120, 11336, \"120_gtgtgt_5g_rome_iot\", \"[gtgtgt, 5g, rome, iot, premier, mikequindazzi, aipowered, italy, congress, cybersecurity]\", NaN], [121, 6905, \"121_arkit_mixedreality_ar_augmentedreality\", \"[arkit, mixedreality, ar, augmentedreality, mr, future, 6gpowered, gbps, metaverse, vr]\", NaN], [122, 10181, \"122_gtgtgt_ecommerce_acquisitions_cloud\", \"[gtgtgt, ecommerce, acquisitions, cloud, mikequindazzi, integrated, augmentedreality, rt, lyakovet, simongerman600]\", NaN], [123, 10379, \"123_writer_client_email_veterinary\", \"[writer, client, email, veterinary, httpstco3yvnzjpnuq, craft, fixthiswriting, prompt, drkim, linkedinlive]\", NaN], [124, 12649, \"124_artificialintelligence_ai_deepmind_intelligence\", \"[artificialintelligence, ai, deepmind, intelligence, artificial, conservation, deeplearning, nature, ml, humans]\", NaN], [125, 3137, \"125_influencers_marketers_impulse_purchases\", \"[influencers, marketers, impulse, purchases, slashed, bartering, budgets, winwin, companies, situation]\", NaN], [126, 5485, \"126_reinforcement_method_patterns_robotics\", \"[reinforcement, method, patterns, robotics, automation, disease, ml, identified, ai, robot]\", NaN], [127, 6002, \"127_employee_oldies_experience_irritant\", \"[employee, oldies, experience, irritant, career, hr, work, trying, organization, employees]\", NaN], [128, 10947, \"128_thank_hi_welcome_cxchat\", \"[thank, hi, welcome, cxchat, trungtphan, congratulations, dogeofficialceo, sharing, pmarca, glad]\", NaN], [129, 3359, \"129_lego_bricks_brickit_pointe\", \"[lego, bricks, brickit, pointe, computing, lowcode, twins, quantum, mobileapp, pile]\", NaN], [130, 5604, \"130_ransomware_barracuda_municipalities_datasecurity\", \"[ransomware, barracuda, municipalities, datasecurity, sectors, huawei, malware, cybersecurity, targeted, attacks]\", NaN], [131, 12187, \"131_nevillegaunt_jolaburnett_force_teacher\", \"[nevillegaunt, jolaburnett, force, teacher, joannmoretti, betamoroney, enilev, effort, efipm, baskila]\", NaN], [132, 6881, \"132_covid_condo_pet_board\", \"[covid, condo, pet, board, masks, leashed, wut, opposed, deconstruction, feral]\", NaN], [133, 8728, \"133_verge_stories_oldies_remote\", \"[verge, stories, oldies, remote, mores, meta, rare, headsets, working, box]\", NaN], [134, 11543, \"134_languagetext_developmental_propublica_experimenting\", \"[languagetext, developmental, propublica, experimenting, intellectual, disabilities, httpstcoz3ndb62xqk, chatbots, examples, structure]\", NaN], [135, 7583, \"135_writing_skills_prof_youll\", \"[writing, skills, prof, youll, technicalwriting, betterthanaverage, headache, read, need, boost]\", NaN], [136, 693, \"136_httpstcook0i0gt5rw_prosecutefauci_pardoned_sevenyearold\", \"[httpstcook0i0gt5rw, prosecutefauci, pardoned, sevenyearold, assange, snowden, grabs, expressing, opponent, counted]\", NaN], [137, 5107, \"137_danariely_teenage_sex_doing\", \"[danariely, teenage, sex, doing, thinks, claims, talks, knows, quote, relevant]\", NaN], [138, 9387, \"138_trust_readers_yuck_wording\", \"[trust, readers, yuck, wording, sorry, sentences, read, people, survey, customers]\", NaN], [139, 6597, \"139_cx_podcast_join_interviewed\", \"[cx, podcast, join, interviewed, basement, provoked, mccolleague, denisevenneri, guest, digitalcustomercare]\", NaN], [140, 5092, \"140_httpstcoulekl09xju_recruitment_programmatic_startups\", \"[httpstcoulekl09xju, recruitment, programmatic, startups, bees, discover, hiring, golden, neteffectscast, startup]\", NaN], [141, 440, \"141_deboosting_suspect_intentional_genius\", \"[deboosting, suspect, intentional, genius, johnnacrider1, algorithm, exactly, vs, people, primates]\", NaN], [142, 5897, \"142_indefensible_advocating_httpstcojdcfvgmd5a_longer\", \"[indefensible, advocating, httpstcojdcfvgmd5a, longer, httpstcouya0ocfevq, indispensable, covid, postcovid, remote, lost]\", NaN], [143, 9408, \"143_gdpr_security_privacy_data\", \"[gdpr, security, privacy, data, pixels, spy, cybersecurity, google, tech, hackers]\", NaN], [144, 507, \"144_httpstcod8ngulsu1s_browsing_flag_cnet\", \"[httpstcod8ngulsu1s, browsing, flag, cnet, tries, trust, defend, collecting, verizon, asking]\", NaN], [145, 4022, \"145_truckers_retailers_payments_fuel\", \"[truckers, retailers, payments, fuel, engaging, atob, upfront, experience, retail, features]\", NaN], [146, 3743, \"146_httpstcotn8c1es1p8_healhtech_digital_transformation\", \"[httpstcotn8c1es1p8, healhtech, digital, transformation, digitaltransformation, convenient, outcomes, hospital, inevitable, improving]\", NaN], [147, 7537, \"147_365_dynamics_microsoft_dynamics365\", \"[365, dynamics, microsoft, dynamics365, msdyn365, powerapps, todays, news, thanks, powerplatform]\", NaN], [148, 6643, \"148_cfo_charge_accauk_le\", \"[cfo, charge, accauk, le, gencfolive, lennysan, sell, ce, ncessaire, finance]\", NaN], [149, 7869, \"149_python_reactjs_rstats_serverless\", \"[python, reactjs, rstats, serverless, linux, javascript, tensorflow, programming, iiot, 100daysofcode]\", NaN], [150, 5573, \"150_metaverse_inclusive_cities_digitaltransformation\", \"[metaverse, inclusive, cities, digitaltransformation, sustainable, smartcities, accessibility, guide, intentionally, explores]\", NaN], [151, 11649, \"151_artificiallintelligence_china_autonomousvehicles_gtgtgt\", \"[artificiallintelligence, china, autonomousvehicles, gtgtgt, property, reggio, httpstcokm6y59icjs, emilia, httpstcos5zramxfum, robotics]\", NaN], [152, 3815, \"152_posture_httpstcotvqaildrxg_scary_canton\", \"[posture, httpstcotvqaildrxg, scary, canton, dr, analogies, james, paved, bring, machines]\", NaN], [153, 6402, \"153_kidney_beautiful_chatbot_human\", \"[kidney, beautiful, chatbot, human, knowledge, rodanimares, animares, zgjr, personality, introduces]\", NaN], [154, 13623, \"154_sell_return_fivestars_fivestar\", \"[sell, return, fivestars, fivestar, supposedly, apps, biz, comfort, invited, verge]\", NaN], [155, 5347, \"155_democracies_capitol_cryptocurrencies_technologies\", \"[democracies, capitol, cryptocurrencies, technologies, media, httpstcoyhiujcmair, technologiescarceral, httpstcoq642zllfpg, httpstco9smnkyabm0, httpstcoxxuwxtmbax]\", NaN], [156, 5065, \"156_cursive_calligraphy_handwriting_envy\", \"[cursive, calligraphy, handwriting, envy, printing, script, fabulous, unreadable, stuff, httpstcohln4rlt71q]\", NaN], [157, 5603, \"157_carbon_investment_finance_economy\", \"[carbon, investment, finance, economy, market, green, inflation, global, markets, geopolitical]\", NaN], [158, 9532, \"158_emails_terriers_convey_reply\", \"[emails, terriers, convey, reply, boston, harvardbiz, email, ps, businesswriting, brief]\", NaN], [159, 6974, \"159_httpstcooojl14pws8_postcovid_enterprise_disruption\", \"[httpstcooojl14pws8, postcovid, enterprise, disruption, transformation, empowered, httpbit, httpstcozdg8ribj7a, httpstcop0eocdubtl, contrasting]\", NaN], [160, 1606, \"160_httpstcoqetmsrxiys_types_discovering_designthinking\", \"[httpstcoqetmsrxiys, types, discovering, designthinking, startups, entrepreneurship, vc, leadership, httpstcoppywces3as, 3sense]\", NaN], [161, 5107, \"161_thats_lyrate_amore_imprint\", \"[thats, lyrate, amore, imprint, prefabricated, puddle, reinvigorated, nourishment, hump, pasta]\", NaN], [162, 10650, \"162_bots_neuroskeptic_sama_controls\", \"[bots, neuroskeptic, sama, controls, antihuman, meme, singular, neontaster, thirdperson, ehrlich]\", NaN], [163, 5468, \"163_verge_stories_covid_httpstconrdlfmmwuh\", \"[verge, stories, covid, httpstconrdlfmmwuh, httpstco9hjiebkcgs, formalized, activision, centric, simplified, consultant]\", NaN], [164, 2863, \"164_richards_punctuation_desecrate_mourn\", \"[richards, punctuation, desecrate, mourn, follows, passing, apostrophe, john, promise, respect]\", NaN], [165, 3113, \"165_digital_google_holistic_matured\", \"[digital, google, holistic, matured, connecting, separates, transformation, markets, gartner, killer]\", NaN], [166, 8142, \"166_media_facebook_apple_stories\", \"[media, facebook, apple, stories, httpstcopumxgedivy, verge, social, bad, ads, monopoly]\", NaN], [167, 6600, \"167_robotics_curieuxexplorer_pawlowskimario_hanaelsayyed\", \"[robotics, curieuxexplorer, pawlowskimario, hanaelsayyed, anandnarang, mvollmer1, enilev, khuloodalmani, jeroenbartelse, robot]\", NaN], [168, 1160, \"168_22year_normsstandards_ewrairport_ljojo\", \"[22year, normsstandards, ewrairport, ljojo, united, uenlightenme, veteran, fallen, suddenly, desk]\", NaN], [169, 9835, \"169_robot_robots_leur_robotics\", \"[robot, robots, leur, robotics, automation, prfrent, soin, sant, mentale, prendre]\", NaN], [170, 4776, \"170_machine_learning_ai_todays\", \"[machine, learning, ai, todays, news, thanks, machinelearning, bigdata, gavlaaaaaaaa, datascience]\", NaN], [171, 4014, \"171_msdyn365_dynamics365_365_dynamics\", \"[msdyn365, dynamics365, 365, dynamics, microsoft, maplytics, tmcdynamicserp, axcademy, todays, inogic]\", NaN], [172, 6527, \"172_oldies_remote_resultsoriented_imposes\", \"[oldies, remote, resultsoriented, imposes, continuity, httpstcofwzycegyzr, intrapreneurship, httpstco78qashf8jn, httpstcorkny1wbqpv, moderation]\", NaN], [173, 4399, \"173_write_customerservice_join_chat\", \"[write, customerservice, join, chat, teams, learn, meeting, webinar, cx, email]\", NaN], [174, 6711, \"174_cxchat_cx_speaking_techsupport\", \"[cxchat, cx, speaking, techsupport, customerservice, register, employees, join, supportworld, thinkhdi]\", NaN], [175, 8367, \"175_plain_weekly_wonderful_podcast\", \"[plain, weekly, wonderful, podcast, language, transcript, guest, questions, deborahbosley, im]\", NaN], [176, 11742, \"176_linux_cloudcomputing_programming_reactjs\", \"[linux, cloudcomputing, programming, reactjs, rstats, serverless, javascript, iiot, 100daysofcode, coding]\", NaN], [177, 2845, \"177_httpstcocxpoqjsmgx_reforming_beware_silo\", \"[httpstcocxpoqjsmgx, reforming, beware, silo, remote, launch, appleevent, morning, apple, fun]\", NaN], [178, 7333, \"178_selfdrivingcars_japan_smartcity_aipowered\", \"[selfdrivingcars, japan, smartcity, aipowered, solar, cities, robotics, smart, tiobe, httpstcojajvdsajbr]\", NaN], [179, 3211, \"179_digitaltransformation_digital_strategy_business\", \"[digitaltransformation, digital, strategy, business, insurance, retail, trends, products, retailers, customerexperience]\", NaN], [180, 4990, \"180_verge_stories_httpstcoivwpv8rkvm_market\", \"[verge, stories, httpstcoivwpv8rkvm, market, camera, viva, revolution, farreaching, nft, shipments]\", NaN], [181, 877, \"181_types_goalkeeper_deepfakes_intelligence\", \"[types, goalkeeper, deepfakes, intelligence, sundaymotivation, trainer, robot, artificialintelligence, albertoemachado, different]\", NaN], [182, 3771, \"182_ml_sepsis_ai_whale\", \"[ml, sepsis, ai, whale, data, dataprivacy, detect, handy, artificialintelligence, gdpr]\", NaN], [183, 3485, \"183_proves_hyperlink_lets_lemonlime\", \"[proves, hyperlink, lets, lemonlime, scrolls, bursts, infused, publishes, hates, lightweight]\", NaN], [184, 10312, \"184_artificial_intelligence_artificialintelligence_ai\", \"[artificial, intelligence, artificialintelligence, ai, companies, market, race, digitaltransformation, httpstcopicbtmmzsw, httpstco4zg5imtwoa]\", NaN], [185, 1601, \"185_employ_lexprience_relire_management\", \"[employ, lexprience, relire, management, agile, peutil, httpstco23wgbhphoz, facette, lemployee, manquante]\", NaN], [186, 3000, \"186_data_connectivity_proper_treats\", \"[data, connectivity, proper, treats, strategic, resource, invest, rd, tools, intelligence]\", NaN], [187, 735, \"187_ethics_httpstcou8gsluxdeg_httpstcoe6tg5sdu33_httpstcolmmsf3src1\", \"[ethics, httpstcou8gsluxdeg, httpstcoe6tg5sdu33, httpstcolmmsf3src1, racebased, nationality, inequalities, mayank, exacerbate, enforcing]\", NaN], [188, 976, \"188_digital_transformation_customers_httpstcohmsts7fkee\", \"[digital, transformation, customers, httpstcohmsts7fkee, engagement, digitaltransformation, disrupters, httpstcov6sonsh81v, 165, incumbents]\", NaN], [189, 11743, \"189_transformation_ai_nondevelopers_digital\", \"[transformation, ai, nondevelopers, digital, nocode, technologies, lowcode, participate, data, automation]\", NaN], [190, 3167, \"190_pandemic_covid19_societies_cybersecurity\", \"[pandemic, covid19, societies, cybersecurity, comms, collective, security, spread, attacks, socialengineering]\", NaN], [191, 4077, \"191_httpstcov9pfsmhqht_conspiracists_thought_headline\", \"[httpstcov9pfsmhqht, conspiracists, thought, headline, shaun, roe, king, fake, tesla, ad]\", NaN], [192, 2572, \"192_siemens_fia_siex_rapide\", \"[siemens, fia, siex, rapide, lorganisation, httpstcoexqygdjhcl, plate, selected, plm, motorsport]\", NaN], [193, 10199, \"193_commence_quand_finit_httpstco0gkrdomj8k\", \"[commence, quand, finit, httpstco0gkrdomj8k, dun, httpstcord5a3zklkm, collaborateur, onboarding, le, et]\", NaN], [194, 7287, \"194_digitaltransformation_digital_transformation_humantech\", \"[digitaltransformation, digital, transformation, humantech, synergy, improved, principle, business, remains, productivity]\", NaN], [195, 1516, \"195_hr_httpstcodup6gxqggm_accelerate_function\", \"[hr, httpstcodup6gxqggm, accelerate, function, ways, 30, 10, transformation, work, meetings]\", NaN], [196, 6294, \"196_visualcap_joannmoretti_shi4tech_chboursin\", \"[visualcap, joannmoretti, shi4tech, chboursin, betamoroney, akwyz, efipm, hanaelsayyed, ev, kalydeoo]\", NaN], [197, 1204, \"197_warped_assignment_attendance_selecting\", \"[warped, assignment, attendance, selecting, excuse, confirm, uxwriting, recover, instructions, sentence]\", NaN], [198, 8234, \"198_guru_gurus_inspirational_select\", \"[guru, gurus, inspirational, select, scripts, voted, voting, csrand, preset, handoff]\", NaN], [199, 7178, \"199_potential_jobs_commercial_lives\", \"[potential, jobs, commercial, lives, robots, fulfilling, augmenting, httpstcourupkzg8ad, artificial, prefer]\", NaN]];\n",
       "\n",
       "    // Define the dt_args\n",
       "    let dt_args = {\"order\": []};\n",
       "    dt_args[\"data\"] = data;\n",
       "\n",
       "    $(document).ready(function () {\n",
       "        \n",
       "        $('#c4875755-a219-48f7-9121-9818a832e60a').DataTable(dt_args);\n",
       "    });\n",
       "</script>\n",
       "</div>\n"
      ],
      "text/plain": [
       "<IPython.core.display.HTML object>"
      ]
     },
     "metadata": {},
     "output_type": "display_data"
    }
   ],
   "source": [
    "from itables import init_notebook_mode, show\n",
    "#init_notebook_mode(all_interactive=True)\n",
    "topic_info = topic_model.get_topic_info()\n",
    "show(topic_info)"
   ]
  },
  {
   "attachments": {},
   "cell_type": "markdown",
   "metadata": {},
   "source": [
    "# Validation"
   ]
  },
  {
   "cell_type": "code",
   "execution_count": 33,
   "metadata": {},
   "outputs": [
    {
     "name": "stdout",
     "output_type": "stream",
     "text": [
      "coherence= 0.5443167103770253\n"
     ]
    }
   ],
   "source": [
    "import os\n",
    "os.environ['TOKENIZERS_PARALLELISM'] = 'true'\n",
    "\n",
    "from gensim.models.coherencemodel import CoherenceModel\n",
    "from gensim import corpora\n",
    "\n",
    "# Extract vectorizer and analyzer from BERTopic\n",
    "vectorizer = topic_model.vectorizer_model\n",
    "analyzer = vectorizer.build_analyzer()\n",
    "\n",
    "# Extract features for Topic Coherence evaluation\n",
    "words = vectorizer.get_feature_names_out()\n",
    "docs_tokenized = [analyzer(doc) for doc in docs]\n",
    "docs_tokenized = [d for d in docs_tokenized if len(d)>0]\n",
    "dictionary = corpora.Dictionary(docs_tokenized)\n",
    "topic_words = [[words for words, _ in topic_model.get_topic(topic)] \n",
    "               for topic in range(1,len(topic_model.topic_sizes_)-1)]\n",
    "\n",
    "# Evaluate\n",
    "coherence_model = CoherenceModel(topics=topic_words, \n",
    "                                 texts=docs_tokenized,\n",
    "                                 dictionary=dictionary,\n",
    "                                 coherence='c_v')\n",
    "coherence = coherence_model.get_coherence()\n",
    "print('coherence=',coherence)"
   ]
  },
  {
   "cell_type": "code",
   "execution_count": 30,
   "metadata": {},
   "outputs": [
    {
     "name": "stdout",
     "output_type": "stream",
     "text": [
      "coherence= 0.5625459611857069\n"
     ]
    }
   ],
   "source": [
    "print('coherence=',coherence)"
   ]
  },
  {
   "cell_type": "code",
   "execution_count": null,
   "metadata": {},
   "outputs": [],
   "source": []
  },
  {
   "attachments": {},
   "cell_type": "markdown",
   "metadata": {},
   "source": [
    "# Old"
   ]
  },
  {
   "cell_type": "code",
   "execution_count": 4,
   "metadata": {},
   "outputs": [
    {
     "name": "stderr",
     "output_type": "stream",
     "text": [
      "2023-06-10 14:54:46.289291: I tensorflow/core/platform/cpu_feature_guard.cc:182] This TensorFlow binary is optimized to use available CPU instructions in performance-critical operations.\n",
      "To enable the following instructions: AVX2 FMA, in other operations, rebuild TensorFlow with the appropriate compiler flags.\n",
      "2023-06-10 14:54:53.264526: I tensorflow/compiler/xla/stream_executor/cuda/cuda_gpu_executor.cc:996] successful NUMA node read from SysFS had negative value (-1), but there must be at least one NUMA node, so returning NUMA node zero. See more at https://github.com/torvalds/linux/blob/v6.0/Documentation/ABI/testing/sysfs-bus-pci#L344-L355\n",
      "2023-06-10 14:54:53.267158: I tensorflow/compiler/xla/stream_executor/cuda/cuda_gpu_executor.cc:996] successful NUMA node read from SysFS had negative value (-1), but there must be at least one NUMA node, so returning NUMA node zero. See more at https://github.com/torvalds/linux/blob/v6.0/Documentation/ABI/testing/sysfs-bus-pci#L344-L355\n",
      "2023-06-10 14:54:53.268635: I tensorflow/compiler/xla/stream_executor/cuda/cuda_gpu_executor.cc:996] successful NUMA node read from SysFS had negative value (-1), but there must be at least one NUMA node, so returning NUMA node zero. See more at https://github.com/torvalds/linux/blob/v6.0/Documentation/ABI/testing/sysfs-bus-pci#L344-L355\n"
     ]
    }
   ],
   "source": [
    "from bertopic import BERTopic\n",
    "import cuml\n",
    "import umap\n",
    "from sklearn import decomposition\n",
    "\n",
    "umap_model = cuml.UMAP(n_components=5, n_neighbors=5, min_dist=0.0, metric='euclidean', n_epochs=1000)\n",
    "umap_model = decomposition.PCA(n_components=10)\n",
    "hdbscan_model = cuml.HDBSCAN(min_cluster_size=100, gen_min_span_tree=True, prediction_data=True)"
   ]
  },
  {
   "cell_type": "code",
   "execution_count": 82,
   "metadata": {},
   "outputs": [],
   "source": [
    "#umap_model = umap_model.fit(embeds[:100000])\n",
    "#umap_embeds = umap_model.transform(embeds[:100000])\n",
    "\n",
    "embdes_simpler = decomposition.PCA(100).fit_transform(embeds[:200000])"
   ]
  },
  {
   "cell_type": "code",
   "execution_count": 89,
   "metadata": {},
   "outputs": [
    {
     "data": {
      "image/png": "[encoded data removed]",
      "text/plain": [
       "<Figure size 640x480 with 1 Axes>"
      ]
     },
     "metadata": {},
     "output_type": "display_data"
    }
   ],
   "source": [
    "import matplotlib.pyplot as plt\n",
    "\n",
    "umap_embeds = umap_model.fit_transform(embeds[:200000])\n",
    "plt.scatter(umap_embeds[:,0], umap_embeds[:,1], s=0.1, cmap='Spectral')\n",
    "plt.show()"
   ]
  },
  {
   "cell_type": "code",
   "execution_count": null,
   "metadata": {},
   "outputs": [],
   "source": [
    "f = umap.plot.interactive(embedding, labels=dataset.target, hover_data=hover_df, point_size=1)\n",
    "show(f)"
   ]
  },
  {
   "cell_type": "code",
   "execution_count": 58,
   "metadata": {},
   "outputs": [],
   "source": [
    "#topic_model.umap_model.__dict__"
   ]
  },
  {
   "cell_type": "code",
   "execution_count": 92,
   "metadata": {},
   "outputs": [
    {
     "name": "stderr",
     "output_type": "stream",
     "text": [
      "2023-06-10 13:06:13,191 - BERTopic - Reduced dimensionality\n",
      "2023-06-10 13:06:47,924 - BERTopic - Clustered reduced embeddings\n",
      "2023-06-10 13:07:08,483 - BERTopic - Reduced number of topics from 14 to 14\n"
     ]
    },
    {
     "data": {
      "text/plain": [
       "<bertopic._bertopic.BERTopic at 0x7f36f81a3f70>"
      ]
     },
     "execution_count": 92,
     "metadata": {},
     "output_type": "execute_result"
    }
   ],
   "source": [
    "import os\n",
    "os.environ['TOKENIZERS_PARALLELISM'] = \"true\"\n",
    "from bertopic import BERTopic\n",
    "\n",
    "topic_model = BERTopic(\n",
    "    min_topic_size=100, \n",
    "    #umap_model=umap_model,\n",
    "    hdbscan_model=hdbscan_model,\n",
    "    nr_topics=\"auto\", \n",
    "    low_memory=True, \n",
    "    calculate_probabilities=False, \n",
    "    verbose=True\n",
    ")\n",
    "\n",
    "topic_model.fit(docs[:200000], embeds[:200000])#embeds[:200000])"
   ]
  },
  {
   "cell_type": "code",
   "execution_count": 16,
   "metadata": {},
   "outputs": [
    {
     "data": {
      "text/plain": [
       "120"
      ]
     },
     "execution_count": 16,
     "metadata": {},
     "output_type": "execute_result"
    }
   ],
   "source": [
    "len(topic_model.topic_sizes_)\n",
    "#sentence_model.embed_documents"
   ]
  }
 ],
 "metadata": {
  "kernelspec": {
   "display_name": ".venv",
   "language": "python",
   "name": "python3"
  },
  "language_info": {
   "codemirror_mode": {
    "name": "ipython",
    "version": 3
   },
   "file_extension": ".py",
   "mimetype": "text/x-python",
   "name": "python",
   "nbconvert_exporter": "python",
   "pygments_lexer": "ipython3",
   "version": "3.10.10"
  },
  "orig_nbformat": 4,
  "vscode": {
   "interpreter": {
    "hash": "1a76aefe9e343d0dba0df4020dc0e923bce6313f14120863b786151564423534"
   }
  }
 },
 "nbformat": 4,
 "nbformat_minor": 2
}
