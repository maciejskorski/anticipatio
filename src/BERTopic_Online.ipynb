{
 "cells": [
  {
   "cell_type": "code",
   "execution_count": 3,
   "metadata": {},
   "outputs": [
    {
     "name": "stdout",
     "output_type": "stream",
     "text": [
      "256 1254243\n"
     ]
    }
   ],
   "source": [
    "#!git clone https://github.com/maciejskorski/anticipatio.git\n",
    "\n",
    "import pandas as pd\n",
    "from pathlib import Path\n",
    "\n",
    "def open_fn(f):\n",
    "    try:\n",
    "        return pd.read_csv(f,engine='python')\n",
    "    except:\n",
    "        return pd.DataFrame()\n",
    "\n",
    "files = Path('../data/futurists_kol/data').rglob('*csv')\n",
    "tweets = map(open_fn, files)\n",
    "tweets = pd.concat(tweets)\n",
    "tweets.columns = ['index','user','timestamp','url','txt']\n",
    "tweets.reset_index(drop=True,inplace=True)\n",
    "print(tweets['user'].nunique(),len(tweets)) # 257 users, 1254244 tweets\n",
    "tweets['txt'] = tweets['txt'].astype(str)\n",
    "tweets['timestamp'] = pd.to_datetime(tweets['timestamp'])\n",
    "\n",
    "tweets.head()\n",
    "docs = tweets['txt']"
   ]
  },
  {
   "cell_type": "code",
   "execution_count": 4,
   "metadata": {},
   "outputs": [
    {
     "data": {
      "text/plain": [
       "100"
      ]
     },
     "execution_count": 4,
     "metadata": {},
     "output_type": "execute_result"
    }
   ],
   "source": [
    "import gc\n",
    "del tweets\n",
    "gc.collect()"
   ]
  },
  {
   "attachments": {},
   "cell_type": "markdown",
   "metadata": {},
   "source": [
    "# Online Model"
   ]
  },
  {
   "cell_type": "code",
   "execution_count": 6,
   "metadata": {},
   "outputs": [],
   "source": [
    "import numpy as np\n",
    "#np.save('embeds',embeds)\n",
    "embeds = np.load('embeds.npy')"
   ]
  },
  {
   "cell_type": "code",
   "execution_count": 7,
   "metadata": {},
   "outputs": [
    {
     "name": "stderr",
     "output_type": "stream",
     "text": [
      "2023-06-10 15:43:08.930342: I tensorflow/core/platform/cpu_feature_guard.cc:182] This TensorFlow binary is optimized to use available CPU instructions in performance-critical operations.\n",
      "To enable the following instructions: AVX2 FMA, in other operations, rebuild TensorFlow with the appropriate compiler flags.\n",
      "2023-06-10 15:43:15.967854: I tensorflow/compiler/xla/stream_executor/cuda/cuda_gpu_executor.cc:996] successful NUMA node read from SysFS had negative value (-1), but there must be at least one NUMA node, so returning NUMA node zero. See more at https://github.com/torvalds/linux/blob/v6.0/Documentation/ABI/testing/sysfs-bus-pci#L344-L355\n",
      "2023-06-10 15:43:15.969690: I tensorflow/compiler/xla/stream_executor/cuda/cuda_gpu_executor.cc:996] successful NUMA node read from SysFS had negative value (-1), but there must be at least one NUMA node, so returning NUMA node zero. See more at https://github.com/torvalds/linux/blob/v6.0/Documentation/ABI/testing/sysfs-bus-pci#L344-L355\n",
      "2023-06-10 15:43:15.970941: I tensorflow/compiler/xla/stream_executor/cuda/cuda_gpu_executor.cc:996] successful NUMA node read from SysFS had negative value (-1), but there must be at least one NUMA node, so returning NUMA node zero. See more at https://github.com/torvalds/linux/blob/v6.0/Documentation/ABI/testing/sysfs-bus-pci#L344-L355\n"
     ]
    }
   ],
   "source": [
    "from sklearn.cluster import MiniBatchKMeans\n",
    "from sklearn.decomposition import IncrementalPCA\n",
    "from bertopic.vectorizers import OnlineCountVectorizer\n",
    "\n",
    "# Prepare sub-models that support online learning\n",
    "umap_model = IncrementalPCA(n_components=10)\n",
    "cluster_model = MiniBatchKMeans(n_clusters=200, random_state=0)\n",
    "vectorizer_model = OnlineCountVectorizer(stop_words=\"english\", decay=.01)"
   ]
  },
  {
   "cell_type": "code",
   "execution_count": 13,
   "metadata": {},
   "outputs": [],
   "source": [
    "import os\n",
    "os.environ['TOKENIZERS_PARALLELISM'] = \"true\"\n",
    "from bertopic import BERTopic\n",
    "\n",
    "topic_model = BERTopic(\n",
    "    umap_model=umap_model,\n",
    "    hdbscan_model=cluster_model,\n",
    "    vectorizer_model=vectorizer_model,\n",
    "    low_memory=True,\n",
    "    verbose=True,\n",
    "    min_topic_size=100, \n",
    "    nr_topics=\"auto\", \n",
    ")"
   ]
  },
  {
   "cell_type": "code",
   "execution_count": 14,
   "metadata": {},
   "outputs": [],
   "source": [
    "from torch.utils.data import Dataset, DataLoader\n",
    "\n",
    "class MyDataset(Dataset):\n",
    "    \n",
    "    def __init__(self, docs, embeds):\n",
    "        self.docs = docs\n",
    "        self.embeds = embeds\n",
    "        \n",
    "    def __getitem__(self, index):\n",
    "        return (self.docs[index],self.embeds[index])\n",
    "    \n",
    "    def __len__(self):\n",
    "        return len(self.docs)"
   ]
  },
  {
   "cell_type": "code",
   "execution_count": 15,
   "metadata": {},
   "outputs": [
    {
     "name": "stdout",
     "output_type": "stream",
     "text": [
      "doing batch\n"
     ]
    },
    {
     "name": "stderr",
     "output_type": "stream",
     "text": [
      "2023-06-10 15:59:56,675 - BERTopic - Reduced dimensionality\n",
      "2023-06-10 15:59:57,061 - BERTopic - Clustered reduced embeddings\n"
     ]
    },
    {
     "name": "stdout",
     "output_type": "stream",
     "text": [
      "doing batch\n"
     ]
    },
    {
     "name": "stderr",
     "output_type": "stream",
     "text": [
      "2023-06-10 16:00:13,684 - BERTopic - Reduced dimensionality\n",
      "2023-06-10 16:00:14,016 - BERTopic - Clustered reduced embeddings\n"
     ]
    },
    {
     "name": "stdout",
     "output_type": "stream",
     "text": [
      "doing batch\n"
     ]
    },
    {
     "name": "stderr",
     "output_type": "stream",
     "text": [
      "2023-06-10 16:00:28,122 - BERTopic - Reduced dimensionality\n",
      "2023-06-10 16:00:28,496 - BERTopic - Clustered reduced embeddings\n"
     ]
    },
    {
     "name": "stdout",
     "output_type": "stream",
     "text": [
      "doing batch\n"
     ]
    },
    {
     "name": "stderr",
     "output_type": "stream",
     "text": [
      "2023-06-10 16:00:42,631 - BERTopic - Reduced dimensionality\n",
      "2023-06-10 16:00:43,004 - BERTopic - Clustered reduced embeddings\n"
     ]
    },
    {
     "name": "stdout",
     "output_type": "stream",
     "text": [
      "doing batch\n"
     ]
    },
    {
     "name": "stderr",
     "output_type": "stream",
     "text": [
      "2023-06-10 16:00:58,512 - BERTopic - Reduced dimensionality\n",
      "2023-06-10 16:00:58,851 - BERTopic - Clustered reduced embeddings\n"
     ]
    },
    {
     "name": "stdout",
     "output_type": "stream",
     "text": [
      "doing batch\n"
     ]
    },
    {
     "name": "stderr",
     "output_type": "stream",
     "text": [
      "2023-06-10 16:01:13,805 - BERTopic - Reduced dimensionality\n",
      "2023-06-10 16:01:14,162 - BERTopic - Clustered reduced embeddings\n"
     ]
    },
    {
     "name": "stdout",
     "output_type": "stream",
     "text": [
      "doing batch\n"
     ]
    },
    {
     "name": "stderr",
     "output_type": "stream",
     "text": [
      "2023-06-10 16:01:27,547 - BERTopic - Reduced dimensionality\n",
      "2023-06-10 16:01:27,891 - BERTopic - Clustered reduced embeddings\n"
     ]
    },
    {
     "name": "stdout",
     "output_type": "stream",
     "text": [
      "doing batch\n"
     ]
    },
    {
     "name": "stderr",
     "output_type": "stream",
     "text": [
      "2023-06-10 16:01:42,407 - BERTopic - Reduced dimensionality\n",
      "2023-06-10 16:01:42,750 - BERTopic - Clustered reduced embeddings\n"
     ]
    },
    {
     "name": "stdout",
     "output_type": "stream",
     "text": [
      "doing batch\n"
     ]
    },
    {
     "name": "stderr",
     "output_type": "stream",
     "text": [
      "2023-06-10 16:01:58,735 - BERTopic - Reduced dimensionality\n",
      "2023-06-10 16:01:59,107 - BERTopic - Clustered reduced embeddings\n"
     ]
    },
    {
     "name": "stdout",
     "output_type": "stream",
     "text": [
      "doing batch\n"
     ]
    },
    {
     "name": "stderr",
     "output_type": "stream",
     "text": [
      "2023-06-10 16:02:12,841 - BERTopic - Reduced dimensionality\n",
      "2023-06-10 16:02:13,223 - BERTopic - Clustered reduced embeddings\n"
     ]
    },
    {
     "name": "stdout",
     "output_type": "stream",
     "text": [
      "doing batch\n"
     ]
    },
    {
     "name": "stderr",
     "output_type": "stream",
     "text": [
      "2023-06-10 16:02:27,173 - BERTopic - Reduced dimensionality\n",
      "2023-06-10 16:02:27,549 - BERTopic - Clustered reduced embeddings\n"
     ]
    },
    {
     "name": "stdout",
     "output_type": "stream",
     "text": [
      "doing batch\n"
     ]
    },
    {
     "name": "stderr",
     "output_type": "stream",
     "text": [
      "2023-06-10 16:02:42,637 - BERTopic - Reduced dimensionality\n",
      "2023-06-10 16:02:42,987 - BERTopic - Clustered reduced embeddings\n"
     ]
    },
    {
     "name": "stdout",
     "output_type": "stream",
     "text": [
      "doing batch\n"
     ]
    },
    {
     "name": "stderr",
     "output_type": "stream",
     "text": [
      "2023-06-10 16:02:54,396 - BERTopic - Reduced dimensionality\n",
      "2023-06-10 16:02:54,750 - BERTopic - Clustered reduced embeddings\n"
     ]
    }
   ],
   "source": [
    "topics = []\n",
    "for docs_batch, embeds_batch in DataLoader(MyDataset(docs,embeds),batch_size=100000, shuffle=True):\n",
    "    print('doing batch')\n",
    "    topic_model.partial_fit(docs_batch, embeds_batch.numpy())\n",
    "    topics.extend(topic_model.topics_)\n",
    "    #topic_model.fit(docs_batch)\n",
    "#    pass\n",
    "\n",
    "topic_model.topics_ = topics"
   ]
  },
  {
   "attachments": {},
   "cell_type": "markdown",
   "metadata": {},
   "source": [
    "# Visualization"
   ]
  },
  {
   "cell_type": "code",
   "execution_count": 16,
   "metadata": {},
   "outputs": [
    {
     "data": {
      "application/vnd.plotly.v1+json": {
       "config": {
        "plotlyServerURL": "https://plot.ly"
       },
       "data": [
        {
         "hoverinfo": "text",
         "marker": {
          "color": "rgb(61,153,112)"
         },
         "mode": "lines",
         "type": "scatter",
         "x": [
          0,
          0.7062775086739304,
          0.7062775086739304,
          0
         ],
         "xaxis": "x",
         "y": [
          -5,
          -5,
          -15,
          -15
         ],
         "yaxis": "y"
        },
        {
         "hoverinfo": "text",
         "marker": {
          "color": "rgb(61,153,112)"
         },
         "mode": "lines",
         "type": "scatter",
         "x": [
          0,
          0.6751211589007455,
          0.6751211589007455,
          0
         ],
         "xaxis": "x",
         "y": [
          -25,
          -25,
          -35,
          -35
         ],
         "yaxis": "y"
        },
        {
         "hoverinfo": "text",
         "marker": {
          "color": "rgb(61,153,112)"
         },
         "mode": "lines",
         "type": "scatter",
         "x": [
          0.7062775086739304,
          0.8830434319357982,
          0.8830434319357982,
          0.6751211589007455
         ],
         "xaxis": "x",
         "y": [
          -10,
          -10,
          -30,
          -30
         ],
         "yaxis": "y"
        },
        {
         "hoverinfo": "text",
         "marker": {
          "color": "rgb(255,65,54)"
         },
         "mode": "lines",
         "type": "scatter",
         "x": [
          0,
          0.6008861355537456,
          0.6008861355537456,
          0
         ],
         "xaxis": "x",
         "y": [
          -45,
          -45,
          -55,
          -55
         ],
         "yaxis": "y"
        },
        {
         "hoverinfo": "text",
         "marker": {
          "color": "rgb(255,65,54)"
         },
         "mode": "lines",
         "type": "scatter",
         "x": [
          0,
          0.21519797755957626,
          0.21519797755957626,
          0
         ],
         "xaxis": "x",
         "y": [
          -75,
          -75,
          -85,
          -85
         ],
         "yaxis": "y"
        },
        {
         "hoverinfo": "text",
         "marker": {
          "color": "rgb(255,65,54)"
         },
         "mode": "lines",
         "type": "scatter",
         "x": [
          0,
          0.41051074357071876,
          0.41051074357071876,
          0.21519797755957626
         ],
         "xaxis": "x",
         "y": [
          -65,
          -65,
          -80,
          -80
         ],
         "yaxis": "y"
        },
        {
         "hoverinfo": "text",
         "marker": {
          "color": "rgb(255,65,54)"
         },
         "mode": "lines",
         "type": "scatter",
         "x": [
          0.41051074357071876,
          0.4511763945853652,
          0.4511763945853652,
          0
         ],
         "xaxis": "x",
         "y": [
          -72.5,
          -72.5,
          -95,
          -95
         ],
         "yaxis": "y"
        },
        {
         "hoverinfo": "text",
         "marker": {
          "color": "rgb(255,65,54)"
         },
         "mode": "lines",
         "type": "scatter",
         "x": [
          0.6008861355537456,
          0.6946170050789229,
          0.6946170050789229,
          0.4511763945853652
         ],
         "xaxis": "x",
         "y": [
          -50,
          -50,
          -83.75,
          -83.75
         ],
         "yaxis": "y"
        },
        {
         "hoverinfo": "text",
         "marker": {
          "color": "rgb(255,65,54)"
         },
         "mode": "lines",
         "type": "scatter",
         "x": [
          0,
          0.5410780356695428,
          0.5410780356695428,
          0
         ],
         "xaxis": "x",
         "y": [
          -105,
          -105,
          -115,
          -115
         ],
         "yaxis": "y"
        },
        {
         "hoverinfo": "text",
         "marker": {
          "color": "rgb(255,65,54)"
         },
         "mode": "lines",
         "type": "scatter",
         "x": [
          0.5410780356695428,
          0.6199611964334205,
          0.6199611964334205,
          0
         ],
         "xaxis": "x",
         "y": [
          -110,
          -110,
          -125,
          -125
         ],
         "yaxis": "y"
        },
        {
         "hoverinfo": "text",
         "marker": {
          "color": "rgb(255,65,54)"
         },
         "mode": "lines",
         "type": "scatter",
         "x": [
          0.6946170050789229,
          0.7965406376501597,
          0.7965406376501597,
          0.6199611964334205
         ],
         "xaxis": "x",
         "y": [
          -66.875,
          -66.875,
          -117.5,
          -117.5
         ],
         "yaxis": "y"
        },
        {
         "hoverinfo": "text",
         "marker": {
          "color": "rgb(0,116,217)"
         },
         "mode": "lines",
         "type": "scatter",
         "x": [
          0.8830434319357982,
          1.0154852146865088,
          1.0154852146865088,
          0.7965406376501597
         ],
         "xaxis": "x",
         "y": [
          -20,
          -20,
          -92.1875,
          -92.1875
         ],
         "yaxis": "y"
        },
        {
         "hoverinfo": "text",
         "marker": {
          "color": "rgb(35,205,205)"
         },
         "mode": "lines",
         "type": "scatter",
         "x": [
          0,
          0.44379908055171113,
          0.44379908055171113,
          0
         ],
         "xaxis": "x",
         "y": [
          -135,
          -135,
          -145,
          -145
         ],
         "yaxis": "y"
        },
        {
         "hoverinfo": "text",
         "marker": {
          "color": "rgb(35,205,205)"
         },
         "mode": "lines",
         "type": "scatter",
         "x": [
          0.44379908055171113,
          0.6452051914937111,
          0.6452051914937111,
          0
         ],
         "xaxis": "x",
         "y": [
          -140,
          -140,
          -155,
          -155
         ],
         "yaxis": "y"
        },
        {
         "hoverinfo": "text",
         "marker": {
          "color": "rgb(35,205,205)"
         },
         "mode": "lines",
         "type": "scatter",
         "x": [
          0,
          0.5950766660606683,
          0.5950766660606683,
          0
         ],
         "xaxis": "x",
         "y": [
          -165,
          -165,
          -175,
          -175
         ],
         "yaxis": "y"
        },
        {
         "hoverinfo": "text",
         "marker": {
          "color": "rgb(35,205,205)"
         },
         "mode": "lines",
         "type": "scatter",
         "x": [
          0.6452051914937111,
          0.745170357508785,
          0.745170357508785,
          0.5950766660606683
         ],
         "xaxis": "x",
         "y": [
          -147.5,
          -147.5,
          -170,
          -170
         ],
         "yaxis": "y"
        },
        {
         "hoverinfo": "text",
         "marker": {
          "color": "rgb(0,116,217)"
         },
         "mode": "lines",
         "type": "scatter",
         "x": [
          1.0154852146865088,
          1.052809046260458,
          1.052809046260458,
          0.745170357508785
         ],
         "xaxis": "x",
         "y": [
          -56.09375,
          -56.09375,
          -158.75,
          -158.75
         ],
         "yaxis": "y"
        },
        {
         "hoverinfo": "text",
         "marker": {
          "color": "rgb(133,20,75)"
         },
         "mode": "lines",
         "type": "scatter",
         "x": [
          0,
          0.2812027036807422,
          0.2812027036807422,
          0
         ],
         "xaxis": "x",
         "y": [
          -195,
          -195,
          -205,
          -205
         ],
         "yaxis": "y"
        },
        {
         "hoverinfo": "text",
         "marker": {
          "color": "rgb(133,20,75)"
         },
         "mode": "lines",
         "type": "scatter",
         "x": [
          0,
          0.6208465804929327,
          0.6208465804929327,
          0.2812027036807422
         ],
         "xaxis": "x",
         "y": [
          -185,
          -185,
          -200,
          -200
         ],
         "yaxis": "y"
        },
        {
         "hoverinfo": "text",
         "marker": {
          "color": "rgb(133,20,75)"
         },
         "mode": "lines",
         "type": "scatter",
         "x": [
          0,
          0.29804940921984135,
          0.29804940921984135,
          0
         ],
         "xaxis": "x",
         "y": [
          -215,
          -215,
          -225,
          -225
         ],
         "yaxis": "y"
        },
        {
         "hoverinfo": "text",
         "marker": {
          "color": "rgb(133,20,75)"
         },
         "mode": "lines",
         "type": "scatter",
         "x": [
          0.6208465804929327,
          0.7571273209563815,
          0.7571273209563815,
          0.29804940921984135
         ],
         "xaxis": "x",
         "y": [
          -192.5,
          -192.5,
          -220,
          -220
         ],
         "yaxis": "y"
        },
        {
         "hoverinfo": "text",
         "marker": {
          "color": "rgb(0,116,217)"
         },
         "mode": "lines",
         "type": "scatter",
         "x": [
          1.052809046260458,
          1.4285317899697962,
          1.4285317899697962,
          0.7571273209563815
         ],
         "xaxis": "x",
         "y": [
          -107.421875,
          -107.421875,
          -206.25,
          -206.25
         ],
         "yaxis": "y"
        },
        {
         "hoverinfo": "text",
         "marker": {
          "color": "rgb(255,220,0)"
         },
         "mode": "lines",
         "type": "scatter",
         "x": [
          0,
          0.31760350320190955,
          0.31760350320190955,
          0
         ],
         "xaxis": "x",
         "y": [
          -245,
          -245,
          -255,
          -255
         ],
         "yaxis": "y"
        },
        {
         "hoverinfo": "text",
         "marker": {
          "color": "rgb(255,220,0)"
         },
         "mode": "lines",
         "type": "scatter",
         "x": [
          0,
          0.6377784810508852,
          0.6377784810508852,
          0.31760350320190955
         ],
         "xaxis": "x",
         "y": [
          -235,
          -235,
          -250,
          -250
         ],
         "yaxis": "y"
        },
        {
         "hoverinfo": "text",
         "marker": {
          "color": "rgb(40,35,35)"
         },
         "mode": "lines",
         "type": "scatter",
         "x": [
          0,
          0.8420556029075446,
          0.8420556029075446,
          0
         ],
         "xaxis": "x",
         "y": [
          -265,
          -265,
          -275,
          -275
         ],
         "yaxis": "y"
        },
        {
         "hoverinfo": "text",
         "marker": {
          "color": "rgb(61,153,112)"
         },
         "mode": "lines",
         "type": "scatter",
         "x": [
          0,
          0.6346582608403777,
          0.6346582608403777,
          0
         ],
         "xaxis": "x",
         "y": [
          -295,
          -295,
          -305,
          -305
         ],
         "yaxis": "y"
        },
        {
         "hoverinfo": "text",
         "marker": {
          "color": "rgb(61,153,112)"
         },
         "mode": "lines",
         "type": "scatter",
         "x": [
          0,
          0.7846941920967765,
          0.7846941920967765,
          0.6346582608403777
         ],
         "xaxis": "x",
         "y": [
          -285,
          -285,
          -300,
          -300
         ],
         "yaxis": "y"
        },
        {
         "hoverinfo": "text",
         "marker": {
          "color": "rgb(61,153,112)"
         },
         "mode": "lines",
         "type": "scatter",
         "x": [
          0,
          0.7290554015143317,
          0.7290554015143317,
          0
         ],
         "xaxis": "x",
         "y": [
          -315,
          -315,
          -325,
          -325
         ],
         "yaxis": "y"
        },
        {
         "hoverinfo": "text",
         "marker": {
          "color": "rgb(61,153,112)"
         },
         "mode": "lines",
         "type": "scatter",
         "x": [
          0.7846941920967765,
          0.8933249748992176,
          0.8933249748992176,
          0.7290554015143317
         ],
         "xaxis": "x",
         "y": [
          -292.5,
          -292.5,
          -320,
          -320
         ],
         "yaxis": "y"
        },
        {
         "hoverinfo": "text",
         "marker": {
          "color": "rgb(0,116,217)"
         },
         "mode": "lines",
         "type": "scatter",
         "x": [
          0.8420556029075446,
          1.052812888519169,
          1.052812888519169,
          0.8933249748992176
         ],
         "xaxis": "x",
         "y": [
          -270,
          -270,
          -306.25,
          -306.25
         ],
         "yaxis": "y"
        },
        {
         "hoverinfo": "text",
         "marker": {
          "color": "rgb(255,65,54)"
         },
         "mode": "lines",
         "type": "scatter",
         "x": [
          0,
          0.8154948676205761,
          0.8154948676205761,
          0
         ],
         "xaxis": "x",
         "y": [
          -335,
          -335,
          -345,
          -345
         ],
         "yaxis": "y"
        },
        {
         "hoverinfo": "text",
         "marker": {
          "color": "rgb(255,65,54)"
         },
         "mode": "lines",
         "type": "scatter",
         "x": [
          0,
          0.6980750301776164,
          0.6980750301776164,
          0
         ],
         "xaxis": "x",
         "y": [
          -355,
          -355,
          -365,
          -365
         ],
         "yaxis": "y"
        },
        {
         "hoverinfo": "text",
         "marker": {
          "color": "rgb(255,65,54)"
         },
         "mode": "lines",
         "type": "scatter",
         "x": [
          0.6980750301776164,
          0.8349035651669049,
          0.8349035651669049,
          0
         ],
         "xaxis": "x",
         "y": [
          -360,
          -360,
          -375,
          -375
         ],
         "yaxis": "y"
        },
        {
         "hoverinfo": "text",
         "marker": {
          "color": "rgb(255,65,54)"
         },
         "mode": "lines",
         "type": "scatter",
         "x": [
          0.8154948676205761,
          0.9134268424188258,
          0.9134268424188258,
          0.8349035651669049
         ],
         "xaxis": "x",
         "y": [
          -340,
          -340,
          -367.5,
          -367.5
         ],
         "yaxis": "y"
        },
        {
         "hoverinfo": "text",
         "marker": {
          "color": "rgb(255,65,54)"
         },
         "mode": "lines",
         "type": "scatter",
         "x": [
          0,
          0.675376202240568,
          0.675376202240568,
          0
         ],
         "xaxis": "x",
         "y": [
          -395,
          -395,
          -405,
          -405
         ],
         "yaxis": "y"
        },
        {
         "hoverinfo": "text",
         "marker": {
          "color": "rgb(255,65,54)"
         },
         "mode": "lines",
         "type": "scatter",
         "x": [
          0,
          0.7537707414349178,
          0.7537707414349178,
          0.675376202240568
         ],
         "xaxis": "x",
         "y": [
          -385,
          -385,
          -400,
          -400
         ],
         "yaxis": "y"
        },
        {
         "hoverinfo": "text",
         "marker": {
          "color": "rgb(255,65,54)"
         },
         "mode": "lines",
         "type": "scatter",
         "x": [
          0,
          0.602763726206718,
          0.602763726206718,
          0
         ],
         "xaxis": "x",
         "y": [
          -415,
          -415,
          -425,
          -425
         ],
         "yaxis": "y"
        },
        {
         "hoverinfo": "text",
         "marker": {
          "color": "rgb(255,65,54)"
         },
         "mode": "lines",
         "type": "scatter",
         "x": [
          0.7537707414349178,
          0.8564317982459668,
          0.8564317982459668,
          0.602763726206718
         ],
         "xaxis": "x",
         "y": [
          -392.5,
          -392.5,
          -420,
          -420
         ],
         "yaxis": "y"
        },
        {
         "hoverinfo": "text",
         "marker": {
          "color": "rgb(255,65,54)"
         },
         "mode": "lines",
         "type": "scatter",
         "x": [
          0.9134268424188258,
          0.9803255344145374,
          0.9803255344145374,
          0.8564317982459668
         ],
         "xaxis": "x",
         "y": [
          -353.75,
          -353.75,
          -406.25,
          -406.25
         ],
         "yaxis": "y"
        },
        {
         "hoverinfo": "text",
         "marker": {
          "color": "rgb(0,116,217)"
         },
         "mode": "lines",
         "type": "scatter",
         "x": [
          1.052812888519169,
          1.1360505606329763,
          1.1360505606329763,
          0.9803255344145374
         ],
         "xaxis": "x",
         "y": [
          -288.125,
          -288.125,
          -380,
          -380
         ],
         "yaxis": "y"
        },
        {
         "hoverinfo": "text",
         "marker": {
          "color": "rgb(35,205,205)"
         },
         "mode": "lines",
         "type": "scatter",
         "x": [
          0,
          0.5123623102774564,
          0.5123623102774564,
          0
         ],
         "xaxis": "x",
         "y": [
          -455,
          -455,
          -465,
          -465
         ],
         "yaxis": "y"
        },
        {
         "hoverinfo": "text",
         "marker": {
          "color": "rgb(35,205,205)"
         },
         "mode": "lines",
         "type": "scatter",
         "x": [
          0,
          0.6035773138338931,
          0.6035773138338931,
          0.5123623102774564
         ],
         "xaxis": "x",
         "y": [
          -445,
          -445,
          -460,
          -460
         ],
         "yaxis": "y"
        },
        {
         "hoverinfo": "text",
         "marker": {
          "color": "rgb(35,205,205)"
         },
         "mode": "lines",
         "type": "scatter",
         "x": [
          0.6035773138338931,
          0.6316591831736671,
          0.6316591831736671,
          0
         ],
         "xaxis": "x",
         "y": [
          -452.5,
          -452.5,
          -475,
          -475
         ],
         "yaxis": "y"
        },
        {
         "hoverinfo": "text",
         "marker": {
          "color": "rgb(35,205,205)"
         },
         "mode": "lines",
         "type": "scatter",
         "x": [
          0,
          0.7497845604932849,
          0.7497845604932849,
          0.6316591831736671
         ],
         "xaxis": "x",
         "y": [
          -435,
          -435,
          -463.75,
          -463.75
         ],
         "yaxis": "y"
        },
        {
         "hoverinfo": "text",
         "marker": {
          "color": "rgb(35,205,205)"
         },
         "mode": "lines",
         "type": "scatter",
         "x": [
          0.7497845604932849,
          0.8274890564021316,
          0.8274890564021316,
          0
         ],
         "xaxis": "x",
         "y": [
          -449.375,
          -449.375,
          -485,
          -485
         ],
         "yaxis": "y"
        },
        {
         "hoverinfo": "text",
         "marker": {
          "color": "rgb(0,116,217)"
         },
         "mode": "lines",
         "type": "scatter",
         "x": [
          1.1360505606329763,
          1.255449407297856,
          1.255449407297856,
          0.8274890564021316
         ],
         "xaxis": "x",
         "y": [
          -334.0625,
          -334.0625,
          -467.1875,
          -467.1875
         ],
         "yaxis": "y"
        },
        {
         "hoverinfo": "text",
         "marker": {
          "color": "rgb(0,116,217)"
         },
         "mode": "lines",
         "type": "scatter",
         "x": [
          0.6377784810508852,
          1.388080011991421,
          1.388080011991421,
          1.255449407297856
         ],
         "xaxis": "x",
         "y": [
          -242.5,
          -242.5,
          -400.625,
          -400.625
         ],
         "yaxis": "y"
        },
        {
         "hoverinfo": "text",
         "marker": {
          "color": "rgb(61,153,112)"
         },
         "mode": "lines",
         "type": "scatter",
         "x": [
          0,
          0.35981037021849005,
          0.35981037021849005,
          0
         ],
         "xaxis": "x",
         "y": [
          -505,
          -505,
          -515,
          -515
         ],
         "yaxis": "y"
        },
        {
         "hoverinfo": "text",
         "marker": {
          "color": "rgb(61,153,112)"
         },
         "mode": "lines",
         "type": "scatter",
         "x": [
          0,
          0.6075664141230339,
          0.6075664141230339,
          0.35981037021849005
         ],
         "xaxis": "x",
         "y": [
          -495,
          -495,
          -510,
          -510
         ],
         "yaxis": "y"
        },
        {
         "hoverinfo": "text",
         "marker": {
          "color": "rgb(61,153,112)"
         },
         "mode": "lines",
         "type": "scatter",
         "x": [
          0,
          0.42932828899875164,
          0.42932828899875164,
          0
         ],
         "xaxis": "x",
         "y": [
          -525,
          -525,
          -535,
          -535
         ],
         "yaxis": "y"
        },
        {
         "hoverinfo": "text",
         "marker": {
          "color": "rgb(61,153,112)"
         },
         "mode": "lines",
         "type": "scatter",
         "x": [
          0,
          0.3937353055495525,
          0.3937353055495525,
          0
         ],
         "xaxis": "x",
         "y": [
          -545,
          -545,
          -555,
          -555
         ],
         "yaxis": "y"
        },
        {
         "hoverinfo": "text",
         "marker": {
          "color": "rgb(61,153,112)"
         },
         "mode": "lines",
         "type": "scatter",
         "x": [
          0.42932828899875164,
          0.573563334445722,
          0.573563334445722,
          0.3937353055495525
         ],
         "xaxis": "x",
         "y": [
          -530,
          -530,
          -550,
          -550
         ],
         "yaxis": "y"
        },
        {
         "hoverinfo": "text",
         "marker": {
          "color": "rgb(61,153,112)"
         },
         "mode": "lines",
         "type": "scatter",
         "x": [
          0.6075664141230339,
          0.8409442717628456,
          0.8409442717628456,
          0.573563334445722
         ],
         "xaxis": "x",
         "y": [
          -502.5,
          -502.5,
          -540,
          -540
         ],
         "yaxis": "y"
        },
        {
         "hoverinfo": "text",
         "marker": {
          "color": "rgb(0,116,217)"
         },
         "mode": "lines",
         "type": "scatter",
         "x": [
          1.388080011991421,
          1.7752886873072067,
          1.7752886873072067,
          0.8409442717628456
         ],
         "xaxis": "x",
         "y": [
          -321.5625,
          -321.5625,
          -521.25,
          -521.25
         ],
         "yaxis": "y"
        },
        {
         "hoverinfo": "text",
         "marker": {
          "color": "rgb(255,65,54)"
         },
         "mode": "lines",
         "type": "scatter",
         "x": [
          0,
          0.43700584547701016,
          0.43700584547701016,
          0
         ],
         "xaxis": "x",
         "y": [
          -565,
          -565,
          -575,
          -575
         ],
         "yaxis": "y"
        },
        {
         "hoverinfo": "text",
         "marker": {
          "color": "rgb(255,65,54)"
         },
         "mode": "lines",
         "type": "scatter",
         "x": [
          0,
          0.4482086613132764,
          0.4482086613132764,
          0
         ],
         "xaxis": "x",
         "y": [
          -585,
          -585,
          -595,
          -595
         ],
         "yaxis": "y"
        },
        {
         "hoverinfo": "text",
         "marker": {
          "color": "rgb(255,65,54)"
         },
         "mode": "lines",
         "type": "scatter",
         "x": [
          0.4482086613132764,
          0.4846366633413068,
          0.4846366633413068,
          0
         ],
         "xaxis": "x",
         "y": [
          -590,
          -590,
          -605,
          -605
         ],
         "yaxis": "y"
        },
        {
         "hoverinfo": "text",
         "marker": {
          "color": "rgb(255,65,54)"
         },
         "mode": "lines",
         "type": "scatter",
         "x": [
          0.4846366633413068,
          0.5811627906754345,
          0.5811627906754345,
          0
         ],
         "xaxis": "x",
         "y": [
          -597.5,
          -597.5,
          -615,
          -615
         ],
         "yaxis": "y"
        },
        {
         "hoverinfo": "text",
         "marker": {
          "color": "rgb(255,65,54)"
         },
         "mode": "lines",
         "type": "scatter",
         "x": [
          0.43700584547701016,
          0.7930106657227728,
          0.7930106657227728,
          0.5811627906754345
         ],
         "xaxis": "x",
         "y": [
          -570,
          -570,
          -606.25,
          -606.25
         ],
         "yaxis": "y"
        },
        {
         "hoverinfo": "text",
         "marker": {
          "color": "rgb(35,205,205)"
         },
         "mode": "lines",
         "type": "scatter",
         "x": [
          0,
          0.7033115035734325,
          0.7033115035734325,
          0
         ],
         "xaxis": "x",
         "y": [
          -625,
          -625,
          -635,
          -635
         ],
         "yaxis": "y"
        },
        {
         "hoverinfo": "text",
         "marker": {
          "color": "rgb(35,205,205)"
         },
         "mode": "lines",
         "type": "scatter",
         "x": [
          0,
          0.6543574568708544,
          0.6543574568708544,
          0
         ],
         "xaxis": "x",
         "y": [
          -645,
          -645,
          -655,
          -655
         ],
         "yaxis": "y"
        },
        {
         "hoverinfo": "text",
         "marker": {
          "color": "rgb(35,205,205)"
         },
         "mode": "lines",
         "type": "scatter",
         "x": [
          0.6543574568708544,
          0.7255582941819805,
          0.7255582941819805,
          0
         ],
         "xaxis": "x",
         "y": [
          -650,
          -650,
          -665,
          -665
         ],
         "yaxis": "y"
        },
        {
         "hoverinfo": "text",
         "marker": {
          "color": "rgb(35,205,205)"
         },
         "mode": "lines",
         "type": "scatter",
         "x": [
          0.7033115035734325,
          0.7548789047951542,
          0.7548789047951542,
          0.7255582941819805
         ],
         "xaxis": "x",
         "y": [
          -630,
          -630,
          -657.5,
          -657.5
         ],
         "yaxis": "y"
        },
        {
         "hoverinfo": "text",
         "marker": {
          "color": "rgb(35,205,205)"
         },
         "mode": "lines",
         "type": "scatter",
         "x": [
          0,
          0.7297607592536662,
          0.7297607592536662,
          0
         ],
         "xaxis": "x",
         "y": [
          -675,
          -675,
          -685,
          -685
         ],
         "yaxis": "y"
        },
        {
         "hoverinfo": "text",
         "marker": {
          "color": "rgb(35,205,205)"
         },
         "mode": "lines",
         "type": "scatter",
         "x": [
          0.7297607592536662,
          0.7746367604151283,
          0.7746367604151283,
          0
         ],
         "xaxis": "x",
         "y": [
          -680,
          -680,
          -695,
          -695
         ],
         "yaxis": "y"
        },
        {
         "hoverinfo": "text",
         "marker": {
          "color": "rgb(35,205,205)"
         },
         "mode": "lines",
         "type": "scatter",
         "x": [
          0.7548789047951542,
          0.9496244325143324,
          0.9496244325143324,
          0.7746367604151283
         ],
         "xaxis": "x",
         "y": [
          -643.75,
          -643.75,
          -687.5,
          -687.5
         ],
         "yaxis": "y"
        },
        {
         "hoverinfo": "text",
         "marker": {
          "color": "rgb(0,116,217)"
         },
         "mode": "lines",
         "type": "scatter",
         "x": [
          0.7930106657227728,
          1.3899413753267416,
          1.3899413753267416,
          0.9496244325143324
         ],
         "xaxis": "x",
         "y": [
          -588.125,
          -588.125,
          -665.625,
          -665.625
         ],
         "yaxis": "y"
        },
        {
         "hoverinfo": "text",
         "marker": {
          "color": "rgb(0,116,217)"
         },
         "mode": "lines",
         "type": "scatter",
         "x": [
          1.7752886873072067,
          2.1525604337603395,
          2.1525604337603395,
          1.3899413753267416
         ],
         "xaxis": "x",
         "y": [
          -421.40625,
          -421.40625,
          -626.875,
          -626.875
         ],
         "yaxis": "y"
        },
        {
         "hoverinfo": "text",
         "marker": {
          "color": "rgb(133,20,75)"
         },
         "mode": "lines",
         "type": "scatter",
         "x": [
          0,
          0.46956619322441895,
          0.46956619322441895,
          0
         ],
         "xaxis": "x",
         "y": [
          -705,
          -705,
          -715,
          -715
         ],
         "yaxis": "y"
        },
        {
         "hoverinfo": "text",
         "marker": {
          "color": "rgb(133,20,75)"
         },
         "mode": "lines",
         "type": "scatter",
         "x": [
          0,
          0.3320352507222668,
          0.3320352507222668,
          0
         ],
         "xaxis": "x",
         "y": [
          -725,
          -725,
          -735,
          -735
         ],
         "yaxis": "y"
        },
        {
         "hoverinfo": "text",
         "marker": {
          "color": "rgb(133,20,75)"
         },
         "mode": "lines",
         "type": "scatter",
         "x": [
          0.3320352507222668,
          0.42728870656185325,
          0.42728870656185325,
          0
         ],
         "xaxis": "x",
         "y": [
          -730,
          -730,
          -745,
          -745
         ],
         "yaxis": "y"
        },
        {
         "hoverinfo": "text",
         "marker": {
          "color": "rgb(133,20,75)"
         },
         "mode": "lines",
         "type": "scatter",
         "x": [
          0.46956619322441895,
          0.7410905952663908,
          0.7410905952663908,
          0.42728870656185325
         ],
         "xaxis": "x",
         "y": [
          -710,
          -710,
          -737.5,
          -737.5
         ],
         "yaxis": "y"
        },
        {
         "hoverinfo": "text",
         "marker": {
          "color": "rgb(255,220,0)"
         },
         "mode": "lines",
         "type": "scatter",
         "x": [
          0,
          0.7580732529771188,
          0.7580732529771188,
          0
         ],
         "xaxis": "x",
         "y": [
          -755,
          -755,
          -765,
          -765
         ],
         "yaxis": "y"
        },
        {
         "hoverinfo": "text",
         "marker": {
          "color": "rgb(255,220,0)"
         },
         "mode": "lines",
         "type": "scatter",
         "x": [
          0,
          0.6186685079094262,
          0.6186685079094262,
          0
         ],
         "xaxis": "x",
         "y": [
          -775,
          -775,
          -785,
          -785
         ],
         "yaxis": "y"
        },
        {
         "hoverinfo": "text",
         "marker": {
          "color": "rgb(255,220,0)"
         },
         "mode": "lines",
         "type": "scatter",
         "x": [
          0,
          0.7059326908928485,
          0.7059326908928485,
          0
         ],
         "xaxis": "x",
         "y": [
          -795,
          -795,
          -805,
          -805
         ],
         "yaxis": "y"
        },
        {
         "hoverinfo": "text",
         "marker": {
          "color": "rgb(255,220,0)"
         },
         "mode": "lines",
         "type": "scatter",
         "x": [
          0.6186685079094262,
          0.7807094967207396,
          0.7807094967207396,
          0.7059326908928485
         ],
         "xaxis": "x",
         "y": [
          -780,
          -780,
          -800,
          -800
         ],
         "yaxis": "y"
        },
        {
         "hoverinfo": "text",
         "marker": {
          "color": "rgb(255,220,0)"
         },
         "mode": "lines",
         "type": "scatter",
         "x": [
          0.7580732529771188,
          0.8748378105704325,
          0.8748378105704325,
          0.7807094967207396
         ],
         "xaxis": "x",
         "y": [
          -760,
          -760,
          -790,
          -790
         ],
         "yaxis": "y"
        },
        {
         "hoverinfo": "text",
         "marker": {
          "color": "rgb(40,35,35)"
         },
         "mode": "lines",
         "type": "scatter",
         "x": [
          0,
          0.5366134833413727,
          0.5366134833413727,
          0
         ],
         "xaxis": "x",
         "y": [
          -815,
          -815,
          -825,
          -825
         ],
         "yaxis": "y"
        },
        {
         "hoverinfo": "text",
         "marker": {
          "color": "rgb(40,35,35)"
         },
         "mode": "lines",
         "type": "scatter",
         "x": [
          0.5366134833413727,
          0.6724184388777076,
          0.6724184388777076,
          0
         ],
         "xaxis": "x",
         "y": [
          -820,
          -820,
          -835,
          -835
         ],
         "yaxis": "y"
        },
        {
         "hoverinfo": "text",
         "marker": {
          "color": "rgb(0,116,217)"
         },
         "mode": "lines",
         "type": "scatter",
         "x": [
          0.8748378105704325,
          1.0803710313480828,
          1.0803710313480828,
          0.6724184388777076
         ],
         "xaxis": "x",
         "y": [
          -775,
          -775,
          -827.5,
          -827.5
         ],
         "yaxis": "y"
        },
        {
         "hoverinfo": "text",
         "marker": {
          "color": "rgb(61,153,112)"
         },
         "mode": "lines",
         "type": "scatter",
         "x": [
          0,
          0.5540594995684893,
          0.5540594995684893,
          0
         ],
         "xaxis": "x",
         "y": [
          -855,
          -855,
          -865,
          -865
         ],
         "yaxis": "y"
        },
        {
         "hoverinfo": "text",
         "marker": {
          "color": "rgb(61,153,112)"
         },
         "mode": "lines",
         "type": "scatter",
         "x": [
          0,
          0.832921702421717,
          0.832921702421717,
          0.5540594995684893
         ],
         "xaxis": "x",
         "y": [
          -845,
          -845,
          -860,
          -860
         ],
         "yaxis": "y"
        },
        {
         "hoverinfo": "text",
         "marker": {
          "color": "rgb(61,153,112)"
         },
         "mode": "lines",
         "type": "scatter",
         "x": [
          0,
          0.47153129489291135,
          0.47153129489291135,
          0
         ],
         "xaxis": "x",
         "y": [
          -875,
          -875,
          -885,
          -885
         ],
         "yaxis": "y"
        },
        {
         "hoverinfo": "text",
         "marker": {
          "color": "rgb(61,153,112)"
         },
         "mode": "lines",
         "type": "scatter",
         "x": [
          0.832921702421717,
          0.9200773574581653,
          0.9200773574581653,
          0.47153129489291135
         ],
         "xaxis": "x",
         "y": [
          -852.5,
          -852.5,
          -880,
          -880
         ],
         "yaxis": "y"
        },
        {
         "hoverinfo": "text",
         "marker": {
          "color": "rgb(255,65,54)"
         },
         "mode": "lines",
         "type": "scatter",
         "x": [
          0,
          0.7481013603412958,
          0.7481013603412958,
          0
         ],
         "xaxis": "x",
         "y": [
          -895,
          -895,
          -905,
          -905
         ],
         "yaxis": "y"
        },
        {
         "hoverinfo": "text",
         "marker": {
          "color": "rgb(255,65,54)"
         },
         "mode": "lines",
         "type": "scatter",
         "x": [
          0,
          0.5510106203115239,
          0.5510106203115239,
          0
         ],
         "xaxis": "x",
         "y": [
          -915,
          -915,
          -925,
          -925
         ],
         "yaxis": "y"
        },
        {
         "hoverinfo": "text",
         "marker": {
          "color": "rgb(255,65,54)"
         },
         "mode": "lines",
         "type": "scatter",
         "x": [
          0.5510106203115239,
          0.665912152408327,
          0.665912152408327,
          0
         ],
         "xaxis": "x",
         "y": [
          -920,
          -920,
          -935,
          -935
         ],
         "yaxis": "y"
        },
        {
         "hoverinfo": "text",
         "marker": {
          "color": "rgb(255,65,54)"
         },
         "mode": "lines",
         "type": "scatter",
         "x": [
          0.7481013603412958,
          0.75806312064658,
          0.75806312064658,
          0.665912152408327
         ],
         "xaxis": "x",
         "y": [
          -900,
          -900,
          -927.5,
          -927.5
         ],
         "yaxis": "y"
        },
        {
         "hoverinfo": "text",
         "marker": {
          "color": "rgb(0,116,217)"
         },
         "mode": "lines",
         "type": "scatter",
         "x": [
          0.9200773574581653,
          1.2914417295460985,
          1.2914417295460985,
          0.75806312064658
         ],
         "xaxis": "x",
         "y": [
          -866.25,
          -866.25,
          -913.75,
          -913.75
         ],
         "yaxis": "y"
        },
        {
         "hoverinfo": "text",
         "marker": {
          "color": "rgb(0,116,217)"
         },
         "mode": "lines",
         "type": "scatter",
         "x": [
          1.0803710313480828,
          1.5456022532706168,
          1.5456022532706168,
          1.2914417295460985
         ],
         "xaxis": "x",
         "y": [
          -801.25,
          -801.25,
          -890,
          -890
         ],
         "yaxis": "y"
        },
        {
         "hoverinfo": "text",
         "marker": {
          "color": "rgb(35,205,205)"
         },
         "mode": "lines",
         "type": "scatter",
         "x": [
          0,
          0.413495990890976,
          0.413495990890976,
          0
         ],
         "xaxis": "x",
         "y": [
          -955,
          -955,
          -965,
          -965
         ],
         "yaxis": "y"
        },
        {
         "hoverinfo": "text",
         "marker": {
          "color": "rgb(35,205,205)"
         },
         "mode": "lines",
         "type": "scatter",
         "x": [
          0,
          0.7090773538462308,
          0.7090773538462308,
          0.413495990890976
         ],
         "xaxis": "x",
         "y": [
          -945,
          -945,
          -960,
          -960
         ],
         "yaxis": "y"
        },
        {
         "hoverinfo": "text",
         "marker": {
          "color": "rgb(35,205,205)"
         },
         "mode": "lines",
         "type": "scatter",
         "x": [
          0.7090773538462308,
          0.9344380439558218,
          0.9344380439558218,
          0
         ],
         "xaxis": "x",
         "y": [
          -952.5,
          -952.5,
          -975,
          -975
         ],
         "yaxis": "y"
        },
        {
         "hoverinfo": "text",
         "marker": {
          "color": "rgb(61,153,112)"
         },
         "mode": "lines",
         "type": "scatter",
         "x": [
          0,
          0.6577764699449558,
          0.6577764699449558,
          0
         ],
         "xaxis": "x",
         "y": [
          -985,
          -985,
          -995,
          -995
         ],
         "yaxis": "y"
        },
        {
         "hoverinfo": "text",
         "marker": {
          "color": "rgb(61,153,112)"
         },
         "mode": "lines",
         "type": "scatter",
         "x": [
          0.6577764699449558,
          0.709053157731411,
          0.709053157731411,
          0
         ],
         "xaxis": "x",
         "y": [
          -990,
          -990,
          -1005,
          -1005
         ],
         "yaxis": "y"
        },
        {
         "hoverinfo": "text",
         "marker": {
          "color": "rgb(255,65,54)"
         },
         "mode": "lines",
         "type": "scatter",
         "x": [
          0,
          0.7568492390453881,
          0.7568492390453881,
          0
         ],
         "xaxis": "x",
         "y": [
          -1015,
          -1015,
          -1025,
          -1025
         ],
         "yaxis": "y"
        },
        {
         "hoverinfo": "text",
         "marker": {
          "color": "rgb(255,65,54)"
         },
         "mode": "lines",
         "type": "scatter",
         "x": [
          0,
          0.7472277795430411,
          0.7472277795430411,
          0
         ],
         "xaxis": "x",
         "y": [
          -1035,
          -1035,
          -1045,
          -1045
         ],
         "yaxis": "y"
        },
        {
         "hoverinfo": "text",
         "marker": {
          "color": "rgb(255,65,54)"
         },
         "mode": "lines",
         "type": "scatter",
         "x": [
          0,
          0.687045139994471,
          0.687045139994471,
          0
         ],
         "xaxis": "x",
         "y": [
          -1055,
          -1055,
          -1065,
          -1065
         ],
         "yaxis": "y"
        },
        {
         "hoverinfo": "text",
         "marker": {
          "color": "rgb(255,65,54)"
         },
         "mode": "lines",
         "type": "scatter",
         "x": [
          0.687045139994471,
          0.7752040923969419,
          0.7752040923969419,
          0
         ],
         "xaxis": "x",
         "y": [
          -1060,
          -1060,
          -1075,
          -1075
         ],
         "yaxis": "y"
        },
        {
         "hoverinfo": "text",
         "marker": {
          "color": "rgb(255,65,54)"
         },
         "mode": "lines",
         "type": "scatter",
         "x": [
          0.7472277795430411,
          0.8155353315818572,
          0.8155353315818572,
          0.7752040923969419
         ],
         "xaxis": "x",
         "y": [
          -1040,
          -1040,
          -1067.5,
          -1067.5
         ],
         "yaxis": "y"
        },
        {
         "hoverinfo": "text",
         "marker": {
          "color": "rgb(255,65,54)"
         },
         "mode": "lines",
         "type": "scatter",
         "x": [
          0.7568492390453881,
          0.8366078932876464,
          0.8366078932876464,
          0.8155353315818572
         ],
         "xaxis": "x",
         "y": [
          -1020,
          -1020,
          -1053.75,
          -1053.75
         ],
         "yaxis": "y"
        },
        {
         "hoverinfo": "text",
         "marker": {
          "color": "rgb(0,116,217)"
         },
         "mode": "lines",
         "type": "scatter",
         "x": [
          0.709053157731411,
          1.1307096130725647,
          1.1307096130725647,
          0.8366078932876464
         ],
         "xaxis": "x",
         "y": [
          -997.5,
          -997.5,
          -1036.875,
          -1036.875
         ],
         "yaxis": "y"
        },
        {
         "hoverinfo": "text",
         "marker": {
          "color": "rgb(35,205,205)"
         },
         "mode": "lines",
         "type": "scatter",
         "x": [
          0,
          0.6962731348882949,
          0.6962731348882949,
          0
         ],
         "xaxis": "x",
         "y": [
          -1095,
          -1095,
          -1105,
          -1105
         ],
         "yaxis": "y"
        },
        {
         "hoverinfo": "text",
         "marker": {
          "color": "rgb(35,205,205)"
         },
         "mode": "lines",
         "type": "scatter",
         "x": [
          0,
          0.8333914792128377,
          0.8333914792128377,
          0.6962731348882949
         ],
         "xaxis": "x",
         "y": [
          -1085,
          -1085,
          -1100,
          -1100
         ],
         "yaxis": "y"
        },
        {
         "hoverinfo": "text",
         "marker": {
          "color": "rgb(133,20,75)"
         },
         "mode": "lines",
         "type": "scatter",
         "x": [
          0,
          0.7638431013701875,
          0.7638431013701875,
          0
         ],
         "xaxis": "x",
         "y": [
          -1125,
          -1125,
          -1135,
          -1135
         ],
         "yaxis": "y"
        },
        {
         "hoverinfo": "text",
         "marker": {
          "color": "rgb(133,20,75)"
         },
         "mode": "lines",
         "type": "scatter",
         "x": [
          0,
          0.8138914859574913,
          0.8138914859574913,
          0.7638431013701875
         ],
         "xaxis": "x",
         "y": [
          -1115,
          -1115,
          -1130,
          -1130
         ],
         "yaxis": "y"
        },
        {
         "hoverinfo": "text",
         "marker": {
          "color": "rgb(133,20,75)"
         },
         "mode": "lines",
         "type": "scatter",
         "x": [
          0,
          0.8008503506223372,
          0.8008503506223372,
          0
         ],
         "xaxis": "x",
         "y": [
          -1155,
          -1155,
          -1165,
          -1165
         ],
         "yaxis": "y"
        },
        {
         "hoverinfo": "text",
         "marker": {
          "color": "rgb(133,20,75)"
         },
         "mode": "lines",
         "type": "scatter",
         "x": [
          0.8008503506223372,
          0.832237119904908,
          0.832237119904908,
          0
         ],
         "xaxis": "x",
         "y": [
          -1160,
          -1160,
          -1175,
          -1175
         ],
         "yaxis": "y"
        },
        {
         "hoverinfo": "text",
         "marker": {
          "color": "rgb(133,20,75)"
         },
         "mode": "lines",
         "type": "scatter",
         "x": [
          0,
          0.8962774521997474,
          0.8962774521997474,
          0.832237119904908
         ],
         "xaxis": "x",
         "y": [
          -1145,
          -1145,
          -1167.5,
          -1167.5
         ],
         "yaxis": "y"
        },
        {
         "hoverinfo": "text",
         "marker": {
          "color": "rgb(133,20,75)"
         },
         "mode": "lines",
         "type": "scatter",
         "x": [
          0.8962774521997474,
          0.9141559043088209,
          0.9141559043088209,
          0
         ],
         "xaxis": "x",
         "y": [
          -1156.25,
          -1156.25,
          -1185,
          -1185
         ],
         "yaxis": "y"
        },
        {
         "hoverinfo": "text",
         "marker": {
          "color": "rgb(133,20,75)"
         },
         "mode": "lines",
         "type": "scatter",
         "x": [
          0.8138914859574913,
          0.9543241114613086,
          0.9543241114613086,
          0.9141559043088209
         ],
         "xaxis": "x",
         "y": [
          -1122.5,
          -1122.5,
          -1170.625,
          -1170.625
         ],
         "yaxis": "y"
        },
        {
         "hoverinfo": "text",
         "marker": {
          "color": "rgb(0,116,217)"
         },
         "mode": "lines",
         "type": "scatter",
         "x": [
          0.8333914792128377,
          1.0495229552165855,
          1.0495229552165855,
          0.9543241114613086
         ],
         "xaxis": "x",
         "y": [
          -1092.5,
          -1092.5,
          -1146.5625,
          -1146.5625
         ],
         "yaxis": "y"
        },
        {
         "hoverinfo": "text",
         "marker": {
          "color": "rgb(0,116,217)"
         },
         "mode": "lines",
         "type": "scatter",
         "x": [
          1.1307096130725647,
          1.1660128583596328,
          1.1660128583596328,
          1.0495229552165855
         ],
         "xaxis": "x",
         "y": [
          -1017.1875,
          -1017.1875,
          -1119.53125,
          -1119.53125
         ],
         "yaxis": "y"
        },
        {
         "hoverinfo": "text",
         "marker": {
          "color": "rgb(255,220,0)"
         },
         "mode": "lines",
         "type": "scatter",
         "x": [
          0,
          0.8480887869090651,
          0.8480887869090651,
          0
         ],
         "xaxis": "x",
         "y": [
          -1195,
          -1195,
          -1205,
          -1205
         ],
         "yaxis": "y"
        },
        {
         "hoverinfo": "text",
         "marker": {
          "color": "rgb(255,220,0)"
         },
         "mode": "lines",
         "type": "scatter",
         "x": [
          0,
          0.587129875769377,
          0.587129875769377,
          0
         ],
         "xaxis": "x",
         "y": [
          -1215,
          -1215,
          -1225,
          -1225
         ],
         "yaxis": "y"
        },
        {
         "hoverinfo": "text",
         "marker": {
          "color": "rgb(255,220,0)"
         },
         "mode": "lines",
         "type": "scatter",
         "x": [
          0.587129875769377,
          0.79744091161899,
          0.79744091161899,
          0
         ],
         "xaxis": "x",
         "y": [
          -1220,
          -1220,
          -1235,
          -1235
         ],
         "yaxis": "y"
        },
        {
         "hoverinfo": "text",
         "marker": {
          "color": "rgb(255,220,0)"
         },
         "mode": "lines",
         "type": "scatter",
         "x": [
          0.8480887869090651,
          0.9209292502892941,
          0.9209292502892941,
          0.79744091161899
         ],
         "xaxis": "x",
         "y": [
          -1200,
          -1200,
          -1227.5,
          -1227.5
         ],
         "yaxis": "y"
        },
        {
         "hoverinfo": "text",
         "marker": {
          "color": "rgb(40,35,35)"
         },
         "mode": "lines",
         "type": "scatter",
         "x": [
          0,
          0.8225521989491509,
          0.8225521989491509,
          0
         ],
         "xaxis": "x",
         "y": [
          -1255,
          -1255,
          -1265,
          -1265
         ],
         "yaxis": "y"
        },
        {
         "hoverinfo": "text",
         "marker": {
          "color": "rgb(40,35,35)"
         },
         "mode": "lines",
         "type": "scatter",
         "x": [
          0,
          0.9123892723963104,
          0.9123892723963104,
          0.8225521989491509
         ],
         "xaxis": "x",
         "y": [
          -1245,
          -1245,
          -1260,
          -1260
         ],
         "yaxis": "y"
        },
        {
         "hoverinfo": "text",
         "marker": {
          "color": "rgb(61,153,112)"
         },
         "mode": "lines",
         "type": "scatter",
         "x": [
          0,
          0.8316479379534115,
          0.8316479379534115,
          0
         ],
         "xaxis": "x",
         "y": [
          -1275,
          -1275,
          -1285,
          -1285
         ],
         "yaxis": "y"
        },
        {
         "hoverinfo": "text",
         "marker": {
          "color": "rgb(0,116,217)"
         },
         "mode": "lines",
         "type": "scatter",
         "x": [
          0.9123892723963104,
          1.0457732600898832,
          1.0457732600898832,
          0.8316479379534115
         ],
         "xaxis": "x",
         "y": [
          -1252.5,
          -1252.5,
          -1280,
          -1280
         ],
         "yaxis": "y"
        },
        {
         "hoverinfo": "text",
         "marker": {
          "color": "rgb(0,116,217)"
         },
         "mode": "lines",
         "type": "scatter",
         "x": [
          0.9209292502892941,
          1.335819848516737,
          1.335819848516737,
          1.0457732600898832
         ],
         "xaxis": "x",
         "y": [
          -1213.75,
          -1213.75,
          -1266.25,
          -1266.25
         ],
         "yaxis": "y"
        },
        {
         "hoverinfo": "text",
         "marker": {
          "color": "rgb(0,116,217)"
         },
         "mode": "lines",
         "type": "scatter",
         "x": [
          1.1660128583596328,
          1.3987997269433217,
          1.3987997269433217,
          1.335819848516737
         ],
         "xaxis": "x",
         "y": [
          -1068.359375,
          -1068.359375,
          -1240,
          -1240
         ],
         "yaxis": "y"
        },
        {
         "hoverinfo": "text",
         "marker": {
          "color": "rgb(0,116,217)"
         },
         "mode": "lines",
         "type": "scatter",
         "x": [
          0.9344380439558218,
          1.4331032425110797,
          1.4331032425110797,
          1.3987997269433217
         ],
         "xaxis": "x",
         "y": [
          -963.75,
          -963.75,
          -1154.1796875,
          -1154.1796875
         ],
         "yaxis": "y"
        },
        {
         "hoverinfo": "text",
         "marker": {
          "color": "rgb(0,116,217)"
         },
         "mode": "lines",
         "type": "scatter",
         "x": [
          1.5456022532706168,
          1.6465635995939685,
          1.6465635995939685,
          1.4331032425110797
         ],
         "xaxis": "x",
         "y": [
          -845.625,
          -845.625,
          -1058.96484375,
          -1058.96484375
         ],
         "yaxis": "y"
        },
        {
         "hoverinfo": "text",
         "marker": {
          "color": "rgb(0,116,217)"
         },
         "mode": "lines",
         "type": "scatter",
         "x": [
          0.7410905952663908,
          1.7698284202510735,
          1.7698284202510735,
          1.6465635995939685
         ],
         "xaxis": "x",
         "y": [
          -723.75,
          -723.75,
          -952.294921875,
          -952.294921875
         ],
         "yaxis": "y"
        },
        {
         "hoverinfo": "text",
         "marker": {
          "color": "rgb(255,65,54)"
         },
         "mode": "lines",
         "type": "scatter",
         "x": [
          0,
          0.8257881878370865,
          0.8257881878370865,
          0
         ],
         "xaxis": "x",
         "y": [
          -1295,
          -1295,
          -1305,
          -1305
         ],
         "yaxis": "y"
        },
        {
         "hoverinfo": "text",
         "marker": {
          "color": "rgb(255,65,54)"
         },
         "mode": "lines",
         "type": "scatter",
         "x": [
          0,
          0.5108040234826146,
          0.5108040234826146,
          0
         ],
         "xaxis": "x",
         "y": [
          -1315,
          -1315,
          -1325,
          -1325
         ],
         "yaxis": "y"
        },
        {
         "hoverinfo": "text",
         "marker": {
          "color": "rgb(255,65,54)"
         },
         "mode": "lines",
         "type": "scatter",
         "x": [
          0.8257881878370865,
          0.9733981623600836,
          0.9733981623600836,
          0.5108040234826146
         ],
         "xaxis": "x",
         "y": [
          -1300,
          -1300,
          -1320,
          -1320
         ],
         "yaxis": "y"
        },
        {
         "hoverinfo": "text",
         "marker": {
          "color": "rgb(35,205,205)"
         },
         "mode": "lines",
         "type": "scatter",
         "x": [
          0,
          0.7354087167892551,
          0.7354087167892551,
          0
         ],
         "xaxis": "x",
         "y": [
          -1345,
          -1345,
          -1355,
          -1355
         ],
         "yaxis": "y"
        },
        {
         "hoverinfo": "text",
         "marker": {
          "color": "rgb(35,205,205)"
         },
         "mode": "lines",
         "type": "scatter",
         "x": [
          0,
          0.7650639447632135,
          0.7650639447632135,
          0.7354087167892551
         ],
         "xaxis": "x",
         "y": [
          -1335,
          -1335,
          -1350,
          -1350
         ],
         "yaxis": "y"
        },
        {
         "hoverinfo": "text",
         "marker": {
          "color": "rgb(35,205,205)"
         },
         "mode": "lines",
         "type": "scatter",
         "x": [
          0,
          0.7984956685194371,
          0.7984956685194371,
          0
         ],
         "xaxis": "x",
         "y": [
          -1365,
          -1365,
          -1375,
          -1375
         ],
         "yaxis": "y"
        },
        {
         "hoverinfo": "text",
         "marker": {
          "color": "rgb(35,205,205)"
         },
         "mode": "lines",
         "type": "scatter",
         "x": [
          0.7650639447632135,
          0.8944210509220571,
          0.8944210509220571,
          0.7984956685194371
         ],
         "xaxis": "x",
         "y": [
          -1342.5,
          -1342.5,
          -1370,
          -1370
         ],
         "yaxis": "y"
        },
        {
         "hoverinfo": "text",
         "marker": {
          "color": "rgb(0,116,217)"
         },
         "mode": "lines",
         "type": "scatter",
         "x": [
          0.9733981623600836,
          1.1347134956823743,
          1.1347134956823743,
          0.8944210509220571
         ],
         "xaxis": "x",
         "y": [
          -1310,
          -1310,
          -1356.25,
          -1356.25
         ],
         "yaxis": "y"
        },
        {
         "hoverinfo": "text",
         "marker": {
          "color": "rgb(61,153,112)"
         },
         "mode": "lines",
         "type": "scatter",
         "x": [
          0,
          0.41115452553154264,
          0.41115452553154264,
          0
         ],
         "xaxis": "x",
         "y": [
          -1395,
          -1395,
          -1405,
          -1405
         ],
         "yaxis": "y"
        },
        {
         "hoverinfo": "text",
         "marker": {
          "color": "rgb(61,153,112)"
         },
         "mode": "lines",
         "type": "scatter",
         "x": [
          0.41115452553154264,
          0.47981667366131425,
          0.47981667366131425,
          0
         ],
         "xaxis": "x",
         "y": [
          -1400,
          -1400,
          -1415,
          -1415
         ],
         "yaxis": "y"
        },
        {
         "hoverinfo": "text",
         "marker": {
          "color": "rgb(61,153,112)"
         },
         "mode": "lines",
         "type": "scatter",
         "x": [
          0,
          0.5917807170910406,
          0.5917807170910406,
          0.47981667366131425
         ],
         "xaxis": "x",
         "y": [
          -1385,
          -1385,
          -1407.5,
          -1407.5
         ],
         "yaxis": "y"
        },
        {
         "hoverinfo": "text",
         "marker": {
          "color": "rgb(61,153,112)"
         },
         "mode": "lines",
         "type": "scatter",
         "x": [
          0.5917807170910406,
          0.8507932122059519,
          0.8507932122059519,
          0
         ],
         "xaxis": "x",
         "y": [
          -1396.25,
          -1396.25,
          -1425,
          -1425
         ],
         "yaxis": "y"
        },
        {
         "hoverinfo": "text",
         "marker": {
          "color": "rgb(0,116,217)"
         },
         "mode": "lines",
         "type": "scatter",
         "x": [
          1.1347134956823743,
          1.300657132094475,
          1.300657132094475,
          0.8507932122059519
         ],
         "xaxis": "x",
         "y": [
          -1333.125,
          -1333.125,
          -1410.625,
          -1410.625
         ],
         "yaxis": "y"
        },
        {
         "hoverinfo": "text",
         "marker": {
          "color": "rgb(255,65,54)"
         },
         "mode": "lines",
         "type": "scatter",
         "x": [
          0,
          0.7011555578356432,
          0.7011555578356432,
          0
         ],
         "xaxis": "x",
         "y": [
          -1455,
          -1455,
          -1465,
          -1465
         ],
         "yaxis": "y"
        },
        {
         "hoverinfo": "text",
         "marker": {
          "color": "rgb(255,65,54)"
         },
         "mode": "lines",
         "type": "scatter",
         "x": [
          0,
          0.7491809381721752,
          0.7491809381721752,
          0.7011555578356432
         ],
         "xaxis": "x",
         "y": [
          -1445,
          -1445,
          -1460,
          -1460
         ],
         "yaxis": "y"
        },
        {
         "hoverinfo": "text",
         "marker": {
          "color": "rgb(255,65,54)"
         },
         "mode": "lines",
         "type": "scatter",
         "x": [
          0.7491809381721752,
          0.784318352899787,
          0.784318352899787,
          0
         ],
         "xaxis": "x",
         "y": [
          -1452.5,
          -1452.5,
          -1475,
          -1475
         ],
         "yaxis": "y"
        },
        {
         "hoverinfo": "text",
         "marker": {
          "color": "rgb(255,65,54)"
         },
         "mode": "lines",
         "type": "scatter",
         "x": [
          0,
          0.816510361721879,
          0.816510361721879,
          0.784318352899787
         ],
         "xaxis": "x",
         "y": [
          -1435,
          -1435,
          -1463.75,
          -1463.75
         ],
         "yaxis": "y"
        },
        {
         "hoverinfo": "text",
         "marker": {
          "color": "rgb(35,205,205)"
         },
         "mode": "lines",
         "type": "scatter",
         "x": [
          0,
          0.8548430267030644,
          0.8548430267030644,
          0
         ],
         "xaxis": "x",
         "y": [
          -1485,
          -1485,
          -1495,
          -1495
         ],
         "yaxis": "y"
        },
        {
         "hoverinfo": "text",
         "marker": {
          "color": "rgb(35,205,205)"
         },
         "mode": "lines",
         "type": "scatter",
         "x": [
          0,
          0.8155068907758528,
          0.8155068907758528,
          0
         ],
         "xaxis": "x",
         "y": [
          -1505,
          -1505,
          -1515,
          -1515
         ],
         "yaxis": "y"
        },
        {
         "hoverinfo": "text",
         "marker": {
          "color": "rgb(35,205,205)"
         },
         "mode": "lines",
         "type": "scatter",
         "x": [
          0.8548430267030644,
          0.8847307156498667,
          0.8847307156498667,
          0.8155068907758528
         ],
         "xaxis": "x",
         "y": [
          -1490,
          -1490,
          -1510,
          -1510
         ],
         "yaxis": "y"
        },
        {
         "hoverinfo": "text",
         "marker": {
          "color": "rgb(0,116,217)"
         },
         "mode": "lines",
         "type": "scatter",
         "x": [
          0.816510361721879,
          1.0188732660098476,
          1.0188732660098476,
          0.8847307156498667
         ],
         "xaxis": "x",
         "y": [
          -1449.375,
          -1449.375,
          -1500,
          -1500
         ],
         "yaxis": "y"
        },
        {
         "hoverinfo": "text",
         "marker": {
          "color": "rgb(133,20,75)"
         },
         "mode": "lines",
         "type": "scatter",
         "x": [
          0,
          0.6802824552250772,
          0.6802824552250772,
          0
         ],
         "xaxis": "x",
         "y": [
          -1545,
          -1545,
          -1555,
          -1555
         ],
         "yaxis": "y"
        },
        {
         "hoverinfo": "text",
         "marker": {
          "color": "rgb(133,20,75)"
         },
         "mode": "lines",
         "type": "scatter",
         "x": [
          0,
          0.7494284319095812,
          0.7494284319095812,
          0.6802824552250772
         ],
         "xaxis": "x",
         "y": [
          -1535,
          -1535,
          -1550,
          -1550
         ],
         "yaxis": "y"
        },
        {
         "hoverinfo": "text",
         "marker": {
          "color": "rgb(133,20,75)"
         },
         "mode": "lines",
         "type": "scatter",
         "x": [
          0,
          0.7954621892029867,
          0.7954621892029867,
          0.7494284319095812
         ],
         "xaxis": "x",
         "y": [
          -1525,
          -1525,
          -1542.5,
          -1542.5
         ],
         "yaxis": "y"
        },
        {
         "hoverinfo": "text",
         "marker": {
          "color": "rgb(133,20,75)"
         },
         "mode": "lines",
         "type": "scatter",
         "x": [
          0,
          0.7981381977766391,
          0.7981381977766391,
          0
         ],
         "xaxis": "x",
         "y": [
          -1565,
          -1565,
          -1575,
          -1575
         ],
         "yaxis": "y"
        },
        {
         "hoverinfo": "text",
         "marker": {
          "color": "rgb(133,20,75)"
         },
         "mode": "lines",
         "type": "scatter",
         "x": [
          0,
          0.7527964375559856,
          0.7527964375559856,
          0
         ],
         "xaxis": "x",
         "y": [
          -1585,
          -1585,
          -1595,
          -1595
         ],
         "yaxis": "y"
        },
        {
         "hoverinfo": "text",
         "marker": {
          "color": "rgb(133,20,75)"
         },
         "mode": "lines",
         "type": "scatter",
         "x": [
          0.7981381977766391,
          0.8550508676335266,
          0.8550508676335266,
          0.7527964375559856
         ],
         "xaxis": "x",
         "y": [
          -1570,
          -1570,
          -1590,
          -1590
         ],
         "yaxis": "y"
        },
        {
         "hoverinfo": "text",
         "marker": {
          "color": "rgb(133,20,75)"
         },
         "mode": "lines",
         "type": "scatter",
         "x": [
          0.7954621892029867,
          0.9064394787411744,
          0.9064394787411744,
          0.8550508676335266
         ],
         "xaxis": "x",
         "y": [
          -1533.75,
          -1533.75,
          -1580,
          -1580
         ],
         "yaxis": "y"
        },
        {
         "hoverinfo": "text",
         "marker": {
          "color": "rgb(255,220,0)"
         },
         "mode": "lines",
         "type": "scatter",
         "x": [
          0,
          0.7190520318592395,
          0.7190520318592395,
          0
         ],
         "xaxis": "x",
         "y": [
          -1605,
          -1605,
          -1615,
          -1615
         ],
         "yaxis": "y"
        },
        {
         "hoverinfo": "text",
         "marker": {
          "color": "rgb(255,220,0)"
         },
         "mode": "lines",
         "type": "scatter",
         "x": [
          0.7190520318592395,
          0.7818259836321816,
          0.7818259836321816,
          0
         ],
         "xaxis": "x",
         "y": [
          -1610,
          -1610,
          -1625,
          -1625
         ],
         "yaxis": "y"
        },
        {
         "hoverinfo": "text",
         "marker": {
          "color": "rgb(255,220,0)"
         },
         "mode": "lines",
         "type": "scatter",
         "x": [
          0.7818259836321816,
          0.8614811290399527,
          0.8614811290399527,
          0
         ],
         "xaxis": "x",
         "y": [
          -1617.5,
          -1617.5,
          -1635,
          -1635
         ],
         "yaxis": "y"
        },
        {
         "hoverinfo": "text",
         "marker": {
          "color": "rgb(255,220,0)"
         },
         "mode": "lines",
         "type": "scatter",
         "x": [
          0,
          0.8006638503924697,
          0.8006638503924697,
          0
         ],
         "xaxis": "x",
         "y": [
          -1645,
          -1645,
          -1655,
          -1655
         ],
         "yaxis": "y"
        },
        {
         "hoverinfo": "text",
         "marker": {
          "color": "rgb(255,220,0)"
         },
         "mode": "lines",
         "type": "scatter",
         "x": [
          0.8614811290399527,
          0.9381568232930235,
          0.9381568232930235,
          0.8006638503924697
         ],
         "xaxis": "x",
         "y": [
          -1626.25,
          -1626.25,
          -1650,
          -1650
         ],
         "yaxis": "y"
        },
        {
         "hoverinfo": "text",
         "marker": {
          "color": "rgb(0,116,217)"
         },
         "mode": "lines",
         "type": "scatter",
         "x": [
          0.9064394787411744,
          1.092251155403531,
          1.092251155403531,
          0.9381568232930235
         ],
         "xaxis": "x",
         "y": [
          -1556.875,
          -1556.875,
          -1638.125,
          -1638.125
         ],
         "yaxis": "y"
        },
        {
         "hoverinfo": "text",
         "marker": {
          "color": "rgb(0,116,217)"
         },
         "mode": "lines",
         "type": "scatter",
         "x": [
          1.0188732660098476,
          1.198082026199828,
          1.198082026199828,
          1.092251155403531
         ],
         "xaxis": "x",
         "y": [
          -1474.6875,
          -1474.6875,
          -1597.5,
          -1597.5
         ],
         "yaxis": "y"
        },
        {
         "hoverinfo": "text",
         "marker": {
          "color": "rgb(0,116,217)"
         },
         "mode": "lines",
         "type": "scatter",
         "x": [
          1.300657132094475,
          1.440791985807434,
          1.440791985807434,
          1.198082026199828
         ],
         "xaxis": "x",
         "y": [
          -1371.875,
          -1371.875,
          -1536.09375,
          -1536.09375
         ],
         "yaxis": "y"
        },
        {
         "hoverinfo": "text",
         "marker": {
          "color": "rgb(40,35,35)"
         },
         "mode": "lines",
         "type": "scatter",
         "x": [
          0,
          0.44875015399442475,
          0.44875015399442475,
          0
         ],
         "xaxis": "x",
         "y": [
          -1675,
          -1675,
          -1685,
          -1685
         ],
         "yaxis": "y"
        },
        {
         "hoverinfo": "text",
         "marker": {
          "color": "rgb(40,35,35)"
         },
         "mode": "lines",
         "type": "scatter",
         "x": [
          0,
          0.7209065140107239,
          0.7209065140107239,
          0.44875015399442475
         ],
         "xaxis": "x",
         "y": [
          -1665,
          -1665,
          -1680,
          -1680
         ],
         "yaxis": "y"
        },
        {
         "hoverinfo": "text",
         "marker": {
          "color": "rgb(61,153,112)"
         },
         "mode": "lines",
         "type": "scatter",
         "x": [
          0,
          0.6034567925875645,
          0.6034567925875645,
          0
         ],
         "xaxis": "x",
         "y": [
          -1695,
          -1695,
          -1705,
          -1705
         ],
         "yaxis": "y"
        },
        {
         "hoverinfo": "text",
         "marker": {
          "color": "rgb(61,153,112)"
         },
         "mode": "lines",
         "type": "scatter",
         "x": [
          0,
          0.5227045350781008,
          0.5227045350781008,
          0
         ],
         "xaxis": "x",
         "y": [
          -1715,
          -1715,
          -1725,
          -1725
         ],
         "yaxis": "y"
        },
        {
         "hoverinfo": "text",
         "marker": {
          "color": "rgb(61,153,112)"
         },
         "mode": "lines",
         "type": "scatter",
         "x": [
          0.6034567925875645,
          0.6996232224418383,
          0.6996232224418383,
          0.5227045350781008
         ],
         "xaxis": "x",
         "y": [
          -1700,
          -1700,
          -1720,
          -1720
         ],
         "yaxis": "y"
        },
        {
         "hoverinfo": "text",
         "marker": {
          "color": "rgb(61,153,112)"
         },
         "mode": "lines",
         "type": "scatter",
         "x": [
          0.6996232224418383,
          0.7491482948821465,
          0.7491482948821465,
          0
         ],
         "xaxis": "x",
         "y": [
          -1710,
          -1710,
          -1735,
          -1735
         ],
         "yaxis": "y"
        },
        {
         "hoverinfo": "text",
         "marker": {
          "color": "rgb(0,116,217)"
         },
         "mode": "lines",
         "type": "scatter",
         "x": [
          0.7209065140107239,
          1.0578778503495472,
          1.0578778503495472,
          0.7491482948821465
         ],
         "xaxis": "x",
         "y": [
          -1672.5,
          -1672.5,
          -1722.5,
          -1722.5
         ],
         "yaxis": "y"
        },
        {
         "hoverinfo": "text",
         "marker": {
          "color": "rgb(0,116,217)"
         },
         "mode": "lines",
         "type": "scatter",
         "x": [
          1.440791985807434,
          1.5605459210691872,
          1.5605459210691872,
          1.0578778503495472
         ],
         "xaxis": "x",
         "y": [
          -1453.984375,
          -1453.984375,
          -1697.5,
          -1697.5
         ],
         "yaxis": "y"
        },
        {
         "hoverinfo": "text",
         "marker": {
          "color": "rgb(0,116,217)"
         },
         "mode": "lines",
         "type": "scatter",
         "x": [
          1.7698284202510735,
          1.9577105165649875,
          1.9577105165649875,
          1.5605459210691872
         ],
         "xaxis": "x",
         "y": [
          -838.0224609375,
          -838.0224609375,
          -1575.7421875,
          -1575.7421875
         ],
         "yaxis": "y"
        },
        {
         "hoverinfo": "text",
         "marker": {
          "color": "rgb(0,116,217)"
         },
         "mode": "lines",
         "type": "scatter",
         "x": [
          2.1525604337603395,
          2.3168092332910417,
          2.3168092332910417,
          1.9577105165649875
         ],
         "xaxis": "x",
         "y": [
          -524.140625,
          -524.140625,
          -1206.88232421875,
          -1206.88232421875
         ],
         "yaxis": "y"
        },
        {
         "hoverinfo": "text",
         "marker": {
          "color": "rgb(255,65,54)"
         },
         "mode": "lines",
         "type": "scatter",
         "x": [
          0,
          0.7220471231085,
          0.7220471231085,
          0
         ],
         "xaxis": "x",
         "y": [
          -1745,
          -1745,
          -1755,
          -1755
         ],
         "yaxis": "y"
        },
        {
         "hoverinfo": "text",
         "marker": {
          "color": "rgb(255,65,54)"
         },
         "mode": "lines",
         "type": "scatter",
         "x": [
          0,
          0.5977911895890681,
          0.5977911895890681,
          0
         ],
         "xaxis": "x",
         "y": [
          -1765,
          -1765,
          -1775,
          -1775
         ],
         "yaxis": "y"
        },
        {
         "hoverinfo": "text",
         "marker": {
          "color": "rgb(255,65,54)"
         },
         "mode": "lines",
         "type": "scatter",
         "x": [
          0.5977911895890681,
          0.6983704999454774,
          0.6983704999454774,
          0
         ],
         "xaxis": "x",
         "y": [
          -1770,
          -1770,
          -1785,
          -1785
         ],
         "yaxis": "y"
        },
        {
         "hoverinfo": "text",
         "marker": {
          "color": "rgb(255,65,54)"
         },
         "mode": "lines",
         "type": "scatter",
         "x": [
          0.7220471231085,
          0.8980364153151007,
          0.8980364153151007,
          0.6983704999454774
         ],
         "xaxis": "x",
         "y": [
          -1750,
          -1750,
          -1777.5,
          -1777.5
         ],
         "yaxis": "y"
        },
        {
         "hoverinfo": "text",
         "marker": {
          "color": "rgb(35,205,205)"
         },
         "mode": "lines",
         "type": "scatter",
         "x": [
          0,
          0.7144363774224016,
          0.7144363774224016,
          0
         ],
         "xaxis": "x",
         "y": [
          -1805,
          -1805,
          -1815,
          -1815
         ],
         "yaxis": "y"
        },
        {
         "hoverinfo": "text",
         "marker": {
          "color": "rgb(35,205,205)"
         },
         "mode": "lines",
         "type": "scatter",
         "x": [
          0,
          0.7566189926037613,
          0.7566189926037613,
          0.7144363774224016
         ],
         "xaxis": "x",
         "y": [
          -1795,
          -1795,
          -1810,
          -1810
         ],
         "yaxis": "y"
        },
        {
         "hoverinfo": "text",
         "marker": {
          "color": "rgb(35,205,205)"
         },
         "mode": "lines",
         "type": "scatter",
         "x": [
          0,
          0.8185235863497285,
          0.8185235863497285,
          0
         ],
         "xaxis": "x",
         "y": [
          -1825,
          -1825,
          -1835,
          -1835
         ],
         "yaxis": "y"
        },
        {
         "hoverinfo": "text",
         "marker": {
          "color": "rgb(35,205,205)"
         },
         "mode": "lines",
         "type": "scatter",
         "x": [
          0.7566189926037613,
          0.9075288562505766,
          0.9075288562505766,
          0.8185235863497285
         ],
         "xaxis": "x",
         "y": [
          -1802.5,
          -1802.5,
          -1830,
          -1830
         ],
         "yaxis": "y"
        },
        {
         "hoverinfo": "text",
         "marker": {
          "color": "rgb(0,116,217)"
         },
         "mode": "lines",
         "type": "scatter",
         "x": [
          0.8980364153151007,
          1.039598916963028,
          1.039598916963028,
          0.9075288562505766
         ],
         "xaxis": "x",
         "y": [
          -1763.75,
          -1763.75,
          -1816.25,
          -1816.25
         ],
         "yaxis": "y"
        },
        {
         "hoverinfo": "text",
         "marker": {
          "color": "rgb(61,153,112)"
         },
         "mode": "lines",
         "type": "scatter",
         "x": [
          0,
          0.615375770914886,
          0.615375770914886,
          0
         ],
         "xaxis": "x",
         "y": [
          -1845,
          -1845,
          -1855,
          -1855
         ],
         "yaxis": "y"
        },
        {
         "hoverinfo": "text",
         "marker": {
          "color": "rgb(61,153,112)"
         },
         "mode": "lines",
         "type": "scatter",
         "x": [
          0,
          0.5112996615285192,
          0.5112996615285192,
          0
         ],
         "xaxis": "x",
         "y": [
          -1875,
          -1875,
          -1885,
          -1885
         ],
         "yaxis": "y"
        },
        {
         "hoverinfo": "text",
         "marker": {
          "color": "rgb(61,153,112)"
         },
         "mode": "lines",
         "type": "scatter",
         "x": [
          0.5112996615285192,
          0.6708943935626388,
          0.6708943935626388,
          0
         ],
         "xaxis": "x",
         "y": [
          -1880,
          -1880,
          -1895,
          -1895
         ],
         "yaxis": "y"
        },
        {
         "hoverinfo": "text",
         "marker": {
          "color": "rgb(61,153,112)"
         },
         "mode": "lines",
         "type": "scatter",
         "x": [
          0.6708943935626388,
          0.79937727503232,
          0.79937727503232,
          0
         ],
         "xaxis": "x",
         "y": [
          -1887.5,
          -1887.5,
          -1905,
          -1905
         ],
         "yaxis": "y"
        },
        {
         "hoverinfo": "text",
         "marker": {
          "color": "rgb(61,153,112)"
         },
         "mode": "lines",
         "type": "scatter",
         "x": [
          0,
          0.8163811074919148,
          0.8163811074919148,
          0.79937727503232
         ],
         "xaxis": "x",
         "y": [
          -1865,
          -1865,
          -1896.25,
          -1896.25
         ],
         "yaxis": "y"
        },
        {
         "hoverinfo": "text",
         "marker": {
          "color": "rgb(61,153,112)"
         },
         "mode": "lines",
         "type": "scatter",
         "x": [
          0.8163811074919148,
          0.8286884705373675,
          0.8286884705373675,
          0
         ],
         "xaxis": "x",
         "y": [
          -1880.625,
          -1880.625,
          -1915,
          -1915
         ],
         "yaxis": "y"
        },
        {
         "hoverinfo": "text",
         "marker": {
          "color": "rgb(61,153,112)"
         },
         "mode": "lines",
         "type": "scatter",
         "x": [
          0.615375770914886,
          0.9612854174043329,
          0.9612854174043329,
          0.8286884705373675
         ],
         "xaxis": "x",
         "y": [
          -1850,
          -1850,
          -1897.8125,
          -1897.8125
         ],
         "yaxis": "y"
        },
        {
         "hoverinfo": "text",
         "marker": {
          "color": "rgb(0,116,217)"
         },
         "mode": "lines",
         "type": "scatter",
         "x": [
          1.039598916963028,
          1.1882235452873058,
          1.1882235452873058,
          0.9612854174043329
         ],
         "xaxis": "x",
         "y": [
          -1790,
          -1790,
          -1873.90625,
          -1873.90625
         ],
         "yaxis": "y"
        },
        {
         "hoverinfo": "text",
         "marker": {
          "color": "rgb(255,65,54)"
         },
         "mode": "lines",
         "type": "scatter",
         "x": [
          0,
          0.21528245362548026,
          0.21528245362548026,
          0
         ],
         "xaxis": "x",
         "y": [
          -1945,
          -1945,
          -1955,
          -1955
         ],
         "yaxis": "y"
        },
        {
         "hoverinfo": "text",
         "marker": {
          "color": "rgb(255,65,54)"
         },
         "mode": "lines",
         "type": "scatter",
         "x": [
          0,
          0.23787030772323325,
          0.23787030772323325,
          0.21528245362548026
         ],
         "xaxis": "x",
         "y": [
          -1935,
          -1935,
          -1950,
          -1950
         ],
         "yaxis": "y"
        },
        {
         "hoverinfo": "text",
         "marker": {
          "color": "rgb(255,65,54)"
         },
         "mode": "lines",
         "type": "scatter",
         "x": [
          0.23787030772323325,
          0.45025237572712945,
          0.45025237572712945,
          0
         ],
         "xaxis": "x",
         "y": [
          -1942.5,
          -1942.5,
          -1965,
          -1965
         ],
         "yaxis": "y"
        },
        {
         "hoverinfo": "text",
         "marker": {
          "color": "rgb(255,65,54)"
         },
         "mode": "lines",
         "type": "scatter",
         "x": [
          0,
          0.4940380797126784,
          0.4940380797126784,
          0.45025237572712945
         ],
         "xaxis": "x",
         "y": [
          -1925,
          -1925,
          -1953.75,
          -1953.75
         ],
         "yaxis": "y"
        },
        {
         "hoverinfo": "text",
         "marker": {
          "color": "rgb(255,65,54)"
         },
         "mode": "lines",
         "type": "scatter",
         "x": [
          0,
          0.5128993309935728,
          0.5128993309935728,
          0
         ],
         "xaxis": "x",
         "y": [
          -1975,
          -1975,
          -1985,
          -1985
         ],
         "yaxis": "y"
        },
        {
         "hoverinfo": "text",
         "marker": {
          "color": "rgb(255,65,54)"
         },
         "mode": "lines",
         "type": "scatter",
         "x": [
          0.5128993309935728,
          0.717603729040978,
          0.717603729040978,
          0
         ],
         "xaxis": "x",
         "y": [
          -1980,
          -1980,
          -1995,
          -1995
         ],
         "yaxis": "y"
        },
        {
         "hoverinfo": "text",
         "marker": {
          "color": "rgb(255,65,54)"
         },
         "mode": "lines",
         "type": "scatter",
         "x": [
          0.4940380797126784,
          0.9577326466197925,
          0.9577326466197925,
          0.717603729040978
         ],
         "xaxis": "x",
         "y": [
          -1939.375,
          -1939.375,
          -1987.5,
          -1987.5
         ],
         "yaxis": "y"
        },
        {
         "hoverinfo": "text",
         "marker": {
          "color": "rgb(0,116,217)"
         },
         "mode": "lines",
         "type": "scatter",
         "x": [
          1.1882235452873058,
          1.6982863705286608,
          1.6982863705286608,
          0.9577326466197925
         ],
         "xaxis": "x",
         "y": [
          -1831.953125,
          -1831.953125,
          -1963.4375,
          -1963.4375
         ],
         "yaxis": "y"
        },
        {
         "hoverinfo": "text",
         "marker": {
          "color": "rgb(0,116,217)"
         },
         "mode": "lines",
         "type": "scatter",
         "x": [
          2.3168092332910417,
          2.610998108032933,
          2.610998108032933,
          1.6982863705286608
         ],
         "xaxis": "x",
         "y": [
          -865.511474609375,
          -865.511474609375,
          -1897.6953125,
          -1897.6953125
         ],
         "yaxis": "y"
        },
        {
         "hoverinfo": "text",
         "marker": {
          "color": "rgb(0,116,217)"
         },
         "mode": "lines",
         "type": "scatter",
         "x": [
          1.4285317899697962,
          2.8372755452699,
          2.8372755452699,
          2.610998108032933
         ],
         "xaxis": "x",
         "y": [
          -156.8359375,
          -156.8359375,
          -1381.6033935546875,
          -1381.6033935546875
         ],
         "yaxis": "y"
        }
       ],
       "layout": {
        "autosize": false,
        "height": 3200,
        "hoverlabel": {
         "bgcolor": "white",
         "font": {
          "family": "Rockwell",
          "size": 16
         }
        },
        "hovermode": "closest",
        "plot_bgcolor": "#ECEFF1",
        "showlegend": false,
        "template": {
         "data": {
          "bar": [
           {
            "error_x": {
             "color": "#2a3f5f"
            },
            "error_y": {
             "color": "#2a3f5f"
            },
            "marker": {
             "line": {
              "color": "white",
              "width": 0.5
             },
             "pattern": {
              "fillmode": "overlay",
              "size": 10,
              "solidity": 0.2
             }
            },
            "type": "bar"
           }
          ],
          "barpolar": [
           {
            "marker": {
             "line": {
              "color": "white",
              "width": 0.5
             },
             "pattern": {
              "fillmode": "overlay",
              "size": 10,
              "solidity": 0.2
             }
            },
            "type": "barpolar"
           }
          ],
          "carpet": [
           {
            "aaxis": {
             "endlinecolor": "#2a3f5f",
             "gridcolor": "#C8D4E3",
             "linecolor": "#C8D4E3",
             "minorgridcolor": "#C8D4E3",
             "startlinecolor": "#2a3f5f"
            },
            "baxis": {
             "endlinecolor": "#2a3f5f",
             "gridcolor": "#C8D4E3",
             "linecolor": "#C8D4E3",
             "minorgridcolor": "#C8D4E3",
             "startlinecolor": "#2a3f5f"
            },
            "type": "carpet"
           }
          ],
          "choropleth": [
           {
            "colorbar": {
             "outlinewidth": 0,
             "ticks": ""
            },
            "type": "choropleth"
           }
          ],
          "contour": [
           {
            "colorbar": {
             "outlinewidth": 0,
             "ticks": ""
            },
            "colorscale": [
             [
              0,
              "#0d0887"
             ],
             [
              0.1111111111111111,
              "#46039f"
             ],
             [
              0.2222222222222222,
              "#7201a8"
             ],
             [
              0.3333333333333333,
              "#9c179e"
             ],
             [
              0.4444444444444444,
              "#bd3786"
             ],
             [
              0.5555555555555556,
              "#d8576b"
             ],
             [
              0.6666666666666666,
              "#ed7953"
             ],
             [
              0.7777777777777778,
              "#fb9f3a"
             ],
             [
              0.8888888888888888,
              "#fdca26"
             ],
             [
              1,
              "#f0f921"
             ]
            ],
            "type": "contour"
           }
          ],
          "contourcarpet": [
           {
            "colorbar": {
             "outlinewidth": 0,
             "ticks": ""
            },
            "type": "contourcarpet"
           }
          ],
          "heatmap": [
           {
            "colorbar": {
             "outlinewidth": 0,
             "ticks": ""
            },
            "colorscale": [
             [
              0,
              "#0d0887"
             ],
             [
              0.1111111111111111,
              "#46039f"
             ],
             [
              0.2222222222222222,
              "#7201a8"
             ],
             [
              0.3333333333333333,
              "#9c179e"
             ],
             [
              0.4444444444444444,
              "#bd3786"
             ],
             [
              0.5555555555555556,
              "#d8576b"
             ],
             [
              0.6666666666666666,
              "#ed7953"
             ],
             [
              0.7777777777777778,
              "#fb9f3a"
             ],
             [
              0.8888888888888888,
              "#fdca26"
             ],
             [
              1,
              "#f0f921"
             ]
            ],
            "type": "heatmap"
           }
          ],
          "heatmapgl": [
           {
            "colorbar": {
             "outlinewidth": 0,
             "ticks": ""
            },
            "colorscale": [
             [
              0,
              "#0d0887"
             ],
             [
              0.1111111111111111,
              "#46039f"
             ],
             [
              0.2222222222222222,
              "#7201a8"
             ],
             [
              0.3333333333333333,
              "#9c179e"
             ],
             [
              0.4444444444444444,
              "#bd3786"
             ],
             [
              0.5555555555555556,
              "#d8576b"
             ],
             [
              0.6666666666666666,
              "#ed7953"
             ],
             [
              0.7777777777777778,
              "#fb9f3a"
             ],
             [
              0.8888888888888888,
              "#fdca26"
             ],
             [
              1,
              "#f0f921"
             ]
            ],
            "type": "heatmapgl"
           }
          ],
          "histogram": [
           {
            "marker": {
             "pattern": {
              "fillmode": "overlay",
              "size": 10,
              "solidity": 0.2
             }
            },
            "type": "histogram"
           }
          ],
          "histogram2d": [
           {
            "colorbar": {
             "outlinewidth": 0,
             "ticks": ""
            },
            "colorscale": [
             [
              0,
              "#0d0887"
             ],
             [
              0.1111111111111111,
              "#46039f"
             ],
             [
              0.2222222222222222,
              "#7201a8"
             ],
             [
              0.3333333333333333,
              "#9c179e"
             ],
             [
              0.4444444444444444,
              "#bd3786"
             ],
             [
              0.5555555555555556,
              "#d8576b"
             ],
             [
              0.6666666666666666,
              "#ed7953"
             ],
             [
              0.7777777777777778,
              "#fb9f3a"
             ],
             [
              0.8888888888888888,
              "#fdca26"
             ],
             [
              1,
              "#f0f921"
             ]
            ],
            "type": "histogram2d"
           }
          ],
          "histogram2dcontour": [
           {
            "colorbar": {
             "outlinewidth": 0,
             "ticks": ""
            },
            "colorscale": [
             [
              0,
              "#0d0887"
             ],
             [
              0.1111111111111111,
              "#46039f"
             ],
             [
              0.2222222222222222,
              "#7201a8"
             ],
             [
              0.3333333333333333,
              "#9c179e"
             ],
             [
              0.4444444444444444,
              "#bd3786"
             ],
             [
              0.5555555555555556,
              "#d8576b"
             ],
             [
              0.6666666666666666,
              "#ed7953"
             ],
             [
              0.7777777777777778,
              "#fb9f3a"
             ],
             [
              0.8888888888888888,
              "#fdca26"
             ],
             [
              1,
              "#f0f921"
             ]
            ],
            "type": "histogram2dcontour"
           }
          ],
          "mesh3d": [
           {
            "colorbar": {
             "outlinewidth": 0,
             "ticks": ""
            },
            "type": "mesh3d"
           }
          ],
          "parcoords": [
           {
            "line": {
             "colorbar": {
              "outlinewidth": 0,
              "ticks": ""
             }
            },
            "type": "parcoords"
           }
          ],
          "pie": [
           {
            "automargin": true,
            "type": "pie"
           }
          ],
          "scatter": [
           {
            "fillpattern": {
             "fillmode": "overlay",
             "size": 10,
             "solidity": 0.2
            },
            "type": "scatter"
           }
          ],
          "scatter3d": [
           {
            "line": {
             "colorbar": {
              "outlinewidth": 0,
              "ticks": ""
             }
            },
            "marker": {
             "colorbar": {
              "outlinewidth": 0,
              "ticks": ""
             }
            },
            "type": "scatter3d"
           }
          ],
          "scattercarpet": [
           {
            "marker": {
             "colorbar": {
              "outlinewidth": 0,
              "ticks": ""
             }
            },
            "type": "scattercarpet"
           }
          ],
          "scattergeo": [
           {
            "marker": {
             "colorbar": {
              "outlinewidth": 0,
              "ticks": ""
             }
            },
            "type": "scattergeo"
           }
          ],
          "scattergl": [
           {
            "marker": {
             "colorbar": {
              "outlinewidth": 0,
              "ticks": ""
             }
            },
            "type": "scattergl"
           }
          ],
          "scattermapbox": [
           {
            "marker": {
             "colorbar": {
              "outlinewidth": 0,
              "ticks": ""
             }
            },
            "type": "scattermapbox"
           }
          ],
          "scatterpolar": [
           {
            "marker": {
             "colorbar": {
              "outlinewidth": 0,
              "ticks": ""
             }
            },
            "type": "scatterpolar"
           }
          ],
          "scatterpolargl": [
           {
            "marker": {
             "colorbar": {
              "outlinewidth": 0,
              "ticks": ""
             }
            },
            "type": "scatterpolargl"
           }
          ],
          "scatterternary": [
           {
            "marker": {
             "colorbar": {
              "outlinewidth": 0,
              "ticks": ""
             }
            },
            "type": "scatterternary"
           }
          ],
          "surface": [
           {
            "colorbar": {
             "outlinewidth": 0,
             "ticks": ""
            },
            "colorscale": [
             [
              0,
              "#0d0887"
             ],
             [
              0.1111111111111111,
              "#46039f"
             ],
             [
              0.2222222222222222,
              "#7201a8"
             ],
             [
              0.3333333333333333,
              "#9c179e"
             ],
             [
              0.4444444444444444,
              "#bd3786"
             ],
             [
              0.5555555555555556,
              "#d8576b"
             ],
             [
              0.6666666666666666,
              "#ed7953"
             ],
             [
              0.7777777777777778,
              "#fb9f3a"
             ],
             [
              0.8888888888888888,
              "#fdca26"
             ],
             [
              1,
              "#f0f921"
             ]
            ],
            "type": "surface"
           }
          ],
          "table": [
           {
            "cells": {
             "fill": {
              "color": "#EBF0F8"
             },
             "line": {
              "color": "white"
             }
            },
            "header": {
             "fill": {
              "color": "#C8D4E3"
             },
             "line": {
              "color": "white"
             }
            },
            "type": "table"
           }
          ]
         },
         "layout": {
          "annotationdefaults": {
           "arrowcolor": "#2a3f5f",
           "arrowhead": 0,
           "arrowwidth": 1
          },
          "autotypenumbers": "strict",
          "coloraxis": {
           "colorbar": {
            "outlinewidth": 0,
            "ticks": ""
           }
          },
          "colorscale": {
           "diverging": [
            [
             0,
             "#8e0152"
            ],
            [
             0.1,
             "#c51b7d"
            ],
            [
             0.2,
             "#de77ae"
            ],
            [
             0.3,
             "#f1b6da"
            ],
            [
             0.4,
             "#fde0ef"
            ],
            [
             0.5,
             "#f7f7f7"
            ],
            [
             0.6,
             "#e6f5d0"
            ],
            [
             0.7,
             "#b8e186"
            ],
            [
             0.8,
             "#7fbc41"
            ],
            [
             0.9,
             "#4d9221"
            ],
            [
             1,
             "#276419"
            ]
           ],
           "sequential": [
            [
             0,
             "#0d0887"
            ],
            [
             0.1111111111111111,
             "#46039f"
            ],
            [
             0.2222222222222222,
             "#7201a8"
            ],
            [
             0.3333333333333333,
             "#9c179e"
            ],
            [
             0.4444444444444444,
             "#bd3786"
            ],
            [
             0.5555555555555556,
             "#d8576b"
            ],
            [
             0.6666666666666666,
             "#ed7953"
            ],
            [
             0.7777777777777778,
             "#fb9f3a"
            ],
            [
             0.8888888888888888,
             "#fdca26"
            ],
            [
             1,
             "#f0f921"
            ]
           ],
           "sequentialminus": [
            [
             0,
             "#0d0887"
            ],
            [
             0.1111111111111111,
             "#46039f"
            ],
            [
             0.2222222222222222,
             "#7201a8"
            ],
            [
             0.3333333333333333,
             "#9c179e"
            ],
            [
             0.4444444444444444,
             "#bd3786"
            ],
            [
             0.5555555555555556,
             "#d8576b"
            ],
            [
             0.6666666666666666,
             "#ed7953"
            ],
            [
             0.7777777777777778,
             "#fb9f3a"
            ],
            [
             0.8888888888888888,
             "#fdca26"
            ],
            [
             1,
             "#f0f921"
            ]
           ]
          },
          "colorway": [
           "#636efa",
           "#EF553B",
           "#00cc96",
           "#ab63fa",
           "#FFA15A",
           "#19d3f3",
           "#FF6692",
           "#B6E880",
           "#FF97FF",
           "#FECB52"
          ],
          "font": {
           "color": "#2a3f5f"
          },
          "geo": {
           "bgcolor": "white",
           "lakecolor": "white",
           "landcolor": "white",
           "showlakes": true,
           "showland": true,
           "subunitcolor": "#C8D4E3"
          },
          "hoverlabel": {
           "align": "left"
          },
          "hovermode": "closest",
          "mapbox": {
           "style": "light"
          },
          "paper_bgcolor": "white",
          "plot_bgcolor": "white",
          "polar": {
           "angularaxis": {
            "gridcolor": "#EBF0F8",
            "linecolor": "#EBF0F8",
            "ticks": ""
           },
           "bgcolor": "white",
           "radialaxis": {
            "gridcolor": "#EBF0F8",
            "linecolor": "#EBF0F8",
            "ticks": ""
           }
          },
          "scene": {
           "xaxis": {
            "backgroundcolor": "white",
            "gridcolor": "#DFE8F3",
            "gridwidth": 2,
            "linecolor": "#EBF0F8",
            "showbackground": true,
            "ticks": "",
            "zerolinecolor": "#EBF0F8"
           },
           "yaxis": {
            "backgroundcolor": "white",
            "gridcolor": "#DFE8F3",
            "gridwidth": 2,
            "linecolor": "#EBF0F8",
            "showbackground": true,
            "ticks": "",
            "zerolinecolor": "#EBF0F8"
           },
           "zaxis": {
            "backgroundcolor": "white",
            "gridcolor": "#DFE8F3",
            "gridwidth": 2,
            "linecolor": "#EBF0F8",
            "showbackground": true,
            "ticks": "",
            "zerolinecolor": "#EBF0F8"
           }
          },
          "shapedefaults": {
           "line": {
            "color": "#2a3f5f"
           }
          },
          "ternary": {
           "aaxis": {
            "gridcolor": "#DFE8F3",
            "linecolor": "#A2B1C6",
            "ticks": ""
           },
           "baxis": {
            "gridcolor": "#DFE8F3",
            "linecolor": "#A2B1C6",
            "ticks": ""
           },
           "bgcolor": "white",
           "caxis": {
            "gridcolor": "#DFE8F3",
            "linecolor": "#A2B1C6",
            "ticks": ""
           }
          },
          "title": {
           "x": 0.05
          },
          "xaxis": {
           "automargin": true,
           "gridcolor": "#EBF0F8",
           "linecolor": "#EBF0F8",
           "ticks": "",
           "title": {
            "standoff": 15
           },
           "zerolinecolor": "#EBF0F8",
           "zerolinewidth": 2
          },
          "yaxis": {
           "automargin": true,
           "gridcolor": "#EBF0F8",
           "linecolor": "#EBF0F8",
           "ticks": "",
           "title": {
            "standoff": 15
           },
           "zerolinecolor": "#EBF0F8",
           "zerolinewidth": 2
          }
         }
        },
        "title": {
         "font": {
          "color": "Black",
          "size": 22
         },
         "text": "<b>Hierarchical Clustering</b>",
         "x": 0.5,
         "xanchor": "center",
         "yanchor": "top"
        },
        "width": 1000,
        "xaxis": {
         "mirror": "allticks",
         "rangemode": "tozero",
         "showgrid": false,
         "showline": true,
         "showticklabels": true,
         "ticks": "outside",
         "type": "linear",
         "zeroline": false
        },
        "yaxis": {
         "mirror": "allticks",
         "range": [
          -2000,
          0
         ],
         "rangemode": "tozero",
         "showgrid": false,
         "showline": true,
         "showticklabels": true,
         "tickmode": "array",
         "ticks": "outside",
         "ticktext": [
          "183_ai_robotics_brain",
          "127_ai_healthtech_robots",
          "60_forbes_ethics_ai",
          "190_forbes_ai_artificialint...",
          "71_ai_business_artificial",
          "1_ai_artificialintelligence...",
          "61_artificial_intelligence_...",
          "160_nlp_artificialintellige...",
          "22_artificial_intelligence_...",
          "87_artificialintelligence_a...",
          "140_healthtech_ai_artificial",
          "13_aiethics_artificialintel...",
          "79_ai_healthcare_ethics",
          "35_neural_deeplearn007_deep...",
          "68_deeplearning_machinelear...",
          "147_machine_daily_artificia...",
          "59_pawlowskimario_gvalan_ai",
          "94_ai_machinelearning_cc",
          "112_datascience_datascienti...",
          "128_datascience_machinelear...",
          "40_deeplearning_datascienti...",
          "198_iiot_datascience_bigdata",
          "11_reactjs_linux_rstats",
          "3_5g_mobile_apple",
          "124_5g_ccronaldvanloon_netw...",
          "172_5g_wireless_ccronaldvan...",
          "195_quantum_computing_quant...",
          "120_data2decisions_bigdata_...",
          "131_cloud_network_platform",
          "55_cloud_data_lowcode",
          "95_data_cloud_transformation",
          "136_lowcode_softdev_nocode",
          "191_expeflow_httpstcogukqbn...",
          "176_fintech_regtech_regulat...",
          "29_365_dynamics_powerapps",
          "184_innovation_technology_f...",
          "57_cybersecurity_tech_cio",
          "73_automation_smartfactory_...",
          "157_blockchain_insurance_in...",
          "162_digital_banking_digital...",
          "142_banking_fintech_growth",
          "17_trends_cloud_2021",
          "177_market_5g_iot",
          "110_digitaltransformation_d...",
          "115_transformation_digital_...",
          "48_transformation_digital_d...",
          "7_transformation_digital_di...",
          "53_transformation_businesst...",
          "178_digitalbiz_digitaltrans...",
          "153_bigdata_mi_blockchain",
          "96_edgecomputing_iotpl_indu...",
          "109_iot_edgecomputing_edge",
          "155_iotcommunity_iotchannel...",
          "144_iotcommunity_iotpractio...",
          "92_security_iot_iotcommunity",
          "20_iot_iotcommunity_iotprac...",
          "179_robotics_automation_cc",
          "141_robot_robotics_mi",
          "46_robotics_robot_robots",
          "129_robotics_robot_biomimicry",
          "14_robotics_robot_drones",
          "186_robotics_robots_automat...",
          "98_manufacturing_gigadgets_...",
          "158_autoindustry_automobile...",
          "103_gadgets_gigadgets_cheddar",
          "38_3d_transportation_gigadg...",
          "78_drone_drones_engineering",
          "146_publicsafety_gigadgets_...",
          "170_av_selfdriving_car",
          "163_technology_whatsnext_mo...",
          "85_climatechange_environmen...",
          "76_environment_climate_econ...",
          "89_environment_energy_econo...",
          "168_environment_forum_econo...",
          "28_environment_forum_economic",
          "69_lowcode_computer_httpstc...",
          "104_ev_car_tesla",
          "130_raises_retail_valuation",
          "51_revenue_stock_fund",
          "30_billion_manufacturing_te...",
          "18_inflation_tax_money",
          "182_crypto_cryptocurrency_b...",
          "175_cryptocurrency_crypto_b...",
          "65_crypto_cryptocurrency_cy...",
          "37_cybersecurity_security_h...",
          "99_privacy_data_cybersecurity",
          "152_privacy_app_apple",
          "169_cybersecurity_breach_ra...",
          "5_cybersecurity_cyberwar_war",
          "106_ukraine_war_socialmedia",
          "101_twitter_socialmedia_tweet",
          "117_socialmedia_facebook_me...",
          "63_socialmedia_twitter_face...",
          "39_twitter_socialmedia_media",
          "148_pandemic_covid19_covid",
          "49_covid19_covid_coronavirus",
          "192_covid19_covid_coronavirus",
          "88_quarantine_thingstodo_co...",
          "105_training_models_transfo...",
          "143_learning_data_model",
          "34_epoch_validation_model",
          "137_book_time_audio",
          "25_doo_said_dont",
          "90_true_right_just",
          "111_thats_dont_like",
          "80_people_vaccine_mypov",
          "47_people_dont_power",
          "125_guilty_pay_ads",
          "86_sold_pay_apple",
          "91_verge_stories_apple",
          "156_app_sarahintampa_android",
          "100_vehicle_creak_hetchins",
          "8_earth_environment_solar",
          "193_spacecraft_space_nasawebb",
          "23_appleevent_apple_mypov",
          "31_mypov_thats_superbowl",
          "2_mypov_tennis_sorry",
          "126_christmas_oldies_dog",
          "159_disruptv_vimeo_episode",
          "174_captionthis_ukraine_his...",
          "72_wednesdaythoughts_wednes...",
          "0_quotes_tuesdaythoughts_tu...",
          "16_quotes_blackhistorymonth...",
          "102_womenshistorymonth_100_...",
          "133_robes_httpstcoftvfcrauf...",
          "185_relire_employ_lexprience",
          "84_wordle_le_56",
          "149_bir_bu_ve",
          "44_ich_luogl_olsun",
          "122_data_fraud_million",
          "70_underwriter_canadian_ins...",
          "189_claims_expeflow_process...",
          "24_demo_expeflows_rpa",
          "97_crossfunctional_teams_ht...",
          "82_contactcenter_remotework...",
          "138_remote_workflow_efficie...",
          "62_remote_remotework_vr",
          "83_oldies_employee_experience",
          "45_customer_customers_custo...",
          "164_cx_customer_customerexp...",
          "6_customer_customers_experi...",
          "56_cx_journey_customerexper...",
          "21_latest_generation_refurb...",
          "33_indiaenergyweek_philipvo...",
          "188_podcast_book_interview",
          "196_join_ceo_disruptvshow",
          "197_join_future_latest",
          "54_bourke_2bonair_stepien",
          "19_followers_bangladesh_spo...",
          "43_top10contributors_tweetb...",
          "145_twitter_mypov_tweets",
          "81_leimer_davidjmaireles_fi...",
          "150_payments_p2p_partners",
          "41_marketing_content_customer",
          "165_business_growth_customers",
          "75_httpstcoqniakgimzu_firm_...",
          "27_ceo_job_vc",
          "114_marketing_socialmedia_c...",
          "121_cybersecurity_tech_chat...",
          "139_pallette_micro_business",
          "116_companies_forbes_economic",
          "118_futureofwork_forbes_inn...",
          "66_womenintech_stem_education",
          "167_work_workweek_projects",
          "15_brain_science_human",
          "10_lifesciences_futurism_nfts",
          "74_peopleskillschat_rt_llake",
          "67_peopleskillschat_people_...",
          "107_peopleskillschat_rt_a1",
          "171_leadership_leaders_lead...",
          "32_leadership_katenasser_le...",
          "134_leadership_culture_lead...",
          "151_leadership_employees_em...",
          "42_change_leadershipofchang...",
          "187_chidambara09_thank_dear",
          "132_thank_thanks_dear",
          "135_thank_thanks_love",
          "161_happy_thank_great",
          "123_thanks_amazing_happy",
          "9_thank_lol_yes",
          "64_yep_thats_good",
          "52_wow_thats_oh",
          "12_yes_ledaglyptis_alarical...",
          "181_mypov_vgazza_dionlisle",
          "119_password_case_mypov",
          "199_magicveronique_nicolepe...",
          "166_email_mypov_try",
          "26_barbmaclean_chrisggarrod...",
          "50_ar15_thank_congratulations",
          "108_join_thank_great",
          "36_peopleskillschat_smoiz_m...",
          "194_margaretsiegien_neeraj_...",
          "58_dear_mwc2023_sharing",
          "77_enricomolinari_frronconi...",
          "93_jeancayeux_rldilamy_tobi...",
          "4_frronconi_bimedotcom_shi4...",
          "173_efipm_dear_betamoroney",
          "113_margaretsiegien_pawlows...",
          "154_kalydeoo_hanaelsayyed_s...",
          "180_adipecofficial_adnocgro..."
         ],
         "tickvals": [
          -5,
          -15,
          -25,
          -35,
          -45,
          -55,
          -65,
          -75,
          -85,
          -95,
          -105,
          -115,
          -125,
          -135,
          -145,
          -155,
          -165,
          -175,
          -185,
          -195,
          -205,
          -215,
          -225,
          -235,
          -245,
          -255,
          -265,
          -275,
          -285,
          -295,
          -305,
          -315,
          -325,
          -335,
          -345,
          -355,
          -365,
          -375,
          -385,
          -395,
          -405,
          -415,
          -425,
          -435,
          -445,
          -455,
          -465,
          -475,
          -485,
          -495,
          -505,
          -515,
          -525,
          -535,
          -545,
          -555,
          -565,
          -575,
          -585,
          -595,
          -605,
          -615,
          -625,
          -635,
          -645,
          -655,
          -665,
          -675,
          -685,
          -695,
          -705,
          -715,
          -725,
          -735,
          -745,
          -755,
          -765,
          -775,
          -785,
          -795,
          -805,
          -815,
          -825,
          -835,
          -845,
          -855,
          -865,
          -875,
          -885,
          -895,
          -905,
          -915,
          -925,
          -935,
          -945,
          -955,
          -965,
          -975,
          -985,
          -995,
          -1005,
          -1015,
          -1025,
          -1035,
          -1045,
          -1055,
          -1065,
          -1075,
          -1085,
          -1095,
          -1105,
          -1115,
          -1125,
          -1135,
          -1145,
          -1155,
          -1165,
          -1175,
          -1185,
          -1195,
          -1205,
          -1215,
          -1225,
          -1235,
          -1245,
          -1255,
          -1265,
          -1275,
          -1285,
          -1295,
          -1305,
          -1315,
          -1325,
          -1335,
          -1345,
          -1355,
          -1365,
          -1375,
          -1385,
          -1395,
          -1405,
          -1415,
          -1425,
          -1435,
          -1445,
          -1455,
          -1465,
          -1475,
          -1485,
          -1495,
          -1505,
          -1515,
          -1525,
          -1535,
          -1545,
          -1555,
          -1565,
          -1575,
          -1585,
          -1595,
          -1605,
          -1615,
          -1625,
          -1635,
          -1645,
          -1655,
          -1665,
          -1675,
          -1685,
          -1695,
          -1705,
          -1715,
          -1725,
          -1735,
          -1745,
          -1755,
          -1765,
          -1775,
          -1785,
          -1795,
          -1805,
          -1815,
          -1825,
          -1835,
          -1845,
          -1855,
          -1865,
          -1875,
          -1885,
          -1895,
          -1905,
          -1915,
          -1925,
          -1935,
          -1945,
          -1955,
          -1965,
          -1975,
          -1985,
          -1995
         ],
         "type": "linear",
         "zeroline": false
        }
       }
      },
      "text/html": [
       "<div>                            <div id=\"bed8a981-f524-4e5c-877c-b962b1e477b9\" class=\"plotly-graph-div\" style=\"height:3200px; width:1000px;\"></div>            <script type=\"text/javascript\">                require([\"plotly\"], function(Plotly) {                    window.PLOTLYENV=window.PLOTLYENV || {};                                    if (document.getElementById(\"bed8a981-f524-4e5c-877c-b962b1e477b9\")) {                    Plotly.newPlot(                        \"bed8a981-f524-4e5c-877c-b962b1e477b9\",                        [{\"hoverinfo\":\"text\",\"marker\":{\"color\":\"rgb(61,153,112)\"},\"mode\":\"lines\",\"x\":[0.0,0.7062775086739304,0.7062775086739304,0.0],\"xaxis\":\"x\",\"y\":[-5.0,-5.0,-15.0,-15.0],\"yaxis\":\"y\",\"type\":\"scatter\"},{\"hoverinfo\":\"text\",\"marker\":{\"color\":\"rgb(61,153,112)\"},\"mode\":\"lines\",\"x\":[0.0,0.6751211589007455,0.6751211589007455,0.0],\"xaxis\":\"x\",\"y\":[-25.0,-25.0,-35.0,-35.0],\"yaxis\":\"y\",\"type\":\"scatter\"},{\"hoverinfo\":\"text\",\"marker\":{\"color\":\"rgb(61,153,112)\"},\"mode\":\"lines\",\"x\":[0.7062775086739304,0.8830434319357982,0.8830434319357982,0.6751211589007455],\"xaxis\":\"x\",\"y\":[-10.0,-10.0,-30.0,-30.0],\"yaxis\":\"y\",\"type\":\"scatter\"},{\"hoverinfo\":\"text\",\"marker\":{\"color\":\"rgb(255,65,54)\"},\"mode\":\"lines\",\"x\":[0.0,0.6008861355537456,0.6008861355537456,0.0],\"xaxis\":\"x\",\"y\":[-45.0,-45.0,-55.0,-55.0],\"yaxis\":\"y\",\"type\":\"scatter\"},{\"hoverinfo\":\"text\",\"marker\":{\"color\":\"rgb(255,65,54)\"},\"mode\":\"lines\",\"x\":[0.0,0.21519797755957626,0.21519797755957626,0.0],\"xaxis\":\"x\",\"y\":[-75.0,-75.0,-85.0,-85.0],\"yaxis\":\"y\",\"type\":\"scatter\"},{\"hoverinfo\":\"text\",\"marker\":{\"color\":\"rgb(255,65,54)\"},\"mode\":\"lines\",\"x\":[0.0,0.41051074357071876,0.41051074357071876,0.21519797755957626],\"xaxis\":\"x\",\"y\":[-65.0,-65.0,-80.0,-80.0],\"yaxis\":\"y\",\"type\":\"scatter\"},{\"hoverinfo\":\"text\",\"marker\":{\"color\":\"rgb(255,65,54)\"},\"mode\":\"lines\",\"x\":[0.41051074357071876,0.4511763945853652,0.4511763945853652,0.0],\"xaxis\":\"x\",\"y\":[-72.5,-72.5,-95.0,-95.0],\"yaxis\":\"y\",\"type\":\"scatter\"},{\"hoverinfo\":\"text\",\"marker\":{\"color\":\"rgb(255,65,54)\"},\"mode\":\"lines\",\"x\":[0.6008861355537456,0.6946170050789229,0.6946170050789229,0.4511763945853652],\"xaxis\":\"x\",\"y\":[-50.0,-50.0,-83.75,-83.75],\"yaxis\":\"y\",\"type\":\"scatter\"},{\"hoverinfo\":\"text\",\"marker\":{\"color\":\"rgb(255,65,54)\"},\"mode\":\"lines\",\"x\":[0.0,0.5410780356695428,0.5410780356695428,0.0],\"xaxis\":\"x\",\"y\":[-105.0,-105.0,-115.0,-115.0],\"yaxis\":\"y\",\"type\":\"scatter\"},{\"hoverinfo\":\"text\",\"marker\":{\"color\":\"rgb(255,65,54)\"},\"mode\":\"lines\",\"x\":[0.5410780356695428,0.6199611964334205,0.6199611964334205,0.0],\"xaxis\":\"x\",\"y\":[-110.0,-110.0,-125.0,-125.0],\"yaxis\":\"y\",\"type\":\"scatter\"},{\"hoverinfo\":\"text\",\"marker\":{\"color\":\"rgb(255,65,54)\"},\"mode\":\"lines\",\"x\":[0.6946170050789229,0.7965406376501597,0.7965406376501597,0.6199611964334205],\"xaxis\":\"x\",\"y\":[-66.875,-66.875,-117.5,-117.5],\"yaxis\":\"y\",\"type\":\"scatter\"},{\"hoverinfo\":\"text\",\"marker\":{\"color\":\"rgb(0,116,217)\"},\"mode\":\"lines\",\"x\":[0.8830434319357982,1.0154852146865088,1.0154852146865088,0.7965406376501597],\"xaxis\":\"x\",\"y\":[-20.0,-20.0,-92.1875,-92.1875],\"yaxis\":\"y\",\"type\":\"scatter\"},{\"hoverinfo\":\"text\",\"marker\":{\"color\":\"rgb(35,205,205)\"},\"mode\":\"lines\",\"x\":[0.0,0.44379908055171113,0.44379908055171113,0.0],\"xaxis\":\"x\",\"y\":[-135.0,-135.0,-145.0,-145.0],\"yaxis\":\"y\",\"type\":\"scatter\"},{\"hoverinfo\":\"text\",\"marker\":{\"color\":\"rgb(35,205,205)\"},\"mode\":\"lines\",\"x\":[0.44379908055171113,0.6452051914937111,0.6452051914937111,0.0],\"xaxis\":\"x\",\"y\":[-140.0,-140.0,-155.0,-155.0],\"yaxis\":\"y\",\"type\":\"scatter\"},{\"hoverinfo\":\"text\",\"marker\":{\"color\":\"rgb(35,205,205)\"},\"mode\":\"lines\",\"x\":[0.0,0.5950766660606683,0.5950766660606683,0.0],\"xaxis\":\"x\",\"y\":[-165.0,-165.0,-175.0,-175.0],\"yaxis\":\"y\",\"type\":\"scatter\"},{\"hoverinfo\":\"text\",\"marker\":{\"color\":\"rgb(35,205,205)\"},\"mode\":\"lines\",\"x\":[0.6452051914937111,0.745170357508785,0.745170357508785,0.5950766660606683],\"xaxis\":\"x\",\"y\":[-147.5,-147.5,-170.0,-170.0],\"yaxis\":\"y\",\"type\":\"scatter\"},{\"hoverinfo\":\"text\",\"marker\":{\"color\":\"rgb(0,116,217)\"},\"mode\":\"lines\",\"x\":[1.0154852146865088,1.052809046260458,1.052809046260458,0.745170357508785],\"xaxis\":\"x\",\"y\":[-56.09375,-56.09375,-158.75,-158.75],\"yaxis\":\"y\",\"type\":\"scatter\"},{\"hoverinfo\":\"text\",\"marker\":{\"color\":\"rgb(133,20,75)\"},\"mode\":\"lines\",\"x\":[0.0,0.2812027036807422,0.2812027036807422,0.0],\"xaxis\":\"x\",\"y\":[-195.0,-195.0,-205.0,-205.0],\"yaxis\":\"y\",\"type\":\"scatter\"},{\"hoverinfo\":\"text\",\"marker\":{\"color\":\"rgb(133,20,75)\"},\"mode\":\"lines\",\"x\":[0.0,0.6208465804929327,0.6208465804929327,0.2812027036807422],\"xaxis\":\"x\",\"y\":[-185.0,-185.0,-200.0,-200.0],\"yaxis\":\"y\",\"type\":\"scatter\"},{\"hoverinfo\":\"text\",\"marker\":{\"color\":\"rgb(133,20,75)\"},\"mode\":\"lines\",\"x\":[0.0,0.29804940921984135,0.29804940921984135,0.0],\"xaxis\":\"x\",\"y\":[-215.0,-215.0,-225.0,-225.0],\"yaxis\":\"y\",\"type\":\"scatter\"},{\"hoverinfo\":\"text\",\"marker\":{\"color\":\"rgb(133,20,75)\"},\"mode\":\"lines\",\"x\":[0.6208465804929327,0.7571273209563815,0.7571273209563815,0.29804940921984135],\"xaxis\":\"x\",\"y\":[-192.5,-192.5,-220.0,-220.0],\"yaxis\":\"y\",\"type\":\"scatter\"},{\"hoverinfo\":\"text\",\"marker\":{\"color\":\"rgb(0,116,217)\"},\"mode\":\"lines\",\"x\":[1.052809046260458,1.4285317899697962,1.4285317899697962,0.7571273209563815],\"xaxis\":\"x\",\"y\":[-107.421875,-107.421875,-206.25,-206.25],\"yaxis\":\"y\",\"type\":\"scatter\"},{\"hoverinfo\":\"text\",\"marker\":{\"color\":\"rgb(255,220,0)\"},\"mode\":\"lines\",\"x\":[0.0,0.31760350320190955,0.31760350320190955,0.0],\"xaxis\":\"x\",\"y\":[-245.0,-245.0,-255.0,-255.0],\"yaxis\":\"y\",\"type\":\"scatter\"},{\"hoverinfo\":\"text\",\"marker\":{\"color\":\"rgb(255,220,0)\"},\"mode\":\"lines\",\"x\":[0.0,0.6377784810508852,0.6377784810508852,0.31760350320190955],\"xaxis\":\"x\",\"y\":[-235.0,-235.0,-250.0,-250.0],\"yaxis\":\"y\",\"type\":\"scatter\"},{\"hoverinfo\":\"text\",\"marker\":{\"color\":\"rgb(40,35,35)\"},\"mode\":\"lines\",\"x\":[0.0,0.8420556029075446,0.8420556029075446,0.0],\"xaxis\":\"x\",\"y\":[-265.0,-265.0,-275.0,-275.0],\"yaxis\":\"y\",\"type\":\"scatter\"},{\"hoverinfo\":\"text\",\"marker\":{\"color\":\"rgb(61,153,112)\"},\"mode\":\"lines\",\"x\":[0.0,0.6346582608403777,0.6346582608403777,0.0],\"xaxis\":\"x\",\"y\":[-295.0,-295.0,-305.0,-305.0],\"yaxis\":\"y\",\"type\":\"scatter\"},{\"hoverinfo\":\"text\",\"marker\":{\"color\":\"rgb(61,153,112)\"},\"mode\":\"lines\",\"x\":[0.0,0.7846941920967765,0.7846941920967765,0.6346582608403777],\"xaxis\":\"x\",\"y\":[-285.0,-285.0,-300.0,-300.0],\"yaxis\":\"y\",\"type\":\"scatter\"},{\"hoverinfo\":\"text\",\"marker\":{\"color\":\"rgb(61,153,112)\"},\"mode\":\"lines\",\"x\":[0.0,0.7290554015143317,0.7290554015143317,0.0],\"xaxis\":\"x\",\"y\":[-315.0,-315.0,-325.0,-325.0],\"yaxis\":\"y\",\"type\":\"scatter\"},{\"hoverinfo\":\"text\",\"marker\":{\"color\":\"rgb(61,153,112)\"},\"mode\":\"lines\",\"x\":[0.7846941920967765,0.8933249748992176,0.8933249748992176,0.7290554015143317],\"xaxis\":\"x\",\"y\":[-292.5,-292.5,-320.0,-320.0],\"yaxis\":\"y\",\"type\":\"scatter\"},{\"hoverinfo\":\"text\",\"marker\":{\"color\":\"rgb(0,116,217)\"},\"mode\":\"lines\",\"x\":[0.8420556029075446,1.052812888519169,1.052812888519169,0.8933249748992176],\"xaxis\":\"x\",\"y\":[-270.0,-270.0,-306.25,-306.25],\"yaxis\":\"y\",\"type\":\"scatter\"},{\"hoverinfo\":\"text\",\"marker\":{\"color\":\"rgb(255,65,54)\"},\"mode\":\"lines\",\"x\":[0.0,0.8154948676205761,0.8154948676205761,0.0],\"xaxis\":\"x\",\"y\":[-335.0,-335.0,-345.0,-345.0],\"yaxis\":\"y\",\"type\":\"scatter\"},{\"hoverinfo\":\"text\",\"marker\":{\"color\":\"rgb(255,65,54)\"},\"mode\":\"lines\",\"x\":[0.0,0.6980750301776164,0.6980750301776164,0.0],\"xaxis\":\"x\",\"y\":[-355.0,-355.0,-365.0,-365.0],\"yaxis\":\"y\",\"type\":\"scatter\"},{\"hoverinfo\":\"text\",\"marker\":{\"color\":\"rgb(255,65,54)\"},\"mode\":\"lines\",\"x\":[0.6980750301776164,0.8349035651669049,0.8349035651669049,0.0],\"xaxis\":\"x\",\"y\":[-360.0,-360.0,-375.0,-375.0],\"yaxis\":\"y\",\"type\":\"scatter\"},{\"hoverinfo\":\"text\",\"marker\":{\"color\":\"rgb(255,65,54)\"},\"mode\":\"lines\",\"x\":[0.8154948676205761,0.9134268424188258,0.9134268424188258,0.8349035651669049],\"xaxis\":\"x\",\"y\":[-340.0,-340.0,-367.5,-367.5],\"yaxis\":\"y\",\"type\":\"scatter\"},{\"hoverinfo\":\"text\",\"marker\":{\"color\":\"rgb(255,65,54)\"},\"mode\":\"lines\",\"x\":[0.0,0.675376202240568,0.675376202240568,0.0],\"xaxis\":\"x\",\"y\":[-395.0,-395.0,-405.0,-405.0],\"yaxis\":\"y\",\"type\":\"scatter\"},{\"hoverinfo\":\"text\",\"marker\":{\"color\":\"rgb(255,65,54)\"},\"mode\":\"lines\",\"x\":[0.0,0.7537707414349178,0.7537707414349178,0.675376202240568],\"xaxis\":\"x\",\"y\":[-385.0,-385.0,-400.0,-400.0],\"yaxis\":\"y\",\"type\":\"scatter\"},{\"hoverinfo\":\"text\",\"marker\":{\"color\":\"rgb(255,65,54)\"},\"mode\":\"lines\",\"x\":[0.0,0.602763726206718,0.602763726206718,0.0],\"xaxis\":\"x\",\"y\":[-415.0,-415.0,-425.0,-425.0],\"yaxis\":\"y\",\"type\":\"scatter\"},{\"hoverinfo\":\"text\",\"marker\":{\"color\":\"rgb(255,65,54)\"},\"mode\":\"lines\",\"x\":[0.7537707414349178,0.8564317982459668,0.8564317982459668,0.602763726206718],\"xaxis\":\"x\",\"y\":[-392.5,-392.5,-420.0,-420.0],\"yaxis\":\"y\",\"type\":\"scatter\"},{\"hoverinfo\":\"text\",\"marker\":{\"color\":\"rgb(255,65,54)\"},\"mode\":\"lines\",\"x\":[0.9134268424188258,0.9803255344145374,0.9803255344145374,0.8564317982459668],\"xaxis\":\"x\",\"y\":[-353.75,-353.75,-406.25,-406.25],\"yaxis\":\"y\",\"type\":\"scatter\"},{\"hoverinfo\":\"text\",\"marker\":{\"color\":\"rgb(0,116,217)\"},\"mode\":\"lines\",\"x\":[1.052812888519169,1.1360505606329763,1.1360505606329763,0.9803255344145374],\"xaxis\":\"x\",\"y\":[-288.125,-288.125,-380.0,-380.0],\"yaxis\":\"y\",\"type\":\"scatter\"},{\"hoverinfo\":\"text\",\"marker\":{\"color\":\"rgb(35,205,205)\"},\"mode\":\"lines\",\"x\":[0.0,0.5123623102774564,0.5123623102774564,0.0],\"xaxis\":\"x\",\"y\":[-455.0,-455.0,-465.0,-465.0],\"yaxis\":\"y\",\"type\":\"scatter\"},{\"hoverinfo\":\"text\",\"marker\":{\"color\":\"rgb(35,205,205)\"},\"mode\":\"lines\",\"x\":[0.0,0.6035773138338931,0.6035773138338931,0.5123623102774564],\"xaxis\":\"x\",\"y\":[-445.0,-445.0,-460.0,-460.0],\"yaxis\":\"y\",\"type\":\"scatter\"},{\"hoverinfo\":\"text\",\"marker\":{\"color\":\"rgb(35,205,205)\"},\"mode\":\"lines\",\"x\":[0.6035773138338931,0.6316591831736671,0.6316591831736671,0.0],\"xaxis\":\"x\",\"y\":[-452.5,-452.5,-475.0,-475.0],\"yaxis\":\"y\",\"type\":\"scatter\"},{\"hoverinfo\":\"text\",\"marker\":{\"color\":\"rgb(35,205,205)\"},\"mode\":\"lines\",\"x\":[0.0,0.7497845604932849,0.7497845604932849,0.6316591831736671],\"xaxis\":\"x\",\"y\":[-435.0,-435.0,-463.75,-463.75],\"yaxis\":\"y\",\"type\":\"scatter\"},{\"hoverinfo\":\"text\",\"marker\":{\"color\":\"rgb(35,205,205)\"},\"mode\":\"lines\",\"x\":[0.7497845604932849,0.8274890564021316,0.8274890564021316,0.0],\"xaxis\":\"x\",\"y\":[-449.375,-449.375,-485.0,-485.0],\"yaxis\":\"y\",\"type\":\"scatter\"},{\"hoverinfo\":\"text\",\"marker\":{\"color\":\"rgb(0,116,217)\"},\"mode\":\"lines\",\"x\":[1.1360505606329763,1.255449407297856,1.255449407297856,0.8274890564021316],\"xaxis\":\"x\",\"y\":[-334.0625,-334.0625,-467.1875,-467.1875],\"yaxis\":\"y\",\"type\":\"scatter\"},{\"hoverinfo\":\"text\",\"marker\":{\"color\":\"rgb(0,116,217)\"},\"mode\":\"lines\",\"x\":[0.6377784810508852,1.388080011991421,1.388080011991421,1.255449407297856],\"xaxis\":\"x\",\"y\":[-242.5,-242.5,-400.625,-400.625],\"yaxis\":\"y\",\"type\":\"scatter\"},{\"hoverinfo\":\"text\",\"marker\":{\"color\":\"rgb(61,153,112)\"},\"mode\":\"lines\",\"x\":[0.0,0.35981037021849005,0.35981037021849005,0.0],\"xaxis\":\"x\",\"y\":[-505.0,-505.0,-515.0,-515.0],\"yaxis\":\"y\",\"type\":\"scatter\"},{\"hoverinfo\":\"text\",\"marker\":{\"color\":\"rgb(61,153,112)\"},\"mode\":\"lines\",\"x\":[0.0,0.6075664141230339,0.6075664141230339,0.35981037021849005],\"xaxis\":\"x\",\"y\":[-495.0,-495.0,-510.0,-510.0],\"yaxis\":\"y\",\"type\":\"scatter\"},{\"hoverinfo\":\"text\",\"marker\":{\"color\":\"rgb(61,153,112)\"},\"mode\":\"lines\",\"x\":[0.0,0.42932828899875164,0.42932828899875164,0.0],\"xaxis\":\"x\",\"y\":[-525.0,-525.0,-535.0,-535.0],\"yaxis\":\"y\",\"type\":\"scatter\"},{\"hoverinfo\":\"text\",\"marker\":{\"color\":\"rgb(61,153,112)\"},\"mode\":\"lines\",\"x\":[0.0,0.3937353055495525,0.3937353055495525,0.0],\"xaxis\":\"x\",\"y\":[-545.0,-545.0,-555.0,-555.0],\"yaxis\":\"y\",\"type\":\"scatter\"},{\"hoverinfo\":\"text\",\"marker\":{\"color\":\"rgb(61,153,112)\"},\"mode\":\"lines\",\"x\":[0.42932828899875164,0.573563334445722,0.573563334445722,0.3937353055495525],\"xaxis\":\"x\",\"y\":[-530.0,-530.0,-550.0,-550.0],\"yaxis\":\"y\",\"type\":\"scatter\"},{\"hoverinfo\":\"text\",\"marker\":{\"color\":\"rgb(61,153,112)\"},\"mode\":\"lines\",\"x\":[0.6075664141230339,0.8409442717628456,0.8409442717628456,0.573563334445722],\"xaxis\":\"x\",\"y\":[-502.5,-502.5,-540.0,-540.0],\"yaxis\":\"y\",\"type\":\"scatter\"},{\"hoverinfo\":\"text\",\"marker\":{\"color\":\"rgb(0,116,217)\"},\"mode\":\"lines\",\"x\":[1.388080011991421,1.7752886873072067,1.7752886873072067,0.8409442717628456],\"xaxis\":\"x\",\"y\":[-321.5625,-321.5625,-521.25,-521.25],\"yaxis\":\"y\",\"type\":\"scatter\"},{\"hoverinfo\":\"text\",\"marker\":{\"color\":\"rgb(255,65,54)\"},\"mode\":\"lines\",\"x\":[0.0,0.43700584547701016,0.43700584547701016,0.0],\"xaxis\":\"x\",\"y\":[-565.0,-565.0,-575.0,-575.0],\"yaxis\":\"y\",\"type\":\"scatter\"},{\"hoverinfo\":\"text\",\"marker\":{\"color\":\"rgb(255,65,54)\"},\"mode\":\"lines\",\"x\":[0.0,0.4482086613132764,0.4482086613132764,0.0],\"xaxis\":\"x\",\"y\":[-585.0,-585.0,-595.0,-595.0],\"yaxis\":\"y\",\"type\":\"scatter\"},{\"hoverinfo\":\"text\",\"marker\":{\"color\":\"rgb(255,65,54)\"},\"mode\":\"lines\",\"x\":[0.4482086613132764,0.4846366633413068,0.4846366633413068,0.0],\"xaxis\":\"x\",\"y\":[-590.0,-590.0,-605.0,-605.0],\"yaxis\":\"y\",\"type\":\"scatter\"},{\"hoverinfo\":\"text\",\"marker\":{\"color\":\"rgb(255,65,54)\"},\"mode\":\"lines\",\"x\":[0.4846366633413068,0.5811627906754345,0.5811627906754345,0.0],\"xaxis\":\"x\",\"y\":[-597.5,-597.5,-615.0,-615.0],\"yaxis\":\"y\",\"type\":\"scatter\"},{\"hoverinfo\":\"text\",\"marker\":{\"color\":\"rgb(255,65,54)\"},\"mode\":\"lines\",\"x\":[0.43700584547701016,0.7930106657227728,0.7930106657227728,0.5811627906754345],\"xaxis\":\"x\",\"y\":[-570.0,-570.0,-606.25,-606.25],\"yaxis\":\"y\",\"type\":\"scatter\"},{\"hoverinfo\":\"text\",\"marker\":{\"color\":\"rgb(35,205,205)\"},\"mode\":\"lines\",\"x\":[0.0,0.7033115035734325,0.7033115035734325,0.0],\"xaxis\":\"x\",\"y\":[-625.0,-625.0,-635.0,-635.0],\"yaxis\":\"y\",\"type\":\"scatter\"},{\"hoverinfo\":\"text\",\"marker\":{\"color\":\"rgb(35,205,205)\"},\"mode\":\"lines\",\"x\":[0.0,0.6543574568708544,0.6543574568708544,0.0],\"xaxis\":\"x\",\"y\":[-645.0,-645.0,-655.0,-655.0],\"yaxis\":\"y\",\"type\":\"scatter\"},{\"hoverinfo\":\"text\",\"marker\":{\"color\":\"rgb(35,205,205)\"},\"mode\":\"lines\",\"x\":[0.6543574568708544,0.7255582941819805,0.7255582941819805,0.0],\"xaxis\":\"x\",\"y\":[-650.0,-650.0,-665.0,-665.0],\"yaxis\":\"y\",\"type\":\"scatter\"},{\"hoverinfo\":\"text\",\"marker\":{\"color\":\"rgb(35,205,205)\"},\"mode\":\"lines\",\"x\":[0.7033115035734325,0.7548789047951542,0.7548789047951542,0.7255582941819805],\"xaxis\":\"x\",\"y\":[-630.0,-630.0,-657.5,-657.5],\"yaxis\":\"y\",\"type\":\"scatter\"},{\"hoverinfo\":\"text\",\"marker\":{\"color\":\"rgb(35,205,205)\"},\"mode\":\"lines\",\"x\":[0.0,0.7297607592536662,0.7297607592536662,0.0],\"xaxis\":\"x\",\"y\":[-675.0,-675.0,-685.0,-685.0],\"yaxis\":\"y\",\"type\":\"scatter\"},{\"hoverinfo\":\"text\",\"marker\":{\"color\":\"rgb(35,205,205)\"},\"mode\":\"lines\",\"x\":[0.7297607592536662,0.7746367604151283,0.7746367604151283,0.0],\"xaxis\":\"x\",\"y\":[-680.0,-680.0,-695.0,-695.0],\"yaxis\":\"y\",\"type\":\"scatter\"},{\"hoverinfo\":\"text\",\"marker\":{\"color\":\"rgb(35,205,205)\"},\"mode\":\"lines\",\"x\":[0.7548789047951542,0.9496244325143324,0.9496244325143324,0.7746367604151283],\"xaxis\":\"x\",\"y\":[-643.75,-643.75,-687.5,-687.5],\"yaxis\":\"y\",\"type\":\"scatter\"},{\"hoverinfo\":\"text\",\"marker\":{\"color\":\"rgb(0,116,217)\"},\"mode\":\"lines\",\"x\":[0.7930106657227728,1.3899413753267416,1.3899413753267416,0.9496244325143324],\"xaxis\":\"x\",\"y\":[-588.125,-588.125,-665.625,-665.625],\"yaxis\":\"y\",\"type\":\"scatter\"},{\"hoverinfo\":\"text\",\"marker\":{\"color\":\"rgb(0,116,217)\"},\"mode\":\"lines\",\"x\":[1.7752886873072067,2.1525604337603395,2.1525604337603395,1.3899413753267416],\"xaxis\":\"x\",\"y\":[-421.40625,-421.40625,-626.875,-626.875],\"yaxis\":\"y\",\"type\":\"scatter\"},{\"hoverinfo\":\"text\",\"marker\":{\"color\":\"rgb(133,20,75)\"},\"mode\":\"lines\",\"x\":[0.0,0.46956619322441895,0.46956619322441895,0.0],\"xaxis\":\"x\",\"y\":[-705.0,-705.0,-715.0,-715.0],\"yaxis\":\"y\",\"type\":\"scatter\"},{\"hoverinfo\":\"text\",\"marker\":{\"color\":\"rgb(133,20,75)\"},\"mode\":\"lines\",\"x\":[0.0,0.3320352507222668,0.3320352507222668,0.0],\"xaxis\":\"x\",\"y\":[-725.0,-725.0,-735.0,-735.0],\"yaxis\":\"y\",\"type\":\"scatter\"},{\"hoverinfo\":\"text\",\"marker\":{\"color\":\"rgb(133,20,75)\"},\"mode\":\"lines\",\"x\":[0.3320352507222668,0.42728870656185325,0.42728870656185325,0.0],\"xaxis\":\"x\",\"y\":[-730.0,-730.0,-745.0,-745.0],\"yaxis\":\"y\",\"type\":\"scatter\"},{\"hoverinfo\":\"text\",\"marker\":{\"color\":\"rgb(133,20,75)\"},\"mode\":\"lines\",\"x\":[0.46956619322441895,0.7410905952663908,0.7410905952663908,0.42728870656185325],\"xaxis\":\"x\",\"y\":[-710.0,-710.0,-737.5,-737.5],\"yaxis\":\"y\",\"type\":\"scatter\"},{\"hoverinfo\":\"text\",\"marker\":{\"color\":\"rgb(255,220,0)\"},\"mode\":\"lines\",\"x\":[0.0,0.7580732529771188,0.7580732529771188,0.0],\"xaxis\":\"x\",\"y\":[-755.0,-755.0,-765.0,-765.0],\"yaxis\":\"y\",\"type\":\"scatter\"},{\"hoverinfo\":\"text\",\"marker\":{\"color\":\"rgb(255,220,0)\"},\"mode\":\"lines\",\"x\":[0.0,0.6186685079094262,0.6186685079094262,0.0],\"xaxis\":\"x\",\"y\":[-775.0,-775.0,-785.0,-785.0],\"yaxis\":\"y\",\"type\":\"scatter\"},{\"hoverinfo\":\"text\",\"marker\":{\"color\":\"rgb(255,220,0)\"},\"mode\":\"lines\",\"x\":[0.0,0.7059326908928485,0.7059326908928485,0.0],\"xaxis\":\"x\",\"y\":[-795.0,-795.0,-805.0,-805.0],\"yaxis\":\"y\",\"type\":\"scatter\"},{\"hoverinfo\":\"text\",\"marker\":{\"color\":\"rgb(255,220,0)\"},\"mode\":\"lines\",\"x\":[0.6186685079094262,0.7807094967207396,0.7807094967207396,0.7059326908928485],\"xaxis\":\"x\",\"y\":[-780.0,-780.0,-800.0,-800.0],\"yaxis\":\"y\",\"type\":\"scatter\"},{\"hoverinfo\":\"text\",\"marker\":{\"color\":\"rgb(255,220,0)\"},\"mode\":\"lines\",\"x\":[0.7580732529771188,0.8748378105704325,0.8748378105704325,0.7807094967207396],\"xaxis\":\"x\",\"y\":[-760.0,-760.0,-790.0,-790.0],\"yaxis\":\"y\",\"type\":\"scatter\"},{\"hoverinfo\":\"text\",\"marker\":{\"color\":\"rgb(40,35,35)\"},\"mode\":\"lines\",\"x\":[0.0,0.5366134833413727,0.5366134833413727,0.0],\"xaxis\":\"x\",\"y\":[-815.0,-815.0,-825.0,-825.0],\"yaxis\":\"y\",\"type\":\"scatter\"},{\"hoverinfo\":\"text\",\"marker\":{\"color\":\"rgb(40,35,35)\"},\"mode\":\"lines\",\"x\":[0.5366134833413727,0.6724184388777076,0.6724184388777076,0.0],\"xaxis\":\"x\",\"y\":[-820.0,-820.0,-835.0,-835.0],\"yaxis\":\"y\",\"type\":\"scatter\"},{\"hoverinfo\":\"text\",\"marker\":{\"color\":\"rgb(0,116,217)\"},\"mode\":\"lines\",\"x\":[0.8748378105704325,1.0803710313480828,1.0803710313480828,0.6724184388777076],\"xaxis\":\"x\",\"y\":[-775.0,-775.0,-827.5,-827.5],\"yaxis\":\"y\",\"type\":\"scatter\"},{\"hoverinfo\":\"text\",\"marker\":{\"color\":\"rgb(61,153,112)\"},\"mode\":\"lines\",\"x\":[0.0,0.5540594995684893,0.5540594995684893,0.0],\"xaxis\":\"x\",\"y\":[-855.0,-855.0,-865.0,-865.0],\"yaxis\":\"y\",\"type\":\"scatter\"},{\"hoverinfo\":\"text\",\"marker\":{\"color\":\"rgb(61,153,112)\"},\"mode\":\"lines\",\"x\":[0.0,0.832921702421717,0.832921702421717,0.5540594995684893],\"xaxis\":\"x\",\"y\":[-845.0,-845.0,-860.0,-860.0],\"yaxis\":\"y\",\"type\":\"scatter\"},{\"hoverinfo\":\"text\",\"marker\":{\"color\":\"rgb(61,153,112)\"},\"mode\":\"lines\",\"x\":[0.0,0.47153129489291135,0.47153129489291135,0.0],\"xaxis\":\"x\",\"y\":[-875.0,-875.0,-885.0,-885.0],\"yaxis\":\"y\",\"type\":\"scatter\"},{\"hoverinfo\":\"text\",\"marker\":{\"color\":\"rgb(61,153,112)\"},\"mode\":\"lines\",\"x\":[0.832921702421717,0.9200773574581653,0.9200773574581653,0.47153129489291135],\"xaxis\":\"x\",\"y\":[-852.5,-852.5,-880.0,-880.0],\"yaxis\":\"y\",\"type\":\"scatter\"},{\"hoverinfo\":\"text\",\"marker\":{\"color\":\"rgb(255,65,54)\"},\"mode\":\"lines\",\"x\":[0.0,0.7481013603412958,0.7481013603412958,0.0],\"xaxis\":\"x\",\"y\":[-895.0,-895.0,-905.0,-905.0],\"yaxis\":\"y\",\"type\":\"scatter\"},{\"hoverinfo\":\"text\",\"marker\":{\"color\":\"rgb(255,65,54)\"},\"mode\":\"lines\",\"x\":[0.0,0.5510106203115239,0.5510106203115239,0.0],\"xaxis\":\"x\",\"y\":[-915.0,-915.0,-925.0,-925.0],\"yaxis\":\"y\",\"type\":\"scatter\"},{\"hoverinfo\":\"text\",\"marker\":{\"color\":\"rgb(255,65,54)\"},\"mode\":\"lines\",\"x\":[0.5510106203115239,0.665912152408327,0.665912152408327,0.0],\"xaxis\":\"x\",\"y\":[-920.0,-920.0,-935.0,-935.0],\"yaxis\":\"y\",\"type\":\"scatter\"},{\"hoverinfo\":\"text\",\"marker\":{\"color\":\"rgb(255,65,54)\"},\"mode\":\"lines\",\"x\":[0.7481013603412958,0.75806312064658,0.75806312064658,0.665912152408327],\"xaxis\":\"x\",\"y\":[-900.0,-900.0,-927.5,-927.5],\"yaxis\":\"y\",\"type\":\"scatter\"},{\"hoverinfo\":\"text\",\"marker\":{\"color\":\"rgb(0,116,217)\"},\"mode\":\"lines\",\"x\":[0.9200773574581653,1.2914417295460985,1.2914417295460985,0.75806312064658],\"xaxis\":\"x\",\"y\":[-866.25,-866.25,-913.75,-913.75],\"yaxis\":\"y\",\"type\":\"scatter\"},{\"hoverinfo\":\"text\",\"marker\":{\"color\":\"rgb(0,116,217)\"},\"mode\":\"lines\",\"x\":[1.0803710313480828,1.5456022532706168,1.5456022532706168,1.2914417295460985],\"xaxis\":\"x\",\"y\":[-801.25,-801.25,-890.0,-890.0],\"yaxis\":\"y\",\"type\":\"scatter\"},{\"hoverinfo\":\"text\",\"marker\":{\"color\":\"rgb(35,205,205)\"},\"mode\":\"lines\",\"x\":[0.0,0.413495990890976,0.413495990890976,0.0],\"xaxis\":\"x\",\"y\":[-955.0,-955.0,-965.0,-965.0],\"yaxis\":\"y\",\"type\":\"scatter\"},{\"hoverinfo\":\"text\",\"marker\":{\"color\":\"rgb(35,205,205)\"},\"mode\":\"lines\",\"x\":[0.0,0.7090773538462308,0.7090773538462308,0.413495990890976],\"xaxis\":\"x\",\"y\":[-945.0,-945.0,-960.0,-960.0],\"yaxis\":\"y\",\"type\":\"scatter\"},{\"hoverinfo\":\"text\",\"marker\":{\"color\":\"rgb(35,205,205)\"},\"mode\":\"lines\",\"x\":[0.7090773538462308,0.9344380439558218,0.9344380439558218,0.0],\"xaxis\":\"x\",\"y\":[-952.5,-952.5,-975.0,-975.0],\"yaxis\":\"y\",\"type\":\"scatter\"},{\"hoverinfo\":\"text\",\"marker\":{\"color\":\"rgb(61,153,112)\"},\"mode\":\"lines\",\"x\":[0.0,0.6577764699449558,0.6577764699449558,0.0],\"xaxis\":\"x\",\"y\":[-985.0,-985.0,-995.0,-995.0],\"yaxis\":\"y\",\"type\":\"scatter\"},{\"hoverinfo\":\"text\",\"marker\":{\"color\":\"rgb(61,153,112)\"},\"mode\":\"lines\",\"x\":[0.6577764699449558,0.709053157731411,0.709053157731411,0.0],\"xaxis\":\"x\",\"y\":[-990.0,-990.0,-1005.0,-1005.0],\"yaxis\":\"y\",\"type\":\"scatter\"},{\"hoverinfo\":\"text\",\"marker\":{\"color\":\"rgb(255,65,54)\"},\"mode\":\"lines\",\"x\":[0.0,0.7568492390453881,0.7568492390453881,0.0],\"xaxis\":\"x\",\"y\":[-1015.0,-1015.0,-1025.0,-1025.0],\"yaxis\":\"y\",\"type\":\"scatter\"},{\"hoverinfo\":\"text\",\"marker\":{\"color\":\"rgb(255,65,54)\"},\"mode\":\"lines\",\"x\":[0.0,0.7472277795430411,0.7472277795430411,0.0],\"xaxis\":\"x\",\"y\":[-1035.0,-1035.0,-1045.0,-1045.0],\"yaxis\":\"y\",\"type\":\"scatter\"},{\"hoverinfo\":\"text\",\"marker\":{\"color\":\"rgb(255,65,54)\"},\"mode\":\"lines\",\"x\":[0.0,0.687045139994471,0.687045139994471,0.0],\"xaxis\":\"x\",\"y\":[-1055.0,-1055.0,-1065.0,-1065.0],\"yaxis\":\"y\",\"type\":\"scatter\"},{\"hoverinfo\":\"text\",\"marker\":{\"color\":\"rgb(255,65,54)\"},\"mode\":\"lines\",\"x\":[0.687045139994471,0.7752040923969419,0.7752040923969419,0.0],\"xaxis\":\"x\",\"y\":[-1060.0,-1060.0,-1075.0,-1075.0],\"yaxis\":\"y\",\"type\":\"scatter\"},{\"hoverinfo\":\"text\",\"marker\":{\"color\":\"rgb(255,65,54)\"},\"mode\":\"lines\",\"x\":[0.7472277795430411,0.8155353315818572,0.8155353315818572,0.7752040923969419],\"xaxis\":\"x\",\"y\":[-1040.0,-1040.0,-1067.5,-1067.5],\"yaxis\":\"y\",\"type\":\"scatter\"},{\"hoverinfo\":\"text\",\"marker\":{\"color\":\"rgb(255,65,54)\"},\"mode\":\"lines\",\"x\":[0.7568492390453881,0.8366078932876464,0.8366078932876464,0.8155353315818572],\"xaxis\":\"x\",\"y\":[-1020.0,-1020.0,-1053.75,-1053.75],\"yaxis\":\"y\",\"type\":\"scatter\"},{\"hoverinfo\":\"text\",\"marker\":{\"color\":\"rgb(0,116,217)\"},\"mode\":\"lines\",\"x\":[0.709053157731411,1.1307096130725647,1.1307096130725647,0.8366078932876464],\"xaxis\":\"x\",\"y\":[-997.5,-997.5,-1036.875,-1036.875],\"yaxis\":\"y\",\"type\":\"scatter\"},{\"hoverinfo\":\"text\",\"marker\":{\"color\":\"rgb(35,205,205)\"},\"mode\":\"lines\",\"x\":[0.0,0.6962731348882949,0.6962731348882949,0.0],\"xaxis\":\"x\",\"y\":[-1095.0,-1095.0,-1105.0,-1105.0],\"yaxis\":\"y\",\"type\":\"scatter\"},{\"hoverinfo\":\"text\",\"marker\":{\"color\":\"rgb(35,205,205)\"},\"mode\":\"lines\",\"x\":[0.0,0.8333914792128377,0.8333914792128377,0.6962731348882949],\"xaxis\":\"x\",\"y\":[-1085.0,-1085.0,-1100.0,-1100.0],\"yaxis\":\"y\",\"type\":\"scatter\"},{\"hoverinfo\":\"text\",\"marker\":{\"color\":\"rgb(133,20,75)\"},\"mode\":\"lines\",\"x\":[0.0,0.7638431013701875,0.7638431013701875,0.0],\"xaxis\":\"x\",\"y\":[-1125.0,-1125.0,-1135.0,-1135.0],\"yaxis\":\"y\",\"type\":\"scatter\"},{\"hoverinfo\":\"text\",\"marker\":{\"color\":\"rgb(133,20,75)\"},\"mode\":\"lines\",\"x\":[0.0,0.8138914859574913,0.8138914859574913,0.7638431013701875],\"xaxis\":\"x\",\"y\":[-1115.0,-1115.0,-1130.0,-1130.0],\"yaxis\":\"y\",\"type\":\"scatter\"},{\"hoverinfo\":\"text\",\"marker\":{\"color\":\"rgb(133,20,75)\"},\"mode\":\"lines\",\"x\":[0.0,0.8008503506223372,0.8008503506223372,0.0],\"xaxis\":\"x\",\"y\":[-1155.0,-1155.0,-1165.0,-1165.0],\"yaxis\":\"y\",\"type\":\"scatter\"},{\"hoverinfo\":\"text\",\"marker\":{\"color\":\"rgb(133,20,75)\"},\"mode\":\"lines\",\"x\":[0.8008503506223372,0.832237119904908,0.832237119904908,0.0],\"xaxis\":\"x\",\"y\":[-1160.0,-1160.0,-1175.0,-1175.0],\"yaxis\":\"y\",\"type\":\"scatter\"},{\"hoverinfo\":\"text\",\"marker\":{\"color\":\"rgb(133,20,75)\"},\"mode\":\"lines\",\"x\":[0.0,0.8962774521997474,0.8962774521997474,0.832237119904908],\"xaxis\":\"x\",\"y\":[-1145.0,-1145.0,-1167.5,-1167.5],\"yaxis\":\"y\",\"type\":\"scatter\"},{\"hoverinfo\":\"text\",\"marker\":{\"color\":\"rgb(133,20,75)\"},\"mode\":\"lines\",\"x\":[0.8962774521997474,0.9141559043088209,0.9141559043088209,0.0],\"xaxis\":\"x\",\"y\":[-1156.25,-1156.25,-1185.0,-1185.0],\"yaxis\":\"y\",\"type\":\"scatter\"},{\"hoverinfo\":\"text\",\"marker\":{\"color\":\"rgb(133,20,75)\"},\"mode\":\"lines\",\"x\":[0.8138914859574913,0.9543241114613086,0.9543241114613086,0.9141559043088209],\"xaxis\":\"x\",\"y\":[-1122.5,-1122.5,-1170.625,-1170.625],\"yaxis\":\"y\",\"type\":\"scatter\"},{\"hoverinfo\":\"text\",\"marker\":{\"color\":\"rgb(0,116,217)\"},\"mode\":\"lines\",\"x\":[0.8333914792128377,1.0495229552165855,1.0495229552165855,0.9543241114613086],\"xaxis\":\"x\",\"y\":[-1092.5,-1092.5,-1146.5625,-1146.5625],\"yaxis\":\"y\",\"type\":\"scatter\"},{\"hoverinfo\":\"text\",\"marker\":{\"color\":\"rgb(0,116,217)\"},\"mode\":\"lines\",\"x\":[1.1307096130725647,1.1660128583596328,1.1660128583596328,1.0495229552165855],\"xaxis\":\"x\",\"y\":[-1017.1875,-1017.1875,-1119.53125,-1119.53125],\"yaxis\":\"y\",\"type\":\"scatter\"},{\"hoverinfo\":\"text\",\"marker\":{\"color\":\"rgb(255,220,0)\"},\"mode\":\"lines\",\"x\":[0.0,0.8480887869090651,0.8480887869090651,0.0],\"xaxis\":\"x\",\"y\":[-1195.0,-1195.0,-1205.0,-1205.0],\"yaxis\":\"y\",\"type\":\"scatter\"},{\"hoverinfo\":\"text\",\"marker\":{\"color\":\"rgb(255,220,0)\"},\"mode\":\"lines\",\"x\":[0.0,0.587129875769377,0.587129875769377,0.0],\"xaxis\":\"x\",\"y\":[-1215.0,-1215.0,-1225.0,-1225.0],\"yaxis\":\"y\",\"type\":\"scatter\"},{\"hoverinfo\":\"text\",\"marker\":{\"color\":\"rgb(255,220,0)\"},\"mode\":\"lines\",\"x\":[0.587129875769377,0.79744091161899,0.79744091161899,0.0],\"xaxis\":\"x\",\"y\":[-1220.0,-1220.0,-1235.0,-1235.0],\"yaxis\":\"y\",\"type\":\"scatter\"},{\"hoverinfo\":\"text\",\"marker\":{\"color\":\"rgb(255,220,0)\"},\"mode\":\"lines\",\"x\":[0.8480887869090651,0.9209292502892941,0.9209292502892941,0.79744091161899],\"xaxis\":\"x\",\"y\":[-1200.0,-1200.0,-1227.5,-1227.5],\"yaxis\":\"y\",\"type\":\"scatter\"},{\"hoverinfo\":\"text\",\"marker\":{\"color\":\"rgb(40,35,35)\"},\"mode\":\"lines\",\"x\":[0.0,0.8225521989491509,0.8225521989491509,0.0],\"xaxis\":\"x\",\"y\":[-1255.0,-1255.0,-1265.0,-1265.0],\"yaxis\":\"y\",\"type\":\"scatter\"},{\"hoverinfo\":\"text\",\"marker\":{\"color\":\"rgb(40,35,35)\"},\"mode\":\"lines\",\"x\":[0.0,0.9123892723963104,0.9123892723963104,0.8225521989491509],\"xaxis\":\"x\",\"y\":[-1245.0,-1245.0,-1260.0,-1260.0],\"yaxis\":\"y\",\"type\":\"scatter\"},{\"hoverinfo\":\"text\",\"marker\":{\"color\":\"rgb(61,153,112)\"},\"mode\":\"lines\",\"x\":[0.0,0.8316479379534115,0.8316479379534115,0.0],\"xaxis\":\"x\",\"y\":[-1275.0,-1275.0,-1285.0,-1285.0],\"yaxis\":\"y\",\"type\":\"scatter\"},{\"hoverinfo\":\"text\",\"marker\":{\"color\":\"rgb(0,116,217)\"},\"mode\":\"lines\",\"x\":[0.9123892723963104,1.0457732600898832,1.0457732600898832,0.8316479379534115],\"xaxis\":\"x\",\"y\":[-1252.5,-1252.5,-1280.0,-1280.0],\"yaxis\":\"y\",\"type\":\"scatter\"},{\"hoverinfo\":\"text\",\"marker\":{\"color\":\"rgb(0,116,217)\"},\"mode\":\"lines\",\"x\":[0.9209292502892941,1.335819848516737,1.335819848516737,1.0457732600898832],\"xaxis\":\"x\",\"y\":[-1213.75,-1213.75,-1266.25,-1266.25],\"yaxis\":\"y\",\"type\":\"scatter\"},{\"hoverinfo\":\"text\",\"marker\":{\"color\":\"rgb(0,116,217)\"},\"mode\":\"lines\",\"x\":[1.1660128583596328,1.3987997269433217,1.3987997269433217,1.335819848516737],\"xaxis\":\"x\",\"y\":[-1068.359375,-1068.359375,-1240.0,-1240.0],\"yaxis\":\"y\",\"type\":\"scatter\"},{\"hoverinfo\":\"text\",\"marker\":{\"color\":\"rgb(0,116,217)\"},\"mode\":\"lines\",\"x\":[0.9344380439558218,1.4331032425110797,1.4331032425110797,1.3987997269433217],\"xaxis\":\"x\",\"y\":[-963.75,-963.75,-1154.1796875,-1154.1796875],\"yaxis\":\"y\",\"type\":\"scatter\"},{\"hoverinfo\":\"text\",\"marker\":{\"color\":\"rgb(0,116,217)\"},\"mode\":\"lines\",\"x\":[1.5456022532706168,1.6465635995939685,1.6465635995939685,1.4331032425110797],\"xaxis\":\"x\",\"y\":[-845.625,-845.625,-1058.96484375,-1058.96484375],\"yaxis\":\"y\",\"type\":\"scatter\"},{\"hoverinfo\":\"text\",\"marker\":{\"color\":\"rgb(0,116,217)\"},\"mode\":\"lines\",\"x\":[0.7410905952663908,1.7698284202510735,1.7698284202510735,1.6465635995939685],\"xaxis\":\"x\",\"y\":[-723.75,-723.75,-952.294921875,-952.294921875],\"yaxis\":\"y\",\"type\":\"scatter\"},{\"hoverinfo\":\"text\",\"marker\":{\"color\":\"rgb(255,65,54)\"},\"mode\":\"lines\",\"x\":[0.0,0.8257881878370865,0.8257881878370865,0.0],\"xaxis\":\"x\",\"y\":[-1295.0,-1295.0,-1305.0,-1305.0],\"yaxis\":\"y\",\"type\":\"scatter\"},{\"hoverinfo\":\"text\",\"marker\":{\"color\":\"rgb(255,65,54)\"},\"mode\":\"lines\",\"x\":[0.0,0.5108040234826146,0.5108040234826146,0.0],\"xaxis\":\"x\",\"y\":[-1315.0,-1315.0,-1325.0,-1325.0],\"yaxis\":\"y\",\"type\":\"scatter\"},{\"hoverinfo\":\"text\",\"marker\":{\"color\":\"rgb(255,65,54)\"},\"mode\":\"lines\",\"x\":[0.8257881878370865,0.9733981623600836,0.9733981623600836,0.5108040234826146],\"xaxis\":\"x\",\"y\":[-1300.0,-1300.0,-1320.0,-1320.0],\"yaxis\":\"y\",\"type\":\"scatter\"},{\"hoverinfo\":\"text\",\"marker\":{\"color\":\"rgb(35,205,205)\"},\"mode\":\"lines\",\"x\":[0.0,0.7354087167892551,0.7354087167892551,0.0],\"xaxis\":\"x\",\"y\":[-1345.0,-1345.0,-1355.0,-1355.0],\"yaxis\":\"y\",\"type\":\"scatter\"},{\"hoverinfo\":\"text\",\"marker\":{\"color\":\"rgb(35,205,205)\"},\"mode\":\"lines\",\"x\":[0.0,0.7650639447632135,0.7650639447632135,0.7354087167892551],\"xaxis\":\"x\",\"y\":[-1335.0,-1335.0,-1350.0,-1350.0],\"yaxis\":\"y\",\"type\":\"scatter\"},{\"hoverinfo\":\"text\",\"marker\":{\"color\":\"rgb(35,205,205)\"},\"mode\":\"lines\",\"x\":[0.0,0.7984956685194371,0.7984956685194371,0.0],\"xaxis\":\"x\",\"y\":[-1365.0,-1365.0,-1375.0,-1375.0],\"yaxis\":\"y\",\"type\":\"scatter\"},{\"hoverinfo\":\"text\",\"marker\":{\"color\":\"rgb(35,205,205)\"},\"mode\":\"lines\",\"x\":[0.7650639447632135,0.8944210509220571,0.8944210509220571,0.7984956685194371],\"xaxis\":\"x\",\"y\":[-1342.5,-1342.5,-1370.0,-1370.0],\"yaxis\":\"y\",\"type\":\"scatter\"},{\"hoverinfo\":\"text\",\"marker\":{\"color\":\"rgb(0,116,217)\"},\"mode\":\"lines\",\"x\":[0.9733981623600836,1.1347134956823743,1.1347134956823743,0.8944210509220571],\"xaxis\":\"x\",\"y\":[-1310.0,-1310.0,-1356.25,-1356.25],\"yaxis\":\"y\",\"type\":\"scatter\"},{\"hoverinfo\":\"text\",\"marker\":{\"color\":\"rgb(61,153,112)\"},\"mode\":\"lines\",\"x\":[0.0,0.41115452553154264,0.41115452553154264,0.0],\"xaxis\":\"x\",\"y\":[-1395.0,-1395.0,-1405.0,-1405.0],\"yaxis\":\"y\",\"type\":\"scatter\"},{\"hoverinfo\":\"text\",\"marker\":{\"color\":\"rgb(61,153,112)\"},\"mode\":\"lines\",\"x\":[0.41115452553154264,0.47981667366131425,0.47981667366131425,0.0],\"xaxis\":\"x\",\"y\":[-1400.0,-1400.0,-1415.0,-1415.0],\"yaxis\":\"y\",\"type\":\"scatter\"},{\"hoverinfo\":\"text\",\"marker\":{\"color\":\"rgb(61,153,112)\"},\"mode\":\"lines\",\"x\":[0.0,0.5917807170910406,0.5917807170910406,0.47981667366131425],\"xaxis\":\"x\",\"y\":[-1385.0,-1385.0,-1407.5,-1407.5],\"yaxis\":\"y\",\"type\":\"scatter\"},{\"hoverinfo\":\"text\",\"marker\":{\"color\":\"rgb(61,153,112)\"},\"mode\":\"lines\",\"x\":[0.5917807170910406,0.8507932122059519,0.8507932122059519,0.0],\"xaxis\":\"x\",\"y\":[-1396.25,-1396.25,-1425.0,-1425.0],\"yaxis\":\"y\",\"type\":\"scatter\"},{\"hoverinfo\":\"text\",\"marker\":{\"color\":\"rgb(0,116,217)\"},\"mode\":\"lines\",\"x\":[1.1347134956823743,1.300657132094475,1.300657132094475,0.8507932122059519],\"xaxis\":\"x\",\"y\":[-1333.125,-1333.125,-1410.625,-1410.625],\"yaxis\":\"y\",\"type\":\"scatter\"},{\"hoverinfo\":\"text\",\"marker\":{\"color\":\"rgb(255,65,54)\"},\"mode\":\"lines\",\"x\":[0.0,0.7011555578356432,0.7011555578356432,0.0],\"xaxis\":\"x\",\"y\":[-1455.0,-1455.0,-1465.0,-1465.0],\"yaxis\":\"y\",\"type\":\"scatter\"},{\"hoverinfo\":\"text\",\"marker\":{\"color\":\"rgb(255,65,54)\"},\"mode\":\"lines\",\"x\":[0.0,0.7491809381721752,0.7491809381721752,0.7011555578356432],\"xaxis\":\"x\",\"y\":[-1445.0,-1445.0,-1460.0,-1460.0],\"yaxis\":\"y\",\"type\":\"scatter\"},{\"hoverinfo\":\"text\",\"marker\":{\"color\":\"rgb(255,65,54)\"},\"mode\":\"lines\",\"x\":[0.7491809381721752,0.784318352899787,0.784318352899787,0.0],\"xaxis\":\"x\",\"y\":[-1452.5,-1452.5,-1475.0,-1475.0],\"yaxis\":\"y\",\"type\":\"scatter\"},{\"hoverinfo\":\"text\",\"marker\":{\"color\":\"rgb(255,65,54)\"},\"mode\":\"lines\",\"x\":[0.0,0.816510361721879,0.816510361721879,0.784318352899787],\"xaxis\":\"x\",\"y\":[-1435.0,-1435.0,-1463.75,-1463.75],\"yaxis\":\"y\",\"type\":\"scatter\"},{\"hoverinfo\":\"text\",\"marker\":{\"color\":\"rgb(35,205,205)\"},\"mode\":\"lines\",\"x\":[0.0,0.8548430267030644,0.8548430267030644,0.0],\"xaxis\":\"x\",\"y\":[-1485.0,-1485.0,-1495.0,-1495.0],\"yaxis\":\"y\",\"type\":\"scatter\"},{\"hoverinfo\":\"text\",\"marker\":{\"color\":\"rgb(35,205,205)\"},\"mode\":\"lines\",\"x\":[0.0,0.8155068907758528,0.8155068907758528,0.0],\"xaxis\":\"x\",\"y\":[-1505.0,-1505.0,-1515.0,-1515.0],\"yaxis\":\"y\",\"type\":\"scatter\"},{\"hoverinfo\":\"text\",\"marker\":{\"color\":\"rgb(35,205,205)\"},\"mode\":\"lines\",\"x\":[0.8548430267030644,0.8847307156498667,0.8847307156498667,0.8155068907758528],\"xaxis\":\"x\",\"y\":[-1490.0,-1490.0,-1510.0,-1510.0],\"yaxis\":\"y\",\"type\":\"scatter\"},{\"hoverinfo\":\"text\",\"marker\":{\"color\":\"rgb(0,116,217)\"},\"mode\":\"lines\",\"x\":[0.816510361721879,1.0188732660098476,1.0188732660098476,0.8847307156498667],\"xaxis\":\"x\",\"y\":[-1449.375,-1449.375,-1500.0,-1500.0],\"yaxis\":\"y\",\"type\":\"scatter\"},{\"hoverinfo\":\"text\",\"marker\":{\"color\":\"rgb(133,20,75)\"},\"mode\":\"lines\",\"x\":[0.0,0.6802824552250772,0.6802824552250772,0.0],\"xaxis\":\"x\",\"y\":[-1545.0,-1545.0,-1555.0,-1555.0],\"yaxis\":\"y\",\"type\":\"scatter\"},{\"hoverinfo\":\"text\",\"marker\":{\"color\":\"rgb(133,20,75)\"},\"mode\":\"lines\",\"x\":[0.0,0.7494284319095812,0.7494284319095812,0.6802824552250772],\"xaxis\":\"x\",\"y\":[-1535.0,-1535.0,-1550.0,-1550.0],\"yaxis\":\"y\",\"type\":\"scatter\"},{\"hoverinfo\":\"text\",\"marker\":{\"color\":\"rgb(133,20,75)\"},\"mode\":\"lines\",\"x\":[0.0,0.7954621892029867,0.7954621892029867,0.7494284319095812],\"xaxis\":\"x\",\"y\":[-1525.0,-1525.0,-1542.5,-1542.5],\"yaxis\":\"y\",\"type\":\"scatter\"},{\"hoverinfo\":\"text\",\"marker\":{\"color\":\"rgb(133,20,75)\"},\"mode\":\"lines\",\"x\":[0.0,0.7981381977766391,0.7981381977766391,0.0],\"xaxis\":\"x\",\"y\":[-1565.0,-1565.0,-1575.0,-1575.0],\"yaxis\":\"y\",\"type\":\"scatter\"},{\"hoverinfo\":\"text\",\"marker\":{\"color\":\"rgb(133,20,75)\"},\"mode\":\"lines\",\"x\":[0.0,0.7527964375559856,0.7527964375559856,0.0],\"xaxis\":\"x\",\"y\":[-1585.0,-1585.0,-1595.0,-1595.0],\"yaxis\":\"y\",\"type\":\"scatter\"},{\"hoverinfo\":\"text\",\"marker\":{\"color\":\"rgb(133,20,75)\"},\"mode\":\"lines\",\"x\":[0.7981381977766391,0.8550508676335266,0.8550508676335266,0.7527964375559856],\"xaxis\":\"x\",\"y\":[-1570.0,-1570.0,-1590.0,-1590.0],\"yaxis\":\"y\",\"type\":\"scatter\"},{\"hoverinfo\":\"text\",\"marker\":{\"color\":\"rgb(133,20,75)\"},\"mode\":\"lines\",\"x\":[0.7954621892029867,0.9064394787411744,0.9064394787411744,0.8550508676335266],\"xaxis\":\"x\",\"y\":[-1533.75,-1533.75,-1580.0,-1580.0],\"yaxis\":\"y\",\"type\":\"scatter\"},{\"hoverinfo\":\"text\",\"marker\":{\"color\":\"rgb(255,220,0)\"},\"mode\":\"lines\",\"x\":[0.0,0.7190520318592395,0.7190520318592395,0.0],\"xaxis\":\"x\",\"y\":[-1605.0,-1605.0,-1615.0,-1615.0],\"yaxis\":\"y\",\"type\":\"scatter\"},{\"hoverinfo\":\"text\",\"marker\":{\"color\":\"rgb(255,220,0)\"},\"mode\":\"lines\",\"x\":[0.7190520318592395,0.7818259836321816,0.7818259836321816,0.0],\"xaxis\":\"x\",\"y\":[-1610.0,-1610.0,-1625.0,-1625.0],\"yaxis\":\"y\",\"type\":\"scatter\"},{\"hoverinfo\":\"text\",\"marker\":{\"color\":\"rgb(255,220,0)\"},\"mode\":\"lines\",\"x\":[0.7818259836321816,0.8614811290399527,0.8614811290399527,0.0],\"xaxis\":\"x\",\"y\":[-1617.5,-1617.5,-1635.0,-1635.0],\"yaxis\":\"y\",\"type\":\"scatter\"},{\"hoverinfo\":\"text\",\"marker\":{\"color\":\"rgb(255,220,0)\"},\"mode\":\"lines\",\"x\":[0.0,0.8006638503924697,0.8006638503924697,0.0],\"xaxis\":\"x\",\"y\":[-1645.0,-1645.0,-1655.0,-1655.0],\"yaxis\":\"y\",\"type\":\"scatter\"},{\"hoverinfo\":\"text\",\"marker\":{\"color\":\"rgb(255,220,0)\"},\"mode\":\"lines\",\"x\":[0.8614811290399527,0.9381568232930235,0.9381568232930235,0.8006638503924697],\"xaxis\":\"x\",\"y\":[-1626.25,-1626.25,-1650.0,-1650.0],\"yaxis\":\"y\",\"type\":\"scatter\"},{\"hoverinfo\":\"text\",\"marker\":{\"color\":\"rgb(0,116,217)\"},\"mode\":\"lines\",\"x\":[0.9064394787411744,1.092251155403531,1.092251155403531,0.9381568232930235],\"xaxis\":\"x\",\"y\":[-1556.875,-1556.875,-1638.125,-1638.125],\"yaxis\":\"y\",\"type\":\"scatter\"},{\"hoverinfo\":\"text\",\"marker\":{\"color\":\"rgb(0,116,217)\"},\"mode\":\"lines\",\"x\":[1.0188732660098476,1.198082026199828,1.198082026199828,1.092251155403531],\"xaxis\":\"x\",\"y\":[-1474.6875,-1474.6875,-1597.5,-1597.5],\"yaxis\":\"y\",\"type\":\"scatter\"},{\"hoverinfo\":\"text\",\"marker\":{\"color\":\"rgb(0,116,217)\"},\"mode\":\"lines\",\"x\":[1.300657132094475,1.440791985807434,1.440791985807434,1.198082026199828],\"xaxis\":\"x\",\"y\":[-1371.875,-1371.875,-1536.09375,-1536.09375],\"yaxis\":\"y\",\"type\":\"scatter\"},{\"hoverinfo\":\"text\",\"marker\":{\"color\":\"rgb(40,35,35)\"},\"mode\":\"lines\",\"x\":[0.0,0.44875015399442475,0.44875015399442475,0.0],\"xaxis\":\"x\",\"y\":[-1675.0,-1675.0,-1685.0,-1685.0],\"yaxis\":\"y\",\"type\":\"scatter\"},{\"hoverinfo\":\"text\",\"marker\":{\"color\":\"rgb(40,35,35)\"},\"mode\":\"lines\",\"x\":[0.0,0.7209065140107239,0.7209065140107239,0.44875015399442475],\"xaxis\":\"x\",\"y\":[-1665.0,-1665.0,-1680.0,-1680.0],\"yaxis\":\"y\",\"type\":\"scatter\"},{\"hoverinfo\":\"text\",\"marker\":{\"color\":\"rgb(61,153,112)\"},\"mode\":\"lines\",\"x\":[0.0,0.6034567925875645,0.6034567925875645,0.0],\"xaxis\":\"x\",\"y\":[-1695.0,-1695.0,-1705.0,-1705.0],\"yaxis\":\"y\",\"type\":\"scatter\"},{\"hoverinfo\":\"text\",\"marker\":{\"color\":\"rgb(61,153,112)\"},\"mode\":\"lines\",\"x\":[0.0,0.5227045350781008,0.5227045350781008,0.0],\"xaxis\":\"x\",\"y\":[-1715.0,-1715.0,-1725.0,-1725.0],\"yaxis\":\"y\",\"type\":\"scatter\"},{\"hoverinfo\":\"text\",\"marker\":{\"color\":\"rgb(61,153,112)\"},\"mode\":\"lines\",\"x\":[0.6034567925875645,0.6996232224418383,0.6996232224418383,0.5227045350781008],\"xaxis\":\"x\",\"y\":[-1700.0,-1700.0,-1720.0,-1720.0],\"yaxis\":\"y\",\"type\":\"scatter\"},{\"hoverinfo\":\"text\",\"marker\":{\"color\":\"rgb(61,153,112)\"},\"mode\":\"lines\",\"x\":[0.6996232224418383,0.7491482948821465,0.7491482948821465,0.0],\"xaxis\":\"x\",\"y\":[-1710.0,-1710.0,-1735.0,-1735.0],\"yaxis\":\"y\",\"type\":\"scatter\"},{\"hoverinfo\":\"text\",\"marker\":{\"color\":\"rgb(0,116,217)\"},\"mode\":\"lines\",\"x\":[0.7209065140107239,1.0578778503495472,1.0578778503495472,0.7491482948821465],\"xaxis\":\"x\",\"y\":[-1672.5,-1672.5,-1722.5,-1722.5],\"yaxis\":\"y\",\"type\":\"scatter\"},{\"hoverinfo\":\"text\",\"marker\":{\"color\":\"rgb(0,116,217)\"},\"mode\":\"lines\",\"x\":[1.440791985807434,1.5605459210691872,1.5605459210691872,1.0578778503495472],\"xaxis\":\"x\",\"y\":[-1453.984375,-1453.984375,-1697.5,-1697.5],\"yaxis\":\"y\",\"type\":\"scatter\"},{\"hoverinfo\":\"text\",\"marker\":{\"color\":\"rgb(0,116,217)\"},\"mode\":\"lines\",\"x\":[1.7698284202510735,1.9577105165649875,1.9577105165649875,1.5605459210691872],\"xaxis\":\"x\",\"y\":[-838.0224609375,-838.0224609375,-1575.7421875,-1575.7421875],\"yaxis\":\"y\",\"type\":\"scatter\"},{\"hoverinfo\":\"text\",\"marker\":{\"color\":\"rgb(0,116,217)\"},\"mode\":\"lines\",\"x\":[2.1525604337603395,2.3168092332910417,2.3168092332910417,1.9577105165649875],\"xaxis\":\"x\",\"y\":[-524.140625,-524.140625,-1206.88232421875,-1206.88232421875],\"yaxis\":\"y\",\"type\":\"scatter\"},{\"hoverinfo\":\"text\",\"marker\":{\"color\":\"rgb(255,65,54)\"},\"mode\":\"lines\",\"x\":[0.0,0.7220471231085,0.7220471231085,0.0],\"xaxis\":\"x\",\"y\":[-1745.0,-1745.0,-1755.0,-1755.0],\"yaxis\":\"y\",\"type\":\"scatter\"},{\"hoverinfo\":\"text\",\"marker\":{\"color\":\"rgb(255,65,54)\"},\"mode\":\"lines\",\"x\":[0.0,0.5977911895890681,0.5977911895890681,0.0],\"xaxis\":\"x\",\"y\":[-1765.0,-1765.0,-1775.0,-1775.0],\"yaxis\":\"y\",\"type\":\"scatter\"},{\"hoverinfo\":\"text\",\"marker\":{\"color\":\"rgb(255,65,54)\"},\"mode\":\"lines\",\"x\":[0.5977911895890681,0.6983704999454774,0.6983704999454774,0.0],\"xaxis\":\"x\",\"y\":[-1770.0,-1770.0,-1785.0,-1785.0],\"yaxis\":\"y\",\"type\":\"scatter\"},{\"hoverinfo\":\"text\",\"marker\":{\"color\":\"rgb(255,65,54)\"},\"mode\":\"lines\",\"x\":[0.7220471231085,0.8980364153151007,0.8980364153151007,0.6983704999454774],\"xaxis\":\"x\",\"y\":[-1750.0,-1750.0,-1777.5,-1777.5],\"yaxis\":\"y\",\"type\":\"scatter\"},{\"hoverinfo\":\"text\",\"marker\":{\"color\":\"rgb(35,205,205)\"},\"mode\":\"lines\",\"x\":[0.0,0.7144363774224016,0.7144363774224016,0.0],\"xaxis\":\"x\",\"y\":[-1805.0,-1805.0,-1815.0,-1815.0],\"yaxis\":\"y\",\"type\":\"scatter\"},{\"hoverinfo\":\"text\",\"marker\":{\"color\":\"rgb(35,205,205)\"},\"mode\":\"lines\",\"x\":[0.0,0.7566189926037613,0.7566189926037613,0.7144363774224016],\"xaxis\":\"x\",\"y\":[-1795.0,-1795.0,-1810.0,-1810.0],\"yaxis\":\"y\",\"type\":\"scatter\"},{\"hoverinfo\":\"text\",\"marker\":{\"color\":\"rgb(35,205,205)\"},\"mode\":\"lines\",\"x\":[0.0,0.8185235863497285,0.8185235863497285,0.0],\"xaxis\":\"x\",\"y\":[-1825.0,-1825.0,-1835.0,-1835.0],\"yaxis\":\"y\",\"type\":\"scatter\"},{\"hoverinfo\":\"text\",\"marker\":{\"color\":\"rgb(35,205,205)\"},\"mode\":\"lines\",\"x\":[0.7566189926037613,0.9075288562505766,0.9075288562505766,0.8185235863497285],\"xaxis\":\"x\",\"y\":[-1802.5,-1802.5,-1830.0,-1830.0],\"yaxis\":\"y\",\"type\":\"scatter\"},{\"hoverinfo\":\"text\",\"marker\":{\"color\":\"rgb(0,116,217)\"},\"mode\":\"lines\",\"x\":[0.8980364153151007,1.039598916963028,1.039598916963028,0.9075288562505766],\"xaxis\":\"x\",\"y\":[-1763.75,-1763.75,-1816.25,-1816.25],\"yaxis\":\"y\",\"type\":\"scatter\"},{\"hoverinfo\":\"text\",\"marker\":{\"color\":\"rgb(61,153,112)\"},\"mode\":\"lines\",\"x\":[0.0,0.615375770914886,0.615375770914886,0.0],\"xaxis\":\"x\",\"y\":[-1845.0,-1845.0,-1855.0,-1855.0],\"yaxis\":\"y\",\"type\":\"scatter\"},{\"hoverinfo\":\"text\",\"marker\":{\"color\":\"rgb(61,153,112)\"},\"mode\":\"lines\",\"x\":[0.0,0.5112996615285192,0.5112996615285192,0.0],\"xaxis\":\"x\",\"y\":[-1875.0,-1875.0,-1885.0,-1885.0],\"yaxis\":\"y\",\"type\":\"scatter\"},{\"hoverinfo\":\"text\",\"marker\":{\"color\":\"rgb(61,153,112)\"},\"mode\":\"lines\",\"x\":[0.5112996615285192,0.6708943935626388,0.6708943935626388,0.0],\"xaxis\":\"x\",\"y\":[-1880.0,-1880.0,-1895.0,-1895.0],\"yaxis\":\"y\",\"type\":\"scatter\"},{\"hoverinfo\":\"text\",\"marker\":{\"color\":\"rgb(61,153,112)\"},\"mode\":\"lines\",\"x\":[0.6708943935626388,0.79937727503232,0.79937727503232,0.0],\"xaxis\":\"x\",\"y\":[-1887.5,-1887.5,-1905.0,-1905.0],\"yaxis\":\"y\",\"type\":\"scatter\"},{\"hoverinfo\":\"text\",\"marker\":{\"color\":\"rgb(61,153,112)\"},\"mode\":\"lines\",\"x\":[0.0,0.8163811074919148,0.8163811074919148,0.79937727503232],\"xaxis\":\"x\",\"y\":[-1865.0,-1865.0,-1896.25,-1896.25],\"yaxis\":\"y\",\"type\":\"scatter\"},{\"hoverinfo\":\"text\",\"marker\":{\"color\":\"rgb(61,153,112)\"},\"mode\":\"lines\",\"x\":[0.8163811074919148,0.8286884705373675,0.8286884705373675,0.0],\"xaxis\":\"x\",\"y\":[-1880.625,-1880.625,-1915.0,-1915.0],\"yaxis\":\"y\",\"type\":\"scatter\"},{\"hoverinfo\":\"text\",\"marker\":{\"color\":\"rgb(61,153,112)\"},\"mode\":\"lines\",\"x\":[0.615375770914886,0.9612854174043329,0.9612854174043329,0.8286884705373675],\"xaxis\":\"x\",\"y\":[-1850.0,-1850.0,-1897.8125,-1897.8125],\"yaxis\":\"y\",\"type\":\"scatter\"},{\"hoverinfo\":\"text\",\"marker\":{\"color\":\"rgb(0,116,217)\"},\"mode\":\"lines\",\"x\":[1.039598916963028,1.1882235452873058,1.1882235452873058,0.9612854174043329],\"xaxis\":\"x\",\"y\":[-1790.0,-1790.0,-1873.90625,-1873.90625],\"yaxis\":\"y\",\"type\":\"scatter\"},{\"hoverinfo\":\"text\",\"marker\":{\"color\":\"rgb(255,65,54)\"},\"mode\":\"lines\",\"x\":[0.0,0.21528245362548026,0.21528245362548026,0.0],\"xaxis\":\"x\",\"y\":[-1945.0,-1945.0,-1955.0,-1955.0],\"yaxis\":\"y\",\"type\":\"scatter\"},{\"hoverinfo\":\"text\",\"marker\":{\"color\":\"rgb(255,65,54)\"},\"mode\":\"lines\",\"x\":[0.0,0.23787030772323325,0.23787030772323325,0.21528245362548026],\"xaxis\":\"x\",\"y\":[-1935.0,-1935.0,-1950.0,-1950.0],\"yaxis\":\"y\",\"type\":\"scatter\"},{\"hoverinfo\":\"text\",\"marker\":{\"color\":\"rgb(255,65,54)\"},\"mode\":\"lines\",\"x\":[0.23787030772323325,0.45025237572712945,0.45025237572712945,0.0],\"xaxis\":\"x\",\"y\":[-1942.5,-1942.5,-1965.0,-1965.0],\"yaxis\":\"y\",\"type\":\"scatter\"},{\"hoverinfo\":\"text\",\"marker\":{\"color\":\"rgb(255,65,54)\"},\"mode\":\"lines\",\"x\":[0.0,0.4940380797126784,0.4940380797126784,0.45025237572712945],\"xaxis\":\"x\",\"y\":[-1925.0,-1925.0,-1953.75,-1953.75],\"yaxis\":\"y\",\"type\":\"scatter\"},{\"hoverinfo\":\"text\",\"marker\":{\"color\":\"rgb(255,65,54)\"},\"mode\":\"lines\",\"x\":[0.0,0.5128993309935728,0.5128993309935728,0.0],\"xaxis\":\"x\",\"y\":[-1975.0,-1975.0,-1985.0,-1985.0],\"yaxis\":\"y\",\"type\":\"scatter\"},{\"hoverinfo\":\"text\",\"marker\":{\"color\":\"rgb(255,65,54)\"},\"mode\":\"lines\",\"x\":[0.5128993309935728,0.717603729040978,0.717603729040978,0.0],\"xaxis\":\"x\",\"y\":[-1980.0,-1980.0,-1995.0,-1995.0],\"yaxis\":\"y\",\"type\":\"scatter\"},{\"hoverinfo\":\"text\",\"marker\":{\"color\":\"rgb(255,65,54)\"},\"mode\":\"lines\",\"x\":[0.4940380797126784,0.9577326466197925,0.9577326466197925,0.717603729040978],\"xaxis\":\"x\",\"y\":[-1939.375,-1939.375,-1987.5,-1987.5],\"yaxis\":\"y\",\"type\":\"scatter\"},{\"hoverinfo\":\"text\",\"marker\":{\"color\":\"rgb(0,116,217)\"},\"mode\":\"lines\",\"x\":[1.1882235452873058,1.6982863705286608,1.6982863705286608,0.9577326466197925],\"xaxis\":\"x\",\"y\":[-1831.953125,-1831.953125,-1963.4375,-1963.4375],\"yaxis\":\"y\",\"type\":\"scatter\"},{\"hoverinfo\":\"text\",\"marker\":{\"color\":\"rgb(0,116,217)\"},\"mode\":\"lines\",\"x\":[2.3168092332910417,2.610998108032933,2.610998108032933,1.6982863705286608],\"xaxis\":\"x\",\"y\":[-865.511474609375,-865.511474609375,-1897.6953125,-1897.6953125],\"yaxis\":\"y\",\"type\":\"scatter\"},{\"hoverinfo\":\"text\",\"marker\":{\"color\":\"rgb(0,116,217)\"},\"mode\":\"lines\",\"x\":[1.4285317899697962,2.8372755452699,2.8372755452699,2.610998108032933],\"xaxis\":\"x\",\"y\":[-156.8359375,-156.8359375,-1381.6033935546875,-1381.6033935546875],\"yaxis\":\"y\",\"type\":\"scatter\"}],                        {\"autosize\":false,\"height\":3200,\"hovermode\":\"closest\",\"showlegend\":false,\"width\":1000,\"xaxis\":{\"mirror\":\"allticks\",\"rangemode\":\"tozero\",\"showgrid\":false,\"showline\":true,\"showticklabels\":true,\"ticks\":\"outside\",\"type\":\"linear\",\"zeroline\":false},\"yaxis\":{\"mirror\":\"allticks\",\"rangemode\":\"tozero\",\"showgrid\":false,\"showline\":true,\"showticklabels\":true,\"tickmode\":\"array\",\"ticks\":\"outside\",\"ticktext\":[\"183_ai_robotics_brain\",\"127_ai_healthtech_robots\",\"60_forbes_ethics_ai\",\"190_forbes_ai_artificialint...\",\"71_ai_business_artificial\",\"1_ai_artificialintelligence...\",\"61_artificial_intelligence_...\",\"160_nlp_artificialintellige...\",\"22_artificial_intelligence_...\",\"87_artificialintelligence_a...\",\"140_healthtech_ai_artificial\",\"13_aiethics_artificialintel...\",\"79_ai_healthcare_ethics\",\"35_neural_deeplearn007_deep...\",\"68_deeplearning_machinelear...\",\"147_machine_daily_artificia...\",\"59_pawlowskimario_gvalan_ai\",\"94_ai_machinelearning_cc\",\"112_datascience_datascienti...\",\"128_datascience_machinelear...\",\"40_deeplearning_datascienti...\",\"198_iiot_datascience_bigdata\",\"11_reactjs_linux_rstats\",\"3_5g_mobile_apple\",\"124_5g_ccronaldvanloon_netw...\",\"172_5g_wireless_ccronaldvan...\",\"195_quantum_computing_quant...\",\"120_data2decisions_bigdata_...\",\"131_cloud_network_platform\",\"55_cloud_data_lowcode\",\"95_data_cloud_transformation\",\"136_lowcode_softdev_nocode\",\"191_expeflow_httpstcogukqbn...\",\"176_fintech_regtech_regulat...\",\"29_365_dynamics_powerapps\",\"184_innovation_technology_f...\",\"57_cybersecurity_tech_cio\",\"73_automation_smartfactory_...\",\"157_blockchain_insurance_in...\",\"162_digital_banking_digital...\",\"142_banking_fintech_growth\",\"17_trends_cloud_2021\",\"177_market_5g_iot\",\"110_digitaltransformation_d...\",\"115_transformation_digital_...\",\"48_transformation_digital_d...\",\"7_transformation_digital_di...\",\"53_transformation_businesst...\",\"178_digitalbiz_digitaltrans...\",\"153_bigdata_mi_blockchain\",\"96_edgecomputing_iotpl_indu...\",\"109_iot_edgecomputing_edge\",\"155_iotcommunity_iotchannel...\",\"144_iotcommunity_iotpractio...\",\"92_security_iot_iotcommunity\",\"20_iot_iotcommunity_iotprac...\",\"179_robotics_automation_cc\",\"141_robot_robotics_mi\",\"46_robotics_robot_robots\",\"129_robotics_robot_biomimicry\",\"14_robotics_robot_drones\",\"186_robotics_robots_automat...\",\"98_manufacturing_gigadgets_...\",\"158_autoindustry_automobile...\",\"103_gadgets_gigadgets_cheddar\",\"38_3d_transportation_gigadg...\",\"78_drone_drones_engineering\",\"146_publicsafety_gigadgets_...\",\"170_av_selfdriving_car\",\"163_technology_whatsnext_mo...\",\"85_climatechange_environmen...\",\"76_environment_climate_econ...\",\"89_environment_energy_econo...\",\"168_environment_forum_econo...\",\"28_environment_forum_economic\",\"69_lowcode_computer_httpstc...\",\"104_ev_car_tesla\",\"130_raises_retail_valuation\",\"51_revenue_stock_fund\",\"30_billion_manufacturing_te...\",\"18_inflation_tax_money\",\"182_crypto_cryptocurrency_b...\",\"175_cryptocurrency_crypto_b...\",\"65_crypto_cryptocurrency_cy...\",\"37_cybersecurity_security_h...\",\"99_privacy_data_cybersecurity\",\"152_privacy_app_apple\",\"169_cybersecurity_breach_ra...\",\"5_cybersecurity_cyberwar_war\",\"106_ukraine_war_socialmedia\",\"101_twitter_socialmedia_tweet\",\"117_socialmedia_facebook_me...\",\"63_socialmedia_twitter_face...\",\"39_twitter_socialmedia_media\",\"148_pandemic_covid19_covid\",\"49_covid19_covid_coronavirus\",\"192_covid19_covid_coronavirus\",\"88_quarantine_thingstodo_co...\",\"105_training_models_transfo...\",\"143_learning_data_model\",\"34_epoch_validation_model\",\"137_book_time_audio\",\"25_doo_said_dont\",\"90_true_right_just\",\"111_thats_dont_like\",\"80_people_vaccine_mypov\",\"47_people_dont_power\",\"125_guilty_pay_ads\",\"86_sold_pay_apple\",\"91_verge_stories_apple\",\"156_app_sarahintampa_android\",\"100_vehicle_creak_hetchins\",\"8_earth_environment_solar\",\"193_spacecraft_space_nasawebb\",\"23_appleevent_apple_mypov\",\"31_mypov_thats_superbowl\",\"2_mypov_tennis_sorry\",\"126_christmas_oldies_dog\",\"159_disruptv_vimeo_episode\",\"174_captionthis_ukraine_his...\",\"72_wednesdaythoughts_wednes...\",\"0_quotes_tuesdaythoughts_tu...\",\"16_quotes_blackhistorymonth...\",\"102_womenshistorymonth_100_...\",\"133_robes_httpstcoftvfcrauf...\",\"185_relire_employ_lexprience\",\"84_wordle_le_56\",\"149_bir_bu_ve\",\"44_ich_luogl_olsun\",\"122_data_fraud_million\",\"70_underwriter_canadian_ins...\",\"189_claims_expeflow_process...\",\"24_demo_expeflows_rpa\",\"97_crossfunctional_teams_ht...\",\"82_contactcenter_remotework...\",\"138_remote_workflow_efficie...\",\"62_remote_remotework_vr\",\"83_oldies_employee_experience\",\"45_customer_customers_custo...\",\"164_cx_customer_customerexp...\",\"6_customer_customers_experi...\",\"56_cx_journey_customerexper...\",\"21_latest_generation_refurb...\",\"33_indiaenergyweek_philipvo...\",\"188_podcast_book_interview\",\"196_join_ceo_disruptvshow\",\"197_join_future_latest\",\"54_bourke_2bonair_stepien\",\"19_followers_bangladesh_spo...\",\"43_top10contributors_tweetb...\",\"145_twitter_mypov_tweets\",\"81_leimer_davidjmaireles_fi...\",\"150_payments_p2p_partners\",\"41_marketing_content_customer\",\"165_business_growth_customers\",\"75_httpstcoqniakgimzu_firm_...\",\"27_ceo_job_vc\",\"114_marketing_socialmedia_c...\",\"121_cybersecurity_tech_chat...\",\"139_pallette_micro_business\",\"116_companies_forbes_economic\",\"118_futureofwork_forbes_inn...\",\"66_womenintech_stem_education\",\"167_work_workweek_projects\",\"15_brain_science_human\",\"10_lifesciences_futurism_nfts\",\"74_peopleskillschat_rt_llake\",\"67_peopleskillschat_people_...\",\"107_peopleskillschat_rt_a1\",\"171_leadership_leaders_lead...\",\"32_leadership_katenasser_le...\",\"134_leadership_culture_lead...\",\"151_leadership_employees_em...\",\"42_change_leadershipofchang...\",\"187_chidambara09_thank_dear\",\"132_thank_thanks_dear\",\"135_thank_thanks_love\",\"161_happy_thank_great\",\"123_thanks_amazing_happy\",\"9_thank_lol_yes\",\"64_yep_thats_good\",\"52_wow_thats_oh\",\"12_yes_ledaglyptis_alarical...\",\"181_mypov_vgazza_dionlisle\",\"119_password_case_mypov\",\"199_magicveronique_nicolepe...\",\"166_email_mypov_try\",\"26_barbmaclean_chrisggarrod...\",\"50_ar15_thank_congratulations\",\"108_join_thank_great\",\"36_peopleskillschat_smoiz_m...\",\"194_margaretsiegien_neeraj_...\",\"58_dear_mwc2023_sharing\",\"77_enricomolinari_frronconi...\",\"93_jeancayeux_rldilamy_tobi...\",\"4_frronconi_bimedotcom_shi4...\",\"173_efipm_dear_betamoroney\",\"113_margaretsiegien_pawlows...\",\"154_kalydeoo_hanaelsayyed_s...\",\"180_adipecofficial_adnocgro...\"],\"tickvals\":[-5.0,-15.0,-25.0,-35.0,-45.0,-55.0,-65.0,-75.0,-85.0,-95.0,-105.0,-115.0,-125.0,-135.0,-145.0,-155.0,-165.0,-175.0,-185.0,-195.0,-205.0,-215.0,-225.0,-235.0,-245.0,-255.0,-265.0,-275.0,-285.0,-295.0,-305.0,-315.0,-325.0,-335.0,-345.0,-355.0,-365.0,-375.0,-385.0,-395.0,-405.0,-415.0,-425.0,-435.0,-445.0,-455.0,-465.0,-475.0,-485.0,-495.0,-505.0,-515.0,-525.0,-535.0,-545.0,-555.0,-565.0,-575.0,-585.0,-595.0,-605.0,-615.0,-625.0,-635.0,-645.0,-655.0,-665.0,-675.0,-685.0,-695.0,-705.0,-715.0,-725.0,-735.0,-745.0,-755.0,-765.0,-775.0,-785.0,-795.0,-805.0,-815.0,-825.0,-835.0,-845.0,-855.0,-865.0,-875.0,-885.0,-895.0,-905.0,-915.0,-925.0,-935.0,-945.0,-955.0,-965.0,-975.0,-985.0,-995.0,-1005.0,-1015.0,-1025.0,-1035.0,-1045.0,-1055.0,-1065.0,-1075.0,-1085.0,-1095.0,-1105.0,-1115.0,-1125.0,-1135.0,-1145.0,-1155.0,-1165.0,-1175.0,-1185.0,-1195.0,-1205.0,-1215.0,-1225.0,-1235.0,-1245.0,-1255.0,-1265.0,-1275.0,-1285.0,-1295.0,-1305.0,-1315.0,-1325.0,-1335.0,-1345.0,-1355.0,-1365.0,-1375.0,-1385.0,-1395.0,-1405.0,-1415.0,-1425.0,-1435.0,-1445.0,-1455.0,-1465.0,-1475.0,-1485.0,-1495.0,-1505.0,-1515.0,-1525.0,-1535.0,-1545.0,-1555.0,-1565.0,-1575.0,-1585.0,-1595.0,-1605.0,-1615.0,-1625.0,-1635.0,-1645.0,-1655.0,-1665.0,-1675.0,-1685.0,-1695.0,-1705.0,-1715.0,-1725.0,-1735.0,-1745.0,-1755.0,-1765.0,-1775.0,-1785.0,-1795.0,-1805.0,-1815.0,-1825.0,-1835.0,-1845.0,-1855.0,-1865.0,-1875.0,-1885.0,-1895.0,-1905.0,-1915.0,-1925.0,-1935.0,-1945.0,-1955.0,-1965.0,-1975.0,-1985.0,-1995.0],\"type\":\"linear\",\"zeroline\":false,\"range\":[-2000.0,0.0]},\"template\":{\"data\":{\"barpolar\":[{\"marker\":{\"line\":{\"color\":\"white\",\"width\":0.5},\"pattern\":{\"fillmode\":\"overlay\",\"size\":10,\"solidity\":0.2}},\"type\":\"barpolar\"}],\"bar\":[{\"error_x\":{\"color\":\"#2a3f5f\"},\"error_y\":{\"color\":\"#2a3f5f\"},\"marker\":{\"line\":{\"color\":\"white\",\"width\":0.5},\"pattern\":{\"fillmode\":\"overlay\",\"size\":10,\"solidity\":0.2}},\"type\":\"bar\"}],\"carpet\":[{\"aaxis\":{\"endlinecolor\":\"#2a3f5f\",\"gridcolor\":\"#C8D4E3\",\"linecolor\":\"#C8D4E3\",\"minorgridcolor\":\"#C8D4E3\",\"startlinecolor\":\"#2a3f5f\"},\"baxis\":{\"endlinecolor\":\"#2a3f5f\",\"gridcolor\":\"#C8D4E3\",\"linecolor\":\"#C8D4E3\",\"minorgridcolor\":\"#C8D4E3\",\"startlinecolor\":\"#2a3f5f\"},\"type\":\"carpet\"}],\"choropleth\":[{\"colorbar\":{\"outlinewidth\":0,\"ticks\":\"\"},\"type\":\"choropleth\"}],\"contourcarpet\":[{\"colorbar\":{\"outlinewidth\":0,\"ticks\":\"\"},\"type\":\"contourcarpet\"}],\"contour\":[{\"colorbar\":{\"outlinewidth\":0,\"ticks\":\"\"},\"colorscale\":[[0.0,\"#0d0887\"],[0.1111111111111111,\"#46039f\"],[0.2222222222222222,\"#7201a8\"],[0.3333333333333333,\"#9c179e\"],[0.4444444444444444,\"#bd3786\"],[0.5555555555555556,\"#d8576b\"],[0.6666666666666666,\"#ed7953\"],[0.7777777777777778,\"#fb9f3a\"],[0.8888888888888888,\"#fdca26\"],[1.0,\"#f0f921\"]],\"type\":\"contour\"}],\"heatmapgl\":[{\"colorbar\":{\"outlinewidth\":0,\"ticks\":\"\"},\"colorscale\":[[0.0,\"#0d0887\"],[0.1111111111111111,\"#46039f\"],[0.2222222222222222,\"#7201a8\"],[0.3333333333333333,\"#9c179e\"],[0.4444444444444444,\"#bd3786\"],[0.5555555555555556,\"#d8576b\"],[0.6666666666666666,\"#ed7953\"],[0.7777777777777778,\"#fb9f3a\"],[0.8888888888888888,\"#fdca26\"],[1.0,\"#f0f921\"]],\"type\":\"heatmapgl\"}],\"heatmap\":[{\"colorbar\":{\"outlinewidth\":0,\"ticks\":\"\"},\"colorscale\":[[0.0,\"#0d0887\"],[0.1111111111111111,\"#46039f\"],[0.2222222222222222,\"#7201a8\"],[0.3333333333333333,\"#9c179e\"],[0.4444444444444444,\"#bd3786\"],[0.5555555555555556,\"#d8576b\"],[0.6666666666666666,\"#ed7953\"],[0.7777777777777778,\"#fb9f3a\"],[0.8888888888888888,\"#fdca26\"],[1.0,\"#f0f921\"]],\"type\":\"heatmap\"}],\"histogram2dcontour\":[{\"colorbar\":{\"outlinewidth\":0,\"ticks\":\"\"},\"colorscale\":[[0.0,\"#0d0887\"],[0.1111111111111111,\"#46039f\"],[0.2222222222222222,\"#7201a8\"],[0.3333333333333333,\"#9c179e\"],[0.4444444444444444,\"#bd3786\"],[0.5555555555555556,\"#d8576b\"],[0.6666666666666666,\"#ed7953\"],[0.7777777777777778,\"#fb9f3a\"],[0.8888888888888888,\"#fdca26\"],[1.0,\"#f0f921\"]],\"type\":\"histogram2dcontour\"}],\"histogram2d\":[{\"colorbar\":{\"outlinewidth\":0,\"ticks\":\"\"},\"colorscale\":[[0.0,\"#0d0887\"],[0.1111111111111111,\"#46039f\"],[0.2222222222222222,\"#7201a8\"],[0.3333333333333333,\"#9c179e\"],[0.4444444444444444,\"#bd3786\"],[0.5555555555555556,\"#d8576b\"],[0.6666666666666666,\"#ed7953\"],[0.7777777777777778,\"#fb9f3a\"],[0.8888888888888888,\"#fdca26\"],[1.0,\"#f0f921\"]],\"type\":\"histogram2d\"}],\"histogram\":[{\"marker\":{\"pattern\":{\"fillmode\":\"overlay\",\"size\":10,\"solidity\":0.2}},\"type\":\"histogram\"}],\"mesh3d\":[{\"colorbar\":{\"outlinewidth\":0,\"ticks\":\"\"},\"type\":\"mesh3d\"}],\"parcoords\":[{\"line\":{\"colorbar\":{\"outlinewidth\":0,\"ticks\":\"\"}},\"type\":\"parcoords\"}],\"pie\":[{\"automargin\":true,\"type\":\"pie\"}],\"scatter3d\":[{\"line\":{\"colorbar\":{\"outlinewidth\":0,\"ticks\":\"\"}},\"marker\":{\"colorbar\":{\"outlinewidth\":0,\"ticks\":\"\"}},\"type\":\"scatter3d\"}],\"scattercarpet\":[{\"marker\":{\"colorbar\":{\"outlinewidth\":0,\"ticks\":\"\"}},\"type\":\"scattercarpet\"}],\"scattergeo\":[{\"marker\":{\"colorbar\":{\"outlinewidth\":0,\"ticks\":\"\"}},\"type\":\"scattergeo\"}],\"scattergl\":[{\"marker\":{\"colorbar\":{\"outlinewidth\":0,\"ticks\":\"\"}},\"type\":\"scattergl\"}],\"scattermapbox\":[{\"marker\":{\"colorbar\":{\"outlinewidth\":0,\"ticks\":\"\"}},\"type\":\"scattermapbox\"}],\"scatterpolargl\":[{\"marker\":{\"colorbar\":{\"outlinewidth\":0,\"ticks\":\"\"}},\"type\":\"scatterpolargl\"}],\"scatterpolar\":[{\"marker\":{\"colorbar\":{\"outlinewidth\":0,\"ticks\":\"\"}},\"type\":\"scatterpolar\"}],\"scatter\":[{\"fillpattern\":{\"fillmode\":\"overlay\",\"size\":10,\"solidity\":0.2},\"type\":\"scatter\"}],\"scatterternary\":[{\"marker\":{\"colorbar\":{\"outlinewidth\":0,\"ticks\":\"\"}},\"type\":\"scatterternary\"}],\"surface\":[{\"colorbar\":{\"outlinewidth\":0,\"ticks\":\"\"},\"colorscale\":[[0.0,\"#0d0887\"],[0.1111111111111111,\"#46039f\"],[0.2222222222222222,\"#7201a8\"],[0.3333333333333333,\"#9c179e\"],[0.4444444444444444,\"#bd3786\"],[0.5555555555555556,\"#d8576b\"],[0.6666666666666666,\"#ed7953\"],[0.7777777777777778,\"#fb9f3a\"],[0.8888888888888888,\"#fdca26\"],[1.0,\"#f0f921\"]],\"type\":\"surface\"}],\"table\":[{\"cells\":{\"fill\":{\"color\":\"#EBF0F8\"},\"line\":{\"color\":\"white\"}},\"header\":{\"fill\":{\"color\":\"#C8D4E3\"},\"line\":{\"color\":\"white\"}},\"type\":\"table\"}]},\"layout\":{\"annotationdefaults\":{\"arrowcolor\":\"#2a3f5f\",\"arrowhead\":0,\"arrowwidth\":1},\"autotypenumbers\":\"strict\",\"coloraxis\":{\"colorbar\":{\"outlinewidth\":0,\"ticks\":\"\"}},\"colorscale\":{\"diverging\":[[0,\"#8e0152\"],[0.1,\"#c51b7d\"],[0.2,\"#de77ae\"],[0.3,\"#f1b6da\"],[0.4,\"#fde0ef\"],[0.5,\"#f7f7f7\"],[0.6,\"#e6f5d0\"],[0.7,\"#b8e186\"],[0.8,\"#7fbc41\"],[0.9,\"#4d9221\"],[1,\"#276419\"]],\"sequential\":[[0.0,\"#0d0887\"],[0.1111111111111111,\"#46039f\"],[0.2222222222222222,\"#7201a8\"],[0.3333333333333333,\"#9c179e\"],[0.4444444444444444,\"#bd3786\"],[0.5555555555555556,\"#d8576b\"],[0.6666666666666666,\"#ed7953\"],[0.7777777777777778,\"#fb9f3a\"],[0.8888888888888888,\"#fdca26\"],[1.0,\"#f0f921\"]],\"sequentialminus\":[[0.0,\"#0d0887\"],[0.1111111111111111,\"#46039f\"],[0.2222222222222222,\"#7201a8\"],[0.3333333333333333,\"#9c179e\"],[0.4444444444444444,\"#bd3786\"],[0.5555555555555556,\"#d8576b\"],[0.6666666666666666,\"#ed7953\"],[0.7777777777777778,\"#fb9f3a\"],[0.8888888888888888,\"#fdca26\"],[1.0,\"#f0f921\"]]},\"colorway\":[\"#636efa\",\"#EF553B\",\"#00cc96\",\"#ab63fa\",\"#FFA15A\",\"#19d3f3\",\"#FF6692\",\"#B6E880\",\"#FF97FF\",\"#FECB52\"],\"font\":{\"color\":\"#2a3f5f\"},\"geo\":{\"bgcolor\":\"white\",\"lakecolor\":\"white\",\"landcolor\":\"white\",\"showlakes\":true,\"showland\":true,\"subunitcolor\":\"#C8D4E3\"},\"hoverlabel\":{\"align\":\"left\"},\"hovermode\":\"closest\",\"mapbox\":{\"style\":\"light\"},\"paper_bgcolor\":\"white\",\"plot_bgcolor\":\"white\",\"polar\":{\"angularaxis\":{\"gridcolor\":\"#EBF0F8\",\"linecolor\":\"#EBF0F8\",\"ticks\":\"\"},\"bgcolor\":\"white\",\"radialaxis\":{\"gridcolor\":\"#EBF0F8\",\"linecolor\":\"#EBF0F8\",\"ticks\":\"\"}},\"scene\":{\"xaxis\":{\"backgroundcolor\":\"white\",\"gridcolor\":\"#DFE8F3\",\"gridwidth\":2,\"linecolor\":\"#EBF0F8\",\"showbackground\":true,\"ticks\":\"\",\"zerolinecolor\":\"#EBF0F8\"},\"yaxis\":{\"backgroundcolor\":\"white\",\"gridcolor\":\"#DFE8F3\",\"gridwidth\":2,\"linecolor\":\"#EBF0F8\",\"showbackground\":true,\"ticks\":\"\",\"zerolinecolor\":\"#EBF0F8\"},\"zaxis\":{\"backgroundcolor\":\"white\",\"gridcolor\":\"#DFE8F3\",\"gridwidth\":2,\"linecolor\":\"#EBF0F8\",\"showbackground\":true,\"ticks\":\"\",\"zerolinecolor\":\"#EBF0F8\"}},\"shapedefaults\":{\"line\":{\"color\":\"#2a3f5f\"}},\"ternary\":{\"aaxis\":{\"gridcolor\":\"#DFE8F3\",\"linecolor\":\"#A2B1C6\",\"ticks\":\"\"},\"baxis\":{\"gridcolor\":\"#DFE8F3\",\"linecolor\":\"#A2B1C6\",\"ticks\":\"\"},\"bgcolor\":\"white\",\"caxis\":{\"gridcolor\":\"#DFE8F3\",\"linecolor\":\"#A2B1C6\",\"ticks\":\"\"}},\"title\":{\"x\":0.05},\"xaxis\":{\"automargin\":true,\"gridcolor\":\"#EBF0F8\",\"linecolor\":\"#EBF0F8\",\"ticks\":\"\",\"title\":{\"standoff\":15},\"zerolinecolor\":\"#EBF0F8\",\"zerolinewidth\":2},\"yaxis\":{\"automargin\":true,\"gridcolor\":\"#EBF0F8\",\"linecolor\":\"#EBF0F8\",\"ticks\":\"\",\"title\":{\"standoff\":15},\"zerolinecolor\":\"#EBF0F8\",\"zerolinewidth\":2}}},\"title\":{\"font\":{\"size\":22,\"color\":\"Black\"},\"text\":\"<b>Hierarchical Clustering</b>\",\"x\":0.5,\"xanchor\":\"center\",\"yanchor\":\"top\"},\"hoverlabel\":{\"font\":{\"size\":16,\"family\":\"Rockwell\"},\"bgcolor\":\"white\"},\"plot_bgcolor\":\"#ECEFF1\"},                        {\"responsive\": true}                    ).then(function(){\n",
       "                            \n",
       "var gd = document.getElementById('bed8a981-f524-4e5c-877c-b962b1e477b9');\n",
       "var x = new MutationObserver(function (mutations, observer) {{\n",
       "        var display = window.getComputedStyle(gd).display;\n",
       "        if (!display || display === 'none') {{\n",
       "            console.log([gd, 'removed!']);\n",
       "            Plotly.purge(gd);\n",
       "            observer.disconnect();\n",
       "        }}\n",
       "}});\n",
       "\n",
       "// Listen for the removal of the full notebook cells\n",
       "var notebookContainer = gd.closest('#notebook-container');\n",
       "if (notebookContainer) {{\n",
       "    x.observe(notebookContainer, {childList: true});\n",
       "}}\n",
       "\n",
       "// Listen for the clearing of the current output cell\n",
       "var outputEl = gd.closest('.output');\n",
       "if (outputEl) {{\n",
       "    x.observe(outputEl, {childList: true});\n",
       "}}\n",
       "\n",
       "                        })                };                });            </script>        </div>"
      ]
     },
     "metadata": {},
     "output_type": "display_data"
    }
   ],
   "source": [
    "topic_model.visualize_hierarchy()"
   ]
  },
  {
   "cell_type": "code",
   "execution_count": 25,
   "metadata": {},
   "outputs": [
    {
     "data": {
      "text/html": [
       "<style>.itables table td {\n",
       "    text-overflow: ellipsis;\n",
       "    overflow: hidden;\n",
       "}\n",
       "\n",
       ".itables table th {\n",
       "    text-overflow: ellipsis;\n",
       "    overflow: hidden;\n",
       "}\n",
       "\n",
       ".itables thead input {\n",
       "    width: 100%;\n",
       "    padding: 3px;\n",
       "    box-sizing: border-box;\n",
       "}\n",
       "\n",
       ".itables tfoot input {\n",
       "    width: 100%;\n",
       "    padding: 3px;\n",
       "    box-sizing: border-box;\n",
       "}\n",
       "</style>\n",
       "<div class=\"itables\">\n",
       "<table id=\"aef9526a-4406-4aa6-9af7-68b5d0195ac4\" class=\"display nowrap\"style=\"table-layout:auto;width:auto;margin:auto;caption-side:bottom\"><thead>\n",
       "    <tr style=\"text-align: right;\">\n",
       "      \n",
       "      <th>Topic</th>\n",
       "      <th>Count</th>\n",
       "      <th>Name</th>\n",
       "      <th>Representation</th>\n",
       "      <th>Representative_Docs</th>\n",
       "    </tr>\n",
       "  </thead><tbody><tr><td>Loading... (need <a href=https://mwouts.github.io/itables/troubleshooting.html>help</a>?)</td></tr></tbody></table>\n",
       "<script>\n",
       "    // We use a namespace per table (= the next curly bracket)\n",
       "    // to avoid conflicts between the various tables' data & dt_args\n",
       "    {\n",
       "        // Define the table data\n",
       "        const data = [[0, 10260, \"0_quotes_tuesdaythoughts_tuesdaymotivation_weekendwisdom\", \"[quotes, tuesdaythoughts, tuesdaymotivation, weekendwisdom, tonyrobbins, stevejobs, wednesdaythoughts, thursdaymotivation, thursdaythoughts, wednesdaymotivation]\", NaN], [1, 4349, \"1_ai_artificialintelligence_artificial_automation\", \"[ai, artificialintelligence, artificial, automation, intelligence, machinelearning, rpa, bigdata, datascience, ml]\", NaN], [2, 5804, \"2_mypov_tennis_sorry_just\", \"[mypov, tennis, sorry, just, pence, week, got, havent, time, night]\", NaN], [3, 5489, \"3_5g_mobile_apple_payment\", \"[5g, mobile, apple, payment, app, price, fiber, store, phone, broadband]\", NaN], [4, 6136, \"4_frronconi_bimedotcom_shi4tech_evasmartai\", \"[frronconi, bimedotcom, shi4tech, evasmartai, sonumonika, chidambara09, betamoroney, dear, nicochan33, labordeolivier]\", NaN], [5, 4934, \"5_cybersecurity_cyberwar_war_ukraine\", \"[cybersecurity, cyberwar, war, ukraine, breach, ransomware, russia, anonymous, hackers, cyberattack]\", NaN], [6, 6653, \"6_customer_customers_experience_customerexperience\", \"[customer, customers, experience, customerexperience, cx, customerservice, service, employee, employees, customercentric]\", NaN], [7, 5142, \"7_transformation_digital_digitaltransformation_cio\", \"[transformation, digital, digitaltransformation, cio, cios, healthcare, organizations, business, leadership, leaders]\", NaN], [8, 8396, \"8_earth_environment_solar_surface\", \"[earth, environment, solar, surface, water, climate, weather, climatechange, earths, travel]\", NaN], [9, 13545, \"9_thank_lol_yes_oh\", \"[thank, lol, yes, oh, twitter, nigelwalsh, absolutely, siddharthks, nice, thats]\", NaN], [10, 5539, \"10_lifesciences_futurism_nfts_reality\", \"[lifesciences, futurism, nfts, reality, autoindustry, metaverse, stem, nft, future, education]\", NaN], [11, 10958, \"11_reactjs_linux_rstats_tensorflow\", \"[reactjs, linux, rstats, tensorflow, javascript, programming, datascientist, serverless, cloudcomputing, java]\", NaN], [12, 8146, \"12_yes_ledaglyptis_alaricaloor_evirahealth\", \"[yes, ledaglyptis, alaricaloor, evirahealth, chrisggarrod, irmaraste, mypov, jack, vijaya, blocked]\", NaN], [13, 6632, \"13_aiethics_artificialintelligence_ai_intelligence\", \"[aiethics, artificialintelligence, ai, intelligence, artificial, ethics, cc, machinelearning, human, miad]\", NaN], [14, 7742, \"14_robotics_robot_drones_whosnext\", \"[robotics, robot, drones, whosnext, seeker, healthtech, robots, robotic, drone, engineering]\", NaN], [15, 5678, \"15_brain_science_human_universe\", \"[brain, science, human, universe, einstein, think, humans, albert, education, language]\", NaN], [16, 8291, \"16_quotes_blackhistorymonth_weekendwisdom_saturdaymotivation\", \"[quotes, blackhistorymonth, weekendwisdom, saturdaymotivation, saturdaythoughts, education, fridaythoughts, jfk, fridaymotivation, awards]\", NaN], [17, 4353, \"17_trends_cloud_2021_iot\", \"[trends, cloud, 2021, iot, market, blockchain, tech, industry, digitaltransformation, computing]\", NaN], [18, 8229, \"18_inflation_tax_money_economy\", \"[inflation, tax, money, economy, debt, mypov, spending, taxes, people, years]\", NaN], [19, 5701, \"19_followers_bangladesh_sportstech_httpstcogfki6431wo\", \"[followers, bangladesh, sportstech, httpstcogfki6431wo, week, usa, sports, nfl, india, pandalytics]\", NaN], [20, 5194, \"20_iot_iotcommunity_iotpractioner_iotcl\", \"[iot, iotcommunity, iotpractioner, iotcl, iotchannel, iotpl, security, ccronaldvanloon, digitaltransformation, internetofthings]\", NaN], [21, 5254, \"21_latest_generation_refurbished_customer\", \"[latest, generation, refurbished, customer, experience, newly, page, httpstcohbubdjw78k, httpstcoxvssi7hzla, cx]\", NaN], [22, 6317, \"22_artificial_intelligence_artificialintelligence_nlp\", \"[artificial, intelligence, artificialintelligence, nlp, deeplearning, machinelearning, ai, robots, read, bigdata]\", NaN], [23, 5598, \"23_appleevent_apple_mypov_davemichels\", \"[appleevent, apple, mypov, davemichels, foodie, audio, httpstcobqkpl4hxlf, numbered, httpstcojtqt475yh7, iphone14pro]\", NaN], [24, 4460, \"24_demo_expeflows_rpa_insurtech\", \"[demo, expeflows, rpa, insurtech, expeflow, futureofclaims, automation, assistants, httpstcop79ywphhsa, productivity]\", NaN], [25, 8835, \"25_doo_said_dont_love\", \"[doo, said, dont, love, like, guess, people, mangle, mangling, im]\", NaN], [26, 9378, \"26_barbmaclean_chrisggarrod_leimer_drjdrooghaag\", \"[barbmaclean, chrisggarrod, leimer, drjdrooghaag, efipm, sallyeaves, ledaglyptis, betamoroney, urvashiprakash, matthewsekol]\", NaN], [27, 5922, \"27_ceo_job_vc_startups\", \"[ceo, job, vc, startups, hustle, ceos, venture, nmasc, investors, founders]\", NaN], [28, 9938, \"28_environment_forum_economic_world\", \"[environment, forum, economic, world, plastic, wef, sustainability, recycle, energy, agtech]\", NaN], [29, 6489, \"29_365_dynamics_powerapps_todays\", \"[365, dynamics, powerapps, todays, dynamics365, microsoft, news, thanks, cio, msdyn365]\", NaN], [30, 6699, \"30_billion_manufacturing_tesla_market\", \"[billion, manufacturing, tesla, market, autoindustry, million, supplychain, ev, year, electric]\", NaN], [31, 7647, \"31_mypov_thats_superbowl_time\", \"[mypov, thats, superbowl, time, guy, oh, haha, im, havent, good]\", NaN], [32, 6115, \"32_leadership_katenasser_leaders_tysm\", \"[leadership, katenasser, leaders, tysm, gallagher, leadmorale, 10am, change, peter, host]\", NaN], [33, 4009, \"33_indiaenergyweek_philipvollet_spread_project\", \"[indiaenergyweek, philipvollet, spread, project, drop, message, roadtonetzero, future, 2023, open]\", NaN], [34, 5830, \"34_epoch_validation_model_data\", \"[epoch, validation, model, data, set, tomgoldsteincs, performance, test, regular, point]\", NaN], [35, 5833, \"35_neural_deeplearn007_deeplearning_ahier\", \"[neural, deeplearn007, deeplearning, ahier, cc, jblefevre60, machinelearning, deep, learning, ai]\", NaN], [36, 7153, \"36_peopleskillschat_smoiz_mypov_pst\", \"[peopleskillschat, smoiz, mypov, pst, tomjrhodes, rt, july, elonmusk, yes, df22]\", NaN], [37, 4752, \"37_cybersecurity_security_health_httpstcotis4ukobgr\", \"[cybersecurity, security, health, httpstcotis4ukobgr, mental, teenage, zdnet, helps, remotework, app]\", NaN], [38, 7743, \"38_3d_transportation_gigadgets_innovation\", \"[3d, transportation, gigadgets, innovation, mashable, cheddar, printed, 3dprinting, newmaterials, gadgets]\", NaN], [39, 6344, \"39_twitter_socialmedia_media_facebook\", \"[twitter, socialmedia, media, facebook, fb, social, httpstcomuygmnlcwl, trump, rico, puerto]\", NaN], [40, 11390, \"40_deeplearning_datascientists_algorithms_datascience\", \"[deeplearning, datascientists, algorithms, datascience, neuralnetworks, machinelearning, mathematics, statistics, bigdata, coding]\", NaN], [41, 3826, \"41_marketing_content_customer_data\", \"[marketing, content, customer, data, b2b, cx, customers, survey, digitalmarketing, sales]\", NaN], [42, 10446, \"42_change_leadershipofchange_changemanagement_management\", \"[change, leadershipofchange, changemanagement, management, leadership, organisational, adoption, implementation, knowledge, behaviour]\", NaN], [43, 5193, \"43_top10contributors_tweetbinder_impressions_stats\", \"[top10contributors, tweetbinder, impressions, stats, generating, tweets, received, pictured, seen, users]\", NaN], [44, 4549, \"44_ich_luogl_olsun_istniec\", \"[ich, luogl, olsun, istniec, mnie, polska, ama, starknight, genderneutral, bir]\", NaN], [45, 5075, \"45_customer_customers_customerservice_cx\", \"[customer, customers, customerservice, cx, custserv, service, email, customerexperience, trust, want]\", NaN], [46, 5342, \"46_robotics_robot_robots_biomimicry\", \"[robotics, robot, robots, biomimicry, robotic, mashable, engineering, inspired, pigeons, seeker]\", NaN], [47, 8818, \"47_people_dont_power_peopleskillschat\", \"[people, dont, power, peopleskillschat, saying, parents, right, children, sentence, just]\", NaN], [48, 6238, \"48_transformation_digital_digitaltransformation_business\", \"[transformation, digital, digitaltransformation, business, partnership, qfcra, peninsula, accelerate, customer, expands]\", NaN], [49, 5428, \"49_covid19_covid_coronavirus_vaccine\", \"[covid19, covid, coronavirus, vaccine, omicron, pandemic, vaccines, coronavirusoutbreak, coronaviruspandemic, vaccination]\", NaN], [50, 8520, \"50_ar15_thank_congratulations_jennysuedempsey\", \"[ar15, thank, congratulations, jennysuedempsey, great, jtwatkin, congrats, jimmarous, leslieo, love]\", NaN], [51, 6637, \"51_revenue_stock_fund_earnings\", \"[revenue, stock, fund, earnings, valuation, billion, fintech, million, startups, investors]\", NaN], [52, 11037, \"52_wow_thats_oh_haha\", \"[wow, thats, oh, haha, im, love, lol, yes, thank, hilarious]\", NaN], [53, 5179, \"53_transformation_businesstransformation_digitaltransformation_digitalstrategy\", \"[transformation, businesstransformation, digitaltransformation, digitalstrategy, digital, cio, technology, httpstco1s1gi32cuc, innovation, guided]\", NaN], [54, 6500, \"54_bourke_2bonair_stepien_httpstcowftekqa8es\", \"[bourke, 2bonair, stepien, httpstcowftekqa8es, 570news, httpstcon5cxwxogjy, techspotlight, kitchener, terry, recording]\", NaN], [55, 6959, \"55_cloud_data_lowcode_cio\", \"[cloud, data, lowcode, cio, software, analytics, softdev, development, dvellante, insights]\", NaN], [56, 6577, \"56_cx_journey_customerexperience_experience\", \"[cx, journey, customerexperience, experience, customer, employeeexperience, customerservice, customerunderstanding, employee, feedback]\", NaN], [57, 4104, \"57_cybersecurity_tech_cio_futureofwork\", \"[cybersecurity, tech, cio, futureofwork, optimization, vr, thanks, technology, ar, todays]\", NaN], [58, 5163, \"58_dear_mwc2023_sharing_mention\", \"[dear, mwc2023, sharing, mention, ces, thank, glengilmore, ces2023, curieuxexplorer, flutter]\", NaN], [59, 4478, \"59_pawlowskimario_gvalan_ai_kalydeoo\", \"[pawlowskimario, gvalan, ai, kalydeoo, mvollmer1, diioannid, ipfconline1, aiio, spirosmargaris, ym78200]\", NaN], [60, 5087, \"60_forbes_ethics_ai_artificialintelligence\", \"[forbes, ethics, ai, artificialintelligence, ethical, futurism, human, humanity, intelligence, bias]\", NaN], [61, 4352, \"61_artificial_intelligence_read_market\", \"[artificial, intelligence, read, market, artificialintelligence, nlp, finance, deeplearning, robots, 100daysofcode]\", NaN], [62, 5955, \"62_remote_remotework_vr_office\", \"[remote, remotework, vr, office, oldies, desk, room, virtual, chair, httpstcoyiokygolkg]\", NaN], [63, 6579, \"63_socialmedia_twitter_facebook_influencers\", \"[socialmedia, twitter, facebook, influencers, politics, cnbc, users, elonmusk, forbes, elon]\", NaN], [64, 12269, \"64_yep_thats_good_lol\", \"[yep, thats, good, lol, oh, did, yes, profgalloway, haha, twitter]\", NaN], [65, 5994, \"65_crypto_cryptocurrency_cybersecurity_fintech\", \"[crypto, cryptocurrency, cybersecurity, fintech, hackers, forbes, socialmedia, facebook, privacy, google]\", NaN], [66, 5477, \"66_womenintech_stem_education_futureofwork\", \"[womenintech, stem, education, futureofwork, futurefacts, stevejobs, anticipatoryleader, women, anticipatoryorganization, disruptiveinnovation]\", NaN], [67, 7481, \"67_peopleskillschat_people_skills_quotes\", \"[peopleskillschat, people, skills, quotes, empathy, life, rt, nasser, coach, peopleskills]\", NaN], [68, 9882, \"68_deeplearning_machinelearning_deeplearn007_ai\", \"[deeplearning, machinelearning, deeplearn007, ai, cc, intelligence, learning, ahier, artificial, jblefevre60]\", NaN], [69, 5561, \"69_lowcode_computer_httpstcohvk3lxikky_httpstcodrbau3cbok\", \"[lowcode, computer, httpstcohvk3lxikky, httpstcodrbau3cbok, ev, autoindustry, development, softdev, automobileindustry, drives]\", NaN], [70, 6643, \"70_underwriter_canadian_insurance_claims\", \"[underwriter, canadian, insurance, claims, insurtech, triage, futureofclaims, httpstcocmrmun8jbb, ipa, entitled]\", NaN], [71, 5968, \"71_ai_business_artificial_intelligence\", \"[ai, business, artificial, intelligence, ml, artificialintelligence, aiio, nlu, venturebeat, digitaltransformation]\", NaN], [72, 6893, \"72_wednesdaythoughts_wednesdaymotivation_saturdaymorning_httpstcossvgnaidlx\", \"[wednesdaythoughts, wednesdaymotivation, saturdaymorning, httpstcossvgnaidlx, tomlandry, peopleskillschat, champion, quotes, caturday, thursdayvibes]\", NaN], [73, 4361, \"73_automation_smartfactory_insurance_intelligent\", \"[automation, smartfactory, insurance, intelligent, industry40, digitaltransformation, manufacturing, insurtech, rokautomation, compliance]\", NaN], [74, 6339, \"74_peopleskillschat_rt_llake_join\", \"[peopleskillschat, rt, llake, join, chat, a2, topic, conversation, weekly, soulnestingchat]\", NaN], [75, 5158, \"75_httpstcoqniakgimzu_firm_customers_degree\", \"[httpstcoqniakgimzu, firm, customers, degree, informed, httpstcouwmmsmbfk2, discussions, customerexperience, 360, competitive]\", NaN], [76, 6850, \"76_environment_climate_economic_forum\", \"[environment, climate, economic, forum, climatechange, world, wef, pollution, energy, poverty]\", NaN], [77, 10394, \"77_enricomolinari_frronconi_margaretsiegien_dear\", \"[enricomolinari, frronconi, margaretsiegien, dear, fabriziobustama, nicochan33, baskila, pawlowskimario, ragusosergio, hanaelsayyed]\", NaN], [78, 5063, \"78_drone_drones_engineering_interesting\", \"[drone, drones, engineering, interesting, howthingswork, gigadgets, robotics, whatsnext, autoindustry, gadgets]\", NaN], [79, 5953, \"79_ai_healthcare_ethics_cybersecurity\", \"[ai, healthcare, ethics, cybersecurity, healthtech, insurance, cc, digitaltransformation, aiethics, artificialintelligence]\", NaN], [80, 6967, \"80_people_vaccine_mypov_dont\", \"[people, vaccine, mypov, dont, state, vaccines, gun, gop, vaccinated, said]\", NaN], [81, 4567, \"81_leimer_davidjmaireles_finteched_efipm\", \"[leimer, davidjmaireles, finteched, efipm, spirosmargaris, barbfriedberg, elonmusk, unconventionvc, thank, amerbanker]\", NaN], [82, 4399, \"82_contactcenter_remotework_httpstcoyf3skr1m4b_httpstco7qsohf4itq\", \"[contactcenter, remotework, httpstcoyf3skr1m4b, httpstco7qsohf4itq, teams, cctr, contact, httpstcoeyj1dualdk, functional, securing]\", NaN], [83, 5125, \"83_oldies_employee_experience_irritant\", \"[oldies, employee, experience, irritant, work, cx, employeeexperience, employees, relationships, success]\", NaN], [84, 6081, \"84_wordle_le_56_water\", \"[wordle, le, 56, water, genie, invade, pole, 46, china, karen]\", NaN], [85, 5871, \"85_climatechange_environment_climate_ukraine\", \"[climatechange, environment, climate, ukraine, world, forum, economic, war, futurism, fight]\", NaN], [86, 4944, \"86_sold_pay_apple_amazon\", \"[sold, pay, apple, amazon, ads, money, mypov, paid, fedex, stores]\", NaN], [87, 4462, \"87_artificialintelligence_ai_nlp_intelligence\", \"[artificialintelligence, ai, nlp, intelligence, read, artificial, bigdata, datascience, machinelearning, deeplearning]\", NaN], [88, 5225, \"88_quarantine_thingstodo_coronavirus_number\", \"[quarantine, thingstodo, coronavirus, number, gadgets, cheddar, covid19, gigadgets, face, lego]\", NaN], [89, 8763, \"89_environment_energy_economic_forum\", \"[environment, energy, economic, forum, sustainability, climatechange, world, wind, wef, solar]\", NaN], [90, 7550, \"90_true_right_just_wow\", \"[true, right, just, wow, twitter, did, agree, tweet, elonmusk, know]\", NaN], [91, 5893, \"91_verge_stories_apple_tv\", \"[verge, stories, apple, tv, streaming, content, google, ads, nft, search]\", NaN], [92, 7045, \"92_security_iot_iotcommunity_iotpractioner\", \"[security, iot, iotcommunity, iotpractioner, iotcl, iotchannel, iotpl, ccronaldvanloon, devices, cybersecurity]\", NaN], [93, 12438, \"93_jeancayeux_rldilamy_tobiaskintzel_enilev\", \"[jeancayeux, rldilamy, tobiaskintzel, enilev, nicochan33, smaksked, curieuxexplorer, analytics699, vanivina9, labordeolivier]\", NaN], [94, 4030, \"94_ai_machinelearning_cc_modelopco\", \"[ai, machinelearning, cc, modelopco, datascience, kirkdborne, ahier, deeplearn007, fisher85m, jblefevre60]\", NaN], [95, 4580, \"95_data_cloud_transformation_cio\", \"[data, cloud, transformation, cio, analytics, digitaltransformation, hyland, computing, digital, cloudcomputing]\", NaN], [96, 5360, \"96_edgecomputing_iotpl_industry40_edge\", \"[edgecomputing, iotpl, industry40, edge, iotcommunity, iiot, iot, digitaltwins, observability, iotcl]\", NaN], [97, 5258, \"97_crossfunctional_teams_httpstcoyme1keaxrx_imperative\", \"[crossfunctional, teams, httpstcoyme1keaxrx, imperative, agile, cio, ccpaulapiccard, careers, remotework, futureofwork]\", NaN], [98, 6325, \"98_manufacturing_gigadgets_agtech_innovation\", \"[manufacturing, gigadgets, agtech, innovation, additive, automation, production, ev, water, automobileindustry]\", NaN], [99, 6143, \"99_privacy_data_cybersecurity_breach\", \"[privacy, data, cybersecurity, breach, mobile, phone, apps, technology, security, usa]\", NaN], [100, 7245, \"100_vehicle_creak_hetchins_fixie\", \"[vehicle, creak, hetchins, fixie, teeth, hands, trip, light, car, thing]\", NaN], [101, 5962, \"101_twitter_socialmedia_tweet_engadget\", \"[twitter, socialmedia, tweet, engadget, tweets, ukraine, elonmusk, account, war, sportstech]\", NaN], [102, 6977, \"102_womenshistorymonth_100_women_year\", \"[womenshistorymonth, 100, women, year, time, quotes, inspiration, gerd, blackhistorymonth, leonhard]\", NaN], [103, 7335, \"103_gadgets_gigadgets_cheddar_bike\", \"[gadgets, gigadgets, cheddar, bike, autoindustry, innovation, automobileindustry, ev, office, concept]\", NaN], [104, 7823, \"104_ev_car_tesla_raises\", \"[ev, car, tesla, raises, price, retail, series, motors, autoindustry, hyperloops]\", NaN], [105, 5598, \"105_training_models_transformer_code\", \"[training, models, transformer, code, model, tutorial, text, deeplearn007, cc, using]\", NaN], [106, 5268, \"106_ukraine_war_socialmedia_russia\", \"[ukraine, war, socialmedia, russia, publicsafety, usa, futurism, privacy, facialrecognition, politics]\", NaN], [107, 5643, \"107_peopleskillschat_rt_a1_respect\", \"[peopleskillschat, rt, a1, respect, empathy, bullying, peopleskill, people, jkatzaman, trust]\", NaN], [108, 5926, \"108_join_thank_great_thanks\", \"[join, thank, great, thanks, team, peopleskillschat, happy, forward, enilev, weekly]\", NaN], [109, 6465, \"109_iot_edgecomputing_edge_iiot\", \"[iot, edgecomputing, edge, iiot, iotpl, iotcommunity, digitaltransformation, industry40, cloud, iotcl]\", NaN], [110, 5458, \"110_digitaltransformation_digital_transformation_httpstcoc1nussosro\", \"[digitaltransformation, digital, transformation, httpstcoc1nussosro, technology, healthtech, remotework, road, hyland, barriers]\", NaN], [111, 9050, \"111_thats_dont_like_just\", \"[thats, dont, like, just, think, point, im, doesnt, said, youre]\", NaN], [112, 4723, \"112_datascience_datascientists_dataliteracy_machinelearning\", \"[datascience, datascientists, dataliteracy, machinelearning, data, datastrategy, bigdata, analytics, abdsc, dataleadership]\", NaN], [113, 3892, \"113_margaretsiegien_pawlowskimario_curieuxexplorer_kalydeoo\", \"[margaretsiegien, pawlowskimario, curieuxexplorer, kalydeoo, baskila, mvollmer1, labordeolivier, shi4tech, hanaelsayyed, fogleshane]\", NaN], [114, 4785, \"114_marketing_socialmedia_content_ceo\", \"[marketing, socialmedia, content, ceo, seo, brands, twitter, social, clubhouse, podcast]\", NaN], [115, 6346, \"115_transformation_digital_todays_digitaltransformation\", \"[transformation, digital, todays, digitaltransformation, council, news, forbes, innovation, data, analytics]\", NaN], [116, 5380, \"116_companies_forbes_economic_society\", \"[companies, forbes, economic, society, manufacturing, world, social, genz, health, recyling]\", NaN], [117, 7220, \"117_socialmedia_facebook_media_social\", \"[socialmedia, facebook, media, social, politics, misinformation, truth, forbes, twitter, trump]\", NaN], [118, 5305, \"118_futureofwork_forbes_innovation_business\", \"[futureofwork, forbes, innovation, business, womenintech, future, ceo, success, women, value]\", NaN], [119, 3869, \"119_password_case_mypov_flight\", \"[password, case, mypov, flight, barrysbootcamp, sophie, sophiealcorn, try, jtwatkin, solve]\", NaN], [120, 4160, \"120_data2decisions_bigdata_analytics_latest\", \"[data2decisions, bigdata, analytics, latest, thanks, data, daily, billfranksga, datascience, cloud]\", NaN], [121, 3452, \"121_cybersecurity_tech_chatgpt_chatbots\", \"[cybersecurity, tech, chatgpt, chatbots, ceo, womenintech, amp, leaders, careers, women]\", NaN], [122, 3401, \"122_data_fraud_million_insurance\", \"[data, fraud, million, insurance, breach, raises, modelopco, databreach, intels, httpstcoyffz7rqfci]\", NaN], [123, 7843, \"123_thanks_amazing_happy_podcast\", \"[thanks, amazing, happy, podcast, love, thank, great, fun, nice, live]\", NaN], [124, 8320, \"124_5g_ccronaldvanloon_network_security\", \"[5g, ccronaldvanloon, network, security, mobile, wireless, galaxy, samsung, ccmarcguberti, networks]\", NaN], [125, 5659, \"125_guilty_pay_ads_think\", \"[guilty, pay, ads, think, like, agree, people, thats, say, does]\", NaN], [126, 8438, \"126_christmas_oldies_dog_moon\", \"[christmas, oldies, dog, moon, earth, video, movie, happy, disney, like]\", NaN], [127, 5879, \"127_ai_healthtech_robots_robotics\", \"[ai, healthtech, robots, robotics, tt, humans, artificialintelligence, cc, cancer, httpstcostqoco3zqk]\", NaN], [128, 8686, \"128_datascience_machinelearning_datascientists_python\", \"[datascience, machinelearning, datascientists, python, abdsc, mathematics, book, coding, pdf, statistics]\", NaN], [129, 8560, \"129_robotics_robot_biomimicry_mashable\", \"[robotics, robot, biomimicry, mashable, engineering, interesting, robotic, seeker, av, drone]\", NaN], [130, 7396, \"130_raises_retail_valuation_ecommerce\", \"[raises, retail, valuation, ecommerce, bayareawriter, startup, revenue, payments, sales, buy]\", NaN], [131, 4446, \"131_cloud_network_platform_multicloud\", \"[cloud, network, platform, multicloud, data, 5g, storage, fredericl, networking, code]\", NaN], [132, 11419, \"132_thank_thanks_dear_sharing\", \"[thank, thanks, dear, sharing, fyi, joinengatica, mercerus, futurework, ha, barbmaclean]\", NaN], [133, 4070, \"133_robes_httpstcoftvfcraufp_monks_thailand\", \"[robes, httpstcoftvfcraufp, monks, thailand, relire, junk, refuser, httpstcolknefhmt8r, sattaquer, parfois]\", NaN], [134, 6693, \"134_leadership_culture_leaders_futureofwork\", \"[leadership, culture, leaders, futureofwork, work, management, employees, success, entrepreneurship, talent]\", NaN], [135, 12001, \"135_thank_thanks_love_mercer\", \"[thank, thanks, love, mercer, awesome, great, wow, resharing, retweet, sharing]\", NaN], [136, 4854, \"136_lowcode_softdev_nocode_api\", \"[lowcode, softdev, nocode, api, cloud, platform, expeflow, httpstcogukqbn3dve, webinars, examination]\", NaN], [137, 6402, \"137_book_time_audio_story\", \"[book, time, audio, story, just, like, feel, original, caged, moment]\", NaN], [138, 4813, \"138_remote_workflow_efficiency_remotework\", \"[remote, workflow, efficiency, remotework, httpstcosu68dl6pt1, worried, expeflow, maintaining, consistency, delivers]\", NaN], [139, 4201, \"139_pallette_micro_business_saskatchewans\", \"[pallette, micro, business, saskatchewans, httpstcoejltsuhbif, httpstcor0dlytdg6h, upskill, paletteskills, talent, skills]\", NaN], [140, 5686, \"140_healthtech_ai_artificial_intelligence\", \"[healthtech, ai, artificial, intelligence, cancer, predict, deeplearning, nlp, detect, artificialintelligence]\", NaN], [141, 6648, \"141_robot_robotics_mi_ronaldvanloon\", \"[robot, robotics, mi, ronaldvanloon, mvollmer1, artificialintelligence, pbalakrishnarao, pawlowskimario, gvalan, cc]\", NaN], [142, 5788, \"142_banking_fintech_growth_forbes\", \"[banking, fintech, growth, forbes, finserv, finance, companies, economy, tech, market]\", NaN], [143, 5358, \"143_learning_data_model_blogathon\", \"[learning, data, model, blogathon, training, science, introduction, models, published, ml]\", NaN], [144, 5534, \"144_iotcommunity_iotpractioner_iotcl_iotchannel\", \"[iotcommunity, iotpractioner, iotcl, iotchannel, iot, iotpl, iiot, manufacturing, industry40, industrial]\", NaN], [145, 5993, \"145_twitter_mypov_tweets_nthbnagc\", \"[twitter, mypov, tweets, nthbnagc, disfolddotcom, foxbusiness, retweet, tmobile, thank, awscloud]\", NaN], [146, 4835, \"146_publicsafety_gigadgets_drone_technology\", \"[publicsafety, gigadgets, drone, technology, whatsnext, healthtech, howthingswork, futurism, police, fires]\", NaN], [147, 7821, \"147_machine_daily_artificialintelligence_machinelearning\", \"[machine, daily, artificialintelligence, machinelearning, ai, todays, learning, thanks, rwang0, news]\", NaN], [148, 4696, \"148_pandemic_covid19_covid_postpandemic\", \"[pandemic, covid19, covid, postpandemic, futureofwork, remotework, cio, healthcare, work, insurance]\", NaN], [149, 3918, \"149_bir_bu_ve_da\", \"[bir, bu, ve, da, iin, daha, ok, en, ama, var]\", NaN], [150, 4422, \"150_payments_p2p_partners_mypov\", \"[payments, p2p, partners, mypov, customers, sap, dhinchcliffe, dvellante, companies, ecommerce]\", NaN], [151, 6245, \"151_leadership_employees_employeeexperience_management\", \"[leadership, employees, employeeexperience, management, change, employee, work, culture, agile, responsibilities]\", NaN], [152, 5122, \"152_privacy_app_apple_data\", \"[privacy, app, apple, data, torrentfreak, iphone, says, security, users, breach]\", NaN], [153, 4645, \"153_bigdata_mi_blockchain_artificialintelligence\", \"[bigdata, mi, blockchain, artificialintelligence, datascience, iot, machinelearning, ai, ml, analytics]\", NaN], [154, 4715, \"154_kalydeoo_hanaelsayyed_sdgs_shi4tech\", \"[kalydeoo, hanaelsayyed, sdgs, shi4tech, fabriziobustama, baskila, labordeolivier, pawlowskimario, curieuxexplorer, sustainability]\", NaN], [155, 5708, \"155_iotcommunity_iotchannel_iotslam_iotpractitioner\", \"[iotcommunity, iotchannel, iotslam, iotpractitioner, iotpl, iotcl, congratulations, iiot, iotpremierleague, edgecomputing]\", NaN], [156, 6948, \"156_app_sarahintampa_android_ios\", \"[app, sarahintampa, android, ios, apple, spotify, screen, audio, instagram, iphone]\", NaN], [157, 5127, \"157_blockchain_insurance_insurtech_supplychain\", \"[blockchain, insurance, insurtech, supplychain, fintech, security, cloud, digital, manufacturing, cybersecurity]\", NaN], [158, 5163, \"158_autoindustry_automobileindustry_ev_tesla\", \"[autoindustry, automobileindustry, ev, tesla, electric, whosnext, gigadgets, mashable, innovation, whatsnext]\", NaN], [159, 9261, \"159_disruptv_vimeo_episode_uploaded\", \"[disruptv, vimeo, episode, uploaded, added, featuring, just, mypov, svlife, cosmetic]\", NaN], [160, 8974, \"160_nlp_artificialintelligence_artificial_intelligence\", \"[nlp, artificialintelligence, artificial, intelligence, robots, deeplearning, read, 100daysofcode, bigdata, python]\", NaN], [161, 11561, \"161_happy_thank_great_thanks\", \"[happy, thank, great, thanks, birthday, sharing, im, love, amazing, day]\", NaN], [162, 5852, \"162_digital_banking_digitaltransformation_tech\", \"[digital, banking, digitaltransformation, tech, firms, companies, insurance, softdev, google, httpstcouref8k1uy7]\", NaN], [163, 7300, \"163_technology_whatsnext_mobile_apple\", \"[technology, whatsnext, mobile, apple, iphone, throwbackthursday, phone, computer, augmentedreality, vr]\", NaN], [164, 4469, \"164_cx_customer_customerexperience_customers\", \"[cx, customer, customerexperience, customers, experience, brand, marketing, customerservice, journey, brands]\", NaN], [165, 4712, \"165_business_growth_customers_companies\", \"[business, growth, customers, companies, customer, company, entrepreneurship, strategy, cx, customerexperience]\", NaN], [166, 5937, \"166_email_mypov_try_thanks\", \"[email, mypov, try, thanks, feedback, profgalloway, leslieo, yep, jennysuedempsey, imaguruby]\", NaN], [167, 4570, \"167_work_workweek_projects_education\", \"[work, workweek, projects, education, httpstcovyyb0knze6, germinate, stem, groceries, ideas, kids]\", NaN], [168, 7090, \"168_environment_forum_economic_energy\", \"[environment, forum, economic, energy, world, pollution, wef, solar, power, trees]\", NaN], [169, 7052, \"169_cybersecurity_breach_ransomware_databreach\", \"[cybersecurity, breach, ransomware, databreach, hackers, data, cybercrime, cyber, zdnet, today]\", NaN], [170, 6379, \"170_av_selfdriving_car_autoindustry\", \"[av, selfdriving, car, autoindustry, brain, healthtech, technology, device, smart, powerful]\", NaN], [171, 4722, \"171_leadership_leaders_leadmorale_quotes\", \"[leadership, leaders, leadmorale, quotes, peopleskillschat, katenasser, httpstcopiy9czemks, peopleskills, toxic, httpstcoj5sfoumhfz]\", NaN], [172, 5244, \"172_5g_wireless_ccronaldvanloon_network\", \"[5g, wireless, ccronaldvanloon, network, tmobile, ericsson, communications, mobile, telco, security]\", NaN], [173, 4589, \"173_efipm_dear_betamoroney_ralexjimenez\", \"[efipm, dear, betamoroney, ralexjimenez, visiblebanking, xbond49, share, richardturrin, mikeflache, evasmartai]\", NaN], [174, 7540, \"174_captionthis_ukraine_history_nasa\", \"[captionthis, ukraine, history, nasa, war, mars, space, mountains, caturday, throwbackthursday]\", NaN], [175, 5385, \"175_cryptocurrency_crypto_bitcoin_fintech\", \"[cryptocurrency, crypto, bitcoin, fintech, scam, cryptocurrencies, cnbc, billion, futurism, forum]\", NaN], [176, 6172, \"176_fintech_regtech_regulation_todays\", \"[fintech, regtech, regulation, todays, news, thanks, amp, blockchain, innovation, forbes]\", NaN], [177, 5801, \"177_market_5g_iot_size\", \"[market, 5g, iot, size, growth, ccronaldvanloon, corporation, forecast, analysis, global]\", NaN], [178, 4386, \"178_digitalbiz_digitaltransformation_transformation_digital\", \"[digitalbiz, digitaltransformation, transformation, digital, disruption, observer, pakistan, aiou, httpstcogl9b4smtft, celebrates]\", NaN], [179, 4773, \"179_robotics_automation_cc_robotic\", \"[robotics, automation, cc, robotic, robots, artificialintelligence, robot, techxplorecom, ai, autonomous]\", NaN], [180, 4369, \"180_adipecofficial_adnocgroup_futureofenergy_oilandgas40\", \"[adipecofficial, adnocgroup, futureofenergy, oilandgas40, oilandgas, adipec2022, energy, indiaenergyweek, sustainability, speaker]\", NaN], [181, 5055, \"181_mypov_vgazza_dionlisle_flight\", \"[mypov, vgazza, dionlisle, flight, united, did, alaricaloor, urvashiprakash, lax, tiersky]\", NaN], [182, 6029, \"182_crypto_cryptocurrency_bitcoin_inflation\", \"[crypto, cryptocurrency, bitcoin, inflation, cnbc, stock, mypov, fintech, million, stocks]\", NaN], [183, 3886, \"183_ai_robotics_brain_httpstcoqjomo3sey2\", \"[ai, robotics, brain, httpstcoqjomo3sey2, electronically, imaged, technology, robots, aipowered, neurons]\", NaN], [184, 5866, \"184_innovation_technology_future_trends\", \"[innovation, technology, future, trends, tech, futureofwork, ces2023, 2022, technologies, gigadgets]\", NaN], [185, 5797, \"185_relire_employ_lexprience_le\", \"[relire, employ, lexprience, le, les, une, pas, tltravail, du, la]\", NaN], [186, 6699, \"186_robotics_robots_automation_autonomous\", \"[robotics, robots, automation, autonomous, whosnext, av, warehouse, mashable, robot, autoindustry]\", NaN], [187, 7631, \"187_chidambara09_thank_dear_resharing\", \"[chidambara09, thank, dear, resharing, kindly, jeancayeux, jean, welcome, ha, elikrumova]\", NaN], [188, 4705, \"188_podcast_book_interview_excited\", \"[podcast, book, interview, excited, cx, attend, list, fitness, writing, customerexperience]\", NaN], [189, 6389, \"189_claims_expeflow_processing_futureofclaims\", \"[claims, expeflow, processing, futureofclaims, looking, insurance, workflow, demo, expeflows, insurtech]\", NaN], [190, 5520, \"190_forbes_ai_artificialintelligence_industry\", \"[forbes, ai, artificialintelligence, industry, world, httpstcozivg4hb09f, httpstcodrltkfawqa, future, economic, womenintech]\", NaN], [191, 5947, \"191_expeflow_httpstcogukqbn3dve_httpstco9om47dog4e_webinars\", \"[expeflow, httpstcogukqbn3dve, httpstco9om47dog4e, webinars, convenience, servicenow, digitally, accelerator, extra, touch]\", NaN], [192, 5609, \"192_covid19_covid_coronavirus_coronavirusoutbreak\", \"[covid19, covid, coronavirus, coronavirusoutbreak, coronaviruspandemic, pandemic, vaccine, health, insurance, virus]\", NaN], [193, 8071, \"193_spacecraft_space_nasawebb_telescope\", \"[spacecraft, space, nasawebb, telescope, unfoldtheuniverse, spacestation, rocket, nasa, launch, mission]\", NaN], [194, 5632, \"194_margaretsiegien_neeraj_hanaelsayyed_curieuxexplorer\", \"[margaretsiegien, neeraj, hanaelsayyed, curieuxexplorer, motoclark, alli, nevillegaunt, eat, baskila, athletics]\", NaN], [195, 4026, \"195_quantum_computing_quantumcomputing_latest\", \"[quantum, computing, quantumcomputing, latest, thanks, optimization, 2022, innovation, tech, hardtrends]\", NaN], [196, 4991, \"196_join_ceo_disruptvshow_valaafshar\", \"[join, ceo, disruptvshow, valaafshar, mypov, disruptv, pm, interviews, congrats, et]\", NaN], [197, 4949, \"197_join_future_latest_work\", \"[join, future, latest, work, tech, technology, 2021, event, keynote, thanks]\", NaN], [198, 6426, \"198_iiot_datascience_bigdata_iotpl\", \"[iiot, datascience, bigdata, iotpl, analytics, rstats, programming, serverless, machinelearning, python]\", NaN], [199, 3311, \"199_magicveronique_nicoleperry_cagzy86_danhud\", \"[magicveronique, nicoleperry, cagzy86, danhud, whoop, benhw, bshrivastav, btrsofficial, davidrkirk, iamsymsie]\", NaN]];\n",
       "        // Display the table\n",
       "        $(document).ready(function () {\n",
       "            window.dataTablePromise.then(() => {\n",
       "                // Define the dt_args\n",
       "                let dt_args = {\"order\": []};\n",
       "                dt_args[\"data\"] = data;\n",
       "\n",
       "                \n",
       "                $('#aef9526a-4406-4aa6-9af7-68b5d0195ac4').DataTable(dt_args);\n",
       "            });\n",
       "        })\n",
       "    }\n",
       "</script>\n",
       "</div>\n"
      ],
      "text/plain": [
       "<IPython.core.display.HTML object>"
      ]
     },
     "metadata": {},
     "output_type": "display_data"
    }
   ],
   "source": [
    "from itables import init_notebook_mode, show\n",
    "#init_notebook_mode(all_interactive=True)\n",
    "\n",
    "topic_info = topic_model.get_topic_info()\n",
    "show(topic_info)"
   ]
  },
  {
   "attachments": {},
   "cell_type": "markdown",
   "metadata": {},
   "source": [
    "# Validation"
   ]
  },
  {
   "cell_type": "code",
   "execution_count": 19,
   "metadata": {},
   "outputs": [
    {
     "name": "stdout",
     "output_type": "stream",
     "text": [
      "coherence= 0.6198733314829051\n"
     ]
    }
   ],
   "source": [
    "import os\n",
    "os.environ['TOKENIZERS_PARALLELISM'] = 'true'\n",
    "\n",
    "from gensim.models.coherencemodel import CoherenceModel\n",
    "from gensim import corpora\n",
    "\n",
    "# Extract vectorizer and analyzer from BERTopic\n",
    "vectorizer = topic_model.vectorizer_model\n",
    "analyzer = vectorizer.build_analyzer()\n",
    "\n",
    "# Extract features for Topic Coherence evaluation\n",
    "words = vectorizer.get_feature_names_out()\n",
    "docs_tokenized = [analyzer(doc) for doc in docs]\n",
    "docs_tokenized = [d for d in docs_tokenized if len(d)>0]\n",
    "dictionary = corpora.Dictionary(docs_tokenized)\n",
    "topic_words = [[words for words, _ in topic_model.get_topic(topic)] \n",
    "               for topic in range(1,len(topic_model.topic_sizes_)-1)]\n",
    "\n",
    "# Evaluate\n",
    "coherence_model = CoherenceModel(topics=topic_words, \n",
    "                                 texts=docs_tokenized,\n",
    "                                 dictionary=dictionary,\n",
    "                                 coherence='c_v')\n",
    "coherence = coherence_model.get_coherence()\n",
    "print('coherence=',coherence)"
   ]
  },
  {
   "cell_type": "code",
   "execution_count": 30,
   "metadata": {},
   "outputs": [
    {
     "name": "stdout",
     "output_type": "stream",
     "text": [
      "coherence= 0.5625459611857069\n"
     ]
    }
   ],
   "source": [
    "print('coherence=',coherence)"
   ]
  },
  {
   "cell_type": "code",
   "execution_count": null,
   "metadata": {},
   "outputs": [],
   "source": []
  },
  {
   "attachments": {},
   "cell_type": "markdown",
   "metadata": {},
   "source": [
    "# Old"
   ]
  },
  {
   "cell_type": "code",
   "execution_count": 4,
   "metadata": {},
   "outputs": [
    {
     "name": "stderr",
     "output_type": "stream",
     "text": [
      "2023-06-10 14:54:46.289291: I tensorflow/core/platform/cpu_feature_guard.cc:182] This TensorFlow binary is optimized to use available CPU instructions in performance-critical operations.\n",
      "To enable the following instructions: AVX2 FMA, in other operations, rebuild TensorFlow with the appropriate compiler flags.\n",
      "2023-06-10 14:54:53.264526: I tensorflow/compiler/xla/stream_executor/cuda/cuda_gpu_executor.cc:996] successful NUMA node read from SysFS had negative value (-1), but there must be at least one NUMA node, so returning NUMA node zero. See more at https://github.com/torvalds/linux/blob/v6.0/Documentation/ABI/testing/sysfs-bus-pci#L344-L355\n",
      "2023-06-10 14:54:53.267158: I tensorflow/compiler/xla/stream_executor/cuda/cuda_gpu_executor.cc:996] successful NUMA node read from SysFS had negative value (-1), but there must be at least one NUMA node, so returning NUMA node zero. See more at https://github.com/torvalds/linux/blob/v6.0/Documentation/ABI/testing/sysfs-bus-pci#L344-L355\n",
      "2023-06-10 14:54:53.268635: I tensorflow/compiler/xla/stream_executor/cuda/cuda_gpu_executor.cc:996] successful NUMA node read from SysFS had negative value (-1), but there must be at least one NUMA node, so returning NUMA node zero. See more at https://github.com/torvalds/linux/blob/v6.0/Documentation/ABI/testing/sysfs-bus-pci#L344-L355\n"
     ]
    }
   ],
   "source": [
    "from bertopic import BERTopic\n",
    "import cuml\n",
    "import umap\n",
    "from sklearn import decomposition\n",
    "\n",
    "umap_model = cuml.UMAP(n_components=5, n_neighbors=5, min_dist=0.0, metric='euclidean', n_epochs=1000)\n",
    "umap_model = decomposition.PCA(n_components=10)\n",
    "hdbscan_model = cuml.HDBSCAN(min_cluster_size=100, gen_min_span_tree=True, prediction_data=True)"
   ]
  },
  {
   "cell_type": "code",
   "execution_count": 82,
   "metadata": {},
   "outputs": [],
   "source": [
    "#umap_model = umap_model.fit(embeds[:100000])\n",
    "#umap_embeds = umap_model.transform(embeds[:100000])\n",
    "\n",
    "embdes_simpler = decomposition.PCA(100).fit_transform(embeds[:200000])"
   ]
  },
  {
   "cell_type": "code",
   "execution_count": 89,
   "metadata": {},
   "outputs": [
    {
     "data": {
      "image/png": "[encoded data removed]",
      "text/plain": [
       "<Figure size 640x480 with 1 Axes>"
      ]
     },
     "metadata": {},
     "output_type": "display_data"
    }
   ],
   "source": [
    "import matplotlib.pyplot as plt\n",
    "\n",
    "umap_embeds = umap_model.fit_transform(embeds[:200000])\n",
    "plt.scatter(umap_embeds[:,0], umap_embeds[:,1], s=0.1, cmap='Spectral')\n",
    "plt.show()"
   ]
  },
  {
   "cell_type": "code",
   "execution_count": null,
   "metadata": {},
   "outputs": [],
   "source": [
    "f = umap.plot.interactive(embedding, labels=dataset.target, hover_data=hover_df, point_size=1)\n",
    "show(f)"
   ]
  },
  {
   "cell_type": "code",
   "execution_count": 58,
   "metadata": {},
   "outputs": [],
   "source": [
    "#topic_model.umap_model.__dict__"
   ]
  },
  {
   "cell_type": "code",
   "execution_count": 92,
   "metadata": {},
   "outputs": [
    {
     "name": "stderr",
     "output_type": "stream",
     "text": [
      "2023-06-10 13:06:13,191 - BERTopic - Reduced dimensionality\n",
      "2023-06-10 13:06:47,924 - BERTopic - Clustered reduced embeddings\n",
      "2023-06-10 13:07:08,483 - BERTopic - Reduced number of topics from 14 to 14\n"
     ]
    },
    {
     "data": {
      "text/plain": [
       "<bertopic._bertopic.BERTopic at 0x7f36f81a3f70>"
      ]
     },
     "execution_count": 92,
     "metadata": {},
     "output_type": "execute_result"
    }
   ],
   "source": [
    "import os\n",
    "os.environ['TOKENIZERS_PARALLELISM'] = \"true\"\n",
    "from bertopic import BERTopic\n",
    "\n",
    "topic_model = BERTopic(\n",
    "    min_topic_size=100, \n",
    "    #umap_model=umap_model,\n",
    "    hdbscan_model=hdbscan_model,\n",
    "    nr_topics=\"auto\", \n",
    "    low_memory=True, \n",
    "    calculate_probabilities=False, \n",
    "    verbose=True\n",
    ")\n",
    "\n",
    "topic_model.fit(docs[:200000], embeds[:200000])#embeds[:200000])"
   ]
  },
  {
   "cell_type": "code",
   "execution_count": 16,
   "metadata": {},
   "outputs": [
    {
     "data": {
      "text/plain": [
       "120"
      ]
     },
     "execution_count": 16,
     "metadata": {},
     "output_type": "execute_result"
    }
   ],
   "source": [
    "len(topic_model.topic_sizes_)\n",
    "#sentence_model.embed_documents"
   ]
  }
 ],
 "metadata": {
  "kernelspec": {
   "display_name": ".venv",
   "language": "python",
   "name": "python3"
  },
  "language_info": {
   "codemirror_mode": {
    "name": "ipython",
    "version": 3
   },
   "file_extension": ".py",
   "mimetype": "text/x-python",
   "name": "python",
   "nbconvert_exporter": "python",
   "pygments_lexer": "ipython3",
   "version": "3.10.10"
  },
  "orig_nbformat": 4,
  "vscode": {
   "interpreter": {
    "hash": "1a76aefe9e343d0dba0df4020dc0e923bce6313f14120863b786151564423534"
   }
  }
 },
 "nbformat": 4,
 "nbformat_minor": 2
}
