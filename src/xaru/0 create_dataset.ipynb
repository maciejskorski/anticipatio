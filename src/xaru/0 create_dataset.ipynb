{
 "cells": [
  {
   "cell_type": "code",
   "execution_count": null,
   "metadata": {},
   "outputs": [],
   "source": [
    "from pathlib import Path\n",
    "import os\n",
    "import pandas as pd\n",
    "import numpy as np\n",
    "\n",
    "repo_path = Path('/home/krajda/anticipatio/')"
   ]
  },
  {
   "cell_type": "code",
   "execution_count": null,
   "metadata": {},
   "outputs": [],
   "source": [
    "def open_fn(f):\n",
    "    try:\n",
    "        return pd.read_csv(f, engine='python')\n",
    "    except:\n",
    "        return pd.DataFrame()\n",
    "\n",
    "tweets = pd.concat([\n",
    "    pd.concat(map(open_fn, Path(repo_path / 'data/futurists_kol/data').rglob('*csv'))), \n",
    "    pd.concat(map(open_fn, Path(repo_path / 'data/futurists_rossdawson/data').rglob('*csv')))\n",
    "])\n",
    "\n",
    "tweets.columns = ['index','user','timestamp','url','txt']\n",
    "tweets.reset_index(drop=True,inplace=True)\n",
    "\n",
    "tweets['txt'] = tweets['txt'].astype(str)\n",
    "tweets['timestamp'] = pd.to_datetime(tweets['timestamp'])\n",
    "tweets = tweets.drop(columns=['index'])\n",
    "\n",
    "tweets = tweets.drop_duplicates(subset=['txt'])"
   ]
  },
  {
   "cell_type": "markdown",
   "metadata": {},
   "source": [
    "# TEXT CLEANING"
   ]
  },
  {
   "cell_type": "code",
   "execution_count": null,
   "metadata": {},
   "outputs": [],
   "source": [
    "import html\n",
    "import re\n",
    "from tqdm import tqdm\n",
    "\n",
    "regexes = [\n",
    "    re.compile(\n",
    "        r\"(https?:\\/\\/(?:www\\.|(?!www))[a-zA-Z0-9][a-zA-Z0-9-]+[a-zA-Z0-9]\\.[^\\s]{2,\"\n",
    "        r\"}|www\\.[a-zA-Z0-9][a-zA-Z0-9-]+[a-zA-Z0-9]\\.[^\\s]{2,}|https?:\\/\\/(?:www\\.|(\"\n",
    "        r\"?!www))[a-zA-Z0-9]+\\.[^\\s]{2,}|www\\.[a-zA-Z0-9]+\\.[^\\s]{2,})\"\n",
    "    ), # URLS\n",
    "    re.compile(r\"\\S*@\\S*\\..\\S*\"), # EMAILS\n",
    "    re.compile(r\"(?<=\\s)(@[\\w\\-\\.]+)(?=[\\:\\,\\.\\!\\?\\s]?)|^(@[\\w\\-\\.]+)(?=[\\:\\,\\.\\!\\?\\s]?)\"), # HANDLES\n",
    "]\n",
    "\n",
    "docs = tweets['txt'].tolist()\n",
    "\n",
    "print('Cleaning tweets... html unescape')\n",
    "docs = [html.unescape(t) for t in tqdm(docs)]\n",
    "\n",
    "for regex in regexes:\n",
    "    print('Cleaning tweets... removing regex #', regexes.index(regex))\n",
    "    docs = [regex.sub('', t) for t in tqdm(docs)]\n",
    "\n",
    "print('Cleaning tweets... removing RTs')\n",
    "docs = [t[4:] if t.startswith('RT :') else t for t in tqdm(docs)]\n",
    "\n",
    "tweets['original_text'] = tweets['txt']\n",
    "tweets['txt'] = docs"
   ]
  },
  {
   "cell_type": "code",
   "execution_count": null,
   "metadata": {},
   "outputs": [],
   "source": [
    "pd.to_pickle(tweets,repo_path / 'data/final.pkl')"
   ]
  }
 ],
 "metadata": {
  "kernelspec": {
   "display_name": "3.9.16",
   "language": "python",
   "name": "python3"
  },
  "language_info": {
   "codemirror_mode": {
    "name": "ipython",
    "version": 3
   },
   "file_extension": ".py",
   "mimetype": "text/x-python",
   "name": "python",
   "nbconvert_exporter": "python",
   "pygments_lexer": "ipython3",
   "version": "3.9.16"
  }
 },
 "nbformat": 4,
 "nbformat_minor": 2
}
