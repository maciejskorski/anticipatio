{
 "cells": [
  {
   "cell_type": "code",
   "execution_count": null,
   "metadata": {},
   "outputs": [],
   "source": [
    "import json as json\n",
    "import pandas as pd\n",
    "from pathlib import Path\n",
    "import en_core_web_sm\n",
    "from tqdm import tqdm \n",
    "\n",
    "repo_path = Path('/home/krajda/anticipatio/')\n",
    "tweets = pd.read_pickle(repo_path / 'data/final.pkl')\n",
    "docs = tweets[\"txt\"].tolist()\n",
    "\n",
    "nlp = en_core_web_sm.load()\n",
    "\n",
    "lemmas = []\n",
    "lemmas_pos = []\n",
    "ents = []\n",
    "ent_types = []\n",
    "\n",
    "with open(repo_path / 'data/lemmas.json', 'w') as f:\n",
    "    lemmas = json.load(f)\n",
    "with open(repo_path / 'data/ents.json', 'w') as f:\n",
    "    ents = json.load(f)\n",
    "with open(repo_path / 'data/ent_types.json', 'w') as f:\n",
    "    ent_types = json.load(f)\n",
    "with open(repo_path / 'data/lemmas_pos.json', 'w') as f:\n",
    "    lemmas_pos = json.load(f)"
   ]
  }
 ],
 "metadata": {
  "language_info": {
   "name": "python"
  }
 },
 "nbformat": 4,
 "nbformat_minor": 2
}
