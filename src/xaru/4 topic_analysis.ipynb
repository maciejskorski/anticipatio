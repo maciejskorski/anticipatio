{
 "cells": [
  {
   "cell_type": "code",
   "execution_count": null,
   "metadata": {},
   "outputs": [],
   "source": [
    "from bertopic import BERTopic\n",
    "import pandas as pd\n",
    "from pathlib import Path\n",
    "\n",
    "repo_path = Path('/home/krajda/anticipatio/')\n",
    "\n",
    "topic_model = BERTopic.load(repo_path / 'models/pca10_kmeans200_cv.pkl')\n",
    "tweets = pd.read_pickle(repo_path / 'data/final.pkl')\n",
    "docs = tweets['txt'].tolist()"
   ]
  },
  {
   "cell_type": "code",
   "execution_count": null,
   "metadata": {},
   "outputs": [],
   "source": [
    "tweets['Topic'] = topic_model.topics_"
   ]
  },
  {
   "cell_type": "code",
   "execution_count": null,
   "metadata": {},
   "outputs": [],
   "source": [
    "tweets.rename(columns={'emotion': 'b24_emotion'}, inplace=True)\n",
    "\n",
    "emotions = pd.read_pickle('/home/krajda/anticipatio/data/emotions.pkl')"
   ]
  },
  {
   "cell_type": "code",
   "execution_count": null,
   "metadata": {},
   "outputs": [],
   "source": [
    "tweets['id'] = tweets.index\n",
    "emotions['id'] = emotions.index\n",
    "\n",
    "tweets = tweets.join(emotions.set_index('id'), on='id')"
   ]
  },
  {
   "cell_type": "code",
   "execution_count": null,
   "metadata": {},
   "outputs": [],
   "source": []
  }
 ],
 "metadata": {
  "kernelspec": {
   "display_name": "3.9.16",
   "language": "python",
   "name": "python3"
  },
  "language_info": {
   "codemirror_mode": {
    "name": "ipython",
    "version": 3
   },
   "file_extension": ".py",
   "mimetype": "text/x-python",
   "name": "python",
   "nbconvert_exporter": "python",
   "pygments_lexer": "ipython3",
   "version": "3.9.16"
  }
 },
 "nbformat": 4,
 "nbformat_minor": 2
}
