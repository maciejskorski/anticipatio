{
    "cells": [
        {
            "cell_type": "code",
            "execution_count": 1,
            "metadata": {},
            "outputs": [],
            "source": [
                "import pandas as pd\n",
                "\n",
                "from pathlib import Path\n",
                "\n",
                "repo_path = Path('/home/krajda/anticipatio/')"
            ]
        },
        {
            "cell_type": "code",
            "execution_count": 2,
            "metadata": {},
            "outputs": [
                {
                    "data": {
                        "text/plain": [
                            "[' Zero.',\n",
                            " ' Any that only needs one world.',\n",
                            " 'The many-worlds interpretation is the most egregious violation of Occam’s razor in history.',\n",
                            " 'The fight over what AIs say and do has just started, and will never end.',\n",
                            " \"A must-read: 's thoughts on a life in probabilistic AI.\\n\",\n",
                            " 'For better or worse, social media is where society decides what to pay attention to.',\n",
                            " \"If everyone who thinks they're the only anti-woke in their organization got together, they'd be the majority.\",\n",
                            " 'What Google is singularly lacking is someone who knows how to play the PR game, like Sam Altman or Demis Hassabis (or Elon Musk or Steve Jobs).',\n",
                            " ' Wokeism is least popular among Gen Z of all age cohorts, according to surveys.',\n",
                            " ' Across the board.']"
                        ]
                    },
                    "execution_count": 2,
                    "metadata": {},
                    "output_type": "execute_result"
                }
            ],
            "source": [
                "tweets = pd.read_pickle(repo_path / 'data/final.pkl')\n",
                "docs = tweets['txt'].tolist()\n",
                "docs[:10    ]"
            ]
        },
        {
            "cell_type": "code",
            "execution_count": 3,
            "metadata": {},
            "outputs": [],
            "source": [
                "doc_topic = pd.read_csv(repo_path / 'data/topics_labels.csv')\n",
                "doc_topic.sort_values('doc_id',inplace=True)\n",
                "tweets['Topic'] = doc_topic['topic'].tolist()\n"
            ]
        },
        {
            "cell_type": "markdown",
            "metadata": {},
            "source": [
                "# EMOTIONS"
            ]
        },
        {
            "cell_type": "code",
            "execution_count": null,
            "metadata": {},
            "outputs": [],
            "source": [
                "emotions = pd.read_pickle(repo_path / 'data/emotions.pkl')"
            ]
        },
        {
            "cell_type": "code",
            "execution_count": null,
            "metadata": {},
            "outputs": [],
            "source": [
                "tweets = tweets.reset_index()\n",
                "tweets['id'] = tweets.index\n",
                "emotions['id'] = emotions.index\n",
                "\n",
                "tweets = tweets.join(emotions.set_index('id'), on='id')"
            ]
        },
        {
            "cell_type": "code",
            "execution_count": null,
            "metadata": {},
            "outputs": [],
            "source": [
                "agg = tweets.groupby('Topic').mean().drop(columns=['id', 'index'])"
            ]
        },
        {
            "cell_type": "code",
            "execution_count": null,
            "metadata": {},
            "outputs": [],
            "source": [
                "agg.to_csv(repo_path / 'data/to_paper/emotions_per_topic.csv')"
            ]
        },
        {
            "cell_type": "markdown",
            "metadata": {},
            "source": [
                "# MOST ANTICIPATED EXAMPLES "
            ]
        },
        {
            "cell_type": "code",
            "execution_count": null,
            "metadata": {},
            "outputs": [],
            "source": [
                "anticipated_representatives = []\n",
                "\n",
                "examples = 20\n",
                "\n",
                "for n in range(100):\n",
                "    x = tweets[tweets['Topic'] == n].nlargest(examples, ['anticipation'])[['anticipation', 'txt']]\n",
                "    \n",
                "    a = x['anticipation'].tolist()\n",
                "    t = x['txt'].tolist()\n",
                "\n",
                "    for i in range(examples):\n",
                "        anticipated_representatives.append({'topic': n, 'anticipation': a[i], 'text': t[i]})\n",
                "    \n",
                "    \n",
                "pd.DataFrame(anticipated_representatives).to_csv(repo_path / 'data/to_paper/anticipated_representatives.csv')"
            ]
        },
        {
            "cell_type": "code",
            "execution_count": null,
            "metadata": {},
            "outputs": [],
            "source": [
                "anticipated_representatives"
            ]
        },
        {
            "cell_type": "code",
            "execution_count": null,
            "metadata": {},
            "outputs": [],
            "source": [
                "tweets['x'] = 1\n",
                "topic_user = tweets[['Topic', 'user', 'x']].groupby(['Topic', 'user'], as_index=False)['x'].count().sort_values(by=['Topic','x'], ascending=False)"
            ]
        },
        {
            "cell_type": "code",
            "execution_count": null,
            "metadata": {},
            "outputs": [],
            "source": []
        },
        {
            "cell_type": "markdown",
            "metadata": {},
            "source": [
                "# KEY OPINION LEADERS"
            ]
        },
        {
            "cell_type": "code",
            "execution_count": null,
            "metadata": {},
            "outputs": [],
            "source": [
                "users_sum = topic_user.groupby('user')['x'].sum().reset_index()\n",
                "users_sum.sort_values(by='x', ascending=False, inplace=True)\n",
                "users_sum"
            ]
        },
        {
            "cell_type": "code",
            "execution_count": null,
            "metadata": {},
            "outputs": [],
            "source": [
                "topic_user['share'] = topic_user.apply(lambda x: x['x'] / users_sum[users_sum['user'] == x['user']]['x'].values[0], axis=1)"
            ]
        },
        {
            "cell_type": "code",
            "execution_count": null,
            "metadata": {},
            "outputs": [],
            "source": [
                "topic_user['user_sum'] = topic_user.apply(lambda x: users_sum[users_sum['user'] == x['user']]['x'].values[0], axis=1)"
            ]
        },
        {
            "cell_type": "code",
            "execution_count": null,
            "metadata": {},
            "outputs": [],
            "source": [
                "topic_user2 = topic_user[topic_user['user_sum'] > 10]\n",
                "\n",
                "tu2 = topic_user2.groupby('user')['share'].max().reset_index().sort_values(by='share', ascending=False)"
            ]
        },
        {
            "cell_type": "code",
            "execution_count": null,
            "metadata": {},
            "outputs": [],
            "source": [
                "topic_user2[topic_user['user'].isin(tu2[tu2['share'] > 0.5]['user'].tolist())].groupby('user').max().sort_values(by='share', ascending=False).to_csv(repo_path / 'data/to_paper/focused_users.csv')"
            ]
        },
        {
            "cell_type": "code",
            "execution_count": null,
            "metadata": {},
            "outputs": [],
            "source": [
                "tu2[tu2['share'] > 0.5]['user'].tolist()"
            ]
        },
        {
            "cell_type": "code",
            "execution_count": null,
            "metadata": {},
            "outputs": [],
            "source": [
                "topic_nums = tweets['Topic'].value_counts().sort_index().tolist()\n",
                "topic_nums"
            ]
        },
        {
            "cell_type": "code",
            "execution_count": null,
            "metadata": {},
            "outputs": [],
            "source": [
                "key_opinion_leaders = []\n",
                "\n",
                "examples = 10\n",
                "\n",
                "for n in [97]:\n",
                "    x = topic_user[topic_user['Topic'] == n].nlargest(examples, ['x'])[['x', 'user']]\n",
                "    \n",
                "    a = x['x'].tolist()\n",
                "    t = x['user'].tolist()\n",
                "\n",
                "    for i in range(examples):\n",
                "        key_opinion_leaders.append(\n",
                "            {\n",
                "                'topic': n, \n",
                "                'user': t[i],\n",
                "                'tweets_count': a[i], \n",
                "                'topic_share': a[i] / topic_nums[n], \n",
                "                'user_share': a[i] / users_sum[users_sum['user'] == t[i]]['x'].values[0]\n",
                "             }\n",
                "            )\n",
                "        \n",
                "pd.DataFrame(key_opinion_leaders).to_csv(repo_path / 'data/to_paper/key_opinion_leaders.csv')\n"
            ]
        },
        {
            "cell_type": "code",
            "execution_count": null,
            "metadata": {},
            "outputs": [],
            "source": [
                "topic_user[topic_user['user'] == '@gp_pulipaka'].sort_values(by='share', ascending=False)"
            ]
        },
        {
            "cell_type": "code",
            "execution_count": null,
            "metadata": {},
            "outputs": [],
            "source": [
                "topic_nums[97]"
            ]
        },
        {
            "cell_type": "code",
            "execution_count": null,
            "metadata": {},
            "outputs": [],
            "source": [
                "a[0]/topic_nums[97]"
            ]
        },
        {
            "cell_type": "markdown",
            "metadata": {},
            "source": [
                "# SENTIMENT"
            ]
        },
        {
            "cell_type": "code",
            "execution_count": null,
            "metadata": {},
            "outputs": [],
            "source": [
                "sentiment = pd.read_csv(repo_path/'data/sentiments.csv')\n",
                "sentiment"
            ]
        },
        {
            "cell_type": "code",
            "execution_count": null,
            "metadata": {},
            "outputs": [],
            "source": [
                "tweets = tweets.reset_index()\n",
                "tweets['id'] = tweets.index\n",
                "sentiment['id'] = sentiment.index\n",
                "\n",
                "tweets = tweets.join(sentiment.set_index('id'), on='id')\n",
                "tweets"
            ]
        },
        {
            "cell_type": "code",
            "execution_count": null,
            "metadata": {},
            "outputs": [],
            "source": [
                "sentiment_stats = tweets.groupby('Topic').mean().drop(columns=['id', 'index', 'level_0'] + emotions.columns.tolist())"
            ]
        },
        {
            "cell_type": "code",
            "execution_count": null,
            "metadata": {},
            "outputs": [],
            "source": [
                "mapp = tweets.groupby('Topic', as_index=False).value_counts(subset=['sentiment_name'])\n",
                "\n",
                "for i in range(100):\n",
                "    sentiment_stats.loc[i, 'Negative'] = mapp[(mapp['Topic'] == i) & (mapp['sentiment_name'] == 'Negative')]['count'].values[0]\n",
                "    sentiment_stats.loc[i, 'Neutral'] = mapp[(mapp['Topic'] == i) & (mapp['sentiment_name'] == 'Neutral')]['count'].values[0]\n",
                "    sentiment_stats.loc[i, 'Positive'] = mapp[(mapp['Topic'] == i) & (mapp['sentiment_name'] == 'Positive')]['count'].values[0]\n",
                "    \n"
            ]
        },
        {
            "cell_type": "code",
            "execution_count": null,
            "metadata": {},
            "outputs": [],
            "source": [
                "sentiment_stats = sentiment_stats.rename(columns={'sentiment':'mean_sentiment'})"
            ]
        },
        {
            "cell_type": "code",
            "execution_count": null,
            "metadata": {},
            "outputs": [],
            "source": [
                "sentiment_stats['emotional_ratio'] = sentiment_stats.apply(lambda x: (x['Positive'] + x['Negative'])/(x['Positive'] + x['Negative'] + x['Neutral']), axis=1)"
            ]
        },
        {
            "cell_type": "code",
            "execution_count": null,
            "metadata": {},
            "outputs": [],
            "source": [
                "sentiment_stats['pos_neg_ratio'] = sentiment_stats.apply(lambda x: (x['Positive'])/(x['Positive'] + x['Negative']), axis=1)"
            ]
        },
        {
            "cell_type": "code",
            "execution_count": null,
            "metadata": {},
            "outputs": [],
            "source": [
                "sentiment_stats['neg_pos_ratio'] = sentiment_stats.apply(lambda x: (x['Negative'])/(x['Positive'] + x['Negative']), axis=1)"
            ]
        },
        {
            "cell_type": "code",
            "execution_count": null,
            "metadata": {},
            "outputs": [],
            "source": [
                "sentiment_stats.to_csv(repo_path/'data/to_paper/sentiment_stats.csv')\n"
            ]
        },
        {
            "cell_type": "code",
            "execution_count": null,
            "metadata": {},
            "outputs": [],
            "source": [
                "sentiment_stats"
            ]
        },
        {
            "cell_type": "markdown",
            "metadata": {},
            "source": [
                "# HASHTAGS"
            ]
        },
        {
            "cell_type": "code",
            "execution_count": 7,
            "metadata": {},
            "outputs": [],
            "source": [
                "def get_hashtags(text):\n",
                "    hashtags = re.findall(r\"\\B#\\w*[a-zA-Z]+\\w*\", text)\n",
                "    \n",
                "    if hashtags == []:\n",
                "        return None\n",
                "    else:   \n",
                "        return hashtags\n",
                "                          \n",
                "                          "
            ]
        },
        {
            "cell_type": "code",
            "execution_count": 8,
            "metadata": {},
            "outputs": [],
            "source": [
                "import re\n",
                "hashtags = pd.DataFrame(tweets['Topic'])\n",
                "hashtags['hashtags'] = tweets['original_text'].apply(lambda x: get_hashtags(x))"
            ]
        },
        {
            "cell_type": "code",
            "execution_count": 9,
            "metadata": {},
            "outputs": [],
            "source": [
                "hashtags.dropna(subset=['hashtags'], inplace=True)"
            ]
        },
        {
            "cell_type": "code",
            "execution_count": 22,
            "metadata": {},
            "outputs": [
                {
                    "data": {
                        "text/html": [
                            "<div>\n",
                            "<style scoped>\n",
                            "    .dataframe tbody tr th:only-of-type {\n",
                            "        vertical-align: middle;\n",
                            "    }\n",
                            "\n",
                            "    .dataframe tbody tr th {\n",
                            "        vertical-align: top;\n",
                            "    }\n",
                            "\n",
                            "    .dataframe thead th {\n",
                            "        text-align: right;\n",
                            "    }\n",
                            "</style>\n",
                            "<table border=\"1\" class=\"dataframe\">\n",
                            "  <thead>\n",
                            "    <tr style=\"text-align: right;\">\n",
                            "      <th></th>\n",
                            "      <th>Topic</th>\n",
                            "      <th>hashtags</th>\n",
                            "    </tr>\n",
                            "  </thead>\n",
                            "  <tbody>\n",
                            "    <tr>\n",
                            "      <th>551</th>\n",
                            "      <td>16</td>\n",
                            "      <td>#Davos</td>\n",
                            "    </tr>\n",
                            "    <tr>\n",
                            "      <th>622</th>\n",
                            "      <td>8</td>\n",
                            "      <td>#GasStovesForever</td>\n",
                            "    </tr>\n",
                            "    <tr>\n",
                            "      <th>1292</th>\n",
                            "      <td>77</td>\n",
                            "      <td>#DumpTrump</td>\n",
                            "    </tr>\n",
                            "    <tr>\n",
                            "      <th>1565</th>\n",
                            "      <td>72</td>\n",
                            "      <td>#MeToo</td>\n",
                            "    </tr>\n",
                            "    <tr>\n",
                            "      <th>2301</th>\n",
                            "      <td>34</td>\n",
                            "      <td>#MeToo</td>\n",
                            "    </tr>\n",
                            "    <tr>\n",
                            "      <th>...</th>\n",
                            "      <td>...</td>\n",
                            "      <td>...</td>\n",
                            "    </tr>\n",
                            "    <tr>\n",
                            "      <th>1458011</th>\n",
                            "      <td>29</td>\n",
                            "      <td>#gotech</td>\n",
                            "    </tr>\n",
                            "    <tr>\n",
                            "      <th>1458012</th>\n",
                            "      <td>74</td>\n",
                            "      <td>#carrefour</td>\n",
                            "    </tr>\n",
                            "    <tr>\n",
                            "      <th>1458012</th>\n",
                            "      <td>74</td>\n",
                            "      <td>#bringo</td>\n",
                            "    </tr>\n",
                            "    <tr>\n",
                            "      <th>1458012</th>\n",
                            "      <td>74</td>\n",
                            "      <td>#gotech</td>\n",
                            "    </tr>\n",
                            "    <tr>\n",
                            "      <th>1458013</th>\n",
                            "      <td>5</td>\n",
                            "      <td>#gotech</td>\n",
                            "    </tr>\n",
                            "  </tbody>\n",
                            "</table>\n",
                            "<p>3024375 rows × 2 columns</p>\n",
                            "</div>"
                        ],
                        "text/plain": [
                            "         Topic           hashtags\n",
                            "551         16             #Davos\n",
                            "622          8  #GasStovesForever\n",
                            "1292        77         #DumpTrump\n",
                            "1565        72             #MeToo\n",
                            "2301        34             #MeToo\n",
                            "...        ...                ...\n",
                            "1458011     29            #gotech\n",
                            "1458012     74         #carrefour\n",
                            "1458012     74            #bringo\n",
                            "1458012     74            #gotech\n",
                            "1458013      5            #gotech\n",
                            "\n",
                            "[3024375 rows x 2 columns]"
                        ]
                    },
                    "execution_count": 22,
                    "metadata": {},
                    "output_type": "execute_result"
                }
            ],
            "source": [
                "c = hashtags.explode('hashtags')\n",
                "c"
            ]
        },
        {
            "cell_type": "code",
            "execution_count": 54,
            "metadata": {},
            "outputs": [],
            "source": [
                "z = c.groupby('Topic', as_index=False)['hashtags'].value_counts(sort=True, ascending=False).groupby('Topic').head(3)"
            ]
        },
        {
            "cell_type": "code",
            "execution_count": 55,
            "metadata": {},
            "outputs": [
                {
                    "data": {
                        "text/html": [
                            "<div>\n",
                            "<style scoped>\n",
                            "    .dataframe tbody tr th:only-of-type {\n",
                            "        vertical-align: middle;\n",
                            "    }\n",
                            "\n",
                            "    .dataframe tbody tr th {\n",
                            "        vertical-align: top;\n",
                            "    }\n",
                            "\n",
                            "    .dataframe thead th {\n",
                            "        text-align: right;\n",
                            "    }\n",
                            "</style>\n",
                            "<table border=\"1\" class=\"dataframe\">\n",
                            "  <thead>\n",
                            "    <tr style=\"text-align: right;\">\n",
                            "      <th></th>\n",
                            "      <th>Topic</th>\n",
                            "      <th>hashtags</th>\n",
                            "      <th>count</th>\n",
                            "    </tr>\n",
                            "  </thead>\n",
                            "  <tbody>\n",
                            "    <tr>\n",
                            "      <th>0</th>\n",
                            "      <td>0</td>\n",
                            "      <td>#Environment</td>\n",
                            "      <td>13574</td>\n",
                            "    </tr>\n",
                            "    <tr>\n",
                            "      <th>1</th>\n",
                            "      <td>0</td>\n",
                            "      <td>#ClimateChange</td>\n",
                            "      <td>4152</td>\n",
                            "    </tr>\n",
                            "    <tr>\n",
                            "      <th>2</th>\n",
                            "      <td>0</td>\n",
                            "      <td>#Sustainability</td>\n",
                            "      <td>3465</td>\n",
                            "    </tr>\n",
                            "    <tr>\n",
                            "      <th>3305</th>\n",
                            "      <td>1</td>\n",
                            "      <td>#CES2022</td>\n",
                            "      <td>47</td>\n",
                            "    </tr>\n",
                            "    <tr>\n",
                            "      <th>3306</th>\n",
                            "      <td>1</td>\n",
                            "      <td>#custserv</td>\n",
                            "      <td>40</td>\n",
                            "    </tr>\n",
                            "    <tr>\n",
                            "      <th>...</th>\n",
                            "      <td>...</td>\n",
                            "      <td>...</td>\n",
                            "      <td>...</td>\n",
                            "    </tr>\n",
                            "    <tr>\n",
                            "      <th>208010</th>\n",
                            "      <td>98</td>\n",
                            "      <td>#CX</td>\n",
                            "      <td>364</td>\n",
                            "    </tr>\n",
                            "    <tr>\n",
                            "      <th>208011</th>\n",
                            "      <td>98</td>\n",
                            "      <td>#Retail</td>\n",
                            "      <td>175</td>\n",
                            "    </tr>\n",
                            "    <tr>\n",
                            "      <th>209766</th>\n",
                            "      <td>99</td>\n",
                            "      <td>#CoronaVirus</td>\n",
                            "      <td>3499</td>\n",
                            "    </tr>\n",
                            "    <tr>\n",
                            "      <th>209767</th>\n",
                            "      <td>99</td>\n",
                            "      <td>#Quarantine</td>\n",
                            "      <td>2870</td>\n",
                            "    </tr>\n",
                            "    <tr>\n",
                            "      <th>209768</th>\n",
                            "      <td>99</td>\n",
                            "      <td>#ThingsToDo</td>\n",
                            "      <td>2830</td>\n",
                            "    </tr>\n",
                            "  </tbody>\n",
                            "</table>\n",
                            "<p>300 rows × 3 columns</p>\n",
                            "</div>"
                        ],
                        "text/plain": [
                            "        Topic         hashtags  count\n",
                            "0           0     #Environment  13574\n",
                            "1           0   #ClimateChange   4152\n",
                            "2           0  #Sustainability   3465\n",
                            "3305        1         #CES2022     47\n",
                            "3306        1        #custserv     40\n",
                            "...       ...              ...    ...\n",
                            "208010     98              #CX    364\n",
                            "208011     98          #Retail    175\n",
                            "209766     99     #CoronaVirus   3499\n",
                            "209767     99      #Quarantine   2870\n",
                            "209768     99      #ThingsToDo   2830\n",
                            "\n",
                            "[300 rows x 3 columns]"
                        ]
                    },
                    "execution_count": 55,
                    "metadata": {},
                    "output_type": "execute_result"
                }
            ],
            "source": [
                "z"
            ]
        },
        {
            "cell_type": "code",
            "execution_count": 56,
            "metadata": {},
            "outputs": [],
            "source": [
                "z.to_csv(repo_path / 'data/to_paper/hashtags.csv')"
            ]
        },
        {
            "cell_type": "code",
            "execution_count": 61,
            "metadata": {},
            "outputs": [],
            "source": [
                "c['hashtags'].value_counts(sort=True, ascending=False).head(500).to_csv(repo_path / 'data/to_paper/hashtags_all.csv')"
            ]
        },
        {
            "cell_type": "code",
            "execution_count": null,
            "metadata": {},
            "outputs": [],
            "source": []
        }
    ],
    "metadata": {
        "kernelspec": {
            "display_name": "3.9.16",
            "language": "python",
            "name": "python3"
        },
        "language_info": {
            "codemirror_mode": {
                "name": "ipython",
                "version": 3
            },
            "file_extension": ".py",
            "mimetype": "text/x-python",
            "name": "python",
            "nbconvert_exporter": "python",
            "pygments_lexer": "ipython3",
            "version": "3.9.16"
        }
    },
    "nbformat": 4,
    "nbformat_minor": 2
}
