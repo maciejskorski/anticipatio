{
 "cells": [
  {
   "cell_type": "markdown",
   "metadata": {},
   "source": [
    "# Data"
   ]
  },
  {
   "cell_type": "code",
   "execution_count": 1,
   "metadata": {},
   "outputs": [
    {
     "name": "stderr",
     "output_type": "stream",
     "text": [
      "/tmp/ipykernel_442070/1161005462.py:1: DeprecationWarning: \n",
      "Pyarrow will become a required dependency of pandas in the next major release of pandas (pandas 3.0),\n",
      "(to allow more performant data types, such as the Arrow string type, and better interoperability with other libraries)\n",
      "but was not found to be installed on your system.\n",
      "If this would cause problems for you,\n",
      "please provide us feedback at https://github.com/pandas-dev/pandas/issues/54466\n",
      "        \n",
      "  import pandas as pd\n"
     ]
    }
   ],
   "source": [
    "import pandas as pd\n",
    "doc2topic = pd.read_csv(\"doc2topic.csv\")\n",
    "doc2topic.set_index(\"doc_id\",inplace=True)\n",
    "\n",
    "emotions = pd.read_pickle(\"../data/emotions_compressed.pkl.gz\")\n",
    "emotions = emotions.join(doc2topic['topic'])\n",
    "\n",
    "# check against aggregated emotions\n",
    "\n",
    "emotions_agg = pd.read_csv(\"emotions.csv\")\n",
    "emotions_agg.set_index(\"Topic\",inplace=True)\n",
    "assert (emotions.groupby('topic').mean()-emotions_agg).abs().max().max() < 1e-4"
   ]
  },
  {
   "cell_type": "markdown",
   "metadata": {},
   "source": [
    "# Insights\n",
    "\n",
    "Biggest fear occurs in topics related to pandemia and the war on Ukraine."
   ]
  },
  {
   "cell_type": "code",
   "execution_count": 2,
   "metadata": {},
   "outputs": [
    {
     "data": {
      "text/html": [
       "<div>\n",
       "<style scoped>\n",
       "    .dataframe tbody tr th:only-of-type {\n",
       "        vertical-align: middle;\n",
       "    }\n",
       "\n",
       "    .dataframe tbody tr th {\n",
       "        vertical-align: top;\n",
       "    }\n",
       "\n",
       "    .dataframe thead th {\n",
       "        text-align: right;\n",
       "    }\n",
       "</style>\n",
       "<table border=\"1\" class=\"dataframe\">\n",
       "  <thead>\n",
       "    <tr style=\"text-align: right;\">\n",
       "      <th></th>\n",
       "      <th>sadness</th>\n",
       "      <th>disgust</th>\n",
       "      <th>pessimism</th>\n",
       "      <th>anger</th>\n",
       "      <th>anticipation</th>\n",
       "      <th>joy</th>\n",
       "      <th>fear</th>\n",
       "      <th>optimism</th>\n",
       "      <th>surprise</th>\n",
       "      <th>trust</th>\n",
       "      <th>love</th>\n",
       "    </tr>\n",
       "    <tr>\n",
       "      <th>Topic</th>\n",
       "      <th></th>\n",
       "      <th></th>\n",
       "      <th></th>\n",
       "      <th></th>\n",
       "      <th></th>\n",
       "      <th></th>\n",
       "      <th></th>\n",
       "      <th></th>\n",
       "      <th></th>\n",
       "      <th></th>\n",
       "      <th></th>\n",
       "    </tr>\n",
       "  </thead>\n",
       "  <tbody>\n",
       "    <tr>\n",
       "      <th>2</th>\n",
       "      <td>0.072572</td>\n",
       "      <td>0.283825</td>\n",
       "      <td>0.068204</td>\n",
       "      <td>0.258969</td>\n",
       "      <td>0.404288</td>\n",
       "      <td>0.137749</td>\n",
       "      <td>0.481284</td>\n",
       "      <td>0.214518</td>\n",
       "      <td>0.073049</td>\n",
       "      <td>0.064235</td>\n",
       "      <td>0.010926</td>\n",
       "    </tr>\n",
       "    <tr>\n",
       "      <th>56</th>\n",
       "      <td>0.112782</td>\n",
       "      <td>0.396744</td>\n",
       "      <td>0.080592</td>\n",
       "      <td>0.362464</td>\n",
       "      <td>0.350235</td>\n",
       "      <td>0.105353</td>\n",
       "      <td>0.478799</td>\n",
       "      <td>0.155787</td>\n",
       "      <td>0.081483</td>\n",
       "      <td>0.047406</td>\n",
       "      <td>0.008637</td>\n",
       "    </tr>\n",
       "    <tr>\n",
       "      <th>61</th>\n",
       "      <td>0.208532</td>\n",
       "      <td>0.239893</td>\n",
       "      <td>0.145550</td>\n",
       "      <td>0.179963</td>\n",
       "      <td>0.376131</td>\n",
       "      <td>0.147433</td>\n",
       "      <td>0.404765</td>\n",
       "      <td>0.337837</td>\n",
       "      <td>0.057601</td>\n",
       "      <td>0.074166</td>\n",
       "      <td>0.011487</td>\n",
       "    </tr>\n",
       "    <tr>\n",
       "      <th>99</th>\n",
       "      <td>0.144684</td>\n",
       "      <td>0.170082</td>\n",
       "      <td>0.085544</td>\n",
       "      <td>0.125447</td>\n",
       "      <td>0.389993</td>\n",
       "      <td>0.317713</td>\n",
       "      <td>0.328546</td>\n",
       "      <td>0.398602</td>\n",
       "      <td>0.064985</td>\n",
       "      <td>0.065424</td>\n",
       "      <td>0.023875</td>\n",
       "    </tr>\n",
       "    <tr>\n",
       "      <th>60</th>\n",
       "      <td>0.226947</td>\n",
       "      <td>0.312838</td>\n",
       "      <td>0.135836</td>\n",
       "      <td>0.255518</td>\n",
       "      <td>0.375404</td>\n",
       "      <td>0.190973</td>\n",
       "      <td>0.275193</td>\n",
       "      <td>0.305734</td>\n",
       "      <td>0.075159</td>\n",
       "      <td>0.069927</td>\n",
       "      <td>0.015099</td>\n",
       "    </tr>\n",
       "    <tr>\n",
       "      <th>19</th>\n",
       "      <td>0.082476</td>\n",
       "      <td>0.198030</td>\n",
       "      <td>0.072334</td>\n",
       "      <td>0.182618</td>\n",
       "      <td>0.507511</td>\n",
       "      <td>0.299126</td>\n",
       "      <td>0.254994</td>\n",
       "      <td>0.446743</td>\n",
       "      <td>0.073088</td>\n",
       "      <td>0.127018</td>\n",
       "      <td>0.021420</td>\n",
       "    </tr>\n",
       "  </tbody>\n",
       "</table>\n",
       "</div>"
      ],
      "text/plain": [
       "        sadness   disgust  pessimism     anger  anticipation       joy  \\\n",
       "Topic                                                                    \n",
       "2      0.072572  0.283825   0.068204  0.258969      0.404288  0.137749   \n",
       "56     0.112782  0.396744   0.080592  0.362464      0.350235  0.105353   \n",
       "61     0.208532  0.239893   0.145550  0.179963      0.376131  0.147433   \n",
       "99     0.144684  0.170082   0.085544  0.125447      0.389993  0.317713   \n",
       "60     0.226947  0.312838   0.135836  0.255518      0.375404  0.190973   \n",
       "19     0.082476  0.198030   0.072334  0.182618      0.507511  0.299126   \n",
       "\n",
       "           fear  optimism  surprise     trust      love  \n",
       "Topic                                                    \n",
       "2      0.481284  0.214518  0.073049  0.064235  0.010926  \n",
       "56     0.478799  0.155787  0.081483  0.047406  0.008637  \n",
       "61     0.404765  0.337837  0.057601  0.074166  0.011487  \n",
       "99     0.328546  0.398602  0.064985  0.065424  0.023875  \n",
       "60     0.275193  0.305734  0.075159  0.069927  0.015099  \n",
       "19     0.254994  0.446743  0.073088  0.127018  0.021420  "
      ]
     },
     "execution_count": 2,
     "metadata": {},
     "output_type": "execute_result"
    }
   ],
   "source": [
    "emotions_agg.sort_values(\"fear\",ascending=False).head(6)"
   ]
  },
  {
   "cell_type": "markdown",
   "metadata": {},
   "source": [
    "# Statistical Remarks\n",
    "\n",
    "Note that the standard deviations are huge and emotion comparison is inconclusive."
   ]
  },
  {
   "cell_type": "code",
   "execution_count": 3,
   "metadata": {},
   "outputs": [
    {
     "data": {
      "text/html": [
       "<div>\n",
       "<style scoped>\n",
       "    .dataframe tbody tr th:only-of-type {\n",
       "        vertical-align: middle;\n",
       "    }\n",
       "\n",
       "    .dataframe tbody tr th {\n",
       "        vertical-align: top;\n",
       "    }\n",
       "\n",
       "    .dataframe thead th {\n",
       "        text-align: right;\n",
       "    }\n",
       "</style>\n",
       "<table border=\"1\" class=\"dataframe\">\n",
       "  <thead>\n",
       "    <tr style=\"text-align: right;\">\n",
       "      <th></th>\n",
       "      <th>sadness</th>\n",
       "      <th>disgust</th>\n",
       "      <th>pessimism</th>\n",
       "      <th>anger</th>\n",
       "      <th>anticipation</th>\n",
       "      <th>joy</th>\n",
       "      <th>fear</th>\n",
       "      <th>optimism</th>\n",
       "      <th>surprise</th>\n",
       "      <th>trust</th>\n",
       "      <th>love</th>\n",
       "    </tr>\n",
       "    <tr>\n",
       "      <th>topic</th>\n",
       "      <th></th>\n",
       "      <th></th>\n",
       "      <th></th>\n",
       "      <th></th>\n",
       "      <th></th>\n",
       "      <th></th>\n",
       "      <th></th>\n",
       "      <th></th>\n",
       "      <th></th>\n",
       "      <th></th>\n",
       "      <th></th>\n",
       "    </tr>\n",
       "  </thead>\n",
       "  <tbody>\n",
       "    <tr>\n",
       "      <th>60</th>\n",
       "      <td>0.103+0.267</td>\n",
       "      <td>0.175+0.304</td>\n",
       "      <td>0.091+0.133</td>\n",
       "      <td>0.102+0.294</td>\n",
       "      <td>0.367+0.236</td>\n",
       "      <td>0.052+0.267</td>\n",
       "      <td>0.146+0.287</td>\n",
       "      <td>0.166+0.312</td>\n",
       "      <td>0.051+0.073</td>\n",
       "      <td>0.034+0.084</td>\n",
       "      <td>0.006+0.039</td>\n",
       "    </tr>\n",
       "    <tr>\n",
       "      <th>61</th>\n",
       "      <td>0.097+0.243</td>\n",
       "      <td>0.123+0.256</td>\n",
       "      <td>0.102+0.129</td>\n",
       "      <td>0.068+0.239</td>\n",
       "      <td>0.38+0.214</td>\n",
       "      <td>0.046+0.223</td>\n",
       "      <td>0.335+0.312</td>\n",
       "      <td>0.205+0.32</td>\n",
       "      <td>0.042+0.057</td>\n",
       "      <td>0.036+0.088</td>\n",
       "      <td>0.006+0.027</td>\n",
       "    </tr>\n",
       "    <tr>\n",
       "      <th>99</th>\n",
       "      <td>0.053+0.212</td>\n",
       "      <td>0.087+0.212</td>\n",
       "      <td>0.047+0.102</td>\n",
       "      <td>0.053+0.191</td>\n",
       "      <td>0.398+0.211</td>\n",
       "      <td>0.193+0.311</td>\n",
       "      <td>0.273+0.278</td>\n",
       "      <td>0.363+0.304</td>\n",
       "      <td>0.05+0.056</td>\n",
       "      <td>0.043+0.068</td>\n",
       "      <td>0.008+0.069</td>\n",
       "    </tr>\n",
       "  </tbody>\n",
       "</table>\n",
       "</div>"
      ],
      "text/plain": [
       "           sadness      disgust    pessimism        anger anticipation  \\\n",
       "topic                                                                    \n",
       "60     0.103+0.267  0.175+0.304  0.091+0.133  0.102+0.294  0.367+0.236   \n",
       "61     0.097+0.243  0.123+0.256  0.102+0.129  0.068+0.239   0.38+0.214   \n",
       "99     0.053+0.212  0.087+0.212  0.047+0.102  0.053+0.191  0.398+0.211   \n",
       "\n",
       "               joy         fear     optimism     surprise        trust  \\\n",
       "topic                                                                    \n",
       "60     0.052+0.267  0.146+0.287  0.166+0.312  0.051+0.073  0.034+0.084   \n",
       "61     0.046+0.223  0.335+0.312   0.205+0.32  0.042+0.057  0.036+0.088   \n",
       "99     0.193+0.311  0.273+0.278  0.363+0.304   0.05+0.056  0.043+0.068   \n",
       "\n",
       "              love  \n",
       "topic               \n",
       "60     0.006+0.039  \n",
       "61     0.006+0.027  \n",
       "99     0.008+0.069  "
      ]
     },
     "execution_count": 3,
     "metadata": {},
     "output_type": "execute_result"
    }
   ],
   "source": [
    "emotions_agg_mu = emotions.groupby(\"topic\").median().round(3)\n",
    "emotions_agg_std = emotions.groupby(\"topic\").std().round(3)\n",
    "\n",
    "pd.concat([emotions_agg_mu.astype(str),emotions_agg_std.astype(str)]).groupby(\"topic\").agg(lambda s: '+'.join(map(str,s))).loc[[60,61,99]]"
   ]
  },
  {
   "cell_type": "markdown",
   "metadata": {},
   "source": [
    "This is partly because emotion distributions are not only skewed but also multimodal."
   ]
  },
  {
   "cell_type": "code",
   "execution_count": 4,
   "metadata": {},
   "outputs": [
    {
     "data": {
      "text/plain": [
       "<Axes: ylabel='Frequency'>"
      ]
     },
     "execution_count": 4,
     "metadata": {},
     "output_type": "execute_result"
    },
    {
     "data": {
      "image/png": "[encoded data removed]",
      "text/plain": [
       "<Figure size 640x480 with 1 Axes>"
      ]
     },
     "metadata": {},
     "output_type": "display_data"
    }
   ],
   "source": [
    "mask = emotions['topic']==61\n",
    "\n",
    "emotions.loc[mask,'fear'].plot(kind='hist',bins=100)"
   ]
  }
 ],
 "metadata": {
  "kernelspec": {
   "display_name": ".venv",
   "language": "python",
   "name": "python3"
  },
  "language_info": {
   "codemirror_mode": {
    "name": "ipython",
    "version": 3
   },
   "file_extension": ".py",
   "mimetype": "text/x-python",
   "name": "python",
   "nbconvert_exporter": "python",
   "pygments_lexer": "ipython3",
   "version": "3.10.12"
  }
 },
 "nbformat": 4,
 "nbformat_minor": 2
}
