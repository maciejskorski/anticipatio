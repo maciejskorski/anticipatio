{
 "cells": [
  {
   "cell_type": "markdown",
   "metadata": {},
   "source": [
    "# Data"
   ]
  },
  {
   "cell_type": "code",
   "execution_count": 1,
   "metadata": {},
   "outputs": [
    {
     "name": "stderr",
     "output_type": "stream",
     "text": [
      "/tmp/ipykernel_1655017/1161005462.py:1: DeprecationWarning: \n",
      "Pyarrow will become a required dependency of pandas in the next major release of pandas (pandas 3.0),\n",
      "(to allow more performant data types, such as the Arrow string type, and better interoperability with other libraries)\n",
      "but was not found to be installed on your system.\n",
      "If this would cause problems for you,\n",
      "please provide us feedback at https://github.com/pandas-dev/pandas/issues/54466\n",
      "        \n",
      "  import pandas as pd\n"
     ]
    }
   ],
   "source": [
    "import pandas as pd\n",
    "doc2topic = pd.read_csv(\"doc2topic.csv\")\n",
    "doc2topic.set_index(\"doc_id\",inplace=True)\n",
    "\n",
    "emotions = pd.read_pickle(\"../data/emotions_compressed.pkl.gz\")\n",
    "emotions = emotions.join(doc2topic['topic'])\n",
    "\n",
    "# check against aggregated emotions\n",
    "\n",
    "emotions_agg = pd.read_csv(\"emotions.csv\")\n",
    "emotions_agg.set_index(\"Topic\",inplace=True)\n",
    "assert (emotions.groupby('topic').mean()-emotions_agg).abs().max().max() < 1e-4"
   ]
  },
  {
   "cell_type": "markdown",
   "metadata": {},
   "source": [
    "# Insights\n",
    "\n",
    "Biggest fear occurs in topics related to pandemia and the war on Ukraine."
   ]
  },
  {
   "cell_type": "code",
   "execution_count": 2,
   "metadata": {},
   "outputs": [
    {
     "data": {
      "text/html": [
       "<div>\n",
       "<style scoped>\n",
       "    .dataframe tbody tr th:only-of-type {\n",
       "        vertical-align: middle;\n",
       "    }\n",
       "\n",
       "    .dataframe tbody tr th {\n",
       "        vertical-align: top;\n",
       "    }\n",
       "\n",
       "    .dataframe thead th {\n",
       "        text-align: right;\n",
       "    }\n",
       "</style>\n",
       "<table border=\"1\" class=\"dataframe\">\n",
       "  <thead>\n",
       "    <tr style=\"text-align: right;\">\n",
       "      <th></th>\n",
       "      <th>sadness</th>\n",
       "      <th>disgust</th>\n",
       "      <th>pessimism</th>\n",
       "      <th>anger</th>\n",
       "      <th>anticipation</th>\n",
       "      <th>joy</th>\n",
       "      <th>fear</th>\n",
       "      <th>optimism</th>\n",
       "      <th>surprise</th>\n",
       "      <th>trust</th>\n",
       "      <th>love</th>\n",
       "    </tr>\n",
       "    <tr>\n",
       "      <th>Topic</th>\n",
       "      <th></th>\n",
       "      <th></th>\n",
       "      <th></th>\n",
       "      <th></th>\n",
       "      <th></th>\n",
       "      <th></th>\n",
       "      <th></th>\n",
       "      <th></th>\n",
       "      <th></th>\n",
       "      <th></th>\n",
       "      <th></th>\n",
       "    </tr>\n",
       "  </thead>\n",
       "  <tbody>\n",
       "    <tr>\n",
       "      <th>2</th>\n",
       "      <td>0.072572</td>\n",
       "      <td>0.283825</td>\n",
       "      <td>0.068204</td>\n",
       "      <td>0.258969</td>\n",
       "      <td>0.404288</td>\n",
       "      <td>0.137749</td>\n",
       "      <td>0.481284</td>\n",
       "      <td>0.214518</td>\n",
       "      <td>0.073049</td>\n",
       "      <td>0.064235</td>\n",
       "      <td>0.010926</td>\n",
       "    </tr>\n",
       "    <tr>\n",
       "      <th>56</th>\n",
       "      <td>0.112782</td>\n",
       "      <td>0.396744</td>\n",
       "      <td>0.080592</td>\n",
       "      <td>0.362464</td>\n",
       "      <td>0.350235</td>\n",
       "      <td>0.105353</td>\n",
       "      <td>0.478799</td>\n",
       "      <td>0.155787</td>\n",
       "      <td>0.081483</td>\n",
       "      <td>0.047406</td>\n",
       "      <td>0.008637</td>\n",
       "    </tr>\n",
       "    <tr>\n",
       "      <th>61</th>\n",
       "      <td>0.208532</td>\n",
       "      <td>0.239893</td>\n",
       "      <td>0.145550</td>\n",
       "      <td>0.179963</td>\n",
       "      <td>0.376131</td>\n",
       "      <td>0.147433</td>\n",
       "      <td>0.404765</td>\n",
       "      <td>0.337837</td>\n",
       "      <td>0.057601</td>\n",
       "      <td>0.074166</td>\n",
       "      <td>0.011487</td>\n",
       "    </tr>\n",
       "    <tr>\n",
       "      <th>99</th>\n",
       "      <td>0.144684</td>\n",
       "      <td>0.170082</td>\n",
       "      <td>0.085544</td>\n",
       "      <td>0.125447</td>\n",
       "      <td>0.389993</td>\n",
       "      <td>0.317713</td>\n",
       "      <td>0.328546</td>\n",
       "      <td>0.398602</td>\n",
       "      <td>0.064985</td>\n",
       "      <td>0.065424</td>\n",
       "      <td>0.023875</td>\n",
       "    </tr>\n",
       "    <tr>\n",
       "      <th>60</th>\n",
       "      <td>0.226947</td>\n",
       "      <td>0.312838</td>\n",
       "      <td>0.135836</td>\n",
       "      <td>0.255518</td>\n",
       "      <td>0.375404</td>\n",
       "      <td>0.190973</td>\n",
       "      <td>0.275193</td>\n",
       "      <td>0.305734</td>\n",
       "      <td>0.075159</td>\n",
       "      <td>0.069927</td>\n",
       "      <td>0.015099</td>\n",
       "    </tr>\n",
       "    <tr>\n",
       "      <th>19</th>\n",
       "      <td>0.082476</td>\n",
       "      <td>0.198030</td>\n",
       "      <td>0.072334</td>\n",
       "      <td>0.182618</td>\n",
       "      <td>0.507511</td>\n",
       "      <td>0.299126</td>\n",
       "      <td>0.254994</td>\n",
       "      <td>0.446743</td>\n",
       "      <td>0.073088</td>\n",
       "      <td>0.127018</td>\n",
       "      <td>0.021420</td>\n",
       "    </tr>\n",
       "  </tbody>\n",
       "</table>\n",
       "</div>"
      ],
      "text/plain": [
       "        sadness   disgust  pessimism     anger  anticipation       joy  \\\n",
       "Topic                                                                    \n",
       "2      0.072572  0.283825   0.068204  0.258969      0.404288  0.137749   \n",
       "56     0.112782  0.396744   0.080592  0.362464      0.350235  0.105353   \n",
       "61     0.208532  0.239893   0.145550  0.179963      0.376131  0.147433   \n",
       "99     0.144684  0.170082   0.085544  0.125447      0.389993  0.317713   \n",
       "60     0.226947  0.312838   0.135836  0.255518      0.375404  0.190973   \n",
       "19     0.082476  0.198030   0.072334  0.182618      0.507511  0.299126   \n",
       "\n",
       "           fear  optimism  surprise     trust      love  \n",
       "Topic                                                    \n",
       "2      0.481284  0.214518  0.073049  0.064235  0.010926  \n",
       "56     0.478799  0.155787  0.081483  0.047406  0.008637  \n",
       "61     0.404765  0.337837  0.057601  0.074166  0.011487  \n",
       "99     0.328546  0.398602  0.064985  0.065424  0.023875  \n",
       "60     0.275193  0.305734  0.075159  0.069927  0.015099  \n",
       "19     0.254994  0.446743  0.073088  0.127018  0.021420  "
      ]
     },
     "execution_count": 2,
     "metadata": {},
     "output_type": "execute_result"
    }
   ],
   "source": [
    "emotions_agg.sort_values(\"fear\",ascending=False).head(6)"
   ]
  },
  {
   "cell_type": "markdown",
   "metadata": {},
   "source": [
    "Note that the standard deviations within clusters are huge."
   ]
  },
  {
   "cell_type": "code",
   "execution_count": 3,
   "metadata": {},
   "outputs": [
    {
     "data": {
      "text/html": [
       "<div>\n",
       "<style scoped>\n",
       "    .dataframe tbody tr th:only-of-type {\n",
       "        vertical-align: middle;\n",
       "    }\n",
       "\n",
       "    .dataframe tbody tr th {\n",
       "        vertical-align: top;\n",
       "    }\n",
       "\n",
       "    .dataframe thead th {\n",
       "        text-align: right;\n",
       "    }\n",
       "</style>\n",
       "<table border=\"1\" class=\"dataframe\">\n",
       "  <thead>\n",
       "    <tr style=\"text-align: right;\">\n",
       "      <th></th>\n",
       "      <th>sadness</th>\n",
       "      <th>disgust</th>\n",
       "      <th>pessimism</th>\n",
       "      <th>anger</th>\n",
       "      <th>anticipation</th>\n",
       "      <th>joy</th>\n",
       "      <th>fear</th>\n",
       "      <th>optimism</th>\n",
       "      <th>surprise</th>\n",
       "      <th>trust</th>\n",
       "      <th>love</th>\n",
       "    </tr>\n",
       "    <tr>\n",
       "      <th>topic</th>\n",
       "      <th></th>\n",
       "      <th></th>\n",
       "      <th></th>\n",
       "      <th></th>\n",
       "      <th></th>\n",
       "      <th></th>\n",
       "      <th></th>\n",
       "      <th></th>\n",
       "      <th></th>\n",
       "      <th></th>\n",
       "      <th></th>\n",
       "    </tr>\n",
       "  </thead>\n",
       "  <tbody>\n",
       "    <tr>\n",
       "      <th>60</th>\n",
       "      <td>0.103+0.267</td>\n",
       "      <td>0.175+0.304</td>\n",
       "      <td>0.091+0.133</td>\n",
       "      <td>0.102+0.294</td>\n",
       "      <td>0.367+0.236</td>\n",
       "      <td>0.052+0.267</td>\n",
       "      <td>0.146+0.287</td>\n",
       "      <td>0.166+0.312</td>\n",
       "      <td>0.051+0.073</td>\n",
       "      <td>0.034+0.084</td>\n",
       "      <td>0.006+0.039</td>\n",
       "    </tr>\n",
       "    <tr>\n",
       "      <th>61</th>\n",
       "      <td>0.097+0.243</td>\n",
       "      <td>0.123+0.256</td>\n",
       "      <td>0.102+0.129</td>\n",
       "      <td>0.068+0.239</td>\n",
       "      <td>0.38+0.214</td>\n",
       "      <td>0.046+0.223</td>\n",
       "      <td>0.335+0.312</td>\n",
       "      <td>0.205+0.32</td>\n",
       "      <td>0.042+0.057</td>\n",
       "      <td>0.036+0.088</td>\n",
       "      <td>0.006+0.027</td>\n",
       "    </tr>\n",
       "    <tr>\n",
       "      <th>99</th>\n",
       "      <td>0.053+0.212</td>\n",
       "      <td>0.087+0.212</td>\n",
       "      <td>0.047+0.102</td>\n",
       "      <td>0.053+0.191</td>\n",
       "      <td>0.398+0.211</td>\n",
       "      <td>0.193+0.311</td>\n",
       "      <td>0.273+0.278</td>\n",
       "      <td>0.363+0.304</td>\n",
       "      <td>0.05+0.056</td>\n",
       "      <td>0.043+0.068</td>\n",
       "      <td>0.008+0.069</td>\n",
       "    </tr>\n",
       "  </tbody>\n",
       "</table>\n",
       "</div>"
      ],
      "text/plain": [
       "           sadness      disgust    pessimism        anger anticipation  \\\n",
       "topic                                                                    \n",
       "60     0.103+0.267  0.175+0.304  0.091+0.133  0.102+0.294  0.367+0.236   \n",
       "61     0.097+0.243  0.123+0.256  0.102+0.129  0.068+0.239   0.38+0.214   \n",
       "99     0.053+0.212  0.087+0.212  0.047+0.102  0.053+0.191  0.398+0.211   \n",
       "\n",
       "               joy         fear     optimism     surprise        trust  \\\n",
       "topic                                                                    \n",
       "60     0.052+0.267  0.146+0.287  0.166+0.312  0.051+0.073  0.034+0.084   \n",
       "61     0.046+0.223  0.335+0.312   0.205+0.32  0.042+0.057  0.036+0.088   \n",
       "99     0.193+0.311  0.273+0.278  0.363+0.304   0.05+0.056  0.043+0.068   \n",
       "\n",
       "              love  \n",
       "topic               \n",
       "60     0.006+0.039  \n",
       "61     0.006+0.027  \n",
       "99     0.008+0.069  "
      ]
     },
     "execution_count": 3,
     "metadata": {},
     "output_type": "execute_result"
    }
   ],
   "source": [
    "emotions_agg_mu = emotions.groupby(\"topic\").median().round(3)\n",
    "emotions_agg_std = emotions.groupby(\"topic\").std().round(3)\n",
    "\n",
    "pd.concat([emotions_agg_mu.astype(str),emotions_agg_std.astype(str)]).groupby(\"topic\").agg(lambda s: '+'.join(map(str,s))).loc[[60,61,99]]"
   ]
  },
  {
   "cell_type": "markdown",
   "metadata": {},
   "source": [
    "This is partly because emotion distributions are not only skewed but also multimodal."
   ]
  },
  {
   "cell_type": "code",
   "execution_count": 4,
   "metadata": {},
   "outputs": [],
   "source": [
    "# NOTE: based on https://www.tsw.co.uk/blog/leadership-and-management/plutchik-emotion-wheel/\n",
    "\n",
    "emotion_colors = {\n",
    "    'joy': 'gold',\n",
    "    'trust': 'olivedrab',\n",
    "    'fear': 'forestgreen',\n",
    "    'surprise': 'skyblue',\n",
    "    'sadness': 'dodgerblue',\n",
    "    'disgust': 'slateblue',\n",
    "    'anger': 'orangered',\n",
    "    'anticipation': 'darkorange',\n",
    "    'optimism': 'orange', # between dark orange and gold\n",
    "    'pessimism': 'cornflowerblue', # between slateblue and dodgerblue\n",
    "    'love':'golden olive',\n",
    "}"
   ]
  },
  {
   "cell_type": "code",
   "execution_count": 5,
   "metadata": {},
   "outputs": [
    {
     "data": {
      "text/plain": [
       "<Axes: ylabel='Frequency'>"
      ]
     },
     "execution_count": 5,
     "metadata": {},
     "output_type": "execute_result"
    },
    {
     "data": {
      "image/png": "[encoded data removed]",
      "text/plain": [
       "<Figure size 640x480 with 1 Axes>"
      ]
     },
     "metadata": {},
     "output_type": "display_data"
    }
   ],
   "source": [
    "mask = emotions['topic']==61\n",
    "\n",
    "emotions.loc[mask,'fear'].plot(kind='hist',bins=100)"
   ]
  },
  {
   "cell_type": "code",
   "execution_count": 6,
   "metadata": {},
   "outputs": [
    {
     "data": {
      "text/html": [
       "<div>\n",
       "<style scoped>\n",
       "    .dataframe tbody tr th:only-of-type {\n",
       "        vertical-align: middle;\n",
       "    }\n",
       "\n",
       "    .dataframe tbody tr th {\n",
       "        vertical-align: top;\n",
       "    }\n",
       "\n",
       "    .dataframe thead th {\n",
       "        text-align: right;\n",
       "    }\n",
       "</style>\n",
       "<table border=\"1\" class=\"dataframe\">\n",
       "  <thead>\n",
       "    <tr style=\"text-align: right;\">\n",
       "      <th></th>\n",
       "      <th>sadness</th>\n",
       "      <th>disgust</th>\n",
       "      <th>pessimism</th>\n",
       "      <th>anger</th>\n",
       "      <th>anticipation</th>\n",
       "      <th>joy</th>\n",
       "      <th>fear</th>\n",
       "      <th>optimism</th>\n",
       "      <th>surprise</th>\n",
       "      <th>trust</th>\n",
       "      <th>love</th>\n",
       "      <th>topic</th>\n",
       "    </tr>\n",
       "  </thead>\n",
       "  <tbody>\n",
       "    <tr>\n",
       "      <th>0</th>\n",
       "      <td>0.443</td>\n",
       "      <td>0.219</td>\n",
       "      <td>0.129</td>\n",
       "      <td>0.108</td>\n",
       "      <td>0.097</td>\n",
       "      <td>0.035</td>\n",
       "      <td>0.029</td>\n",
       "      <td>0.027</td>\n",
       "      <td>0.015</td>\n",
       "      <td>0.005</td>\n",
       "      <td>0.003</td>\n",
       "      <td>59</td>\n",
       "    </tr>\n",
       "    <tr>\n",
       "      <th>1</th>\n",
       "      <td>0.129</td>\n",
       "      <td>0.015</td>\n",
       "      <td>0.048</td>\n",
       "      <td>0.014</td>\n",
       "      <td>0.189</td>\n",
       "      <td>0.609</td>\n",
       "      <td>0.015</td>\n",
       "      <td>0.956</td>\n",
       "      <td>0.010</td>\n",
       "      <td>0.224</td>\n",
       "      <td>0.071</td>\n",
       "      <td>28</td>\n",
       "    </tr>\n",
       "    <tr>\n",
       "      <th>2</th>\n",
       "      <td>0.211</td>\n",
       "      <td>0.951</td>\n",
       "      <td>0.077</td>\n",
       "      <td>0.960</td>\n",
       "      <td>0.069</td>\n",
       "      <td>0.013</td>\n",
       "      <td>0.110</td>\n",
       "      <td>0.013</td>\n",
       "      <td>0.072</td>\n",
       "      <td>0.007</td>\n",
       "      <td>0.004</td>\n",
       "      <td>83</td>\n",
       "    </tr>\n",
       "    <tr>\n",
       "      <th>3</th>\n",
       "      <td>0.073</td>\n",
       "      <td>0.550</td>\n",
       "      <td>0.094</td>\n",
       "      <td>0.861</td>\n",
       "      <td>0.191</td>\n",
       "      <td>0.023</td>\n",
       "      <td>0.062</td>\n",
       "      <td>0.399</td>\n",
       "      <td>0.010</td>\n",
       "      <td>0.057</td>\n",
       "      <td>0.006</td>\n",
       "      <td>27</td>\n",
       "    </tr>\n",
       "    <tr>\n",
       "      <th>4</th>\n",
       "      <td>0.014</td>\n",
       "      <td>0.028</td>\n",
       "      <td>0.021</td>\n",
       "      <td>0.026</td>\n",
       "      <td>0.844</td>\n",
       "      <td>0.719</td>\n",
       "      <td>0.071</td>\n",
       "      <td>0.548</td>\n",
       "      <td>0.207</td>\n",
       "      <td>0.218</td>\n",
       "      <td>0.035</td>\n",
       "      <td>27</td>\n",
       "    </tr>\n",
       "    <tr>\n",
       "      <th>...</th>\n",
       "      <td>...</td>\n",
       "      <td>...</td>\n",
       "      <td>...</td>\n",
       "      <td>...</td>\n",
       "      <td>...</td>\n",
       "      <td>...</td>\n",
       "      <td>...</td>\n",
       "      <td>...</td>\n",
       "      <td>...</td>\n",
       "      <td>...</td>\n",
       "      <td>...</td>\n",
       "      <td>...</td>\n",
       "    </tr>\n",
       "    <tr>\n",
       "      <th>1458013</th>\n",
       "      <td>0.016</td>\n",
       "      <td>0.056</td>\n",
       "      <td>0.019</td>\n",
       "      <td>0.067</td>\n",
       "      <td>0.743</td>\n",
       "      <td>0.593</td>\n",
       "      <td>0.013</td>\n",
       "      <td>0.557</td>\n",
       "      <td>0.141</td>\n",
       "      <td>0.154</td>\n",
       "      <td>0.017</td>\n",
       "      <td>5</td>\n",
       "    </tr>\n",
       "    <tr>\n",
       "      <th>1458014</th>\n",
       "      <td>0.030</td>\n",
       "      <td>0.023</td>\n",
       "      <td>0.010</td>\n",
       "      <td>0.022</td>\n",
       "      <td>0.155</td>\n",
       "      <td>0.971</td>\n",
       "      <td>0.007</td>\n",
       "      <td>0.879</td>\n",
       "      <td>0.031</td>\n",
       "      <td>0.073</td>\n",
       "      <td>0.067</td>\n",
       "      <td>74</td>\n",
       "    </tr>\n",
       "    <tr>\n",
       "      <th>1458015</th>\n",
       "      <td>0.042</td>\n",
       "      <td>0.009</td>\n",
       "      <td>0.024</td>\n",
       "      <td>0.011</td>\n",
       "      <td>0.298</td>\n",
       "      <td>0.830</td>\n",
       "      <td>0.039</td>\n",
       "      <td>0.981</td>\n",
       "      <td>0.020</td>\n",
       "      <td>0.372</td>\n",
       "      <td>0.090</td>\n",
       "      <td>57</td>\n",
       "    </tr>\n",
       "    <tr>\n",
       "      <th>1458016</th>\n",
       "      <td>0.108</td>\n",
       "      <td>0.259</td>\n",
       "      <td>0.120</td>\n",
       "      <td>0.188</td>\n",
       "      <td>0.610</td>\n",
       "      <td>0.049</td>\n",
       "      <td>0.038</td>\n",
       "      <td>0.326</td>\n",
       "      <td>0.050</td>\n",
       "      <td>0.043</td>\n",
       "      <td>0.004</td>\n",
       "      <td>86</td>\n",
       "    </tr>\n",
       "    <tr>\n",
       "      <th>1458017</th>\n",
       "      <td>0.047</td>\n",
       "      <td>0.740</td>\n",
       "      <td>0.034</td>\n",
       "      <td>0.831</td>\n",
       "      <td>0.227</td>\n",
       "      <td>0.645</td>\n",
       "      <td>0.060</td>\n",
       "      <td>0.317</td>\n",
       "      <td>0.113</td>\n",
       "      <td>0.034</td>\n",
       "      <td>0.016</td>\n",
       "      <td>29</td>\n",
       "    </tr>\n",
       "  </tbody>\n",
       "</table>\n",
       "<p>1458018 rows × 12 columns</p>\n",
       "</div>"
      ],
      "text/plain": [
       "         sadness  disgust  pessimism  anger  anticipation    joy   fear  \\\n",
       "0          0.443    0.219      0.129  0.108         0.097  0.035  0.029   \n",
       "1          0.129    0.015      0.048  0.014         0.189  0.609  0.015   \n",
       "2          0.211    0.951      0.077  0.960         0.069  0.013  0.110   \n",
       "3          0.073    0.550      0.094  0.861         0.191  0.023  0.062   \n",
       "4          0.014    0.028      0.021  0.026         0.844  0.719  0.071   \n",
       "...          ...      ...        ...    ...           ...    ...    ...   \n",
       "1458013    0.016    0.056      0.019  0.067         0.743  0.593  0.013   \n",
       "1458014    0.030    0.023      0.010  0.022         0.155  0.971  0.007   \n",
       "1458015    0.042    0.009      0.024  0.011         0.298  0.830  0.039   \n",
       "1458016    0.108    0.259      0.120  0.188         0.610  0.049  0.038   \n",
       "1458017    0.047    0.740      0.034  0.831         0.227  0.645  0.060   \n",
       "\n",
       "         optimism  surprise  trust   love  topic  \n",
       "0           0.027     0.015  0.005  0.003     59  \n",
       "1           0.956     0.010  0.224  0.071     28  \n",
       "2           0.013     0.072  0.007  0.004     83  \n",
       "3           0.399     0.010  0.057  0.006     27  \n",
       "4           0.548     0.207  0.218  0.035     27  \n",
       "...           ...       ...    ...    ...    ...  \n",
       "1458013     0.557     0.141  0.154  0.017      5  \n",
       "1458014     0.879     0.031  0.073  0.067     74  \n",
       "1458015     0.981     0.020  0.372  0.090     57  \n",
       "1458016     0.326     0.050  0.043  0.004     86  \n",
       "1458017     0.317     0.113  0.034  0.016     29  \n",
       "\n",
       "[1458018 rows x 12 columns]"
      ]
     },
     "execution_count": 6,
     "metadata": {},
     "output_type": "execute_result"
    }
   ],
   "source": [
    "emotions"
   ]
  },
  {
   "cell_type": "code",
   "execution_count": 7,
   "metadata": {},
   "outputs": [
    {
     "data": {
      "image/png": "[encoded data removed]",
      "text/plain": [
       "<Figure size 640x480 with 2 Axes>"
      ]
     },
     "metadata": {},
     "output_type": "display_data"
    }
   ],
   "source": [
    "import seaborn as sns\n",
    "import matplotlib.pyplot as plt\n",
    "\n",
    "fig,axs = plt.subplots(1,2)\n",
    "\n",
    "\n",
    "ax = axs[0]\n",
    "sns.histplot(emotions['optimism'],stat='count',ax=ax,label='optimism',color=emotion_colors['optimism'],bins=100)\n",
    "\n",
    "ax = axs[1]\n",
    "hist_kws={'clip': (0.0, 0.6)}\n",
    "sns.histplot(emotions['pessimism'],stat='count',ax=ax,label='pessimism',color=emotion_colors['pessimism'],bins=100)\n",
    "ax.set_xlim(0,0.5)\n",
    "sns.despine(fig)\n",
    "\n",
    "plt.tight_layout()\n",
    "\n",
    "fig.savefig(\"optimism_pesimism_hist.svg\", transparent=True)"
   ]
  },
  {
   "cell_type": "code",
   "execution_count": 8,
   "metadata": {},
   "outputs": [],
   "source": [
    "cols = set(emotions_agg_mu.columns)\n",
    "cols.remove(\"optimism\")\n",
    "cols.remove(\"pessimism\")\n",
    "cols.remove(\"love\")\n",
    "cols = list(cols)\n",
    "\n",
    "cols = ['fear','anger','disgust', 'sadness', 'anticipation', 'surprise', 'joy', 'trust']\n",
    "\n",
    "emotions_agg_dominant = emotions_agg_mu.loc[:,cols].idxmax(1)\n",
    "emotions_agg_dominant = emotions_agg_dominant.value_counts()"
   ]
  },
  {
   "cell_type": "markdown",
   "metadata": {},
   "source": [
    "## Dominant Emotions"
   ]
  },
  {
   "cell_type": "code",
   "execution_count": 9,
   "metadata": {},
   "outputs": [
    {
     "data": {
      "image/png": "[encoded data removed]",
      "text/plain": [
       "<Figure size 640x480 with 1 Axes>"
      ]
     },
     "metadata": {},
     "output_type": "display_data"
    }
   ],
   "source": [
    "fig,ax = plt.subplots()\n",
    "\n",
    "plt.pie(emotions_agg_dominant.values,\n",
    "        labels=emotions_agg_dominant.index, \n",
    "        colors = emotions_agg_dominant.index.map(emotion_colors.get), \n",
    "        autopct='%1.1f%%', \n",
    "        pctdistance=0.85\n",
    ")\n",
    "# Add a white circle at the center to create the donut effect\n",
    "centre_circle = plt.Circle((0, 0), 0.40, fc='white')\n",
    "\n",
    "fig = plt.gcf()\n",
    "fig.gca().add_artist(centre_circle)\n",
    "\n",
    "#plt.title('Employee Salary Details')\n",
    "plt.show()\n",
    "\n",
    "fig.savefig(\"dominant_emotions.svg\",transparent=True)"
   ]
  },
  {
   "cell_type": "code",
   "execution_count": 10,
   "metadata": {},
   "outputs": [
    {
     "data": {
      "text/plain": [
       "anticipation    48\n",
       "joy             46\n",
       "disgust          3\n",
       "fear             2\n",
       "anger            1\n",
       "Name: count, dtype: int64"
      ]
     },
     "execution_count": 10,
     "metadata": {},
     "output_type": "execute_result"
    }
   ],
   "source": [
    "emotions_agg_dominant#[emotions_agg_dominant==\"anger\"]"
   ]
  },
  {
   "cell_type": "code",
   "execution_count": 11,
   "metadata": {},
   "outputs": [
    {
     "data": {
      "image/png": "[encoded data removed]",
      "text/plain": [
       "<Figure size 640x480 with 1 Axes>"
      ]
     },
     "metadata": {},
     "output_type": "display_data"
    }
   ],
   "source": [
    "N_TOP = 15\n",
    "\n",
    "df = emotions_agg_mu.sort_values(\"anticipation\",ascending=False).head(N_TOP)\n",
    "\n",
    "df.columns = df.columns.astype(\"category\")\n",
    "#df.index = df.index.astype(\"category\").as_ordered()\n",
    "\n",
    "fig,ax = plt.subplots()\n",
    "df.loc[:,cols].plot(kind=\"barh\",stacked=True,ax=ax,color=emotion_colors)\n",
    "ax.invert_yaxis()\n",
    "\n",
    "# Put a legend below current axis\n",
    "ax.legend(loc='upper left', #bbox_to_anchor=(0.5, -0.05),\n",
    "          bbox_to_anchor=(0.95, 1.0),\n",
    "          fancybox=True, shadow=True, ncol=1)\n",
    "\n",
    "sns.despine(fig)\n",
    "plt.show()\n",
    "\n",
    "fig.savefig(\"top_anticipating_emotions.svg\", transparent=False)"
   ]
  },
  {
   "cell_type": "markdown",
   "metadata": {},
   "source": [
    "# Emotions in Top-Anticpating Topics"
   ]
  },
  {
   "cell_type": "code",
   "execution_count": 12,
   "metadata": {},
   "outputs": [
    {
     "data": {
      "text/html": [
       "<div>\n",
       "<style scoped>\n",
       "    .dataframe tbody tr th:only-of-type {\n",
       "        vertical-align: middle;\n",
       "    }\n",
       "\n",
       "    .dataframe tbody tr th {\n",
       "        vertical-align: top;\n",
       "    }\n",
       "\n",
       "    .dataframe thead th {\n",
       "        text-align: right;\n",
       "    }\n",
       "</style>\n",
       "<table border=\"1\" class=\"dataframe\">\n",
       "  <thead>\n",
       "    <tr style=\"text-align: right;\">\n",
       "      <th></th>\n",
       "      <th>sadness</th>\n",
       "      <th>disgust</th>\n",
       "      <th>pessimism</th>\n",
       "      <th>anger</th>\n",
       "      <th>anticipation</th>\n",
       "      <th>joy</th>\n",
       "      <th>fear</th>\n",
       "      <th>optimism</th>\n",
       "      <th>surprise</th>\n",
       "      <th>trust</th>\n",
       "      <th>love</th>\n",
       "    </tr>\n",
       "    <tr>\n",
       "      <th>topic</th>\n",
       "      <th></th>\n",
       "      <th></th>\n",
       "      <th></th>\n",
       "      <th></th>\n",
       "      <th></th>\n",
       "      <th></th>\n",
       "      <th></th>\n",
       "      <th></th>\n",
       "      <th></th>\n",
       "      <th></th>\n",
       "      <th></th>\n",
       "    </tr>\n",
       "  </thead>\n",
       "  <tbody>\n",
       "    <tr>\n",
       "      <th>20</th>\n",
       "      <td>0.018</td>\n",
       "      <td>0.033</td>\n",
       "      <td>0.024</td>\n",
       "      <td>0.032</td>\n",
       "      <td>0.718</td>\n",
       "      <td>0.455</td>\n",
       "      <td>0.035</td>\n",
       "      <td>0.554</td>\n",
       "      <td>0.104</td>\n",
       "      <td>0.173</td>\n",
       "      <td>0.021</td>\n",
       "    </tr>\n",
       "    <tr>\n",
       "      <th>54</th>\n",
       "      <td>0.017</td>\n",
       "      <td>0.029</td>\n",
       "      <td>0.022</td>\n",
       "      <td>0.029</td>\n",
       "      <td>0.702</td>\n",
       "      <td>0.544</td>\n",
       "      <td>0.037</td>\n",
       "      <td>0.598</td>\n",
       "      <td>0.100</td>\n",
       "      <td>0.179</td>\n",
       "      <td>0.025</td>\n",
       "    </tr>\n",
       "    <tr>\n",
       "      <th>40</th>\n",
       "      <td>0.022</td>\n",
       "      <td>0.047</td>\n",
       "      <td>0.031</td>\n",
       "      <td>0.040</td>\n",
       "      <td>0.692</td>\n",
       "      <td>0.302</td>\n",
       "      <td>0.043</td>\n",
       "      <td>0.428</td>\n",
       "      <td>0.099</td>\n",
       "      <td>0.135</td>\n",
       "      <td>0.016</td>\n",
       "    </tr>\n",
       "    <tr>\n",
       "      <th>53</th>\n",
       "      <td>0.016</td>\n",
       "      <td>0.030</td>\n",
       "      <td>0.019</td>\n",
       "      <td>0.029</td>\n",
       "      <td>0.692</td>\n",
       "      <td>0.629</td>\n",
       "      <td>0.023</td>\n",
       "      <td>0.512</td>\n",
       "      <td>0.112</td>\n",
       "      <td>0.156</td>\n",
       "      <td>0.030</td>\n",
       "    </tr>\n",
       "    <tr>\n",
       "      <th>27</th>\n",
       "      <td>0.021</td>\n",
       "      <td>0.041</td>\n",
       "      <td>0.023</td>\n",
       "      <td>0.036</td>\n",
       "      <td>0.681</td>\n",
       "      <td>0.473</td>\n",
       "      <td>0.026</td>\n",
       "      <td>0.420</td>\n",
       "      <td>0.112</td>\n",
       "      <td>0.129</td>\n",
       "      <td>0.021</td>\n",
       "    </tr>\n",
       "    <tr>\n",
       "      <th>78</th>\n",
       "      <td>0.018</td>\n",
       "      <td>0.036</td>\n",
       "      <td>0.024</td>\n",
       "      <td>0.035</td>\n",
       "      <td>0.677</td>\n",
       "      <td>0.524</td>\n",
       "      <td>0.038</td>\n",
       "      <td>0.582</td>\n",
       "      <td>0.096</td>\n",
       "      <td>0.158</td>\n",
       "      <td>0.020</td>\n",
       "    </tr>\n",
       "    <tr>\n",
       "      <th>6</th>\n",
       "      <td>0.019</td>\n",
       "      <td>0.032</td>\n",
       "      <td>0.019</td>\n",
       "      <td>0.029</td>\n",
       "      <td>0.675</td>\n",
       "      <td>0.595</td>\n",
       "      <td>0.019</td>\n",
       "      <td>0.459</td>\n",
       "      <td>0.104</td>\n",
       "      <td>0.140</td>\n",
       "      <td>0.026</td>\n",
       "    </tr>\n",
       "    <tr>\n",
       "      <th>30</th>\n",
       "      <td>0.018</td>\n",
       "      <td>0.039</td>\n",
       "      <td>0.019</td>\n",
       "      <td>0.035</td>\n",
       "      <td>0.675</td>\n",
       "      <td>0.652</td>\n",
       "      <td>0.027</td>\n",
       "      <td>0.403</td>\n",
       "      <td>0.139</td>\n",
       "      <td>0.123</td>\n",
       "      <td>0.026</td>\n",
       "    </tr>\n",
       "    <tr>\n",
       "      <th>11</th>\n",
       "      <td>0.016</td>\n",
       "      <td>0.035</td>\n",
       "      <td>0.019</td>\n",
       "      <td>0.035</td>\n",
       "      <td>0.672</td>\n",
       "      <td>0.577</td>\n",
       "      <td>0.024</td>\n",
       "      <td>0.472</td>\n",
       "      <td>0.112</td>\n",
       "      <td>0.141</td>\n",
       "      <td>0.023</td>\n",
       "    </tr>\n",
       "    <tr>\n",
       "      <th>15</th>\n",
       "      <td>0.016</td>\n",
       "      <td>0.026</td>\n",
       "      <td>0.020</td>\n",
       "      <td>0.025</td>\n",
       "      <td>0.671</td>\n",
       "      <td>0.590</td>\n",
       "      <td>0.031</td>\n",
       "      <td>0.589</td>\n",
       "      <td>0.097</td>\n",
       "      <td>0.152</td>\n",
       "      <td>0.024</td>\n",
       "    </tr>\n",
       "    <tr>\n",
       "      <th>24</th>\n",
       "      <td>0.021</td>\n",
       "      <td>0.039</td>\n",
       "      <td>0.030</td>\n",
       "      <td>0.044</td>\n",
       "      <td>0.670</td>\n",
       "      <td>0.425</td>\n",
       "      <td>0.038</td>\n",
       "      <td>0.747</td>\n",
       "      <td>0.070</td>\n",
       "      <td>0.211</td>\n",
       "      <td>0.016</td>\n",
       "    </tr>\n",
       "    <tr>\n",
       "      <th>68</th>\n",
       "      <td>0.020</td>\n",
       "      <td>0.041</td>\n",
       "      <td>0.024</td>\n",
       "      <td>0.036</td>\n",
       "      <td>0.666</td>\n",
       "      <td>0.509</td>\n",
       "      <td>0.037</td>\n",
       "      <td>0.465</td>\n",
       "      <td>0.110</td>\n",
       "      <td>0.130</td>\n",
       "      <td>0.021</td>\n",
       "    </tr>\n",
       "    <tr>\n",
       "      <th>65</th>\n",
       "      <td>0.016</td>\n",
       "      <td>0.026</td>\n",
       "      <td>0.017</td>\n",
       "      <td>0.028</td>\n",
       "      <td>0.665</td>\n",
       "      <td>0.760</td>\n",
       "      <td>0.023</td>\n",
       "      <td>0.609</td>\n",
       "      <td>0.105</td>\n",
       "      <td>0.163</td>\n",
       "      <td>0.031</td>\n",
       "    </tr>\n",
       "    <tr>\n",
       "      <th>35</th>\n",
       "      <td>0.016</td>\n",
       "      <td>0.024</td>\n",
       "      <td>0.015</td>\n",
       "      <td>0.023</td>\n",
       "      <td>0.664</td>\n",
       "      <td>0.750</td>\n",
       "      <td>0.016</td>\n",
       "      <td>0.512</td>\n",
       "      <td>0.110</td>\n",
       "      <td>0.151</td>\n",
       "      <td>0.039</td>\n",
       "    </tr>\n",
       "    <tr>\n",
       "      <th>81</th>\n",
       "      <td>0.017</td>\n",
       "      <td>0.025</td>\n",
       "      <td>0.021</td>\n",
       "      <td>0.029</td>\n",
       "      <td>0.659</td>\n",
       "      <td>0.696</td>\n",
       "      <td>0.033</td>\n",
       "      <td>0.746</td>\n",
       "      <td>0.084</td>\n",
       "      <td>0.201</td>\n",
       "      <td>0.029</td>\n",
       "    </tr>\n",
       "  </tbody>\n",
       "</table>\n",
       "</div>"
      ],
      "text/plain": [
       "       sadness  disgust  pessimism  anger  anticipation    joy   fear  \\\n",
       "topic                                                                   \n",
       "20       0.018    0.033      0.024  0.032         0.718  0.455  0.035   \n",
       "54       0.017    0.029      0.022  0.029         0.702  0.544  0.037   \n",
       "40       0.022    0.047      0.031  0.040         0.692  0.302  0.043   \n",
       "53       0.016    0.030      0.019  0.029         0.692  0.629  0.023   \n",
       "27       0.021    0.041      0.023  0.036         0.681  0.473  0.026   \n",
       "78       0.018    0.036      0.024  0.035         0.677  0.524  0.038   \n",
       "6        0.019    0.032      0.019  0.029         0.675  0.595  0.019   \n",
       "30       0.018    0.039      0.019  0.035         0.675  0.652  0.027   \n",
       "11       0.016    0.035      0.019  0.035         0.672  0.577  0.024   \n",
       "15       0.016    0.026      0.020  0.025         0.671  0.590  0.031   \n",
       "24       0.021    0.039      0.030  0.044         0.670  0.425  0.038   \n",
       "68       0.020    0.041      0.024  0.036         0.666  0.509  0.037   \n",
       "65       0.016    0.026      0.017  0.028         0.665  0.760  0.023   \n",
       "35       0.016    0.024      0.015  0.023         0.664  0.750  0.016   \n",
       "81       0.017    0.025      0.021  0.029         0.659  0.696  0.033   \n",
       "\n",
       "       optimism  surprise  trust   love  \n",
       "topic                                    \n",
       "20        0.554     0.104  0.173  0.021  \n",
       "54        0.598     0.100  0.179  0.025  \n",
       "40        0.428     0.099  0.135  0.016  \n",
       "53        0.512     0.112  0.156  0.030  \n",
       "27        0.420     0.112  0.129  0.021  \n",
       "78        0.582     0.096  0.158  0.020  \n",
       "6         0.459     0.104  0.140  0.026  \n",
       "30        0.403     0.139  0.123  0.026  \n",
       "11        0.472     0.112  0.141  0.023  \n",
       "15        0.589     0.097  0.152  0.024  \n",
       "24        0.747     0.070  0.211  0.016  \n",
       "68        0.465     0.110  0.130  0.021  \n",
       "65        0.609     0.105  0.163  0.031  \n",
       "35        0.512     0.110  0.151  0.039  \n",
       "81        0.746     0.084  0.201  0.029  "
      ]
     },
     "execution_count": 12,
     "metadata": {},
     "output_type": "execute_result"
    }
   ],
   "source": [
    "df"
   ]
  },
  {
   "cell_type": "code",
   "execution_count": 19,
   "metadata": {},
   "outputs": [
    {
     "data": {
      "application/vnd.plotly.v1+json": {
       "config": {
        "plotlyServerURL": "https://plot.ly"
       },
       "data": [
        {
         "alignmentgroup": "True",
         "hovertemplate": "emotion=fear<br>score=%{x}<br>topic=%{y}<extra></extra>",
         "legendgroup": "fear",
         "marker": {
          "color": "forestgreen",
          "pattern": {
           "shape": ""
          }
         },
         "name": "fear",
         "offsetgroup": "fear",
         "orientation": "h",
         "showlegend": true,
         "textposition": "auto",
         "type": "bar",
         "x": [
          0.035,
          0.037,
          0.043,
          0.023,
          0.026,
          0.038,
          0.019,
          0.027,
          0.024,
          0.031,
          0.038,
          0.037,
          0.023,
          0.016,
          0.033
         ],
         "xaxis": "x",
         "y": [
          20,
          54,
          40,
          53,
          27,
          78,
          6,
          30,
          11,
          15,
          24,
          68,
          65,
          35,
          81
         ],
         "yaxis": "y"
        },
        {
         "alignmentgroup": "True",
         "hovertemplate": "emotion=anger<br>score=%{x}<br>topic=%{y}<extra></extra>",
         "legendgroup": "anger",
         "marker": {
          "color": "orangered",
          "pattern": {
           "shape": ""
          }
         },
         "name": "anger",
         "offsetgroup": "anger",
         "orientation": "h",
         "showlegend": true,
         "textposition": "auto",
         "type": "bar",
         "x": [
          0.032,
          0.029,
          0.04,
          0.029,
          0.036,
          0.035,
          0.029,
          0.035,
          0.035,
          0.025,
          0.044,
          0.036,
          0.028,
          0.023,
          0.029
         ],
         "xaxis": "x",
         "y": [
          20,
          54,
          40,
          53,
          27,
          78,
          6,
          30,
          11,
          15,
          24,
          68,
          65,
          35,
          81
         ],
         "yaxis": "y"
        },
        {
         "alignmentgroup": "True",
         "hovertemplate": "emotion=disgust<br>score=%{x}<br>topic=%{y}<extra></extra>",
         "legendgroup": "disgust",
         "marker": {
          "color": "slateblue",
          "pattern": {
           "shape": ""
          }
         },
         "name": "disgust",
         "offsetgroup": "disgust",
         "orientation": "h",
         "showlegend": true,
         "textposition": "auto",
         "type": "bar",
         "x": [
          0.033,
          0.029,
          0.047,
          0.03,
          0.041,
          0.036,
          0.032,
          0.039,
          0.035,
          0.026,
          0.039,
          0.041,
          0.026,
          0.024,
          0.025
         ],
         "xaxis": "x",
         "y": [
          20,
          54,
          40,
          53,
          27,
          78,
          6,
          30,
          11,
          15,
          24,
          68,
          65,
          35,
          81
         ],
         "yaxis": "y"
        },
        {
         "alignmentgroup": "True",
         "hovertemplate": "emotion=sadness<br>score=%{x}<br>topic=%{y}<extra></extra>",
         "legendgroup": "sadness",
         "marker": {
          "color": "dodgerblue",
          "pattern": {
           "shape": ""
          }
         },
         "name": "sadness",
         "offsetgroup": "sadness",
         "orientation": "h",
         "showlegend": true,
         "textposition": "auto",
         "type": "bar",
         "x": [
          0.018,
          0.017,
          0.022,
          0.016,
          0.021,
          0.018,
          0.019,
          0.018,
          0.016,
          0.016,
          0.021,
          0.02,
          0.016,
          0.016,
          0.017
         ],
         "xaxis": "x",
         "y": [
          20,
          54,
          40,
          53,
          27,
          78,
          6,
          30,
          11,
          15,
          24,
          68,
          65,
          35,
          81
         ],
         "yaxis": "y"
        },
        {
         "alignmentgroup": "True",
         "hovertemplate": "emotion=anticipation<br>score=%{x}<br>topic=%{y}<extra></extra>",
         "legendgroup": "anticipation",
         "marker": {
          "color": "darkorange",
          "pattern": {
           "shape": ""
          }
         },
         "name": "anticipation",
         "offsetgroup": "anticipation",
         "orientation": "h",
         "showlegend": true,
         "textposition": "auto",
         "type": "bar",
         "x": [
          0.718,
          0.702,
          0.692,
          0.692,
          0.681,
          0.677,
          0.675,
          0.675,
          0.672,
          0.671,
          0.67,
          0.666,
          0.665,
          0.664,
          0.659
         ],
         "xaxis": "x",
         "y": [
          20,
          54,
          40,
          53,
          27,
          78,
          6,
          30,
          11,
          15,
          24,
          68,
          65,
          35,
          81
         ],
         "yaxis": "y"
        },
        {
         "alignmentgroup": "True",
         "hovertemplate": "emotion=surprise<br>score=%{x}<br>topic=%{y}<extra></extra>",
         "legendgroup": "surprise",
         "marker": {
          "color": "skyblue",
          "pattern": {
           "shape": ""
          }
         },
         "name": "surprise",
         "offsetgroup": "surprise",
         "orientation": "h",
         "showlegend": true,
         "textposition": "auto",
         "type": "bar",
         "x": [
          0.104,
          0.1,
          0.099,
          0.112,
          0.112,
          0.096,
          0.104,
          0.139,
          0.112,
          0.097,
          0.07,
          0.11,
          0.105,
          0.11,
          0.084
         ],
         "xaxis": "x",
         "y": [
          20,
          54,
          40,
          53,
          27,
          78,
          6,
          30,
          11,
          15,
          24,
          68,
          65,
          35,
          81
         ],
         "yaxis": "y"
        },
        {
         "alignmentgroup": "True",
         "hovertemplate": "emotion=joy<br>score=%{x}<br>topic=%{y}<extra></extra>",
         "legendgroup": "joy",
         "marker": {
          "color": "gold",
          "pattern": {
           "shape": ""
          }
         },
         "name": "joy",
         "offsetgroup": "joy",
         "orientation": "h",
         "showlegend": true,
         "textposition": "auto",
         "type": "bar",
         "x": [
          0.455,
          0.544,
          0.302,
          0.629,
          0.473,
          0.524,
          0.595,
          0.652,
          0.577,
          0.59,
          0.425,
          0.509,
          0.76,
          0.75,
          0.696
         ],
         "xaxis": "x",
         "y": [
          20,
          54,
          40,
          53,
          27,
          78,
          6,
          30,
          11,
          15,
          24,
          68,
          65,
          35,
          81
         ],
         "yaxis": "y"
        },
        {
         "alignmentgroup": "True",
         "hovertemplate": "emotion=trust<br>score=%{x}<br>topic=%{y}<extra></extra>",
         "legendgroup": "trust",
         "marker": {
          "color": "olivedrab",
          "pattern": {
           "shape": ""
          }
         },
         "name": "trust",
         "offsetgroup": "trust",
         "orientation": "h",
         "showlegend": true,
         "textposition": "auto",
         "type": "bar",
         "x": [
          0.173,
          0.179,
          0.135,
          0.156,
          0.129,
          0.158,
          0.14,
          0.123,
          0.141,
          0.152,
          0.211,
          0.13,
          0.163,
          0.151,
          0.201
         ],
         "xaxis": "x",
         "y": [
          20,
          54,
          40,
          53,
          27,
          78,
          6,
          30,
          11,
          15,
          24,
          68,
          65,
          35,
          81
         ],
         "yaxis": "y"
        }
       ],
       "layout": {
        "bargap": 0.5,
        "barmode": "relative",
        "font": {
         "family": "CMU Sans Serif",
         "size": 12
        },
        "legend": {
         "title": {
          "text": "emotion"
         },
         "tracegroupgap": 0
        },
        "margin": {
         "t": 60
        },
        "template": {
         "data": {
          "bar": [
           {
            "error_x": {
             "color": "#2a3f5f"
            },
            "error_y": {
             "color": "#2a3f5f"
            },
            "marker": {
             "line": {
              "color": "#E5ECF6",
              "width": 0.5
             },
             "pattern": {
              "fillmode": "overlay",
              "size": 10,
              "solidity": 0.2
             }
            },
            "type": "bar"
           }
          ],
          "barpolar": [
           {
            "marker": {
             "line": {
              "color": "#E5ECF6",
              "width": 0.5
             },
             "pattern": {
              "fillmode": "overlay",
              "size": 10,
              "solidity": 0.2
             }
            },
            "type": "barpolar"
           }
          ],
          "carpet": [
           {
            "aaxis": {
             "endlinecolor": "#2a3f5f",
             "gridcolor": "white",
             "linecolor": "white",
             "minorgridcolor": "white",
             "startlinecolor": "#2a3f5f"
            },
            "baxis": {
             "endlinecolor": "#2a3f5f",
             "gridcolor": "white",
             "linecolor": "white",
             "minorgridcolor": "white",
             "startlinecolor": "#2a3f5f"
            },
            "type": "carpet"
           }
          ],
          "choropleth": [
           {
            "colorbar": {
             "outlinewidth": 0,
             "ticks": ""
            },
            "type": "choropleth"
           }
          ],
          "contour": [
           {
            "colorbar": {
             "outlinewidth": 0,
             "ticks": ""
            },
            "colorscale": [
             [
              0,
              "#0d0887"
             ],
             [
              0.1111111111111111,
              "#46039f"
             ],
             [
              0.2222222222222222,
              "#7201a8"
             ],
             [
              0.3333333333333333,
              "#9c179e"
             ],
             [
              0.4444444444444444,
              "#bd3786"
             ],
             [
              0.5555555555555556,
              "#d8576b"
             ],
             [
              0.6666666666666666,
              "#ed7953"
             ],
             [
              0.7777777777777778,
              "#fb9f3a"
             ],
             [
              0.8888888888888888,
              "#fdca26"
             ],
             [
              1,
              "#f0f921"
             ]
            ],
            "type": "contour"
           }
          ],
          "contourcarpet": [
           {
            "colorbar": {
             "outlinewidth": 0,
             "ticks": ""
            },
            "type": "contourcarpet"
           }
          ],
          "heatmap": [
           {
            "colorbar": {
             "outlinewidth": 0,
             "ticks": ""
            },
            "colorscale": [
             [
              0,
              "#0d0887"
             ],
             [
              0.1111111111111111,
              "#46039f"
             ],
             [
              0.2222222222222222,
              "#7201a8"
             ],
             [
              0.3333333333333333,
              "#9c179e"
             ],
             [
              0.4444444444444444,
              "#bd3786"
             ],
             [
              0.5555555555555556,
              "#d8576b"
             ],
             [
              0.6666666666666666,
              "#ed7953"
             ],
             [
              0.7777777777777778,
              "#fb9f3a"
             ],
             [
              0.8888888888888888,
              "#fdca26"
             ],
             [
              1,
              "#f0f921"
             ]
            ],
            "type": "heatmap"
           }
          ],
          "heatmapgl": [
           {
            "colorbar": {
             "outlinewidth": 0,
             "ticks": ""
            },
            "colorscale": [
             [
              0,
              "#0d0887"
             ],
             [
              0.1111111111111111,
              "#46039f"
             ],
             [
              0.2222222222222222,
              "#7201a8"
             ],
             [
              0.3333333333333333,
              "#9c179e"
             ],
             [
              0.4444444444444444,
              "#bd3786"
             ],
             [
              0.5555555555555556,
              "#d8576b"
             ],
             [
              0.6666666666666666,
              "#ed7953"
             ],
             [
              0.7777777777777778,
              "#fb9f3a"
             ],
             [
              0.8888888888888888,
              "#fdca26"
             ],
             [
              1,
              "#f0f921"
             ]
            ],
            "type": "heatmapgl"
           }
          ],
          "histogram": [
           {
            "marker": {
             "pattern": {
              "fillmode": "overlay",
              "size": 10,
              "solidity": 0.2
             }
            },
            "type": "histogram"
           }
          ],
          "histogram2d": [
           {
            "colorbar": {
             "outlinewidth": 0,
             "ticks": ""
            },
            "colorscale": [
             [
              0,
              "#0d0887"
             ],
             [
              0.1111111111111111,
              "#46039f"
             ],
             [
              0.2222222222222222,
              "#7201a8"
             ],
             [
              0.3333333333333333,
              "#9c179e"
             ],
             [
              0.4444444444444444,
              "#bd3786"
             ],
             [
              0.5555555555555556,
              "#d8576b"
             ],
             [
              0.6666666666666666,
              "#ed7953"
             ],
             [
              0.7777777777777778,
              "#fb9f3a"
             ],
             [
              0.8888888888888888,
              "#fdca26"
             ],
             [
              1,
              "#f0f921"
             ]
            ],
            "type": "histogram2d"
           }
          ],
          "histogram2dcontour": [
           {
            "colorbar": {
             "outlinewidth": 0,
             "ticks": ""
            },
            "colorscale": [
             [
              0,
              "#0d0887"
             ],
             [
              0.1111111111111111,
              "#46039f"
             ],
             [
              0.2222222222222222,
              "#7201a8"
             ],
             [
              0.3333333333333333,
              "#9c179e"
             ],
             [
              0.4444444444444444,
              "#bd3786"
             ],
             [
              0.5555555555555556,
              "#d8576b"
             ],
             [
              0.6666666666666666,
              "#ed7953"
             ],
             [
              0.7777777777777778,
              "#fb9f3a"
             ],
             [
              0.8888888888888888,
              "#fdca26"
             ],
             [
              1,
              "#f0f921"
             ]
            ],
            "type": "histogram2dcontour"
           }
          ],
          "mesh3d": [
           {
            "colorbar": {
             "outlinewidth": 0,
             "ticks": ""
            },
            "type": "mesh3d"
           }
          ],
          "parcoords": [
           {
            "line": {
             "colorbar": {
              "outlinewidth": 0,
              "ticks": ""
             }
            },
            "type": "parcoords"
           }
          ],
          "pie": [
           {
            "automargin": true,
            "type": "pie"
           }
          ],
          "scatter": [
           {
            "fillpattern": {
             "fillmode": "overlay",
             "size": 10,
             "solidity": 0.2
            },
            "type": "scatter"
           }
          ],
          "scatter3d": [
           {
            "line": {
             "colorbar": {
              "outlinewidth": 0,
              "ticks": ""
             }
            },
            "marker": {
             "colorbar": {
              "outlinewidth": 0,
              "ticks": ""
             }
            },
            "type": "scatter3d"
           }
          ],
          "scattercarpet": [
           {
            "marker": {
             "colorbar": {
              "outlinewidth": 0,
              "ticks": ""
             }
            },
            "type": "scattercarpet"
           }
          ],
          "scattergeo": [
           {
            "marker": {
             "colorbar": {
              "outlinewidth": 0,
              "ticks": ""
             }
            },
            "type": "scattergeo"
           }
          ],
          "scattergl": [
           {
            "marker": {
             "colorbar": {
              "outlinewidth": 0,
              "ticks": ""
             }
            },
            "type": "scattergl"
           }
          ],
          "scattermapbox": [
           {
            "marker": {
             "colorbar": {
              "outlinewidth": 0,
              "ticks": ""
             }
            },
            "type": "scattermapbox"
           }
          ],
          "scatterpolar": [
           {
            "marker": {
             "colorbar": {
              "outlinewidth": 0,
              "ticks": ""
             }
            },
            "type": "scatterpolar"
           }
          ],
          "scatterpolargl": [
           {
            "marker": {
             "colorbar": {
              "outlinewidth": 0,
              "ticks": ""
             }
            },
            "type": "scatterpolargl"
           }
          ],
          "scatterternary": [
           {
            "marker": {
             "colorbar": {
              "outlinewidth": 0,
              "ticks": ""
             }
            },
            "type": "scatterternary"
           }
          ],
          "surface": [
           {
            "colorbar": {
             "outlinewidth": 0,
             "ticks": ""
            },
            "colorscale": [
             [
              0,
              "#0d0887"
             ],
             [
              0.1111111111111111,
              "#46039f"
             ],
             [
              0.2222222222222222,
              "#7201a8"
             ],
             [
              0.3333333333333333,
              "#9c179e"
             ],
             [
              0.4444444444444444,
              "#bd3786"
             ],
             [
              0.5555555555555556,
              "#d8576b"
             ],
             [
              0.6666666666666666,
              "#ed7953"
             ],
             [
              0.7777777777777778,
              "#fb9f3a"
             ],
             [
              0.8888888888888888,
              "#fdca26"
             ],
             [
              1,
              "#f0f921"
             ]
            ],
            "type": "surface"
           }
          ],
          "table": [
           {
            "cells": {
             "fill": {
              "color": "#EBF0F8"
             },
             "line": {
              "color": "white"
             }
            },
            "header": {
             "fill": {
              "color": "#C8D4E3"
             },
             "line": {
              "color": "white"
             }
            },
            "type": "table"
           }
          ]
         },
         "layout": {
          "annotationdefaults": {
           "arrowcolor": "#2a3f5f",
           "arrowhead": 0,
           "arrowwidth": 1
          },
          "autotypenumbers": "strict",
          "coloraxis": {
           "colorbar": {
            "outlinewidth": 0,
            "ticks": ""
           }
          },
          "colorscale": {
           "diverging": [
            [
             0,
             "#8e0152"
            ],
            [
             0.1,
             "#c51b7d"
            ],
            [
             0.2,
             "#de77ae"
            ],
            [
             0.3,
             "#f1b6da"
            ],
            [
             0.4,
             "#fde0ef"
            ],
            [
             0.5,
             "#f7f7f7"
            ],
            [
             0.6,
             "#e6f5d0"
            ],
            [
             0.7,
             "#b8e186"
            ],
            [
             0.8,
             "#7fbc41"
            ],
            [
             0.9,
             "#4d9221"
            ],
            [
             1,
             "#276419"
            ]
           ],
           "sequential": [
            [
             0,
             "#0d0887"
            ],
            [
             0.1111111111111111,
             "#46039f"
            ],
            [
             0.2222222222222222,
             "#7201a8"
            ],
            [
             0.3333333333333333,
             "#9c179e"
            ],
            [
             0.4444444444444444,
             "#bd3786"
            ],
            [
             0.5555555555555556,
             "#d8576b"
            ],
            [
             0.6666666666666666,
             "#ed7953"
            ],
            [
             0.7777777777777778,
             "#fb9f3a"
            ],
            [
             0.8888888888888888,
             "#fdca26"
            ],
            [
             1,
             "#f0f921"
            ]
           ],
           "sequentialminus": [
            [
             0,
             "#0d0887"
            ],
            [
             0.1111111111111111,
             "#46039f"
            ],
            [
             0.2222222222222222,
             "#7201a8"
            ],
            [
             0.3333333333333333,
             "#9c179e"
            ],
            [
             0.4444444444444444,
             "#bd3786"
            ],
            [
             0.5555555555555556,
             "#d8576b"
            ],
            [
             0.6666666666666666,
             "#ed7953"
            ],
            [
             0.7777777777777778,
             "#fb9f3a"
            ],
            [
             0.8888888888888888,
             "#fdca26"
            ],
            [
             1,
             "#f0f921"
            ]
           ]
          },
          "colorway": [
           "#636efa",
           "#EF553B",
           "#00cc96",
           "#ab63fa",
           "#FFA15A",
           "#19d3f3",
           "#FF6692",
           "#B6E880",
           "#FF97FF",
           "#FECB52"
          ],
          "font": {
           "color": "#2a3f5f"
          },
          "geo": {
           "bgcolor": "white",
           "lakecolor": "white",
           "landcolor": "#E5ECF6",
           "showlakes": true,
           "showland": true,
           "subunitcolor": "white"
          },
          "hoverlabel": {
           "align": "left"
          },
          "hovermode": "closest",
          "mapbox": {
           "style": "light"
          },
          "paper_bgcolor": "white",
          "plot_bgcolor": "#E5ECF6",
          "polar": {
           "angularaxis": {
            "gridcolor": "white",
            "linecolor": "white",
            "ticks": ""
           },
           "bgcolor": "#E5ECF6",
           "radialaxis": {
            "gridcolor": "white",
            "linecolor": "white",
            "ticks": ""
           }
          },
          "scene": {
           "xaxis": {
            "backgroundcolor": "#E5ECF6",
            "gridcolor": "white",
            "gridwidth": 2,
            "linecolor": "white",
            "showbackground": true,
            "ticks": "",
            "zerolinecolor": "white"
           },
           "yaxis": {
            "backgroundcolor": "#E5ECF6",
            "gridcolor": "white",
            "gridwidth": 2,
            "linecolor": "white",
            "showbackground": true,
            "ticks": "",
            "zerolinecolor": "white"
           },
           "zaxis": {
            "backgroundcolor": "#E5ECF6",
            "gridcolor": "white",
            "gridwidth": 2,
            "linecolor": "white",
            "showbackground": true,
            "ticks": "",
            "zerolinecolor": "white"
           }
          },
          "shapedefaults": {
           "line": {
            "color": "#2a3f5f"
           }
          },
          "ternary": {
           "aaxis": {
            "gridcolor": "white",
            "linecolor": "white",
            "ticks": ""
           },
           "baxis": {
            "gridcolor": "white",
            "linecolor": "white",
            "ticks": ""
           },
           "bgcolor": "#E5ECF6",
           "caxis": {
            "gridcolor": "white",
            "linecolor": "white",
            "ticks": ""
           }
          },
          "title": {
           "x": 0.05
          },
          "xaxis": {
           "automargin": true,
           "gridcolor": "white",
           "linecolor": "white",
           "ticks": "",
           "title": {
            "standoff": 15
           },
           "zerolinecolor": "white",
           "zerolinewidth": 2
          },
          "yaxis": {
           "automargin": true,
           "gridcolor": "white",
           "linecolor": "white",
           "ticks": "",
           "title": {
            "standoff": 15
           },
           "zerolinecolor": "white",
           "zerolinewidth": 2
          }
         }
        },
        "xaxis": {
         "anchor": "y",
         "domain": [
          0,
          1
         ],
         "title": {
          "text": "score"
         }
        },
        "yaxis": {
         "anchor": "x",
         "autorange": "reversed",
         "domain": [
          0,
          1
         ],
         "title": {
          "text": "topic"
         },
         "type": "category"
        }
       }
      },
      "text/html": [
       "<div>                            <div id=\"f12a0907-726a-4638-b96b-a52ae6934c80\" class=\"plotly-graph-div\" style=\"height:525px; width:100%;\"></div>            <script type=\"text/javascript\">                require([\"plotly\"], function(Plotly) {                    window.PLOTLYENV=window.PLOTLYENV || {};                                    if (document.getElementById(\"f12a0907-726a-4638-b96b-a52ae6934c80\")) {                    Plotly.newPlot(                        \"f12a0907-726a-4638-b96b-a52ae6934c80\",                        [{\"alignmentgroup\":\"True\",\"hovertemplate\":\"emotion=fear\\u003cbr\\u003escore=%{x}\\u003cbr\\u003etopic=%{y}\\u003cextra\\u003e\\u003c\\u002fextra\\u003e\",\"legendgroup\":\"fear\",\"marker\":{\"color\":\"forestgreen\",\"pattern\":{\"shape\":\"\"}},\"name\":\"fear\",\"offsetgroup\":\"fear\",\"orientation\":\"h\",\"showlegend\":true,\"textposition\":\"auto\",\"x\":[0.035,0.037,0.043,0.023,0.026,0.038,0.019,0.027,0.024,0.031,0.038,0.037,0.023,0.016,0.033],\"xaxis\":\"x\",\"y\":[20,54,40,53,27,78,6,30,11,15,24,68,65,35,81],\"yaxis\":\"y\",\"type\":\"bar\"},{\"alignmentgroup\":\"True\",\"hovertemplate\":\"emotion=anger\\u003cbr\\u003escore=%{x}\\u003cbr\\u003etopic=%{y}\\u003cextra\\u003e\\u003c\\u002fextra\\u003e\",\"legendgroup\":\"anger\",\"marker\":{\"color\":\"orangered\",\"pattern\":{\"shape\":\"\"}},\"name\":\"anger\",\"offsetgroup\":\"anger\",\"orientation\":\"h\",\"showlegend\":true,\"textposition\":\"auto\",\"x\":[0.032,0.029,0.04,0.029,0.036,0.035,0.029,0.035,0.035,0.025,0.044,0.036,0.028,0.023,0.029],\"xaxis\":\"x\",\"y\":[20,54,40,53,27,78,6,30,11,15,24,68,65,35,81],\"yaxis\":\"y\",\"type\":\"bar\"},{\"alignmentgroup\":\"True\",\"hovertemplate\":\"emotion=disgust\\u003cbr\\u003escore=%{x}\\u003cbr\\u003etopic=%{y}\\u003cextra\\u003e\\u003c\\u002fextra\\u003e\",\"legendgroup\":\"disgust\",\"marker\":{\"color\":\"slateblue\",\"pattern\":{\"shape\":\"\"}},\"name\":\"disgust\",\"offsetgroup\":\"disgust\",\"orientation\":\"h\",\"showlegend\":true,\"textposition\":\"auto\",\"x\":[0.033,0.029,0.047,0.03,0.041,0.036,0.032,0.039,0.035,0.026,0.039,0.041,0.026,0.024,0.025],\"xaxis\":\"x\",\"y\":[20,54,40,53,27,78,6,30,11,15,24,68,65,35,81],\"yaxis\":\"y\",\"type\":\"bar\"},{\"alignmentgroup\":\"True\",\"hovertemplate\":\"emotion=sadness\\u003cbr\\u003escore=%{x}\\u003cbr\\u003etopic=%{y}\\u003cextra\\u003e\\u003c\\u002fextra\\u003e\",\"legendgroup\":\"sadness\",\"marker\":{\"color\":\"dodgerblue\",\"pattern\":{\"shape\":\"\"}},\"name\":\"sadness\",\"offsetgroup\":\"sadness\",\"orientation\":\"h\",\"showlegend\":true,\"textposition\":\"auto\",\"x\":[0.018,0.017,0.022,0.016,0.021,0.018,0.019,0.018,0.016,0.016,0.021,0.02,0.016,0.016,0.017],\"xaxis\":\"x\",\"y\":[20,54,40,53,27,78,6,30,11,15,24,68,65,35,81],\"yaxis\":\"y\",\"type\":\"bar\"},{\"alignmentgroup\":\"True\",\"hovertemplate\":\"emotion=anticipation\\u003cbr\\u003escore=%{x}\\u003cbr\\u003etopic=%{y}\\u003cextra\\u003e\\u003c\\u002fextra\\u003e\",\"legendgroup\":\"anticipation\",\"marker\":{\"color\":\"darkorange\",\"pattern\":{\"shape\":\"\"}},\"name\":\"anticipation\",\"offsetgroup\":\"anticipation\",\"orientation\":\"h\",\"showlegend\":true,\"textposition\":\"auto\",\"x\":[0.718,0.702,0.692,0.692,0.681,0.677,0.675,0.675,0.672,0.671,0.67,0.666,0.665,0.664,0.659],\"xaxis\":\"x\",\"y\":[20,54,40,53,27,78,6,30,11,15,24,68,65,35,81],\"yaxis\":\"y\",\"type\":\"bar\"},{\"alignmentgroup\":\"True\",\"hovertemplate\":\"emotion=surprise\\u003cbr\\u003escore=%{x}\\u003cbr\\u003etopic=%{y}\\u003cextra\\u003e\\u003c\\u002fextra\\u003e\",\"legendgroup\":\"surprise\",\"marker\":{\"color\":\"skyblue\",\"pattern\":{\"shape\":\"\"}},\"name\":\"surprise\",\"offsetgroup\":\"surprise\",\"orientation\":\"h\",\"showlegend\":true,\"textposition\":\"auto\",\"x\":[0.104,0.1,0.099,0.112,0.112,0.096,0.104,0.139,0.112,0.097,0.07,0.11,0.105,0.11,0.084],\"xaxis\":\"x\",\"y\":[20,54,40,53,27,78,6,30,11,15,24,68,65,35,81],\"yaxis\":\"y\",\"type\":\"bar\"},{\"alignmentgroup\":\"True\",\"hovertemplate\":\"emotion=joy\\u003cbr\\u003escore=%{x}\\u003cbr\\u003etopic=%{y}\\u003cextra\\u003e\\u003c\\u002fextra\\u003e\",\"legendgroup\":\"joy\",\"marker\":{\"color\":\"gold\",\"pattern\":{\"shape\":\"\"}},\"name\":\"joy\",\"offsetgroup\":\"joy\",\"orientation\":\"h\",\"showlegend\":true,\"textposition\":\"auto\",\"x\":[0.455,0.544,0.302,0.629,0.473,0.524,0.595,0.652,0.577,0.59,0.425,0.509,0.76,0.75,0.696],\"xaxis\":\"x\",\"y\":[20,54,40,53,27,78,6,30,11,15,24,68,65,35,81],\"yaxis\":\"y\",\"type\":\"bar\"},{\"alignmentgroup\":\"True\",\"hovertemplate\":\"emotion=trust\\u003cbr\\u003escore=%{x}\\u003cbr\\u003etopic=%{y}\\u003cextra\\u003e\\u003c\\u002fextra\\u003e\",\"legendgroup\":\"trust\",\"marker\":{\"color\":\"olivedrab\",\"pattern\":{\"shape\":\"\"}},\"name\":\"trust\",\"offsetgroup\":\"trust\",\"orientation\":\"h\",\"showlegend\":true,\"textposition\":\"auto\",\"x\":[0.173,0.179,0.135,0.156,0.129,0.158,0.14,0.123,0.141,0.152,0.211,0.13,0.163,0.151,0.201],\"xaxis\":\"x\",\"y\":[20,54,40,53,27,78,6,30,11,15,24,68,65,35,81],\"yaxis\":\"y\",\"type\":\"bar\"}],                        {\"template\":{\"data\":{\"histogram2dcontour\":[{\"type\":\"histogram2dcontour\",\"colorbar\":{\"outlinewidth\":0,\"ticks\":\"\"},\"colorscale\":[[0.0,\"#0d0887\"],[0.1111111111111111,\"#46039f\"],[0.2222222222222222,\"#7201a8\"],[0.3333333333333333,\"#9c179e\"],[0.4444444444444444,\"#bd3786\"],[0.5555555555555556,\"#d8576b\"],[0.6666666666666666,\"#ed7953\"],[0.7777777777777778,\"#fb9f3a\"],[0.8888888888888888,\"#fdca26\"],[1.0,\"#f0f921\"]]}],\"choropleth\":[{\"type\":\"choropleth\",\"colorbar\":{\"outlinewidth\":0,\"ticks\":\"\"}}],\"histogram2d\":[{\"type\":\"histogram2d\",\"colorbar\":{\"outlinewidth\":0,\"ticks\":\"\"},\"colorscale\":[[0.0,\"#0d0887\"],[0.1111111111111111,\"#46039f\"],[0.2222222222222222,\"#7201a8\"],[0.3333333333333333,\"#9c179e\"],[0.4444444444444444,\"#bd3786\"],[0.5555555555555556,\"#d8576b\"],[0.6666666666666666,\"#ed7953\"],[0.7777777777777778,\"#fb9f3a\"],[0.8888888888888888,\"#fdca26\"],[1.0,\"#f0f921\"]]}],\"heatmap\":[{\"type\":\"heatmap\",\"colorbar\":{\"outlinewidth\":0,\"ticks\":\"\"},\"colorscale\":[[0.0,\"#0d0887\"],[0.1111111111111111,\"#46039f\"],[0.2222222222222222,\"#7201a8\"],[0.3333333333333333,\"#9c179e\"],[0.4444444444444444,\"#bd3786\"],[0.5555555555555556,\"#d8576b\"],[0.6666666666666666,\"#ed7953\"],[0.7777777777777778,\"#fb9f3a\"],[0.8888888888888888,\"#fdca26\"],[1.0,\"#f0f921\"]]}],\"heatmapgl\":[{\"type\":\"heatmapgl\",\"colorbar\":{\"outlinewidth\":0,\"ticks\":\"\"},\"colorscale\":[[0.0,\"#0d0887\"],[0.1111111111111111,\"#46039f\"],[0.2222222222222222,\"#7201a8\"],[0.3333333333333333,\"#9c179e\"],[0.4444444444444444,\"#bd3786\"],[0.5555555555555556,\"#d8576b\"],[0.6666666666666666,\"#ed7953\"],[0.7777777777777778,\"#fb9f3a\"],[0.8888888888888888,\"#fdca26\"],[1.0,\"#f0f921\"]]}],\"contourcarpet\":[{\"type\":\"contourcarpet\",\"colorbar\":{\"outlinewidth\":0,\"ticks\":\"\"}}],\"contour\":[{\"type\":\"contour\",\"colorbar\":{\"outlinewidth\":0,\"ticks\":\"\"},\"colorscale\":[[0.0,\"#0d0887\"],[0.1111111111111111,\"#46039f\"],[0.2222222222222222,\"#7201a8\"],[0.3333333333333333,\"#9c179e\"],[0.4444444444444444,\"#bd3786\"],[0.5555555555555556,\"#d8576b\"],[0.6666666666666666,\"#ed7953\"],[0.7777777777777778,\"#fb9f3a\"],[0.8888888888888888,\"#fdca26\"],[1.0,\"#f0f921\"]]}],\"surface\":[{\"type\":\"surface\",\"colorbar\":{\"outlinewidth\":0,\"ticks\":\"\"},\"colorscale\":[[0.0,\"#0d0887\"],[0.1111111111111111,\"#46039f\"],[0.2222222222222222,\"#7201a8\"],[0.3333333333333333,\"#9c179e\"],[0.4444444444444444,\"#bd3786\"],[0.5555555555555556,\"#d8576b\"],[0.6666666666666666,\"#ed7953\"],[0.7777777777777778,\"#fb9f3a\"],[0.8888888888888888,\"#fdca26\"],[1.0,\"#f0f921\"]]}],\"mesh3d\":[{\"type\":\"mesh3d\",\"colorbar\":{\"outlinewidth\":0,\"ticks\":\"\"}}],\"scatter\":[{\"fillpattern\":{\"fillmode\":\"overlay\",\"size\":10,\"solidity\":0.2},\"type\":\"scatter\"}],\"parcoords\":[{\"type\":\"parcoords\",\"line\":{\"colorbar\":{\"outlinewidth\":0,\"ticks\":\"\"}}}],\"scatterpolargl\":[{\"type\":\"scatterpolargl\",\"marker\":{\"colorbar\":{\"outlinewidth\":0,\"ticks\":\"\"}}}],\"bar\":[{\"error_x\":{\"color\":\"#2a3f5f\"},\"error_y\":{\"color\":\"#2a3f5f\"},\"marker\":{\"line\":{\"color\":\"#E5ECF6\",\"width\":0.5},\"pattern\":{\"fillmode\":\"overlay\",\"size\":10,\"solidity\":0.2}},\"type\":\"bar\"}],\"scattergeo\":[{\"type\":\"scattergeo\",\"marker\":{\"colorbar\":{\"outlinewidth\":0,\"ticks\":\"\"}}}],\"scatterpolar\":[{\"type\":\"scatterpolar\",\"marker\":{\"colorbar\":{\"outlinewidth\":0,\"ticks\":\"\"}}}],\"histogram\":[{\"marker\":{\"pattern\":{\"fillmode\":\"overlay\",\"size\":10,\"solidity\":0.2}},\"type\":\"histogram\"}],\"scattergl\":[{\"type\":\"scattergl\",\"marker\":{\"colorbar\":{\"outlinewidth\":0,\"ticks\":\"\"}}}],\"scatter3d\":[{\"type\":\"scatter3d\",\"line\":{\"colorbar\":{\"outlinewidth\":0,\"ticks\":\"\"}},\"marker\":{\"colorbar\":{\"outlinewidth\":0,\"ticks\":\"\"}}}],\"scattermapbox\":[{\"type\":\"scattermapbox\",\"marker\":{\"colorbar\":{\"outlinewidth\":0,\"ticks\":\"\"}}}],\"scatterternary\":[{\"type\":\"scatterternary\",\"marker\":{\"colorbar\":{\"outlinewidth\":0,\"ticks\":\"\"}}}],\"scattercarpet\":[{\"type\":\"scattercarpet\",\"marker\":{\"colorbar\":{\"outlinewidth\":0,\"ticks\":\"\"}}}],\"carpet\":[{\"aaxis\":{\"endlinecolor\":\"#2a3f5f\",\"gridcolor\":\"white\",\"linecolor\":\"white\",\"minorgridcolor\":\"white\",\"startlinecolor\":\"#2a3f5f\"},\"baxis\":{\"endlinecolor\":\"#2a3f5f\",\"gridcolor\":\"white\",\"linecolor\":\"white\",\"minorgridcolor\":\"white\",\"startlinecolor\":\"#2a3f5f\"},\"type\":\"carpet\"}],\"table\":[{\"cells\":{\"fill\":{\"color\":\"#EBF0F8\"},\"line\":{\"color\":\"white\"}},\"header\":{\"fill\":{\"color\":\"#C8D4E3\"},\"line\":{\"color\":\"white\"}},\"type\":\"table\"}],\"barpolar\":[{\"marker\":{\"line\":{\"color\":\"#E5ECF6\",\"width\":0.5},\"pattern\":{\"fillmode\":\"overlay\",\"size\":10,\"solidity\":0.2}},\"type\":\"barpolar\"}],\"pie\":[{\"automargin\":true,\"type\":\"pie\"}]},\"layout\":{\"autotypenumbers\":\"strict\",\"colorway\":[\"#636efa\",\"#EF553B\",\"#00cc96\",\"#ab63fa\",\"#FFA15A\",\"#19d3f3\",\"#FF6692\",\"#B6E880\",\"#FF97FF\",\"#FECB52\"],\"font\":{\"color\":\"#2a3f5f\"},\"hovermode\":\"closest\",\"hoverlabel\":{\"align\":\"left\"},\"paper_bgcolor\":\"white\",\"plot_bgcolor\":\"#E5ECF6\",\"polar\":{\"bgcolor\":\"#E5ECF6\",\"angularaxis\":{\"gridcolor\":\"white\",\"linecolor\":\"white\",\"ticks\":\"\"},\"radialaxis\":{\"gridcolor\":\"white\",\"linecolor\":\"white\",\"ticks\":\"\"}},\"ternary\":{\"bgcolor\":\"#E5ECF6\",\"aaxis\":{\"gridcolor\":\"white\",\"linecolor\":\"white\",\"ticks\":\"\"},\"baxis\":{\"gridcolor\":\"white\",\"linecolor\":\"white\",\"ticks\":\"\"},\"caxis\":{\"gridcolor\":\"white\",\"linecolor\":\"white\",\"ticks\":\"\"}},\"coloraxis\":{\"colorbar\":{\"outlinewidth\":0,\"ticks\":\"\"}},\"colorscale\":{\"sequential\":[[0.0,\"#0d0887\"],[0.1111111111111111,\"#46039f\"],[0.2222222222222222,\"#7201a8\"],[0.3333333333333333,\"#9c179e\"],[0.4444444444444444,\"#bd3786\"],[0.5555555555555556,\"#d8576b\"],[0.6666666666666666,\"#ed7953\"],[0.7777777777777778,\"#fb9f3a\"],[0.8888888888888888,\"#fdca26\"],[1.0,\"#f0f921\"]],\"sequentialminus\":[[0.0,\"#0d0887\"],[0.1111111111111111,\"#46039f\"],[0.2222222222222222,\"#7201a8\"],[0.3333333333333333,\"#9c179e\"],[0.4444444444444444,\"#bd3786\"],[0.5555555555555556,\"#d8576b\"],[0.6666666666666666,\"#ed7953\"],[0.7777777777777778,\"#fb9f3a\"],[0.8888888888888888,\"#fdca26\"],[1.0,\"#f0f921\"]],\"diverging\":[[0,\"#8e0152\"],[0.1,\"#c51b7d\"],[0.2,\"#de77ae\"],[0.3,\"#f1b6da\"],[0.4,\"#fde0ef\"],[0.5,\"#f7f7f7\"],[0.6,\"#e6f5d0\"],[0.7,\"#b8e186\"],[0.8,\"#7fbc41\"],[0.9,\"#4d9221\"],[1,\"#276419\"]]},\"xaxis\":{\"gridcolor\":\"white\",\"linecolor\":\"white\",\"ticks\":\"\",\"title\":{\"standoff\":15},\"zerolinecolor\":\"white\",\"automargin\":true,\"zerolinewidth\":2},\"yaxis\":{\"gridcolor\":\"white\",\"linecolor\":\"white\",\"ticks\":\"\",\"title\":{\"standoff\":15},\"zerolinecolor\":\"white\",\"automargin\":true,\"zerolinewidth\":2},\"scene\":{\"xaxis\":{\"backgroundcolor\":\"#E5ECF6\",\"gridcolor\":\"white\",\"linecolor\":\"white\",\"showbackground\":true,\"ticks\":\"\",\"zerolinecolor\":\"white\",\"gridwidth\":2},\"yaxis\":{\"backgroundcolor\":\"#E5ECF6\",\"gridcolor\":\"white\",\"linecolor\":\"white\",\"showbackground\":true,\"ticks\":\"\",\"zerolinecolor\":\"white\",\"gridwidth\":2},\"zaxis\":{\"backgroundcolor\":\"#E5ECF6\",\"gridcolor\":\"white\",\"linecolor\":\"white\",\"showbackground\":true,\"ticks\":\"\",\"zerolinecolor\":\"white\",\"gridwidth\":2}},\"shapedefaults\":{\"line\":{\"color\":\"#2a3f5f\"}},\"annotationdefaults\":{\"arrowcolor\":\"#2a3f5f\",\"arrowhead\":0,\"arrowwidth\":1},\"geo\":{\"bgcolor\":\"white\",\"landcolor\":\"#E5ECF6\",\"subunitcolor\":\"white\",\"showland\":true,\"showlakes\":true,\"lakecolor\":\"white\"},\"title\":{\"x\":0.05},\"mapbox\":{\"style\":\"light\"}}},\"xaxis\":{\"anchor\":\"y\",\"domain\":[0.0,1.0],\"title\":{\"text\":\"score\"}},\"yaxis\":{\"anchor\":\"x\",\"domain\":[0.0,1.0],\"title\":{\"text\":\"topic\"},\"type\":\"category\",\"autorange\":\"reversed\"},\"legend\":{\"title\":{\"text\":\"emotion\"},\"tracegroupgap\":0},\"margin\":{\"t\":60},\"barmode\":\"relative\",\"font\":{\"family\":\"CMU Sans Serif\",\"size\":12},\"bargap\":0.5},                        {\"responsive\": true}                    ).then(function(){\n",
       "                            \n",
       "var gd = document.getElementById('f12a0907-726a-4638-b96b-a52ae6934c80');\n",
       "var x = new MutationObserver(function (mutations, observer) {{\n",
       "        var display = window.getComputedStyle(gd).display;\n",
       "        if (!display || display === 'none') {{\n",
       "            console.log([gd, 'removed!']);\n",
       "            Plotly.purge(gd);\n",
       "            observer.disconnect();\n",
       "        }}\n",
       "}});\n",
       "\n",
       "// Listen for the removal of the full notebook cells\n",
       "var notebookContainer = gd.closest('#notebook-container');\n",
       "if (notebookContainer) {{\n",
       "    x.observe(notebookContainer, {childList: true});\n",
       "}}\n",
       "\n",
       "// Listen for the clearing of the current output cell\n",
       "var outputEl = gd.closest('.output');\n",
       "if (outputEl) {{\n",
       "    x.observe(outputEl, {childList: true});\n",
       "}}\n",
       "\n",
       "                        })                };                });            </script>        </div>"
      ]
     },
     "metadata": {},
     "output_type": "display_data"
    }
   ],
   "source": [
    "import plotly.express as px\n",
    "\n",
    "df_long = pd.melt(df.loc[:,cols],ignore_index=False,value_name='score',var_name='emotion').reset_index()\n",
    "df_long[\"topic\"] = df_long[\"topic\"].astype(\"category\")\n",
    "fig = px.bar(df_long, x=\"score\", y=\"topic\", color=\"emotion\",orientation='h',color_discrete_map=emotion_colors)\n",
    "fig.update_yaxes(type='category',autorange='reversed')\n",
    "fig.update_layout(\n",
    "    font=dict(family=\"CMU Sans Serif\", size=12),\n",
    "    bargap=0.50,\n",
    ")\n",
    "fig.write_image(\"top_anticipating_emotions.svg\")\n",
    "fig.show()"
   ]
  },
  {
   "cell_type": "markdown",
   "metadata": {},
   "source": [
    "## Pessimism / Optimism"
   ]
  },
  {
   "cell_type": "markdown",
   "metadata": {},
   "source": [
    "Let's analyse optimism and pessimism but approximate them from Plutchik’s “wheel of emotions”."
   ]
  },
  {
   "cell_type": "code",
   "execution_count": 14,
   "metadata": {},
   "outputs": [],
   "source": [
    "pessimism = 0.5*emotions[\"anticipation\"] + 0.5*emotions[\"sadness\"]# - emotions[\"anticipation\"] * emotions[\"sadness\"]\n",
    "optimism = 0.5*emotions[\"anticipation\"] + 0.5*emotions[\"joy\"]# - emotions[\"anticipation\"] * emotions[\"joy\"]\n",
    "emotions_corr = pd.DataFrame({\"pessimism\":pessimism,\"optimism\":optimism,\"topic\":emotions[\"topic\"]})\n",
    "emotions_corr[\"diff\"] = emotions_corr[\"optimism\"] - emotions_corr[\"pessimism\"]\n",
    "emotions_corr[\"topic\"] = emotions_corr[\"topic\"].astype(\"category\")"
   ]
  },
  {
   "cell_type": "code",
   "execution_count": 15,
   "metadata": {},
   "outputs": [],
   "source": [
    "import pandas as pd\n",
    "\n",
    "data = {\n",
    "    'Cluster': list(range(1, 22)),\n",
    "    'Topics': [\n",
    "        [35, 6, 54, 20, 53, 40, 27],\n",
    "        [91, 50, 58],\n",
    "        [97, 29],\n",
    "        [71, 65, 0, 93, 79, 87],\n",
    "        [68, 92],\n",
    "        [60, 61, 99],\n",
    "        [78, 88, 30, 11, 70],\n",
    "        [47, 15, 46],\n",
    "        [14, 10, 81, 43, 62, 37, 21, 33],\n",
    "        [26, 18, 76, 38, 22, 32, 67, 98, 82],\n",
    "        [44, 5, 52, 64],\n",
    "        [19, 2, 56],\n",
    "        [74, 80, 31, 24],\n",
    "        [9, 94, 95, 51],\n",
    "        [48, 73, 23, 39, 42],\n",
    "        [59, 89, 1, 96, 17],\n",
    "        [85, 45, 63],\n",
    "        [75, 84, 36, 55, 3],\n",
    "        [77, 66, 4, 25, 8],\n",
    "        [41, 83, 69, 13, 86, 90, 49, 28],\n",
    "        [57, 12, 16, 7, 72, 34]\n",
    "    ],\n",
    "    'Leitmotiv': [\n",
    "        'AI, ML, DL, Big Data, NLP',\n",
    "        'Entertainment and Gaming',\n",
    "        'Fashion and Lifestyle',\n",
    "        'AV, Automatic Industry, EV, Eco-energy, Innovative engineering, Drones, Space',\n",
    "        'Healthcare, AI',\n",
    "        'Covid-19 and Quarantine',\n",
    "        'Automation, Robots Engineering, Robotics, Autonomous Robots, AI',\n",
    "        'IoT, 5G, Security, Digital Transformation, Industry 4.0, Edge Computing',\n",
    "        'Quantum Computing, Data Analytics, Digital Transformation, Tech Innovations, Metaverse',\n",
    "        'Women in Tech, Social Media, Payments, Retail, Privacy, Security',\n",
    "        'Start-up, Fintech, Cyrptocurrency',\n",
    "        'Cybersecurity, War, Ukraine',\n",
    "        'CX, UX, Future of Claims, Insurtech',\n",
    "        'Future of Work, Future of Leaders, Leadership of Change, Strategy, Management',\n",
    "        'AI, Data Science, AV, VR, Digital Transformation, Metaverse',\n",
    "        'Gratitude (Thanks, Acknowledgements)',\n",
    "        'Appreciation (Thanks, Great)',\n",
    "        'Mathematics, Life, Questioning',\n",
    "        'Time Reflections (Year, Mypov, Women in History)',\n",
    "        'Politics, Policies, Ukraine War, Social Media',\n",
    "        'Future, Economics, Education, People Skills, Collaborative Enterprise, Climate, Teamwork'\n",
    "    ]\n",
    "}\n",
    "\n",
    "topic2cluster = pd.DataFrame(data)\n",
    "\n",
    "topics_to_cluster = {}\n",
    "for index, row in topic2cluster.iterrows():\n",
    "    cluster = row['Cluster']\n",
    "    topics = row['Topics']\n",
    "    for topic in topics:\n",
    "        topics_to_cluster[topic] = cluster\n",
    "\n",
    "topic2cluster = topic2cluster.explode(\"Topics\")\n",
    "topic2cluster.set_index(\"Topics\",inplace=True)\n",
    "#topics_to_cluster"
   ]
  },
  {
   "cell_type": "code",
   "execution_count": 16,
   "metadata": {},
   "outputs": [
    {
     "name": "stderr",
     "output_type": "stream",
     "text": [
      "/tmp/ipykernel_1655017/3595401913.py:22: UserWarning:\n",
      "\n",
      "Tight layout not applied. The left and right margins cannot be made large enough to accommodate all axes decorations.\n",
      "\n"
     ]
    },
    {
     "data": {
      "image/png": "[encoded data removed]",
      "text/plain": [
       "<Figure size 640x480 with 1 Axes>"
      ]
     },
     "metadata": {},
     "output_type": "display_data"
    }
   ],
   "source": [
    "import numpy as np\n",
    "\n",
    "\n",
    "fig,ax = plt.subplots()\n",
    "\n",
    "cluster = emotions_corr[\"topic\"].map(topics_to_cluster.get)\n",
    "attitude_agg = emotions_corr[[\"pessimism\",\"optimism\"]].groupby(cluster).mean()\n",
    "attitude_agg[\"pessimism\"] = -attitude_agg[\"pessimism\"]\n",
    "diff = attitude_agg[\"optimism\"] + attitude_agg[\"pessimism\"]\n",
    "attitude_agg=attitude_agg.loc[diff.sort_values().index]\n",
    "attitude_agg.index = attitude_agg.index.map(topic2cluster.set_index(\"Cluster\")[\"Leitmotiv\"].to_dict().get)\n",
    "\n",
    "\n",
    "attitude_agg.plot(kind='barh',stacked=True,ax=ax,color=emotion_colors)\n",
    "ax.grid(axis=\"x\",which=\"major\",linewidth=0.25)\n",
    "ax.set_xticks(np.arange(-0.5,0.6,0.1,))\n",
    "ax.set_ylabel(\"Topic cluster\")\n",
    "ax.set_xlabel(\"Attitude\")\n",
    "ax.spines[['right', 'top']].set_visible(False)\n",
    "\n",
    "fig.savefig(\"attitude.svg\")\n",
    "plt.tight_layout()\n",
    "plt.show()\n",
    "#ax.bar_label(p, label_type='center')"
   ]
  },
  {
   "cell_type": "code",
   "execution_count": 17,
   "metadata": {},
   "outputs": [
    {
     "name": "stderr",
     "output_type": "stream",
     "text": [
      "/tmp/ipykernel_1655017/2578675772.py:7: FutureWarning:\n",
      "\n",
      "The default of observed=False is deprecated and will be changed to True in a future version of pandas. Pass observed=False to retain current behavior or observed=True to adopt the future default and silence this warning.\n",
      "\n",
      "/tmp/ipykernel_1655017/2578675772.py:8: FutureWarning:\n",
      "\n",
      "The default of observed=False is deprecated and will be changed to True in a future version of pandas. Pass observed=False to retain current behavior or observed=True to adopt the future default and silence this warning.\n",
      "\n"
     ]
    },
    {
     "data": {
      "image/png": "[encoded data removed]",
      "text/plain": [
       "<Figure size 640x480 with 1 Axes>"
      ]
     },
     "metadata": {},
     "output_type": "display_data"
    }
   ],
   "source": [
    "import matplotlib.pyplot as plt\n",
    "\n",
    "emotions_df = emotions_corr\n",
    "\n",
    "fig,ax = plt.subplots()\n",
    "for kpi in [\"pessimism\", \"optimism\"]:\n",
    "    y = emotions_df.groupby(\"topic\")[kpi].mean()\n",
    "    error = emotions_df.groupby(\"topic\")[kpi].std()\n",
    "    ax.plot(y,label=kpi)\n",
    "    ax.fill_between(y.index,y-error, y+error,alpha=0.2)\n",
    "\n",
    "ax.set_xlabel(\"topic\")\n",
    "ax.set_ylabel(\"attitude\")\n",
    "ax.legend()\n",
    "#plt.title(\"*Optimism and pessimism were approximated from anticipation, sadness and joy.\")\n",
    "plt.show()"
   ]
  },
  {
   "cell_type": "markdown",
   "metadata": {},
   "source": [
    "All topics have positive mean sentiment, perhaps except one topic about the war..."
   ]
  },
  {
   "cell_type": "code",
   "execution_count": 18,
   "metadata": {},
   "outputs": [
    {
     "data": {
      "text/plain": [
       "56    1.906642e-02\n",
       "18    4.610388e-09\n",
       "38    2.717394e-11\n",
       "86    3.059999e-12\n",
       "60    8.218752e-18\n",
       "dtype: float64"
      ]
     },
     "execution_count": 18,
     "metadata": {},
     "output_type": "execute_result"
    }
   ],
   "source": [
    "from scipy.stats import ttest_ind\n",
    "\n",
    "pvals = {}\n",
    "\n",
    "emotions_df = emotions_corr\n",
    "\n",
    "for topic,idxs in emotions.groupby(\"topic\").groups.items():\n",
    "    x = emotions_df.loc[idxs,\"optimism\"]\n",
    "    y = emotions_df.loc[idxs,\"pessimism\"]\n",
    "    pval = ttest_ind(x,y,equal_var=False).pvalue\n",
    "    pvals[topic] = pval\n",
    "\n",
    "pvals = pd.Series(pvals)\n",
    "pvals.sort_values(ascending=False).head()\n",
    "#emotions[[\"optimism\",\"pessimism\",\"topic\"]].groupby(\"topic\").groups"
   ]
  }
 ],
 "metadata": {
  "kernelspec": {
   "display_name": ".venv",
   "language": "python",
   "name": "python3"
  },
  "language_info": {
   "codemirror_mode": {
    "name": "ipython",
    "version": 3
   },
   "file_extension": ".py",
   "mimetype": "text/x-python",
   "name": "python",
   "nbconvert_exporter": "python",
   "pygments_lexer": "ipython3",
   "version": "3.10.12"
  }
 },
 "nbformat": 4,
 "nbformat_minor": 2
}
